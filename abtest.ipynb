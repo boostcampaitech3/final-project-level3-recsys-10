{
 "cells": [
  {
   "cell_type": "code",
   "execution_count": 25,
   "metadata": {},
   "outputs": [],
   "source": [
    "import scipy.stats as stats\n",
    "import numpy as np\n",
    "import matplotlib.pyplot as plt\n",
    "\n",
    "x = np.linspace(0, 1, 200)\n",
    "\n",
    "# sample from model test\n",
    "n_model = 94 # 모델 응답 수\n",
    "x_model = 65 # 긍정 응답 수\n",
    "p_model = x_model/n_model # 모델 긍정 비율(p)\n",
    "std_model = np.sqrt(p_model*(1-p_model)/n_model)\n",
    "y_model = stats.norm.pdf(x, p_model, std_model)\n",
    "\n",
    "# sample from popular test\n",
    "n_popular = 56 # 인기도 응답 수\n",
    "x_popular = 33 # 긍정 응답 수\n",
    "p_popular = x_popular/n_popular # 인기도 긍정 비율(p)\n",
    "std_popular = np.sqrt(p_popular*(1-p_popular)/n_popular)\n",
    "y_popular = stats.norm.pdf(x, p_popular, std_popular)"
   ]
  },
  {
   "cell_type": "markdown",
   "metadata": {},
   "source": [
    "### [두 집단의 비율 분포 그래프 비교]\n",
    "- 각 집단의 표본 비율 정규 근사를 통해, 두 표본 비율의 분포를 비교"
   ]
  },
  {
   "cell_type": "code",
   "execution_count": 72,
   "metadata": {},
   "outputs": [
    {
     "data": {
      "image/png": "[encoded data removed]",
      "text/plain": [
       "<Figure size 432x216 with 1 Axes>"
      ]
     },
     "metadata": {
      "needs_background": "light"
     },
     "output_type": "display_data"
    }
   ],
   "source": [
    "# 두 그룹간 분포 그래프 비교 (정규 근사로 정규 분포를 따른다고 가정)\n",
    "plt.figure(figsize=(6, 3))\n",
    "plt.plot(x, y_popular, label='popular based', color = 'grey', linewidth = \"4\")\n",
    "plt.axvline(x=p_popular, color = 'grey', linestyle = ':')\n",
    "\n",
    "plt.plot(x, y_model, label='model based', color = 'darkorange', linewidth = \"4\")\n",
    "plt.axvline(x=p_model, color = 'darkorange', linestyle = ':')\n",
    "\n",
    "plt.xlabel('user satisfaction (%)')\n",
    "plt.legend(loc='best')\n",
    "plt.title(\"User Satisfaction AB test - Distribution comparison\")\n",
    "plt.show()"
   ]
  },
  {
   "cell_type": "markdown",
   "metadata": {},
   "source": [
    "### [두 집단의 모비율에 대한 차이 검정]\n",
    "- 가설: $H_{0}:p_{popular} = p_{model} \\space\\space \\text{vs} \\space\\space H_{1}:p_{popular} < p_{model}$  \n",
    "- 표본 비율의 정규 근사를 활용하여, 정규 검정을 사용함\n",
    "- 각 집단의 모비율의 분산은 알 수 없으므로, 모비율의 분산을 추정하는 방법을 사용함\n",
    "    - [Method 1]독립 표본이라는 가정하에 각 표본 분산의 합 사용\n",
    "    - [Method 2]두 표본을 함께 고려하여, 합동 표본 분산을 활용"
   ]
  },
  {
   "cell_type": "code",
   "execution_count": 64,
   "metadata": {},
   "outputs": [
    {
     "name": "stdout",
     "output_type": "stream",
     "text": [
      "p-value: 0.10404068136929251\n"
     ]
    }
   ],
   "source": [
    "# [Method 1] 일반적인 방법론 사용\n",
    "std_estimator = np.sqrt(p_popular*(1-p_popular)/n_popular + p_model*(1-p_model)/n_model)\n",
    "z_statistic = (p_popular - p_model)/std_estimator\n",
    "\n",
    "print(\"p-value:\", stats.norm.cdf(z_statistic))"
   ]
  },
  {
   "cell_type": "code",
   "execution_count": 65,
   "metadata": {},
   "outputs": [
    {
     "name": "stdout",
     "output_type": "stream",
     "text": [
      "p-value: 0.10165110458277837\n"
     ]
    }
   ],
   "source": [
    "# [Method 2] 합동표본분산 사용\n",
    "p_pooled = (x_popular + x_model)/(n_popular + n_model)\n",
    "std_pooled =  np.sqrt(p_pooled*(1-p_pooled)/n_popular + p_pooled*(1-p_pooled)/n_model)\n",
    "z_statistic_pooled = (p_popular - p_model)/std_pooled\n",
    "\n",
    "print(\"p-value:\", stats.norm.cdf(z_statistic_pooled))"
   ]
  },
  {
   "cell_type": "markdown",
   "metadata": {},
   "source": [
    "### [결과 분석]\n",
    "- 두 실험에서 유의 확률은 약 0.1으로 나오는 것으로 나타났음\n",
    "- 보편적인 유의 수준인 0.05를 기준으로 판단하면, 두 실험 모두에서 귀무가설을 기각하지 못함\n",
    "- 따라서 통계실험에 의하여 귀무가설은 기각할 수 없으며, 모델 기반의 추천 선호 비율이 인기도 기반의 추천 선호 비율보다 결코 높다고 판단할 수 없다는 것임"
   ]
  }
 ],
 "metadata": {
  "kernelspec": {
   "display_name": "Python 3.7.11 ('boostcamp')",
   "language": "python",
   "name": "python3"
  },
  "language_info": {
   "codemirror_mode": {
    "name": "ipython",
    "version": 3
   },
   "file_extension": ".py",
   "mimetype": "text/x-python",
   "name": "python",
   "nbconvert_exporter": "python",
   "pygments_lexer": "ipython3",
   "version": "3.7.11"
  },
  "orig_nbformat": 4,
  "vscode": {
   "interpreter": {
    "hash": "57e17fdd3135d6f9e2c3c2c73645f93c918be5dabe0f7a8dd022a73f02b07fa8"
   }
  }
 },
 "nbformat": 4,
 "nbformat_minor": 2
}
