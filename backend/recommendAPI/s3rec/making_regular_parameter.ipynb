{
 "cells": [
  {
   "cell_type": "code",
   "execution_count": 1,
   "metadata": {},
   "outputs": [],
   "source": [
    "import os\n",
    "import torch\n",
    "import pandas as pd\n",
    "import numpy as np\n",
    "from sklearn.preprocessing import LabelEncoder\n",
    "from torch.utils.data import DataLoader, SequentialSampler\n",
    "\n",
    "from datasets import SASRecDataset\n",
    "from models import S3RecModel\n",
    "from trainers import FinetuneTrainer\n",
    "from utils import (\n",
    "    check_path,\n",
    "    generate_submission_file,\n",
    "    get_item2attribute_json,\n",
    "    get_user_seqs,\n",
    "    set_seed,\n",
    "    __save_labels\n",
    ")"
   ]
  },
  {
   "cell_type": "code",
   "execution_count": 2,
   "metadata": {},
   "outputs": [],
   "source": [
    "from collections import namedtuple\n",
    "args = namedtuple(\"Config\", [])\n",
    "\n",
    "args.data_dir = \"../../../data/train-8/\"\n",
    "args.output_dir = \"output-batch16-hiddensize32/\"\n",
    "\n",
    "args.data_name  = \"rb\"\n",
    "args.model_name = \"Finetune_full\"\n",
    "args.hidden_size = 32 #64 # hidden size of transformer model\n",
    "args.num_hidden_layers = 2 #2 # number of layers\n",
    "args.num_attention_heads = 2 # num_attention_heads\n",
    "args.hidden_act = \"gelu\"\n",
    "args.attention_probs_dropout_prob = 0.5 # attention dropout p\n",
    "args.hidden_dropout_prob = 0.5 # hidden dropout p\n",
    "args.initializer_range=0.02\n",
    "args.max_seq_length= 500 #1000 #500 #50\n",
    "\n",
    "# train args\n",
    "args.lr=0.001 # \"learning rate of adam\"\n",
    "args.batch_size= 128 #256 # number of batch_size\"\n",
    "args.epochs=200#\"number of epochs\")\n",
    "args.log_freq=1 #per epoch print res\")\n",
    "args.seed=42\n",
    "args.weight_decay=0.0 #, help=\"weight_decay of adam\"\n",
    "args.adam_beta1=0.9 #\"adam first beta value\"\n",
    "args.adam_beta2=0.999 #\"adam second beta value\"\n",
    "args.gpu_id=\"0\"#\"gpu_id\""
   ]
  },
  {
   "cell_type": "code",
   "execution_count": 3,
   "metadata": {},
   "outputs": [],
   "source": [
    "set_seed(args.seed)\n",
    "check_path(args.output_dir) # output_dir 로 설정한 경로가 없으면 생성\n",
    "\n",
    "args.no_cuda = False # gpu 있음\n",
    "os.environ[\"CUDA_VISIBLE_DEVICES\"] = args.gpu_id\n",
    "args.cuda_condition = torch.cuda.is_available() and not args.no_cuda\n",
    "\n",
    "args.data_file = args.data_dir + \"train_ratings.csv\"\n",
    "item2attribute_file = args.data_dir + args.data_name + \"_item2attributes.json\"\n",
    "\n",
    "rating_df = pd.read_csv(args.data_file)\n",
    "\n",
    "le = LabelEncoder()\n",
    "label_path = os.path.join(args.output_dir, \"item\" + \"_classes.npy\") # args.asset_dir -> args.output_dir\n",
    "le.classes_ = np.load(label_path)\n",
    "rating_df[\"item\"] = le.transform(rating_df[\"item\"])\n",
    "\n",
    "# save model args\n",
    "args_str = f\"{args.model_name}-{args.data_name}\"\n",
    "checkpoint = args_str + \".pt\"\n",
    "args.checkpoint_path = os.path.join(args.output_dir, checkpoint)\n",
    "\n",
    "# max_item # \n",
    "user_seq, rating_seq, max_item, valid_rating_matrix, test_rating_matrix, _ = get_user_seqs(\n",
    "    args, # args.data_file, args.output_dir\n",
    "    is_train = False\n",
    ")\n",
    "item2attribute, attribute_size = get_item2attribute_json(item2attribute_file)"
   ]
  },
  {
   "cell_type": "code",
   "execution_count": 4,
   "metadata": {},
   "outputs": [],
   "source": [
    "args.item_size = max_item + 2\n",
    "args.mask_id = max_item + 1\n",
    "args.attribute_size = attribute_size + 1\n",
    "\n",
    "model = S3RecModel(args=args)\n",
    "\n",
    "file_name = args.checkpoint_path\n",
    "model.load_state_dict(torch.load(file_name))\n",
    "\n",
    "model = model.to(device=\"cuda:0\")"
   ]
  },
  {
   "cell_type": "markdown",
   "metadata": {},
   "source": [
    "### 가상의 맥주 input 데이터 생성"
   ]
  },
  {
   "cell_type": "code",
   "execution_count": 5,
   "metadata": {},
   "outputs": [],
   "source": [
    "# 우리 결과는 총 81개의 맥주로 한정되어있다. \n",
    "# 우리는 초기에 유저에 대한 정보를 수집할 때, 최대 29개의 맥주를 선정하도록 되어있다. \n",
    "\n",
    "# 81개의 맥주에 대해서 1 ~ 29개의 다양한 선택지를 (불, 호 도 포함하는 데이터)"
   ]
  },
  {
   "cell_type": "code",
   "execution_count": 6,
   "metadata": {},
   "outputs": [
    {
     "data": {
      "text/plain": [
       "[8666, 75661, 614833, 169964, 251]"
      ]
     },
     "execution_count": 6,
     "metadata": {},
     "output_type": "execute_result"
    }
   ],
   "source": [
    "# 우리의 대상이 되는 맥주\n",
    "target_beer_df = pd.read_csv(\"/opt/ml/workspace/final-project-level3-recsys-10/data/db_files/db_target_beer.csv\")\n",
    "target_beer_list = target_beer_df[\"beer_id\"].astype(int).tolist()\n",
    "target_beer_list[:5]"
   ]
  },
  {
   "cell_type": "code",
   "execution_count": 7,
   "metadata": {},
   "outputs": [],
   "source": [
    "# 유저들의 긍정 응답 비율\n",
    "p_pos = 0.673605\n",
    "\n",
    "# 유저들의 응답 개수의 평균, 편차\n",
    "n_pick_mean = 9.608\n",
    "n_pick_std = 9.215953908934923\n",
    "\n",
    "# target_beer_list -> encoding\n",
    "encoded_target_beer_arr = le.transform(target_beer_list)\n",
    "\n",
    "np.random.seed(42)\n",
    "\n",
    "item_lists = []\n",
    "rate_lists = []\n",
    "\n",
    "for i in range(50000):\n",
    "    # n_size from normalization\n",
    "    n_size = int(n_pick_mean + np.random.randn()*n_pick_std)\n",
    "    if n_size <= 0 :\n",
    "        n_size = 1\n",
    "    elif n_size >= 30:\n",
    "        n_size = 30\n",
    "    \n",
    "    cand_item_list = np.random.choice(encoded_target_beer_arr, size=n_size, replace=False).tolist()\n",
    "    cand_rate_list = np.random.choice((5, 1), size=n_size, replace=True, p=(p_pos, 1-p_pos)).tolist()\n",
    "    \n",
    "    item_lists.append(cand_item_list)\n",
    "    rate_lists.append(cand_rate_list)"
   ]
  },
  {
   "cell_type": "code",
   "execution_count": 8,
   "metadata": {},
   "outputs": [
    {
     "data": {
      "text/plain": [
       "<AxesSubplot:>"
      ]
     },
     "execution_count": 8,
     "metadata": {},
     "output_type": "execute_result"
    },
    {
     "data": {
      "image/png": "[encoded data removed]",
      "text/plain": [
       "<Figure size 432x288 with 1 Axes>"
      ]
     },
     "metadata": {
      "needs_background": "light"
     },
     "output_type": "display_data"
    }
   ],
   "source": [
    "pd.Series([len(item_list) for item_list in item_lists]).hist()"
   ]
  },
  {
   "cell_type": "code",
   "execution_count": 9,
   "metadata": {},
   "outputs": [],
   "source": [
    "from torch.utils.data import Dataset\n",
    "\n",
    "class TestDataset(Dataset):\n",
    "    def __init__(self, args):\n",
    "        self.max_len = args.max_seq_length\n",
    "\n",
    "        self.item_lists = item_lists\n",
    "        self.rate_lists = rate_lists\n",
    "\n",
    "    def __len__(self):\n",
    "        return len(self.item_lists) # 유저의 수\n",
    "    \n",
    "    def __getitem__(self, index):\n",
    "        input_item_seq = self.item_lists[index]\n",
    "        input_item_rating = self.rate_lists[index]\n",
    "\n",
    "        pad_len = self.max_len - len(input_item_seq)\n",
    "        input_item_seq = [0] * pad_len + input_item_seq\n",
    "        input_item_rating = [0] * pad_len + input_item_rating\n",
    "\n",
    "        input_item_seq = input_item_seq[-self.max_len :]\n",
    "        input_item_rating = input_item_rating[-self.max_len :]\n",
    "\n",
    "        cur_tensors = (\n",
    "            torch.tensor(input_item_seq, dtype=torch.long), # tobe batch_size * max_seq * emb\n",
    "            torch.tensor(input_item_rating, dtype=torch.float32), # tobe batch_size * max_seq * emb\n",
    "        )\n",
    "\n",
    "        return cur_tensors"
   ]
  },
  {
   "cell_type": "code",
   "execution_count": 10,
   "metadata": {},
   "outputs": [],
   "source": [
    "test_dataset = TestDataset(args)\n",
    "test_sampler = SequentialSampler(test_dataset)\n",
    "test_dataloader = DataLoader(\n",
    "    test_dataset, sampler=test_sampler, batch_size=args.batch_size, drop_last=False\n",
    ")"
   ]
  },
  {
   "cell_type": "code",
   "execution_count": 14,
   "metadata": {},
   "outputs": [],
   "source": [
    "device = \"cuda:0\"\n",
    "for i, batch in enumerate(test_dataloader):\n",
    "    batch = tuple(t.to(device) for t in batch)\n",
    "    input_items, input_ratings = batch\n",
    "\n",
    "    recommend_output = model.finetune(input_items,  input_ratings)\n",
    "    recommend_output = recommend_output[:, -1, :]\n",
    "\n",
    "    result_scores = torch.matmul(model.item_embeddings.weight, recommend_output.transpose(0, 1)).squeeze(1)\n",
    "    result_scores = result_scores.cpu().data.numpy().copy()\n",
    "\n",
    "    # 결과 저장\n",
    "    result_scores_without_pad = result_scores[1:]\n",
    "    target_result = result_scores_without_pad[encoded_target_beer_arr]\n",
    "\n",
    "    if i == 0:\n",
    "        target_results = target_result\n",
    "    else:\n",
    "        target_results = np.concatenate((target_results, target_result), axis=1)"
   ]
  },
  {
   "cell_type": "code",
   "execution_count": 25,
   "metadata": {},
   "outputs": [
    {
     "data": {
      "text/html": [
       "<div>\n",
       "<style scoped>\n",
       "    .dataframe tbody tr th:only-of-type {\n",
       "        vertical-align: middle;\n",
       "    }\n",
       "\n",
       "    .dataframe tbody tr th {\n",
       "        vertical-align: top;\n",
       "    }\n",
       "\n",
       "    .dataframe thead th {\n",
       "        text-align: right;\n",
       "    }\n",
       "</style>\n",
       "<table border=\"1\" class=\"dataframe\">\n",
       "  <thead>\n",
       "    <tr style=\"text-align: right;\">\n",
       "      <th></th>\n",
       "      <th>beer_id</th>\n",
       "      <th>beer_id_encoded</th>\n",
       "      <th>avg</th>\n",
       "      <th>std</th>\n",
       "    </tr>\n",
       "  </thead>\n",
       "  <tbody>\n",
       "    <tr>\n",
       "      <th>0</th>\n",
       "      <td>8666</td>\n",
       "      <td>2423</td>\n",
       "      <td>3.449692</td>\n",
       "      <td>0.035444</td>\n",
       "    </tr>\n",
       "    <tr>\n",
       "      <th>1</th>\n",
       "      <td>75661</td>\n",
       "      <td>6837</td>\n",
       "      <td>2.994884</td>\n",
       "      <td>0.032212</td>\n",
       "    </tr>\n",
       "    <tr>\n",
       "      <th>2</th>\n",
       "      <td>614833</td>\n",
       "      <td>9333</td>\n",
       "      <td>2.308918</td>\n",
       "      <td>0.029562</td>\n",
       "    </tr>\n",
       "    <tr>\n",
       "      <th>3</th>\n",
       "      <td>169964</td>\n",
       "      <td>9320</td>\n",
       "      <td>2.130463</td>\n",
       "      <td>0.029876</td>\n",
       "    </tr>\n",
       "    <tr>\n",
       "      <th>4</th>\n",
       "      <td>251</td>\n",
       "      <td>149</td>\n",
       "      <td>2.306895</td>\n",
       "      <td>0.033953</td>\n",
       "    </tr>\n",
       "    <tr>\n",
       "      <th>...</th>\n",
       "      <td>...</td>\n",
       "      <td>...</td>\n",
       "      <td>...</td>\n",
       "      <td>...</td>\n",
       "    </tr>\n",
       "    <tr>\n",
       "      <th>76</th>\n",
       "      <td>7580</td>\n",
       "      <td>2171</td>\n",
       "      <td>3.316092</td>\n",
       "      <td>0.037749</td>\n",
       "    </tr>\n",
       "    <tr>\n",
       "      <th>77</th>\n",
       "      <td>452525</td>\n",
       "      <td>9328</td>\n",
       "      <td>0.278468</td>\n",
       "      <td>0.030140</td>\n",
       "    </tr>\n",
       "    <tr>\n",
       "      <th>78</th>\n",
       "      <td>1417</td>\n",
       "      <td>674</td>\n",
       "      <td>3.199151</td>\n",
       "      <td>0.039597</td>\n",
       "    </tr>\n",
       "    <tr>\n",
       "      <th>79</th>\n",
       "      <td>1486</td>\n",
       "      <td>696</td>\n",
       "      <td>3.092594</td>\n",
       "      <td>0.037932</td>\n",
       "    </tr>\n",
       "    <tr>\n",
       "      <th>80</th>\n",
       "      <td>221</td>\n",
       "      <td>133</td>\n",
       "      <td>3.032448</td>\n",
       "      <td>0.042016</td>\n",
       "    </tr>\n",
       "  </tbody>\n",
       "</table>\n",
       "<p>81 rows × 4 columns</p>\n",
       "</div>"
      ],
      "text/plain": [
       "    beer_id  beer_id_encoded       avg       std\n",
       "0      8666             2423  3.449692  0.035444\n",
       "1     75661             6837  2.994884  0.032212\n",
       "2    614833             9333  2.308918  0.029562\n",
       "3    169964             9320  2.130463  0.029876\n",
       "4       251              149  2.306895  0.033953\n",
       "..      ...              ...       ...       ...\n",
       "76     7580             2171  3.316092  0.037749\n",
       "77   452525             9328  0.278468  0.030140\n",
       "78     1417              674  3.199151  0.039597\n",
       "79     1486              696  3.092594  0.037932\n",
       "80      221              133  3.032448  0.042016\n",
       "\n",
       "[81 rows x 4 columns]"
      ]
     },
     "execution_count": 25,
     "metadata": {},
     "output_type": "execute_result"
    }
   ],
   "source": [
    "df_result = pd.DataFrame()\n",
    "df_result[\"beer_id\"] = target_beer_list\n",
    "df_result[\"beer_id_encoded\"] = encoded_target_beer_arr\n",
    "df_result[\"avg\"] = target_results.mean(axis=1)\n",
    "df_result[\"std\"] = target_results.std(axis=1)\n",
    "df_result"
   ]
  },
  {
   "cell_type": "code",
   "execution_count": 26,
   "metadata": {},
   "outputs": [],
   "source": [
    "df_result.to_csv(\"reg_info.csv\", index=False)"
   ]
  },
  {
   "cell_type": "code",
   "execution_count": 19,
   "metadata": {},
   "outputs": [
    {
     "data": {
      "text/plain": [
       "array([0.03544397, 0.03221208, 0.02956188, 0.02987643, 0.03395296,\n",
       "       0.03444979, 0.03509032, 0.03166423, 0.0315886 , 0.03662518,\n",
       "       0.03614352, 0.03751377, 0.04599313, 0.03533243, 0.02833471,\n",
       "       0.03022837, 0.03317192, 0.03427517, 0.03324341, 0.0353226 ,\n",
       "       0.02668307, 0.03190349, 0.04086716, 0.0413459 , 0.03912333,\n",
       "       0.04200497, 0.03582472, 0.03442818, 0.03125061, 0.04198901,\n",
       "       0.03527829, 0.03243998, 0.03805697, 0.0315554 , 0.02501035,\n",
       "       0.03900801, 0.03858582, 0.03261737, 0.03519743, 0.04237026,\n",
       "       0.03285498, 0.0331634 , 0.03287557, 0.02324456, 0.04085466,\n",
       "       0.03606223, 0.04038198, 0.02628915, 0.03602189, 0.04003613,\n",
       "       0.03151063, 0.03042013, 0.03907518, 0.0377388 , 0.03301377,\n",
       "       0.03137554, 0.03567226, 0.02583801, 0.03562443, 0.02889054,\n",
       "       0.0309057 , 0.03326613, 0.02835379, 0.03410296, 0.03911958,\n",
       "       0.0385016 , 0.0314107 , 0.04296244, 0.03739556, 0.03356086,\n",
       "       0.02791958, 0.03274544, 0.0334294 , 0.03575925, 0.03323753,\n",
       "       0.03977693, 0.03774854, 0.03014007, 0.03959693, 0.03793179,\n",
       "       0.04201605], dtype=float32)"
      ]
     },
     "execution_count": 19,
     "metadata": {},
     "output_type": "execute_result"
    }
   ],
   "source": [
    "target_results.mean(axis=1)\n",
    "target_results.std(axis=1)\n"
   ]
  },
  {
   "cell_type": "code",
   "execution_count": 13,
   "metadata": {},
   "outputs": [
    {
     "data": {
      "text/plain": [
       "81"
      ]
     },
     "execution_count": 13,
     "metadata": {},
     "output_type": "execute_result"
    }
   ],
   "source": [
    "result_scores_without_pad = result_scores[1:]\n",
    "result_scores_without_pad[encoded_target_beer_arr]\n",
    "\n",
    "len(np.concatenate((result_scores_without_pad[encoded_target_beer_arr], result_scores_without_pad[encoded_target_beer_arr]), axis=1))"
   ]
  }
 ],
 "metadata": {
  "interpreter": {
   "hash": "1f987112d13c3a5109fc24d7b4f4d6f95510a722443984c5c3a93525168aad10"
  },
  "kernelspec": {
   "display_name": "Python 3.8.5 ('.final': venv)",
   "language": "python",
   "name": "python3"
  },
  "language_info": {
   "codemirror_mode": {
    "name": "ipython",
    "version": 3
   },
   "file_extension": ".py",
   "mimetype": "text/x-python",
   "name": "python",
   "nbconvert_exporter": "python",
   "pygments_lexer": "ipython3",
   "version": "3.8.5"
  },
  "orig_nbformat": 4
 },
 "nbformat": 4,
 "nbformat_minor": 2
}
