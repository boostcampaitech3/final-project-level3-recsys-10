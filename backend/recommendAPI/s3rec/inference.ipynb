{
 "cells": [
  {
   "cell_type": "code",
   "execution_count": 726,
   "metadata": {},
   "outputs": [],
   "source": [
    "# Namespace(adam_beta1=0.9, adam_beta2=0.999, attention_probs_dropout_prob=0.5, attribute_size=131, batch_size=512, cuda_condition=True, data_dir='../../../data/train/', data_file='../../../data/train/train_ratings.csv', data_name='rb', epochs=200, gpu_id='0', hidden_act='gelu', hidden_dropout_prob=0.5, hidden_size=64, initializer_range=0.02, item_size=9337, log_file='output/Finetune_full-rb.txt', log_freq=1, lr=0.0001, mask_id=9336, max_seq_length=300, model_name='Finetune_full', no_cuda=False, num_attention_heads=2, num_hidden_layers=3, output_dir='output/', seed=42, using_pretrain=False, weight_decay=0.0)\n",
    "# Total Parameters: 791872\n",
    "\n",
    "# Namespace(adam_beta1=0.9, adam_beta2=0.999, attention_probs_dropout_prob=0.5, attribute_size=131, batch_size=512, cuda_condition=True, data_dir='../../../data/train-6/', data_file='../../../data/train-6/train_ratings.csv', data_name='rb', epochs=200, gpu_id='0', hidden_act='gelu', hidden_dropout_prob=0.5, hidden_size=64, initializer_range=0.02, item_size=9337, log_file='output/Finetune_full-rb.txt', log_freq=1, lr=0.0001, mask_id=9336, max_seq_length=300, model_name='Finetune_full', no_cuda=False, num_attention_heads=2, num_hidden_layers=3, output_dir='output/', seed=42, using_pretrain=False, weight_decay=0.0)\n",
    "# Total Parameters: 791872"
   ]
  },
  {
   "cell_type": "code",
   "execution_count": 727,
   "metadata": {},
   "outputs": [],
   "source": [
    "import os\n",
    "import torch\n",
    "import pandas as pd\n",
    "import numpy as np\n",
    "from sklearn.preprocessing import LabelEncoder\n",
    "from torch.utils.data import DataLoader, SequentialSampler\n",
    "\n",
    "from datasets import SASRecDataset\n",
    "from models import S3RecModel\n",
    "from trainers import FinetuneTrainer"
   ]
  },
  {
   "cell_type": "code",
   "execution_count": 728,
   "metadata": {},
   "outputs": [],
   "source": [
    "from utils import (\n",
    "    check_path,\n",
    "    generate_submission_file,\n",
    "    get_item2attribute_json,\n",
    "    get_user_seqs,\n",
    "    set_seed,\n",
    "    __save_labels\n",
    ")"
   ]
  },
  {
   "cell_type": "code",
   "execution_count": 729,
   "metadata": {},
   "outputs": [],
   "source": [
    "from collections import namedtuple\n",
    "args = namedtuple(\"Config\", [])"
   ]
  },
  {
   "cell_type": "code",
   "execution_count": 748,
   "metadata": {},
   "outputs": [],
   "source": [
    "args.data_dir = \"../../../data/train-small/\"\n",
    "args.data_dir = \"../../../data/train-6/\"\n",
    "# args.output_dir = \"output-batch16-hiddensize32/\"\n",
    "# args.output_dir = \"output-batch16-hiddensize32-num_attention_heads4/\"\n",
    "# args.output_dir = \"output-batch16-hiddensize128-num_attention_heads4/\"\n",
    "args.output_dir = \"output-small-batch16-hiddensize64-num_attention_heads2/\"\n",
    "args.output_dir = \"output-small-batch16-hiddensize16-num_attention_heads2/\"\n",
    "args.output_dir = \"output-small-attnsoft-batch8-hiddensize64-num_attention_heads2/\"\n",
    "args.output_dir = \"output-small-attnsoft-batch8-hiddensize8/\"\n",
    "args.output_dir = \"output-small-attnsoft-batch4-hiddensize8/\"\n",
    "args.output_dir = \"output-small-attnsoft-batch4-hiddensize128/\"\n",
    "args.output_dir = \"output-small-attnsoft-batch4-hiddensize128-layers3/\"\n",
    "args.output_dir = \"output-small-attnsoft-batch8-hiddensize64-biglr/\"\n",
    "args.output_dir = \"output-batch16-hiddensize32/\"\n",
    "\n",
    "args.data_name  = \"rb\"\n",
    "args.model_name = \"Finetune_full\"\n",
    "args.hidden_size = 32 #64 # hidden size of transformer model\n",
    "args.num_hidden_layers = 2 #2 # number of layers\n",
    "args.num_attention_heads = 2 # num_attention_heads\n",
    "args.hidden_act = \"gelu\"\n",
    "args.attention_probs_dropout_prob = 0.5 # attention dropout p\n",
    "args.hidden_dropout_prob = 0.5 # hidden dropout p\n",
    "args.initializer_range=0.02\n",
    "args.max_seq_length= 500 #1000 #500 #50\n",
    "\n",
    "# train args\n",
    "args.lr=0.001 # \"learning rate of adam\"\n",
    "args.batch_size= 512 #256 # number of batch_size\"\n",
    "args.epochs=200#\"number of epochs\")\n",
    "args.log_freq=1 #per epoch print res\")\n",
    "args.seed=42\n",
    "args.weight_decay=0.0 #, help=\"weight_decay of adam\"\n",
    "args.adam_beta1=0.9 #\"adam first beta value\"\n",
    "args.adam_beta2=0.999 #\"adam second beta value\"\n",
    "args.gpu_id=\"0\"#\"gpu_id\""
   ]
  },
  {
   "cell_type": "code",
   "execution_count": 735,
   "metadata": {},
   "outputs": [],
   "source": [
    "set_seed(args.seed)\n",
    "check_path(args.output_dir) # output_dir 로 설정한 경로가 없으면 생성"
   ]
  },
  {
   "cell_type": "code",
   "execution_count": 736,
   "metadata": {},
   "outputs": [],
   "source": [
    "args.no_cuda = False # gpu 있음\n",
    "os.environ[\"CUDA_VISIBLE_DEVICES\"] = args.gpu_id\n",
    "args.cuda_condition = torch.cuda.is_available() and not args.no_cuda"
   ]
  },
  {
   "cell_type": "code",
   "execution_count": 737,
   "metadata": {},
   "outputs": [],
   "source": [
    "args.data_file = args.data_dir + \"train_ratings.csv\"\n",
    "item2attribute_file = args.data_dir + args.data_name + \"_item2attributes.json\""
   ]
  },
  {
   "cell_type": "code",
   "execution_count": 738,
   "metadata": {},
   "outputs": [],
   "source": [
    "# args.data_fil 여기경로를 지나쳐서 index에 관한 정보를 한 번 업데이트하고 지나가자.\n",
    "# def get_user_seqs(data_file):\n",
    "# 이거는 training 한정\n",
    "rating_df = pd.read_csv(args.data_file)\n",
    "\n",
    "\n",
    "\n",
    "# user_seq, max_item, _, _, submission_rating_matrix = get_user_seqs(args.data_file)\n",
    "# item2attribute, attribute_size = get_item2attribute_json(item2attribute_file)\n",
    "\n",
    "# args.item_size = max_item + 2\n",
    "# args.mask_id = max_item + 1\n",
    "# args.attribute_size = attribute_size + 1"
   ]
  },
  {
   "cell_type": "code",
   "execution_count": 739,
   "metadata": {},
   "outputs": [],
   "source": [
    "# le = LabelEncoder()\n",
    "# if is_train:\n",
    "#     # For UNKNOWN class\n",
    "#     a = df[col].unique().tolist() + [\"unknown\"]\n",
    "#     le.fit(a)\n",
    "#     self.__save_labels(le, col)\n",
    "# else:\n",
    "#     label_path = os.path.join(self.args.asset_dir, col + \"_classes.npy\")\n",
    "#     le.classes_ = np.load(label_path)\n",
    "\n",
    "#     df[col] = np.where(df[col].isin(le.classes_), df[col], \"unknown\")\n"
   ]
  },
  {
   "cell_type": "code",
   "execution_count": 740,
   "metadata": {},
   "outputs": [],
   "source": [
    "# TODO 이 부분은 학습때 자동 저장되도록 설정해야한다. \n",
    "le = LabelEncoder()\n",
    "# raw_item_list = rating_df[\"item\"].unique().tolist()+ [-99999] # \"unknown\" -> -99999\n",
    "# le.fit(raw_item_list)\n",
    "# __save_labels(args.output_dir, le, \"item\")"
   ]
  },
  {
   "cell_type": "code",
   "execution_count": 741,
   "metadata": {},
   "outputs": [],
   "source": [
    "# TODO inference 할 때는, 이런 것들을 불러오도록 해야한다. \n",
    "\n",
    "label_path = os.path.join(args.output_dir, \"item\" + \"_classes.npy\") # args.asset_dir -> args.output_dir\n",
    "le.classes_ = np.load(label_path)"
   ]
  },
  {
   "cell_type": "code",
   "execution_count": 742,
   "metadata": {},
   "outputs": [],
   "source": [
    "rating_df[\"item\"] = le.transform(rating_df[\"item\"])\n",
    "# le.inverse_transform([1663, 1241, 1446, 5619, 4295, 9335])"
   ]
  },
  {
   "cell_type": "code",
   "execution_count": 743,
   "metadata": {},
   "outputs": [],
   "source": [
    "# save model args\n",
    "args_str = f\"{args.model_name}-{args.data_name}\"\n",
    "\n",
    "# print(args)\n",
    "\n",
    "# args.item2attribute = item2attribute\n",
    "\n",
    "# args.train_matrix = submission_rating_matrix\n",
    "\n",
    "checkpoint = args_str + \".pt\"\n",
    "args.checkpoint_path = os.path.join(args.output_dir, checkpoint)\n",
    "\n",
    "# submission_dataset = SASRecDataset(args, user_seq, data_type=\"submission\")\n",
    "# submission_sampler = SequentialSampler(submission_dataset)\n",
    "# submission_dataloader = DataLoader(\n",
    "#     submission_dataset, sampler=submission_sampler, batch_size=args.batch_size\n",
    "# )"
   ]
  },
  {
   "cell_type": "code",
   "execution_count": 744,
   "metadata": {},
   "outputs": [],
   "source": [
    "# 따로 저장해야하는 것들\n",
    "# max_item # \n",
    "user_seq, rating_seq, max_item, valid_rating_matrix, test_rating_matrix, _ = get_user_seqs(\n",
    "    args, # args.data_file, args.output_dir\n",
    "    is_train = False\n",
    ")\n",
    "item2attribute, attribute_size = get_item2attribute_json(item2attribute_file)\n",
    "\n"
   ]
  },
  {
   "cell_type": "code",
   "execution_count": 745,
   "metadata": {},
   "outputs": [],
   "source": [
    "args.item_size = max_item + 2\n",
    "args.mask_id = max_item + 1\n",
    "args.attribute_size = attribute_size + 1\n"
   ]
  },
  {
   "cell_type": "code",
   "execution_count": 749,
   "metadata": {},
   "outputs": [],
   "source": [
    "model = S3RecModel(args=args)"
   ]
  },
  {
   "cell_type": "code",
   "execution_count": 750,
   "metadata": {},
   "outputs": [
    {
     "data": {
      "text/plain": [
       "<All keys matched successfully>"
      ]
     },
     "execution_count": 750,
     "metadata": {},
     "output_type": "execute_result"
    }
   ],
   "source": [
    "file_name = args.checkpoint_path\n",
    "model.load_state_dict(torch.load(file_name))"
   ]
  },
  {
   "cell_type": "code",
   "execution_count": 751,
   "metadata": {},
   "outputs": [],
   "source": [
    "model = model.to(device=\"cuda:0\")"
   ]
  },
  {
   "cell_type": "code",
   "execution_count": 902,
   "metadata": {},
   "outputs": [],
   "source": [
    "beer_pick = [5588, 2228, 473, 37, 268, 390, 729, 86387, 1478, 730] # 민철님\n",
    "beer_pick = [730, 268685, 35424, 2228, 86387, 37] #칭따오, 타이거, 블루문, 블랑, # 아현님 동생분\n",
    "beer_pick = [251, 2228, 473, 4007, 1267, 86387, 730] # *20 #경태\n",
    "beer_pick = [614833, 5588, 709, 814, 1267, 37, 315443, 717] #동석님\n",
    "# beer_pick = [709, 4007, 72025, 814, 37, 399, 390]\n",
    "# beer_pick = [30913,  814, 4007, 37, 390, 717, 35424] #승태님\n",
    "\n",
    "input_ids = le.transform(beer_pick).tolist()\n",
    "input_ratings = [1, 1, 5, 5 ,5, 5, 5, 5, 5, 5]\n",
    "input_ratings = [5, 5, 1, 1, 1, 5]\n",
    "input_ratings = [5, 5, 5, 5, 5, 5, 5] # *20\n",
    "beer_pick = [614833, 5588, 709, 814, 1267, 37, 315443, 717] #동석님\n",
    "input_ratings = [1, 1, 5, 1, 5, 5, 5, 5]\n",
    "input_ratings = [-5, -5, 5, -5, 5, 5, 5, 5]\n",
    "# input_ratings = [1, 5, 5, 1, 5, 5, 5]\n",
    "# input_ratings = [5, 5, 5, 5, 5, 5, 5]\n",
    "# input_ratings = [5,5,1,1,1,1,1,1,1,1]\n",
    "# input_ratings = [5,5,-5,-5,-5,-5,-5,-5,-5,-5] #input_ratings = [5,5,1,1,1,1,1,1,1,1]\n",
    "\n",
    "pad_len = args.max_seq_length - len(input_ids)\n",
    "input_ids = [0] * pad_len + input_ids\n",
    "input_ratings = [0] * pad_len + input_ratings\n",
    "\n",
    "input_ids = input_ids[-args.max_seq_length :]\n",
    "input_ratings = input_ratings[-args.max_seq_length :]\n",
    "\n",
    "\n",
    "input_ids = torch.tensor(input_ids, dtype=torch.long).unsqueeze(0).to(\"cuda:0\")\n",
    "input_ratings = torch.tensor(input_ratings, dtype=torch.float32).unsqueeze(0).to(\"cuda:0\")"
   ]
  },
  {
   "cell_type": "code",
   "execution_count": 903,
   "metadata": {},
   "outputs": [
    {
     "name": "stdout",
     "output_type": "stream",
     "text": [
      "input_ids.size ===>  torch.Size([1, 500])\n",
      "attention_mask.size ===>  torch.Size([1, 500])\n",
      "extended_attention_mask.size ===>  torch.Size([1, 1, 1, 500])\n",
      "extended_weighted_mask.size ===>  torch.Size([1, 1, 1, 500])\n",
      "max_len ==>  500\n",
      "attn_shape ==>  (1, 500, 500)\n",
      "tensor([[[0., 1., 1.,  ..., 1., 1., 1.],\n",
      "         [0., 0., 1.,  ..., 1., 1., 1.],\n",
      "         [0., 0., 0.,  ..., 1., 1., 1.],\n",
      "         ...,\n",
      "         [0., 0., 0.,  ..., 0., 1., 1.],\n",
      "         [0., 0., 0.,  ..., 0., 0., 1.],\n",
      "         [0., 0., 0.,  ..., 0., 0., 0.]]])\n",
      "======== subsequent_mask =========\n",
      "subsequent_mask.size ===>  torch.Size([1, 1, 500, 500])\n",
      "weighted_mask_by_score\n",
      "tensor([[[[0., 0., 0.,  ..., 0., 0., 0.],\n",
      "          [0., 0., 0.,  ..., 0., 0., 0.],\n",
      "          [0., 0., 0.,  ..., 0., 0., 0.],\n",
      "          ...,\n",
      "          [0., 0., 0.,  ..., 5., 0., 0.],\n",
      "          [0., 0., 0.,  ..., 5., 5., 0.],\n",
      "          [0., 0., 0.,  ..., 5., 5., 5.]]]], device='cuda:0')\n",
      "extended_attention_mask\n",
      "tensor([[[[-10000., -10000., -10000.,  ..., -10000., -10000., -10000.],\n",
      "          [-10000., -10000., -10000.,  ..., -10000., -10000., -10000.],\n",
      "          [-10000., -10000., -10000.,  ..., -10000., -10000., -10000.],\n",
      "          ...,\n",
      "          [-10000., -10000., -10000.,  ...,     -0., -10000., -10000.],\n",
      "          [-10000., -10000., -10000.,  ...,     -0.,     -0., -10000.],\n",
      "          [-10000., -10000., -10000.,  ...,     -0.,     -0.,     -0.]]]],\n",
      "       device='cuda:0')\n"
     ]
    }
   ],
   "source": [
    "# input_ids\n",
    "print(\"input_ids.size ===> \", input_ids.size()) # [batch * max_seq]\n",
    "\n",
    "# attention_mask\n",
    "attention_mask = (input_ids > 0).long()\n",
    "weighted_mask = input_ratings\n",
    "\n",
    "print(\"attention_mask.size ===> \", attention_mask.size()) # [batch * max_seq]\n",
    "\n",
    "# extended_attention_mask\n",
    "extended_attention_mask = attention_mask.unsqueeze(1).unsqueeze(2)  # torch.int64\n",
    "extended_weighted_mask = weighted_mask.unsqueeze(1).unsqueeze(2)\n",
    "print(\"extended_attention_mask.size ===> \", extended_attention_mask.size()) # [batch * 1 * 1 * max_seq]\n",
    "print(\"extended_weighted_mask.size ===> \", extended_weighted_mask.size()) # [batch * 1 * 1 * max_seq]\n",
    "\n",
    "\n",
    "max_len = attention_mask.size(-1)\n",
    "print(\"max_len ==> \", max_len)\n",
    "attn_shape = (1, max_len, max_len) \n",
    "print(\"attn_shape ==> \", attn_shape)\n",
    "\n",
    "# subsequent_mask\n",
    "subsequent_mask = torch.triu(torch.ones(attn_shape), diagonal=1)  # torch.uint8\n",
    "print(subsequent_mask)\n",
    "print(\"======== subsequent_mask =========\")\n",
    "subsequent_mask = (subsequent_mask == 0).unsqueeze(1)\n",
    "subsequent_mask = subsequent_mask.long().to(\"cuda:0\")\n",
    "print(\"subsequent_mask.size ===> \", subsequent_mask.size()) # [batch * 1 * 1 * max_seq] 하위 삼각형이 1이다.\n",
    "# print(subsequent_mask)\n",
    "\n",
    "\n",
    "extended_attention_mask = extended_attention_mask * subsequent_mask\n",
    "weighted_mask_by_score = extended_weighted_mask * subsequent_mask  # 이거는 곱해지는거.\n",
    "# extended_attention_mask = extended_attention_mask\n",
    "# print(extended_attention_mask)\n",
    "print(\"weighted_mask_by_score\")\n",
    "print(weighted_mask_by_score)\n",
    "\n",
    "extended_attention_mask\n",
    "extended_attention_mask = (1.0 - extended_attention_mask) * -10000.0\n",
    "print(\"extended_attention_mask\")\n",
    "print(extended_attention_mask)\n",
    "\n"
   ]
  },
  {
   "cell_type": "code",
   "execution_count": 904,
   "metadata": {},
   "outputs": [],
   "source": [
    "recommend_output = model.finetune(input_ids, input_ratings)\n",
    "recommend_output = recommend_output[:, -1, :]"
   ]
  },
  {
   "cell_type": "code",
   "execution_count": 917,
   "metadata": {},
   "outputs": [],
   "source": [
    "result_scores = torch.matmul(model.item_embeddings.weight, recommend_output.transpose(0, 1)).squeeze(1)\n",
    "result_scores = result_scores.cpu().data.numpy().copy()\n",
    "input_items = input_ids.cpu().data.numpy().copy()"
   ]
  },
  {
   "cell_type": "code",
   "execution_count": 918,
   "metadata": {},
   "outputs": [],
   "source": [
    "result_scores = result_scores[1:] # remove \"-99999 value('unseen')\""
   ]
  },
  {
   "cell_type": "code",
   "execution_count": 907,
   "metadata": {},
   "outputs": [],
   "source": [
    "### 6.9.15:15 추가 - 점수 표준화\n",
    "result_scores[le.transform(target_items)]\n",
    "df_reg_info = pd.read_csv(\"reg_info.csv\")\n",
    "df_reg_info[\"result\"] = (result_scores[le.transform(target_items)] - df_reg_info[\"avg\"])/df_reg_info[\"std\"]"
   ]
  },
  {
   "cell_type": "code",
   "execution_count": 908,
   "metadata": {},
   "outputs": [
    {
     "data": {
      "text/plain": [
       "<AxesSubplot:>"
      ]
     },
     "execution_count": 908,
     "metadata": {},
     "output_type": "execute_result"
    },
    {
     "data": {
      "image/png": "[encoded data removed]",
      "text/plain": [
       "<Figure size 432x288 with 1 Axes>"
      ]
     },
     "metadata": {
      "needs_background": "light"
     },
     "output_type": "display_data"
    }
   ],
   "source": [
    "df_reg_info[\"result\"].hist()"
   ]
  },
  {
   "cell_type": "code",
   "execution_count": 909,
   "metadata": {},
   "outputs": [
    {
     "data": {
      "text/plain": [
       "[614833, 717, 315443, 288954, 405, 251, 715, 86387]"
      ]
     },
     "execution_count": 909,
     "metadata": {},
     "output_type": "execute_result"
    }
   ],
   "source": [
    "df_reg_info.sort_values(\"result\").iloc[-8:][\"beer_id\"].tolist()\n",
    "# beer_pick = [614833, 5588, 709, 814, 1267, 37, 315443, 717] #동석님\n",
    "# input_ratings = [-5, -5, 5, -5, 5, 5, 5, 5]\n"
   ]
  },
  {
   "cell_type": "code",
   "execution_count": 877,
   "metadata": {},
   "outputs": [],
   "source": [
    "total_result_df = df_reg_info[~df_reg_info[\"beer_id\"].isin(le.inverse_transform(input_items[input_items > 0]))]"
   ]
  },
  {
   "cell_type": "code",
   "execution_count": 878,
   "metadata": {},
   "outputs": [
    {
     "data": {
      "text/plain": [
       "[480225, 742, 1417, 291276, 4701, 6668, 72025, 3126]"
      ]
     },
     "execution_count": 878,
     "metadata": {},
     "output_type": "execute_result"
    }
   ],
   "source": [
    "total_result_df.sort_values(\"result\").iloc[-8:][\"beer_id\"].tolist()"
   ]
  },
  {
   "cell_type": "code",
   "execution_count": 801,
   "metadata": {},
   "outputs": [
    {
     "data": {
      "text/plain": [
       "array([9336, 9328, 3382, ..., 5247, 6022, 1540])"
      ]
     },
     "execution_count": 801,
     "metadata": {},
     "output_type": "execute_result"
    }
   ],
   "source": [
    "sorted_items = result_scores.argsort()\n",
    "\n",
    "# 방금 체크 했던거는 제거\n",
    "checked_right_before = input_ids[input_ids > 0]\n",
    "sorted_items = sorted_items[~pd.Series(sorted_items).isin(checked_right_before)]\n",
    "\n",
    "sorted_items = le.inverse_transform(sorted_items) # 뒤로갈수록 추천해주고 싶은 맥주\n",
    "\n"
   ]
  },
  {
   "cell_type": "code",
   "execution_count": 920,
   "metadata": {},
   "outputs": [
    {
     "data": {
      "text/plain": [
       "array([9336, 9328, 3382, ..., 8538, 7366, 1540])"
      ]
     },
     "execution_count": 920,
     "metadata": {},
     "output_type": "execute_result"
    }
   ],
   "source": [
    "K=8\n",
    "sorted_items = result_scores.argsort()\n",
    "\n",
    "# 방금 체크 했던거는 제거\n",
    "checked_right_before = input_ids[input_ids > 0]\n",
    "sorted_items = sorted_items[~pd.Series(sorted_items).isin(checked_right_before)]\n",
    "\n",
    "sorted_items"
   ]
  },
  {
   "cell_type": "code",
   "execution_count": 922,
   "metadata": {},
   "outputs": [
    {
     "data": {
      "text/plain": [
       "array([ 1,  2,  3,  4,  5,  6, 10, 16])"
      ]
     },
     "execution_count": 922,
     "metadata": {},
     "output_type": "execute_result"
    }
   ],
   "source": [
    "np.array([1,2,3,4,5,6,10, 16])[np.array([1,2,3,4,5,6,10, 16]).argsort()]"
   ]
  },
  {
   "cell_type": "code",
   "execution_count": 789,
   "metadata": {},
   "outputs": [],
   "source": [
    "K=8\n",
    "sorted_items = result_scores.argsort()\n",
    "\n",
    "# 방금 체크 했던거는 제거\n",
    "checked_right_before = input_ids[input_ids > 0]\n",
    "sorted_items = sorted_items[~pd.Series(sorted_items).isin(checked_right_before)]\n",
    "# print(sorted_items)\n",
    "# 원래의 id로 되돌아오기\n",
    "sorted_items = le.inverse_transform(sorted_items) # 뒤로갈수록 추천해주고 싶은 맥주"
   ]
  },
  {
   "cell_type": "code",
   "execution_count": 790,
   "metadata": {},
   "outputs": [
    {
     "data": {
      "text/plain": [
       "[8666, 75661, 614833]"
      ]
     },
     "execution_count": 790,
     "metadata": {},
     "output_type": "execute_result"
    }
   ],
   "source": [
    "# 이것도 DB에서 불러오는 것으로...\n",
    "filter_df = pd.read_csv(\"/opt/ml/workspace/final-project-level3-recsys-10/data/db_files/db_target_beer.csv\")\n",
    "# filter_df.columns = [\"beer_id\"]\n",
    "# target_items = filter_df[filter_df[\"mik\"].isna()][\"beer_id\"].tolist()\n",
    "target_items = filter_df[\"beer_id\"].astype(int).tolist()\n",
    "target_items[:3]"
   ]
  },
  {
   "cell_type": "code",
   "execution_count": 791,
   "metadata": {},
   "outputs": [
    {
     "data": {
      "text/plain": [
       "array([146878,    814, 149060,    399,  64253, 136785,   1478, 135361])"
      ]
     },
     "execution_count": 791,
     "metadata": {},
     "output_type": "execute_result"
    }
   ],
   "source": [
    "# target_items = [12769, 71477, 43176, 116553, 7686, 82006] # 우리가 취급할 맥주만 선택: 한국에서 파는 맥주만\n",
    "sorted_target_items = sorted_items[pd.Series(sorted_items).isin(target_items)]\n",
    "# sorted_target_items = sorted_items\n",
    "\n",
    "sorted_target_items_topk = sorted_target_items[-K:]\n",
    "sorted_target_items_topk"
   ]
  },
  {
   "cell_type": "code",
   "execution_count": 792,
   "metadata": {},
   "outputs": [
    {
     "data": {
      "text/plain": [
       "<AxesSubplot:>"
      ]
     },
     "execution_count": 792,
     "metadata": {},
     "output_type": "execute_result"
    },
    {
     "data": {
      "image/png": "[encoded data removed]",
      "text/plain": [
       "<Figure size 432x288 with 1 Axes>"
      ]
     },
     "metadata": {
      "needs_background": "light"
     },
     "output_type": "display_data"
    }
   ],
   "source": [
    "\n",
    "pd.Series(result_scores[le.transform(sorted_target_items)]).hist()"
   ]
  },
  {
   "cell_type": "code",
   "execution_count": 725,
   "metadata": {},
   "outputs": [
    {
     "data": {
      "text/plain": [
       "array([667837,    405,   8666,  64253,  58275,    399,  15747,   3126,\n",
       "         2516, 221535, 493355,   7580, 315443,   5159, 268685,   2811,\n",
       "       136785,   4701, 211962, 480225,   6668,   3101,    221,  75661,\n",
       "          703, 146878,   5571,  35424,    721,    251,   3029, 169964,\n",
       "        75071,   7656,    647,  17334,   4007,   1417,  36249, 452525,\n",
       "        10726,    709,    717, 621308,     55,  72025,  30913, 614833,\n",
       "       135361, 288954, 146725, 553245,   1267, 149060,  21936,  64518,\n",
       "        34662, 632627,   1486,  71458, 291276, 506847,   2468,  73158,\n",
       "          715,  71469,   2469,   1088,   2514,    742,    814])"
      ]
     },
     "execution_count": 725,
     "metadata": {},
     "output_type": "execute_result"
    }
   ],
   "source": [
    "sorted_target_items"
   ]
  },
  {
   "cell_type": "code",
   "execution_count": 616,
   "metadata": {},
   "outputs": [
    {
     "data": {
      "text/plain": [
       "array([667837,    405,   8666,    399,   3126,   2516, 315443,  17334,\n",
       "        58275,   7580, 221535,  64253,   3101,   6668, 146878,   4007,\n",
       "       169964, 480225,  15747,   5159,   2811,    251,    221, 136785,\n",
       "         4701,  75661,    703, 268685, 211962,   5571,    721, 493355,\n",
       "         3029,  35424,    647,     55,   7656,  75071,   1417,    717,\n",
       "        36249, 146725, 553245,  10726, 452525,    709, 149060, 135361,\n",
       "       621308,  72025,   1267,  30913, 632627,  34662, 288954,  21936,\n",
       "        64518, 614833, 291276,   1486,  71458,  73158,    715,  71469,\n",
       "       506847,   2468,   1088,   2469,   2514,    814,    742])"
      ]
     },
     "execution_count": 616,
     "metadata": {},
     "output_type": "execute_result"
    }
   ],
   "source": [
    "sorted_target_items"
   ]
  },
  {
   "cell_type": "code",
   "execution_count": null,
   "metadata": {},
   "outputs": [
    {
     "data": {
      "text/plain": [
       "array([667837,   3126,    405,    742, 493355, 452525,    703,    268,\n",
       "       268685,   4701, 315443, 480225,   6668,    721,   5571, 169964,\n",
       "          729,    709,  75071,     37, 211962, 553245, 621308, 146725,\n",
       "       632627, 288954,   2811, 614833,    717, 291276,   7656, 221535,\n",
       "        58275,   2469,   3101,   2516,  21936,    221,  10726,   1417,\n",
       "           55,   3029, 506847,  71469,  36249,  71458,   5159,   2468,\n",
       "        35424,  34662,    715,  17334,   8666,  15747,  30913,  72025,\n",
       "         1088,   7580,    647,  75661,  64518,  64253,   2514,    814,\n",
       "       146878,  73158,   1486,    399,   5588,    390, 136785, 149060,\n",
       "         1478, 135361])"
      ]
     },
     "metadata": {},
     "output_type": "display_data"
    }
   ],
   "source": [
    "sorted_target_items"
   ]
  },
  {
   "cell_type": "code",
   "execution_count": 223,
   "metadata": {},
   "outputs": [
    {
     "data": {
      "text/plain": [
       "array([667837,   3126,    405,    703, 268685,    742,   4701, 452525,\n",
       "       553245, 480225,   6668, 315443, 493355,   5571,    721, 211962,\n",
       "        75071, 169964, 632627,    268,    729,  58275, 221535,     37,\n",
       "          709, 146725, 614833, 621308,  36249, 288954,  71458,     55,\n",
       "         5159, 291276,   7656,  10726,  72025,    221,   1417,   3101,\n",
       "        21936,   2811,   2516, 506847,  35424,  34662,  71469,    647,\n",
       "        30913,   1088,    717,    814,   3029,   1486,   2468,   8666,\n",
       "          715,  17334,  64253,    399,   7580, 136785,  73158,   2514,\n",
       "        15747,   2469,  64518, 146878,    390,   1478,  75661, 149060,\n",
       "       135361,   5588])"
      ]
     },
     "execution_count": 223,
     "metadata": {},
     "output_type": "execute_result"
    }
   ],
   "source": [
    "sorted_target_items"
   ]
  },
  {
   "cell_type": "code",
   "execution_count": 54,
   "metadata": {},
   "outputs": [
    {
     "ename": "KeyError",
     "evalue": "\"['beer_name'] not in index\"",
     "output_type": "error",
     "traceback": [
      "\u001b[0;31m---------------------------------------------------------------------------\u001b[0m",
      "\u001b[0;31mKeyError\u001b[0m                                  Traceback (most recent call last)",
      "\u001b[0;32m<ipython-input-54-2602544ec22c>\u001b[0m in \u001b[0;36m<module>\u001b[0;34m\u001b[0m\n\u001b[0;32m----> 1\u001b[0;31m \u001b[0mid2name\u001b[0m \u001b[0;34m=\u001b[0m \u001b[0;34m{\u001b[0m\u001b[0mint\u001b[0m\u001b[0;34m(\u001b[0m\u001b[0mbeer_id\u001b[0m\u001b[0;34m)\u001b[0m\u001b[0;34m:\u001b[0m\u001b[0mstr\u001b[0m\u001b[0;34m(\u001b[0m\u001b[0mbeer_name\u001b[0m\u001b[0;34m[\u001b[0m\u001b[0;36m0\u001b[0m\u001b[0;34m]\u001b[0m\u001b[0;34m)\u001b[0m \u001b[0;32mfor\u001b[0m \u001b[0mbeer_id\u001b[0m\u001b[0;34m,\u001b[0m \u001b[0mbeer_name\u001b[0m \u001b[0;32min\u001b[0m \u001b[0mfilter_df\u001b[0m\u001b[0;34m[\u001b[0m\u001b[0;34m[\u001b[0m\u001b[0;34m\"beer_id\"\u001b[0m\u001b[0;34m,\u001b[0m \u001b[0;34m\"beer_name\"\u001b[0m\u001b[0;34m]\u001b[0m\u001b[0;34m]\u001b[0m\u001b[0;34m.\u001b[0m\u001b[0mset_index\u001b[0m\u001b[0;34m(\u001b[0m\u001b[0;34m\"beer_id\"\u001b[0m\u001b[0;34m)\u001b[0m\u001b[0;34m.\u001b[0m\u001b[0miterrows\u001b[0m\u001b[0;34m(\u001b[0m\u001b[0;34m)\u001b[0m\u001b[0;34m}\u001b[0m\u001b[0;34m\u001b[0m\u001b[0;34m\u001b[0m\u001b[0m\n\u001b[0m",
      "\u001b[0;32m~/.final/lib/python3.8/site-packages/pandas/core/frame.py\u001b[0m in \u001b[0;36m__getitem__\u001b[0;34m(self, key)\u001b[0m\n\u001b[1;32m   2910\u001b[0m             \u001b[0;32mif\u001b[0m \u001b[0mis_iterator\u001b[0m\u001b[0;34m(\u001b[0m\u001b[0mkey\u001b[0m\u001b[0;34m)\u001b[0m\u001b[0;34m:\u001b[0m\u001b[0;34m\u001b[0m\u001b[0;34m\u001b[0m\u001b[0m\n\u001b[1;32m   2911\u001b[0m                 \u001b[0mkey\u001b[0m \u001b[0;34m=\u001b[0m \u001b[0mlist\u001b[0m\u001b[0;34m(\u001b[0m\u001b[0mkey\u001b[0m\u001b[0;34m)\u001b[0m\u001b[0;34m\u001b[0m\u001b[0;34m\u001b[0m\u001b[0m\n\u001b[0;32m-> 2912\u001b[0;31m             \u001b[0mindexer\u001b[0m \u001b[0;34m=\u001b[0m \u001b[0mself\u001b[0m\u001b[0;34m.\u001b[0m\u001b[0mloc\u001b[0m\u001b[0;34m.\u001b[0m\u001b[0m_get_listlike_indexer\u001b[0m\u001b[0;34m(\u001b[0m\u001b[0mkey\u001b[0m\u001b[0;34m,\u001b[0m \u001b[0maxis\u001b[0m\u001b[0;34m=\u001b[0m\u001b[0;36m1\u001b[0m\u001b[0;34m,\u001b[0m \u001b[0mraise_missing\u001b[0m\u001b[0;34m=\u001b[0m\u001b[0;32mTrue\u001b[0m\u001b[0;34m)\u001b[0m\u001b[0;34m[\u001b[0m\u001b[0;36m1\u001b[0m\u001b[0;34m]\u001b[0m\u001b[0;34m\u001b[0m\u001b[0;34m\u001b[0m\u001b[0m\n\u001b[0m\u001b[1;32m   2913\u001b[0m \u001b[0;34m\u001b[0m\u001b[0m\n\u001b[1;32m   2914\u001b[0m         \u001b[0;31m# take() does not accept boolean indexers\u001b[0m\u001b[0;34m\u001b[0m\u001b[0;34m\u001b[0m\u001b[0;34m\u001b[0m\u001b[0m\n",
      "\u001b[0;32m~/.final/lib/python3.8/site-packages/pandas/core/indexing.py\u001b[0m in \u001b[0;36m_get_listlike_indexer\u001b[0;34m(self, key, axis, raise_missing)\u001b[0m\n\u001b[1;32m   1252\u001b[0m             \u001b[0mkeyarr\u001b[0m\u001b[0;34m,\u001b[0m \u001b[0mindexer\u001b[0m\u001b[0;34m,\u001b[0m \u001b[0mnew_indexer\u001b[0m \u001b[0;34m=\u001b[0m \u001b[0max\u001b[0m\u001b[0;34m.\u001b[0m\u001b[0m_reindex_non_unique\u001b[0m\u001b[0;34m(\u001b[0m\u001b[0mkeyarr\u001b[0m\u001b[0;34m)\u001b[0m\u001b[0;34m\u001b[0m\u001b[0;34m\u001b[0m\u001b[0m\n\u001b[1;32m   1253\u001b[0m \u001b[0;34m\u001b[0m\u001b[0m\n\u001b[0;32m-> 1254\u001b[0;31m         \u001b[0mself\u001b[0m\u001b[0;34m.\u001b[0m\u001b[0m_validate_read_indexer\u001b[0m\u001b[0;34m(\u001b[0m\u001b[0mkeyarr\u001b[0m\u001b[0;34m,\u001b[0m \u001b[0mindexer\u001b[0m\u001b[0;34m,\u001b[0m \u001b[0maxis\u001b[0m\u001b[0;34m,\u001b[0m \u001b[0mraise_missing\u001b[0m\u001b[0;34m=\u001b[0m\u001b[0mraise_missing\u001b[0m\u001b[0;34m)\u001b[0m\u001b[0;34m\u001b[0m\u001b[0;34m\u001b[0m\u001b[0m\n\u001b[0m\u001b[1;32m   1255\u001b[0m         \u001b[0;32mreturn\u001b[0m \u001b[0mkeyarr\u001b[0m\u001b[0;34m,\u001b[0m \u001b[0mindexer\u001b[0m\u001b[0;34m\u001b[0m\u001b[0;34m\u001b[0m\u001b[0m\n\u001b[1;32m   1256\u001b[0m \u001b[0;34m\u001b[0m\u001b[0m\n",
      "\u001b[0;32m~/.final/lib/python3.8/site-packages/pandas/core/indexing.py\u001b[0m in \u001b[0;36m_validate_read_indexer\u001b[0;34m(self, key, indexer, axis, raise_missing)\u001b[0m\n\u001b[1;32m   1302\u001b[0m             \u001b[0;32mif\u001b[0m \u001b[0mraise_missing\u001b[0m\u001b[0;34m:\u001b[0m\u001b[0;34m\u001b[0m\u001b[0;34m\u001b[0m\u001b[0m\n\u001b[1;32m   1303\u001b[0m                 \u001b[0mnot_found\u001b[0m \u001b[0;34m=\u001b[0m \u001b[0mlist\u001b[0m\u001b[0;34m(\u001b[0m\u001b[0mset\u001b[0m\u001b[0;34m(\u001b[0m\u001b[0mkey\u001b[0m\u001b[0;34m)\u001b[0m \u001b[0;34m-\u001b[0m \u001b[0mset\u001b[0m\u001b[0;34m(\u001b[0m\u001b[0max\u001b[0m\u001b[0;34m)\u001b[0m\u001b[0;34m)\u001b[0m\u001b[0;34m\u001b[0m\u001b[0;34m\u001b[0m\u001b[0m\n\u001b[0;32m-> 1304\u001b[0;31m                 \u001b[0;32mraise\u001b[0m \u001b[0mKeyError\u001b[0m\u001b[0;34m(\u001b[0m\u001b[0;34mf\"{not_found} not in index\"\u001b[0m\u001b[0;34m)\u001b[0m\u001b[0;34m\u001b[0m\u001b[0;34m\u001b[0m\u001b[0m\n\u001b[0m\u001b[1;32m   1305\u001b[0m \u001b[0;34m\u001b[0m\u001b[0m\n\u001b[1;32m   1306\u001b[0m             \u001b[0;31m# we skip the warning on Categorical\u001b[0m\u001b[0;34m\u001b[0m\u001b[0;34m\u001b[0m\u001b[0;34m\u001b[0m\u001b[0m\n",
      "\u001b[0;31mKeyError\u001b[0m: \"['beer_name'] not in index\""
     ]
    }
   ],
   "source": [
    "id2name = {int(beer_id):str(beer_name[0]) for beer_id, beer_name in filter_df[[\"beer_id\", \"beer_name\"]].set_index(\"beer_id\").iterrows()}"
   ]
  },
  {
   "cell_type": "code",
   "execution_count": 52,
   "metadata": {},
   "outputs": [
    {
     "data": {
      "text/plain": [
       "['BINTANG pilsner',\n",
       " 'XXXX Gold',\n",
       " 'BrewDog Punk IPA',\n",
       " 'Tiger Radler Grapefruit',\n",
       " 'Tsingtao Draft Beer 11º (Pure Draft Beer)',\n",
       " 'Stephans Brau Larger',\n",
       " 'Egger Marzenbier',\n",
       " \"Queen's Ale Blonde Type\"]"
      ]
     },
     "execution_count": 52,
     "metadata": {},
     "output_type": "execute_result"
    }
   ],
   "source": [
    "# last result\n",
    "# filter_df[filter_df[\"beer_id\"].isin(sorted_target_items_topk)][\"beer_name\"]#.tolist()\n",
    "[id2name[beer_id] for beer_id in sorted_target_items_topk]\n"
   ]
  },
  {
   "cell_type": "code",
   "execution_count": 32,
   "metadata": {},
   "outputs": [
    {
     "name": "stdout",
     "output_type": "stream",
     "text": [
      "8666 Ambar Especial\n",
      "75661 Apostel Brau\n",
      "614833 Apple Fox\n",
      "169964 Asahi Super dray Black\n",
      "251 Asahi super dry\n",
      "169964 Asahi Super Dry Black\n",
      "10726 Bali Hai Premium Larger\n",
      "5588 Barvaria 8.6\n",
      "5571 Barvaria Premium\n",
      "703 beck's\n",
      "6668 Berliner Kindl Pilsener\n",
      "7656 BINTANG pilsner\n",
      "2228 Blue Moon Belgian White\n",
      "135361 BrewDog Punk IPA\n",
      "473 Budweiser\n",
      "36249 BURGE MEESTER\n",
      "709 Carlsberg\n",
      "12775 Cass Fresh\n",
      "143730 Cass Light\n",
      "742 Corona Extra\n",
      "4007 Desperados\n",
      "72025 Edelweiss Weissbier Snowfresh\n",
      "58275 Egger Marzenbier\n",
      "221535 Egger Radler Grapefruit\n",
      "291276 Egger Zwickl\n",
      "2469 Erdinger Dunkel\n",
      "2468 Erdinger Weissbier\n",
      "553454 Filite\n",
      "1088 Franzisaner Hefe-Weissbier\n",
      "721 Gambrinus Original\n",
      "30913 Goose Island 312 Urban Wheat Ale\n",
      "814 Goose Island Goose IPA\n",
      "75071 Grimbergen Cuvée Blanche\n",
      "715 Grolsch Premium Larger\n",
      "1267 Guinness Draught\n",
      "55 Guinness original\n",
      "17334 Harbin Beer\n",
      "37 Heineken\n",
      "493355 Heineken 0.0\n",
      "64253 Heineken 3.5%\n",
      "34662 Heineken Dark Lager\n",
      "34662 Heineken Dark Lager\n",
      "136165 Hite D (Dry Finish)\n",
      "500620 Hite Extra Cold\n",
      "13833 Hite Prime Max\n",
      "506847 Hoegaarden Cherry\n",
      "73158 Hoegaarden Rosee\n",
      "399 Hoegarden\n",
      "5159 Hollandia\n",
      "3101 Holsten Premium Beer\n",
      "315443 Hop House 13 Lager\n",
      "552713 JEJU WIT ALE\n",
      "911382 Kabrew Kumiho Relax Beer\n",
      "906973 Kabrew Namsan Mountain Premium Citra Ale\n",
      "268 Kirin ichiban\n",
      "550283 Kloud Fitz Super Clear\n",
      "271470 Kloud Original Gravity\n",
      "390 Kozel Dark 10\n",
      "71469 krombacher weizen\n",
      "35424 Kronenbourg 1664 Blanc\n",
      "4701 Lapin Kulta IV A\n",
      "2514 Leffe Blonde / Blond\n",
      "2516 Leffe Brune / Bruin / Brown\n",
      "288954 Lowenbrau Original\n",
      "405 Miller Genuine Draft\n",
      "303473 OB premier pilsner\n",
      "136785 Patagonia Weisse\n",
      "647 Paulaner Hefe-weissbier\n",
      "632627 PEEPER B IPA\n",
      "3029 Peroni Nastro Azzurro\n",
      "717 pilsner urquell\n",
      "553245 Platinum Pale Ale\n",
      "580686 Platinum White Ale\n",
      "252000 Queen's Ale Blonde Type\n",
      "21936 Red Rock\n",
      "667837 REEPER B Weissbier\n",
      "2811 San Miguel\n",
      "729 Sapporo Premium Beer / Draft Beer\n",
      "71458 Schöfferhofer Grapefruit\n",
      "634182 SEOULITE ALE\n",
      "86387 Somersby Apple Cider\n",
      "1478 Stella Artois\n",
      "146878 Stephans Bräu Hefe-Weizen Naturtrüb\n",
      "146725 Stephans Brau Larger\n",
      "149060 Stephans Brau Philsner\n",
      "15747 Suntory The Premium Malt's\n",
      "718172 Terra\n",
      "3126 Tiger Beer\n",
      "480225 Tiger Radler Grapefruit\n",
      "268685 Tiger Radler Lemon\n",
      "730 Tsingtao\n",
      "211962 Tsingtao 4.7% 11°P\n",
      "64518 Tsingtao Draft Beer 11º (Pure Draft Beer)\n",
      "621308 TSINGTAO WHEAT BEER\n",
      "7580 victoria bitter\n",
      "452525 Volfas Engelman Grünberger\n",
      "1417 Warsteiner Premium Verum\n",
      "1486 XXXX Gold\n",
      "221 YEBISU\n"
     ]
    }
   ],
   "source": [
    "for i in filter_df[[\"beer_id\", \"beer_name\"]].set_index(\"beer_id\").iterrows():\n",
    "    print(i[0], i[1][0])"
   ]
  },
  {
   "cell_type": "code",
   "execution_count": 254,
   "metadata": {},
   "outputs": [],
   "source": [
    "from sklearn.manifold import TSNE\n",
    "n_components = 2\n",
    "tsne = TSNE(n_components=n_components)\n",
    "tsne_data = tsne.fit_transform(model.item_embeddings.weight.cpu().detach().numpy())\n",
    "# model.item_embeddings\n"
   ]
  },
  {
   "cell_type": "code",
   "execution_count": 261,
   "metadata": {},
   "outputs": [],
   "source": [
    "import matplotlib\n",
    "import matplotlib.pyplot as plt\n",
    "\n",
    "df_tsne = pd.DataFrame(tsne_data, columns=[\"component 0\", \"component 1\"])"
   ]
  },
  {
   "cell_type": "code",
   "execution_count": 263,
   "metadata": {},
   "outputs": [
    {
     "data": {
      "text/plain": [
       "<matplotlib.collections.PathCollection at 0x7f4585cc8220>"
      ]
     },
     "execution_count": 263,
     "metadata": {},
     "output_type": "execute_result"
    },
    {
     "data": {
      "image/png": "[encoded data removed]",
      "text/plain": [
       "<Figure size 432x288 with 1 Axes>"
      ]
     },
     "metadata": {
      "needs_background": "light"
     },
     "output_type": "display_data"
    }
   ],
   "source": [
    "plt.scatter(df_tsne[\"component 0\"], df_tsne[\"component 1\"])"
   ]
  },
  {
   "cell_type": "code",
   "execution_count": 264,
   "metadata": {},
   "outputs": [],
   "source": [
    "raw_ratebeer = pd.read_json(\"../../../data/raw_ratebeer.json\")\n",
    "raw_ratebeer = raw_ratebeer.dropna()"
   ]
  },
  {
   "cell_type": "code",
   "execution_count": 273,
   "metadata": {},
   "outputs": [
    {
     "ename": "ValueError",
     "evalue": "y contains previously unseen labels: [580686]",
     "output_type": "error",
     "traceback": [
      "\u001b[0;31m---------------------------------------------------------------------------\u001b[0m",
      "\u001b[0;31mValueError\u001b[0m                                Traceback (most recent call last)",
      "\u001b[0;32m<ipython-input-273-643ab26d25f2>\u001b[0m in \u001b[0;36m<module>\u001b[0;34m\u001b[0m\n\u001b[1;32m      1\u001b[0m \u001b[0mdf_beer_style\u001b[0m \u001b[0;34m=\u001b[0m \u001b[0mraw_ratebeer\u001b[0m\u001b[0;34m.\u001b[0m\u001b[0mgroupby\u001b[0m\u001b[0;34m(\u001b[0m\u001b[0;34m\"beer_id\"\u001b[0m\u001b[0;34m)\u001b[0m\u001b[0;34m[\u001b[0m\u001b[0;34m[\u001b[0m\u001b[0;34m\"beer_id\"\u001b[0m\u001b[0;34m,\u001b[0m \u001b[0;34m\"style\"\u001b[0m\u001b[0;34m]\u001b[0m\u001b[0;34m]\u001b[0m\u001b[0;34m.\u001b[0m\u001b[0mhead\u001b[0m\u001b[0;34m(\u001b[0m\u001b[0;36m1\u001b[0m\u001b[0;34m)\u001b[0m\u001b[0;34m\u001b[0m\u001b[0;34m\u001b[0m\u001b[0m\n\u001b[1;32m      2\u001b[0m \u001b[0mdf_beer_style\u001b[0m\u001b[0;34m.\u001b[0m\u001b[0mindex\u001b[0m \u001b[0;34m=\u001b[0m \u001b[0mrange\u001b[0m\u001b[0;34m(\u001b[0m\u001b[0mlen\u001b[0m\u001b[0;34m(\u001b[0m\u001b[0mdf_beer_style\u001b[0m\u001b[0;34m)\u001b[0m\u001b[0;34m)\u001b[0m\u001b[0;34m\u001b[0m\u001b[0;34m\u001b[0m\u001b[0m\n\u001b[0;32m----> 3\u001b[0;31m \u001b[0mle\u001b[0m\u001b[0;34m.\u001b[0m\u001b[0mtransform\u001b[0m\u001b[0;34m(\u001b[0m\u001b[0mdf_beer_style\u001b[0m\u001b[0;34m[\u001b[0m\u001b[0;34m\"beer_id\"\u001b[0m\u001b[0;34m]\u001b[0m\u001b[0;34m.\u001b[0m\u001b[0mastype\u001b[0m\u001b[0;34m(\u001b[0m\u001b[0mint\u001b[0m\u001b[0;34m)\u001b[0m\u001b[0;34m)\u001b[0m\u001b[0;34m\u001b[0m\u001b[0;34m\u001b[0m\u001b[0m\n\u001b[0m",
      "\u001b[0;32m~/.final/lib/python3.8/site-packages/sklearn/preprocessing/_label.py\u001b[0m in \u001b[0;36mtransform\u001b[0;34m(self, y)\u001b[0m\n\u001b[1;32m    136\u001b[0m             \u001b[0;32mreturn\u001b[0m \u001b[0mnp\u001b[0m\u001b[0;34m.\u001b[0m\u001b[0marray\u001b[0m\u001b[0;34m(\u001b[0m\u001b[0;34m[\u001b[0m\u001b[0;34m]\u001b[0m\u001b[0;34m)\u001b[0m\u001b[0;34m\u001b[0m\u001b[0;34m\u001b[0m\u001b[0m\n\u001b[1;32m    137\u001b[0m \u001b[0;34m\u001b[0m\u001b[0m\n\u001b[0;32m--> 138\u001b[0;31m         \u001b[0;32mreturn\u001b[0m \u001b[0m_encode\u001b[0m\u001b[0;34m(\u001b[0m\u001b[0my\u001b[0m\u001b[0;34m,\u001b[0m \u001b[0muniques\u001b[0m\u001b[0;34m=\u001b[0m\u001b[0mself\u001b[0m\u001b[0;34m.\u001b[0m\u001b[0mclasses_\u001b[0m\u001b[0;34m)\u001b[0m\u001b[0;34m\u001b[0m\u001b[0;34m\u001b[0m\u001b[0m\n\u001b[0m\u001b[1;32m    139\u001b[0m \u001b[0;34m\u001b[0m\u001b[0m\n\u001b[1;32m    140\u001b[0m     \u001b[0;32mdef\u001b[0m \u001b[0minverse_transform\u001b[0m\u001b[0;34m(\u001b[0m\u001b[0mself\u001b[0m\u001b[0;34m,\u001b[0m \u001b[0my\u001b[0m\u001b[0;34m)\u001b[0m\u001b[0;34m:\u001b[0m\u001b[0;34m\u001b[0m\u001b[0;34m\u001b[0m\u001b[0m\n",
      "\u001b[0;32m~/.final/lib/python3.8/site-packages/sklearn/utils/_encode.py\u001b[0m in \u001b[0;36m_encode\u001b[0;34m(values, uniques, check_unknown)\u001b[0m\n\u001b[1;32m    183\u001b[0m             \u001b[0mdiff\u001b[0m \u001b[0;34m=\u001b[0m \u001b[0m_check_unknown\u001b[0m\u001b[0;34m(\u001b[0m\u001b[0mvalues\u001b[0m\u001b[0;34m,\u001b[0m \u001b[0muniques\u001b[0m\u001b[0;34m)\u001b[0m\u001b[0;34m\u001b[0m\u001b[0;34m\u001b[0m\u001b[0m\n\u001b[1;32m    184\u001b[0m             \u001b[0;32mif\u001b[0m \u001b[0mdiff\u001b[0m\u001b[0;34m:\u001b[0m\u001b[0;34m\u001b[0m\u001b[0;34m\u001b[0m\u001b[0m\n\u001b[0;32m--> 185\u001b[0;31m                 raise ValueError(f\"y contains previously unseen labels: \"\n\u001b[0m\u001b[1;32m    186\u001b[0m                                  f\"{str(diff)}\")\n\u001b[1;32m    187\u001b[0m         \u001b[0;32mreturn\u001b[0m \u001b[0mnp\u001b[0m\u001b[0;34m.\u001b[0m\u001b[0msearchsorted\u001b[0m\u001b[0;34m(\u001b[0m\u001b[0muniques\u001b[0m\u001b[0;34m,\u001b[0m \u001b[0mvalues\u001b[0m\u001b[0;34m)\u001b[0m\u001b[0;34m\u001b[0m\u001b[0;34m\u001b[0m\u001b[0m\n",
      "\u001b[0;31mValueError\u001b[0m: y contains previously unseen labels: [580686]"
     ]
    }
   ],
   "source": [
    "df_beer_style = raw_ratebeer.groupby(\"beer_id\")[[\"beer_id\", \"style\"]].head(1)\n",
    "df_beer_style.index = range(len(df_beer_style))\n",
    "le.transform(df_beer_style[\"beer_id\"].astype(int))"
   ]
  },
  {
   "cell_type": "code",
   "execution_count": 286,
   "metadata": {},
   "outputs": [
    {
     "data": {
      "text/html": [
       "<div>\n",
       "<style scoped>\n",
       "    .dataframe tbody tr th:only-of-type {\n",
       "        vertical-align: middle;\n",
       "    }\n",
       "\n",
       "    .dataframe tbody tr th {\n",
       "        vertical-align: top;\n",
       "    }\n",
       "\n",
       "    .dataframe thead th {\n",
       "        text-align: right;\n",
       "    }\n",
       "</style>\n",
       "<table border=\"1\" class=\"dataframe\">\n",
       "  <thead>\n",
       "    <tr style=\"text-align: right;\">\n",
       "      <th></th>\n",
       "      <th>beer_id</th>\n",
       "      <th>style</th>\n",
       "    </tr>\n",
       "  </thead>\n",
       "  <tbody>\n",
       "    <tr>\n",
       "      <th>0</th>\n",
       "      <td>131594.0</td>\n",
       "      <td>Saison / Farmhouse / Grisette</td>\n",
       "    </tr>\n",
       "    <tr>\n",
       "      <th>1</th>\n",
       "      <td>121536.0</td>\n",
       "      <td>Specialty Grain - Other</td>\n",
       "    </tr>\n",
       "    <tr>\n",
       "      <th>2</th>\n",
       "      <td>12617.0</td>\n",
       "      <td>Pale Lager - American</td>\n",
       "    </tr>\n",
       "    <tr>\n",
       "      <th>3</th>\n",
       "      <td>14940.0</td>\n",
       "      <td>IPA - English</td>\n",
       "    </tr>\n",
       "    <tr>\n",
       "      <th>4</th>\n",
       "      <td>25933.0</td>\n",
       "      <td>Blonde Ale / Golden Ale</td>\n",
       "    </tr>\n",
       "    <tr>\n",
       "      <th>...</th>\n",
       "      <td>...</td>\n",
       "      <td>...</td>\n",
       "    </tr>\n",
       "    <tr>\n",
       "      <th>9331</th>\n",
       "      <td>118583.0</td>\n",
       "      <td>Red Ale - Irish</td>\n",
       "    </tr>\n",
       "    <tr>\n",
       "      <th>9332</th>\n",
       "      <td>786.0</td>\n",
       "      <td>Amber Lager - International / Vienna</td>\n",
       "    </tr>\n",
       "    <tr>\n",
       "      <th>9333</th>\n",
       "      <td>51898.0</td>\n",
       "      <td>Stout - Imperial</td>\n",
       "    </tr>\n",
       "    <tr>\n",
       "      <th>9334</th>\n",
       "      <td>5067.0</td>\n",
       "      <td>Red Ale / International Amber Ale</td>\n",
       "    </tr>\n",
       "    <tr>\n",
       "      <th>9335</th>\n",
       "      <td>3324.0</td>\n",
       "      <td>Scottish Ale</td>\n",
       "    </tr>\n",
       "  </tbody>\n",
       "</table>\n",
       "<p>9335 rows × 2 columns</p>\n",
       "</div>"
      ],
      "text/plain": [
       "       beer_id                                 style\n",
       "0     131594.0         Saison / Farmhouse / Grisette\n",
       "1     121536.0               Specialty Grain - Other\n",
       "2      12617.0                 Pale Lager - American\n",
       "3      14940.0                         IPA - English\n",
       "4      25933.0               Blonde Ale / Golden Ale\n",
       "...        ...                                   ...\n",
       "9331  118583.0                       Red Ale - Irish\n",
       "9332     786.0  Amber Lager - International / Vienna\n",
       "9333   51898.0                      Stout - Imperial\n",
       "9334    5067.0     Red Ale / International Amber Ale\n",
       "9335    3324.0                          Scottish Ale\n",
       "\n",
       "[9335 rows x 2 columns]"
      ]
     },
     "execution_count": 286,
     "metadata": {},
     "output_type": "execute_result"
    }
   ],
   "source": [
    "df_beer_style = df_beer_style[df_beer_style[\"beer_id\"].isin(le.inverse_transform(rating_df[\"item\"].unique()))]\n",
    "df_beer_style"
   ]
  },
  {
   "cell_type": "code",
   "execution_count": 289,
   "metadata": {},
   "outputs": [],
   "source": [
    "df_beer_style[\"item\"] = le.transform(df_beer_style[\"beer_id\"])"
   ]
  },
  {
   "cell_type": "code",
   "execution_count": 290,
   "metadata": {},
   "outputs": [
    {
     "data": {
      "text/html": [
       "<div>\n",
       "<style scoped>\n",
       "    .dataframe tbody tr th:only-of-type {\n",
       "        vertical-align: middle;\n",
       "    }\n",
       "\n",
       "    .dataframe tbody tr th {\n",
       "        vertical-align: top;\n",
       "    }\n",
       "\n",
       "    .dataframe thead th {\n",
       "        text-align: right;\n",
       "    }\n",
       "</style>\n",
       "<table border=\"1\" class=\"dataframe\">\n",
       "  <thead>\n",
       "    <tr style=\"text-align: right;\">\n",
       "      <th></th>\n",
       "      <th>beer_id</th>\n",
       "      <th>style</th>\n",
       "      <th>item</th>\n",
       "    </tr>\n",
       "  </thead>\n",
       "  <tbody>\n",
       "    <tr>\n",
       "      <th>0</th>\n",
       "      <td>131594.0</td>\n",
       "      <td>Saison / Farmhouse / Grisette</td>\n",
       "      <td>8940</td>\n",
       "    </tr>\n",
       "    <tr>\n",
       "      <th>1</th>\n",
       "      <td>121536.0</td>\n",
       "      <td>Specialty Grain - Other</td>\n",
       "      <td>8692</td>\n",
       "    </tr>\n",
       "    <tr>\n",
       "      <th>2</th>\n",
       "      <td>12617.0</td>\n",
       "      <td>Pale Lager - American</td>\n",
       "      <td>3150</td>\n",
       "    </tr>\n",
       "    <tr>\n",
       "      <th>3</th>\n",
       "      <td>14940.0</td>\n",
       "      <td>IPA - English</td>\n",
       "      <td>3466</td>\n",
       "    </tr>\n",
       "    <tr>\n",
       "      <th>4</th>\n",
       "      <td>25933.0</td>\n",
       "      <td>Blonde Ale / Golden Ale</td>\n",
       "      <td>4350</td>\n",
       "    </tr>\n",
       "    <tr>\n",
       "      <th>...</th>\n",
       "      <td>...</td>\n",
       "      <td>...</td>\n",
       "      <td>...</td>\n",
       "    </tr>\n",
       "    <tr>\n",
       "      <th>9331</th>\n",
       "      <td>118583.0</td>\n",
       "      <td>Red Ale - Irish</td>\n",
       "      <td>8603</td>\n",
       "    </tr>\n",
       "    <tr>\n",
       "      <th>9332</th>\n",
       "      <td>786.0</td>\n",
       "      <td>Amber Lager - International / Vienna</td>\n",
       "      <td>442</td>\n",
       "    </tr>\n",
       "    <tr>\n",
       "      <th>9333</th>\n",
       "      <td>51898.0</td>\n",
       "      <td>Stout - Imperial</td>\n",
       "      <td>5695</td>\n",
       "    </tr>\n",
       "    <tr>\n",
       "      <th>9334</th>\n",
       "      <td>5067.0</td>\n",
       "      <td>Red Ale / International Amber Ale</td>\n",
       "      <td>1584</td>\n",
       "    </tr>\n",
       "    <tr>\n",
       "      <th>9335</th>\n",
       "      <td>3324.0</td>\n",
       "      <td>Scottish Ale</td>\n",
       "      <td>1216</td>\n",
       "    </tr>\n",
       "  </tbody>\n",
       "</table>\n",
       "<p>9335 rows × 3 columns</p>\n",
       "</div>"
      ],
      "text/plain": [
       "       beer_id                                 style  item\n",
       "0     131594.0         Saison / Farmhouse / Grisette  8940\n",
       "1     121536.0               Specialty Grain - Other  8692\n",
       "2      12617.0                 Pale Lager - American  3150\n",
       "3      14940.0                         IPA - English  3466\n",
       "4      25933.0               Blonde Ale / Golden Ale  4350\n",
       "...        ...                                   ...   ...\n",
       "9331  118583.0                       Red Ale - Irish  8603\n",
       "9332     786.0  Amber Lager - International / Vienna   442\n",
       "9333   51898.0                      Stout - Imperial  5695\n",
       "9334    5067.0     Red Ale / International Amber Ale  1584\n",
       "9335    3324.0                          Scottish Ale  1216\n",
       "\n",
       "[9335 rows x 3 columns]"
      ]
     },
     "execution_count": 290,
     "metadata": {},
     "output_type": "execute_result"
    }
   ],
   "source": [
    "df_beer_style"
   ]
  },
  {
   "cell_type": "code",
   "execution_count": 297,
   "metadata": {},
   "outputs": [],
   "source": [
    "inkorea_beer_list = filter_df[filter_df[\"mik\"].isna()][\"beer_id\"].tolist()\n",
    "df_beer_style[\"isinkorea_beer\"] = df_beer_style[\"beer_id\"].isin(inkorea_beer_list)"
   ]
  },
  {
   "cell_type": "code",
   "execution_count": 299,
   "metadata": {},
   "outputs": [
    {
     "data": {
      "text/html": [
       "<div>\n",
       "<style scoped>\n",
       "    .dataframe tbody tr th:only-of-type {\n",
       "        vertical-align: middle;\n",
       "    }\n",
       "\n",
       "    .dataframe tbody tr th {\n",
       "        vertical-align: top;\n",
       "    }\n",
       "\n",
       "    .dataframe thead th {\n",
       "        text-align: right;\n",
       "    }\n",
       "</style>\n",
       "<table border=\"1\" class=\"dataframe\">\n",
       "  <thead>\n",
       "    <tr style=\"text-align: right;\">\n",
       "      <th></th>\n",
       "      <th>beer_id</th>\n",
       "      <th>style</th>\n",
       "      <th>item</th>\n",
       "      <th>isinkorea_beer</th>\n",
       "    </tr>\n",
       "  </thead>\n",
       "  <tbody>\n",
       "    <tr>\n",
       "      <th>14</th>\n",
       "      <td>37.0</td>\n",
       "      <td>Pale Lager - International / Premium</td>\n",
       "      <td>24</td>\n",
       "      <td>True</td>\n",
       "    </tr>\n",
       "    <tr>\n",
       "      <th>18</th>\n",
       "      <td>55.0</td>\n",
       "      <td>Stout</td>\n",
       "      <td>38</td>\n",
       "      <td>True</td>\n",
       "    </tr>\n",
       "    <tr>\n",
       "      <th>63</th>\n",
       "      <td>221.0</td>\n",
       "      <td>Pale Lager - International / Premium</td>\n",
       "      <td>133</td>\n",
       "      <td>True</td>\n",
       "    </tr>\n",
       "    <tr>\n",
       "      <th>74</th>\n",
       "      <td>251.0</td>\n",
       "      <td>Pale Lager - International / Premium</td>\n",
       "      <td>149</td>\n",
       "      <td>True</td>\n",
       "    </tr>\n",
       "    <tr>\n",
       "      <th>79</th>\n",
       "      <td>268.0</td>\n",
       "      <td>Pale Lager - International / Premium</td>\n",
       "      <td>160</td>\n",
       "      <td>True</td>\n",
       "    </tr>\n",
       "    <tr>\n",
       "      <th>...</th>\n",
       "      <td>...</td>\n",
       "      <td>...</td>\n",
       "      <td>...</td>\n",
       "      <td>...</td>\n",
       "    </tr>\n",
       "    <tr>\n",
       "      <th>7701</th>\n",
       "      <td>288954.0</td>\n",
       "      <td>Pale Lager - International / Premium</td>\n",
       "      <td>9324</td>\n",
       "      <td>True</td>\n",
       "    </tr>\n",
       "    <tr>\n",
       "      <th>8288</th>\n",
       "      <td>553245.0</td>\n",
       "      <td>Pale Ale - American (APA)</td>\n",
       "      <td>9331</td>\n",
       "      <td>True</td>\n",
       "    </tr>\n",
       "    <tr>\n",
       "      <th>8343</th>\n",
       "      <td>291276.0</td>\n",
       "      <td>Zwickelbier / Kellerbier / Landbier</td>\n",
       "      <td>9325</td>\n",
       "      <td>True</td>\n",
       "    </tr>\n",
       "    <tr>\n",
       "      <th>8979</th>\n",
       "      <td>621308.0</td>\n",
       "      <td>Weissbier - Hefeweizen</td>\n",
       "      <td>9333</td>\n",
       "      <td>True</td>\n",
       "    </tr>\n",
       "    <tr>\n",
       "      <th>8980</th>\n",
       "      <td>64253.0</td>\n",
       "      <td>Pale Lager - American</td>\n",
       "      <td>6277</td>\n",
       "      <td>True</td>\n",
       "    </tr>\n",
       "  </tbody>\n",
       "</table>\n",
       "<p>81 rows × 4 columns</p>\n",
       "</div>"
      ],
      "text/plain": [
       "       beer_id                                 style  item  isinkorea_beer\n",
       "14        37.0  Pale Lager - International / Premium    24            True\n",
       "18        55.0                                 Stout    38            True\n",
       "63       221.0  Pale Lager - International / Premium   133            True\n",
       "74       251.0  Pale Lager - International / Premium   149            True\n",
       "79       268.0  Pale Lager - International / Premium   160            True\n",
       "...        ...                                   ...   ...             ...\n",
       "7701  288954.0  Pale Lager - International / Premium  9324            True\n",
       "8288  553245.0             Pale Ale - American (APA)  9331            True\n",
       "8343  291276.0   Zwickelbier / Kellerbier / Landbier  9325            True\n",
       "8979  621308.0                Weissbier - Hefeweizen  9333            True\n",
       "8980   64253.0                 Pale Lager - American  6277            True\n",
       "\n",
       "[81 rows x 4 columns]"
      ]
     },
     "execution_count": 299,
     "metadata": {},
     "output_type": "execute_result"
    }
   ],
   "source": [
    "df_beer_style.query(\"isinkorea_beer == True\")"
   ]
  },
  {
   "cell_type": "code",
   "execution_count": 323,
   "metadata": {},
   "outputs": [
    {
     "ename": "ValueError",
     "evalue": "Length mismatch: Expected axis has 4 elements, new values have 3 elements",
     "output_type": "error",
     "traceback": [
      "\u001b[0;31m---------------------------------------------------------------------------\u001b[0m",
      "\u001b[0;31mValueError\u001b[0m                                Traceback (most recent call last)",
      "\u001b[0;32m<ipython-input-323-378af3b6e3bd>\u001b[0m in \u001b[0;36m<module>\u001b[0;34m\u001b[0m\n\u001b[1;32m      1\u001b[0m \u001b[0mdf_tsne\u001b[0m \u001b[0;34m=\u001b[0m \u001b[0mdf_tsne\u001b[0m\u001b[0;34m.\u001b[0m\u001b[0mreset_index\u001b[0m\u001b[0;34m(\u001b[0m\u001b[0;34m)\u001b[0m\u001b[0;34m\u001b[0m\u001b[0;34m\u001b[0m\u001b[0m\n\u001b[0;32m----> 2\u001b[0;31m \u001b[0mdf_tsne\u001b[0m\u001b[0;34m.\u001b[0m\u001b[0mcolumns\u001b[0m \u001b[0;34m=\u001b[0m \u001b[0;34m[\u001b[0m\u001b[0;34m\"item\"\u001b[0m\u001b[0;34m,\u001b[0m \u001b[0;34m\"component 0\"\u001b[0m\u001b[0;34m,\u001b[0m \u001b[0;34m\"component 1\"\u001b[0m\u001b[0;34m]\u001b[0m\u001b[0;34m\u001b[0m\u001b[0;34m\u001b[0m\u001b[0m\n\u001b[0m\u001b[1;32m      3\u001b[0m \u001b[0mdf_tsne\u001b[0m \u001b[0;34m=\u001b[0m \u001b[0mdf_tsne\u001b[0m\u001b[0;34m.\u001b[0m\u001b[0mmerge\u001b[0m\u001b[0;34m(\u001b[0m\u001b[0mdf_beer_style\u001b[0m\u001b[0;34m,\u001b[0m \u001b[0mon\u001b[0m \u001b[0;34m=\u001b[0m \u001b[0;34m\"item\"\u001b[0m\u001b[0;34m,\u001b[0m \u001b[0mhow\u001b[0m \u001b[0;34m=\u001b[0m \u001b[0;34m\"left\"\u001b[0m\u001b[0;34m)\u001b[0m\u001b[0;34m\u001b[0m\u001b[0;34m\u001b[0m\u001b[0m\n",
      "\u001b[0;32m~/.final/lib/python3.8/site-packages/pandas/core/generic.py\u001b[0m in \u001b[0;36m__setattr__\u001b[0;34m(self, name, value)\u001b[0m\n\u001b[1;32m   5152\u001b[0m         \u001b[0;32mtry\u001b[0m\u001b[0;34m:\u001b[0m\u001b[0;34m\u001b[0m\u001b[0;34m\u001b[0m\u001b[0m\n\u001b[1;32m   5153\u001b[0m             \u001b[0mobject\u001b[0m\u001b[0;34m.\u001b[0m\u001b[0m__getattribute__\u001b[0m\u001b[0;34m(\u001b[0m\u001b[0mself\u001b[0m\u001b[0;34m,\u001b[0m \u001b[0mname\u001b[0m\u001b[0;34m)\u001b[0m\u001b[0;34m\u001b[0m\u001b[0;34m\u001b[0m\u001b[0m\n\u001b[0;32m-> 5154\u001b[0;31m             \u001b[0;32mreturn\u001b[0m \u001b[0mobject\u001b[0m\u001b[0;34m.\u001b[0m\u001b[0m__setattr__\u001b[0m\u001b[0;34m(\u001b[0m\u001b[0mself\u001b[0m\u001b[0;34m,\u001b[0m \u001b[0mname\u001b[0m\u001b[0;34m,\u001b[0m \u001b[0mvalue\u001b[0m\u001b[0;34m)\u001b[0m\u001b[0;34m\u001b[0m\u001b[0;34m\u001b[0m\u001b[0m\n\u001b[0m\u001b[1;32m   5155\u001b[0m         \u001b[0;32mexcept\u001b[0m \u001b[0mAttributeError\u001b[0m\u001b[0;34m:\u001b[0m\u001b[0;34m\u001b[0m\u001b[0;34m\u001b[0m\u001b[0m\n\u001b[1;32m   5156\u001b[0m             \u001b[0;32mpass\u001b[0m\u001b[0;34m\u001b[0m\u001b[0;34m\u001b[0m\u001b[0m\n",
      "\u001b[0;32mpandas/_libs/properties.pyx\u001b[0m in \u001b[0;36mpandas._libs.properties.AxisProperty.__set__\u001b[0;34m()\u001b[0m\n",
      "\u001b[0;32m~/.final/lib/python3.8/site-packages/pandas/core/generic.py\u001b[0m in \u001b[0;36m_set_axis\u001b[0;34m(self, axis, labels)\u001b[0m\n\u001b[1;32m    562\u001b[0m     \u001b[0;32mdef\u001b[0m \u001b[0m_set_axis\u001b[0m\u001b[0;34m(\u001b[0m\u001b[0mself\u001b[0m\u001b[0;34m,\u001b[0m \u001b[0maxis\u001b[0m\u001b[0;34m:\u001b[0m \u001b[0mint\u001b[0m\u001b[0;34m,\u001b[0m \u001b[0mlabels\u001b[0m\u001b[0;34m:\u001b[0m \u001b[0mIndex\u001b[0m\u001b[0;34m)\u001b[0m \u001b[0;34m->\u001b[0m \u001b[0;32mNone\u001b[0m\u001b[0;34m:\u001b[0m\u001b[0;34m\u001b[0m\u001b[0;34m\u001b[0m\u001b[0m\n\u001b[1;32m    563\u001b[0m         \u001b[0mlabels\u001b[0m \u001b[0;34m=\u001b[0m \u001b[0mensure_index\u001b[0m\u001b[0;34m(\u001b[0m\u001b[0mlabels\u001b[0m\u001b[0;34m)\u001b[0m\u001b[0;34m\u001b[0m\u001b[0;34m\u001b[0m\u001b[0m\n\u001b[0;32m--> 564\u001b[0;31m         \u001b[0mself\u001b[0m\u001b[0;34m.\u001b[0m\u001b[0m_mgr\u001b[0m\u001b[0;34m.\u001b[0m\u001b[0mset_axis\u001b[0m\u001b[0;34m(\u001b[0m\u001b[0maxis\u001b[0m\u001b[0;34m,\u001b[0m \u001b[0mlabels\u001b[0m\u001b[0;34m)\u001b[0m\u001b[0;34m\u001b[0m\u001b[0;34m\u001b[0m\u001b[0m\n\u001b[0m\u001b[1;32m    565\u001b[0m         \u001b[0mself\u001b[0m\u001b[0;34m.\u001b[0m\u001b[0m_clear_item_cache\u001b[0m\u001b[0;34m(\u001b[0m\u001b[0;34m)\u001b[0m\u001b[0;34m\u001b[0m\u001b[0;34m\u001b[0m\u001b[0m\n\u001b[1;32m    566\u001b[0m \u001b[0;34m\u001b[0m\u001b[0m\n",
      "\u001b[0;32m~/.final/lib/python3.8/site-packages/pandas/core/internals/managers.py\u001b[0m in \u001b[0;36mset_axis\u001b[0;34m(self, axis, new_labels)\u001b[0m\n\u001b[1;32m    224\u001b[0m \u001b[0;34m\u001b[0m\u001b[0m\n\u001b[1;32m    225\u001b[0m         \u001b[0;32mif\u001b[0m \u001b[0mnew_len\u001b[0m \u001b[0;34m!=\u001b[0m \u001b[0mold_len\u001b[0m\u001b[0;34m:\u001b[0m\u001b[0;34m\u001b[0m\u001b[0;34m\u001b[0m\u001b[0m\n\u001b[0;32m--> 226\u001b[0;31m             raise ValueError(\n\u001b[0m\u001b[1;32m    227\u001b[0m                 \u001b[0;34mf\"Length mismatch: Expected axis has {old_len} elements, new \"\u001b[0m\u001b[0;34m\u001b[0m\u001b[0;34m\u001b[0m\u001b[0m\n\u001b[1;32m    228\u001b[0m                 \u001b[0;34mf\"values have {new_len} elements\"\u001b[0m\u001b[0;34m\u001b[0m\u001b[0;34m\u001b[0m\u001b[0m\n",
      "\u001b[0;31mValueError\u001b[0m: Length mismatch: Expected axis has 4 elements, new values have 3 elements"
     ]
    }
   ],
   "source": [
    "df_tsne = df_tsne.reset_index()\n",
    "df_tsne.columns = [\"item\", \"component 0\", \"component 1\"]\n",
    "df_tsne = df_tsne.merge(df_beer_style, on = \"item\", how = \"left\")"
   ]
  },
  {
   "cell_type": "code",
   "execution_count": 333,
   "metadata": {},
   "outputs": [
    {
     "data": {
      "image/png": "[encoded data removed]",
      "text/plain": [
       "<Figure size 432x288 with 1 Axes>"
      ]
     },
     "metadata": {
      "needs_background": "light"
     },
     "output_type": "display_data"
    }
   ],
   "source": [
    "df_tsne_common = df_tsne.query(\"isinkorea_beer == False\")\n",
    "plt.scatter(df_tsne_common[\"component 0\"], df_tsne_common[\"component 1\"], label = \"others\")\n",
    "df_tsne_inkorea = df_tsne.query(\"isinkorea_beer == True\")\n",
    "plt.scatter(df_tsne_inkorea[\"component 0\"], df_tsne_inkorea[\"component 1\"], label = \"inkorea\")\n",
    "plt.legend()\n",
    "plt.show()"
   ]
  },
  {
   "cell_type": "code",
   "execution_count": 342,
   "metadata": {},
   "outputs": [
    {
     "data": {
      "image/png": "[encoded data removed]",
      "text/plain": [
       "<Figure size 432x288 with 1 Axes>"
      ]
     },
     "metadata": {
      "needs_background": "light"
     },
     "output_type": "display_data"
    }
   ],
   "source": [
    "df_tsne_common = df_tsne.query(\"isinkorea_beer == False\")\n",
    "plt.scatter(df_tsne_common[\"component 0\"], df_tsne_common[\"component 1\"], label = \"others\")\n",
    "df_tsne_inkorea = df_tsne#.query(\"isinkorea_beer == True\")\n",
    "df_tsne_inkorea0 = df_tsne_inkorea.query(\"style == 'Pale Lager - International / Premium'\")\n",
    "plt.scatter(df_tsne_inkorea0[\"component 0\"], df_tsne_inkorea0[\"component 1\"], label = \"Pale Lager - International / Premium\")\n",
    "df_tsne_inkorea1 = df_tsne_inkorea.query(\"style == 'Stout'\")\n",
    "plt.scatter(df_tsne_inkorea1[\"component 0\"], df_tsne_inkorea1[\"component 1\"], label = \"Stout\")\n",
    "df_tsne_inkorea2 = df_tsne_inkorea.query(\"style == 'Pale Lager - American'\")\n",
    "plt.scatter(df_tsne_inkorea2[\"component 0\"], df_tsne_inkorea2[\"component 1\"], label = \"Pale Lager - American\")\n",
    "df_tsne_inkorea3 = df_tsne_inkorea.query(\"style == 'Weissbier - Hefeweizen'\")\n",
    "plt.scatter(df_tsne_inkorea3[\"component 0\"], df_tsne_inkorea3[\"component 1\"], label = \"Weissbier - Hefeweizen\")\n",
    "df_tsne_inkorea4 = df_tsne_inkorea.query(\"style == 'Radler / Shandy'\")\n",
    "plt.scatter(df_tsne_inkorea4[\"component 0\"], df_tsne_inkorea4[\"component 1\"], label = \"Radler / Shandy\")\n",
    "df_tsne_inkorea5 = df_tsne_inkorea.query(\"style == 'Pilsener / Pils / Pilsner'\")\n",
    "plt.scatter(df_tsne_inkorea5[\"component 0\"], df_tsne_inkorea5[\"component 1\"], label = \"Pilsener / Pils / Pilsner\")\n",
    "plt.legend()\n",
    "plt.show()"
   ]
  },
  {
   "cell_type": "code",
   "execution_count": 339,
   "metadata": {},
   "outputs": [
    {
     "data": {
      "text/plain": [
       "Pale Lager - International / Premium    26\n",
       "Weissbier - Hefeweizen                   8\n",
       "Pale Lager - American                    7\n",
       "Radler / Shandy                          5\n",
       "Pilsener / Pils / Pilsner                5\n",
       "Witbier / Belgian White Ale              5\n",
       "Apple Cider                              2\n",
       "IPA                                      2\n",
       "Pilsener - Bohemian / Czech              2\n",
       "Dark Lager - International / Premium     2\n",
       "Märzen / Oktoberfest Bier                1\n",
       "Pale Ale - American (APA)                1\n",
       "Stout                                    1\n",
       "Pilsener - Imperial                      1\n",
       "IPA - English                            1\n",
       "Weissbier - Dunkelweizen                 1\n",
       "Flavored - Other                         1\n",
       "Low / No Alcohol Beer - Pale             1\n",
       "Belgian Ale - Pale / Golden / Single     1\n",
       "Flavored - Fruit                         1\n",
       "Stout - Dry / Irish                      1\n",
       "Amber Lager - International / Vienna     1\n",
       "Wheat Ale                                1\n",
       "Zwickelbier / Kellerbier / Landbier      1\n",
       "Dark Lager - Dunkel / Tmavý              1\n",
       "Pale Ale - English                       1\n",
       "Belgian Ale - Dark / Amber               1\n",
       "Name: style, dtype: int64"
      ]
     },
     "execution_count": 339,
     "metadata": {},
     "output_type": "execute_result"
    }
   ],
   "source": [
    "df_beer_style.query(\"isinkorea_beer == True\")[\"style\"].value_counts()"
   ]
  }
 ],
 "metadata": {
  "interpreter": {
   "hash": "1f987112d13c3a5109fc24d7b4f4d6f95510a722443984c5c3a93525168aad10"
  },
  "kernelspec": {
   "display_name": "Python 3.8.5 ('.final': venv)",
   "language": "python",
   "name": "python3"
  },
  "language_info": {
   "codemirror_mode": {
    "name": "ipython",
    "version": 3
   },
   "file_extension": ".py",
   "mimetype": "text/x-python",
   "name": "python",
   "nbconvert_exporter": "python",
   "pygments_lexer": "ipython3",
   "version": "3.8.5"
  },
  "orig_nbformat": 4
 },
 "nbformat": 4,
 "nbformat_minor": 2
}
