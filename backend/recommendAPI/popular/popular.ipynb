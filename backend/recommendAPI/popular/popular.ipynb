{
 "cells": [
  {
   "cell_type": "code",
   "execution_count": 1,
   "id": "29bcbd9c-2b94-4940-ac5e-cc1bf18cb2cd",
   "metadata": {},
   "outputs": [],
   "source": [
    "import torch\n",
    "import torch.nn as nn\n",
    "import torch.optim as optim\n",
    "from torch.utils.data import DataLoader, Dataset\n",
    "\n",
    "import pandas as pd\n",
    "import numpy as np\n",
    "import matplotlib.pyplot as plt\n",
    "import random\n",
    "import math\n",
    "import time\n",
    "from datetime import datetime\n",
    "\n",
    "from sklearn.model_selection import train_test_split\n",
    "from sklearn.preprocessing import LabelEncoder\n",
    "\n",
    "import warnings\n",
    "warnings.filterwarnings(action='ignore')"
   ]
  },
  {
   "cell_type": "markdown",
   "id": "5510b252-7581-4003-9389-f51ab4fb842b",
   "metadata": {},
   "source": [
    "## dataset"
   ]
  },
  {
   "cell_type": "code",
   "execution_count": 2,
   "id": "ef3c6dfc-7ca7-4943-89b6-dec7ff2ac8ce",
   "metadata": {},
   "outputs": [],
   "source": [
    "ratebeer = pd.read_json(\"../data/ratebeer_korea.json\")"
   ]
  },
  {
   "cell_type": "code",
   "execution_count": 3,
   "id": "5cbfa3e8-550d-4a48-a5ee-ea1f3251f81b",
   "metadata": {},
   "outputs": [
    {
     "data": {
      "text/html": [
       "<div>\n",
       "<style scoped>\n",
       "    .dataframe tbody tr th:only-of-type {\n",
       "        vertical-align: middle;\n",
       "    }\n",
       "\n",
       "    .dataframe tbody tr th {\n",
       "        vertical-align: top;\n",
       "    }\n",
       "\n",
       "    .dataframe thead th {\n",
       "        text-align: right;\n",
       "    }\n",
       "</style>\n",
       "<table border=\"1\" class=\"dataframe\">\n",
       "  <thead>\n",
       "    <tr style=\"text-align: right;\">\n",
       "      <th></th>\n",
       "      <th>reviewScore</th>\n",
       "      <th>reviewTime</th>\n",
       "      <th>reviewText</th>\n",
       "      <th>appearance</th>\n",
       "      <th>aroma</th>\n",
       "      <th>palate</th>\n",
       "      <th>taste</th>\n",
       "      <th>overall</th>\n",
       "      <th>profileName</th>\n",
       "      <th>beerName</th>\n",
       "      <th>beerID</th>\n",
       "      <th>brewerID</th>\n",
       "      <th>ABV</th>\n",
       "      <th>style</th>\n",
       "      <th>imageUrl</th>\n",
       "    </tr>\n",
       "  </thead>\n",
       "  <tbody>\n",
       "    <tr>\n",
       "      <th>94316</th>\n",
       "      <td>3.0</td>\n",
       "      <td>2000-06-14 04:58:02.000</td>\n",
       "      <td>pale clear golden colour with a fine head, low...</td>\n",
       "      <td>4.0</td>\n",
       "      <td>5.0</td>\n",
       "      <td>3.0</td>\n",
       "      <td>6.0</td>\n",
       "      <td>12.0</td>\n",
       "      <td>Bov</td>\n",
       "      <td>Beck's</td>\n",
       "      <td>703</td>\n",
       "      <td>112</td>\n",
       "      <td>4.8</td>\n",
       "      <td>Pale Lager - International / Premium</td>\n",
       "      <td>https://res.cloudinary.com/ratebeer/image/uplo...</td>\n",
       "    </tr>\n",
       "    <tr>\n",
       "      <th>94317</th>\n",
       "      <td>4.2</td>\n",
       "      <td>2000-06-10 16:51:58.000</td>\n",
       "      <td>love that skunky smell !  Actually, my fav eve...</td>\n",
       "      <td>4.0</td>\n",
       "      <td>9.0</td>\n",
       "      <td>4.0</td>\n",
       "      <td>8.0</td>\n",
       "      <td>17.0</td>\n",
       "      <td>sallyclub99</td>\n",
       "      <td>Beck's</td>\n",
       "      <td>703</td>\n",
       "      <td>112</td>\n",
       "      <td>4.8</td>\n",
       "      <td>Pale Lager - International / Premium</td>\n",
       "      <td>https://res.cloudinary.com/ratebeer/image/uplo...</td>\n",
       "    </tr>\n",
       "    <tr>\n",
       "      <th>94318</th>\n",
       "      <td>2.7</td>\n",
       "      <td>2000-06-05 08:46:21.000</td>\n",
       "      <td>Much better than American pilsners which isn't...</td>\n",
       "      <td>2.0</td>\n",
       "      <td>5.0</td>\n",
       "      <td>2.0</td>\n",
       "      <td>6.0</td>\n",
       "      <td>12.0</td>\n",
       "      <td>kublai3</td>\n",
       "      <td>Beck's</td>\n",
       "      <td>703</td>\n",
       "      <td>112</td>\n",
       "      <td>4.8</td>\n",
       "      <td>Pale Lager - International / Premium</td>\n",
       "      <td>https://res.cloudinary.com/ratebeer/image/uplo...</td>\n",
       "    </tr>\n",
       "    <tr>\n",
       "      <th>94319</th>\n",
       "      <td>3.3</td>\n",
       "      <td>2000-06-03 23:59:02.000</td>\n",
       "      <td>A decent, light-German beer. Not bad, but then...</td>\n",
       "      <td>3.0</td>\n",
       "      <td>6.0</td>\n",
       "      <td>3.0</td>\n",
       "      <td>6.0</td>\n",
       "      <td>15.0</td>\n",
       "      <td>Aubrey</td>\n",
       "      <td>Beck's</td>\n",
       "      <td>703</td>\n",
       "      <td>112</td>\n",
       "      <td>4.8</td>\n",
       "      <td>Pale Lager - International / Premium</td>\n",
       "      <td>https://res.cloudinary.com/ratebeer/image/uplo...</td>\n",
       "    </tr>\n",
       "    <tr>\n",
       "      <th>94320</th>\n",
       "      <td>3.3</td>\n",
       "      <td>2000-05-07 01:07:31.000</td>\n",
       "      <td>Beck's is a decent german beer.  It's a little...</td>\n",
       "      <td>3.0</td>\n",
       "      <td>6.0</td>\n",
       "      <td>4.0</td>\n",
       "      <td>7.0</td>\n",
       "      <td>13.0</td>\n",
       "      <td>roland</td>\n",
       "      <td>Beck's</td>\n",
       "      <td>703</td>\n",
       "      <td>112</td>\n",
       "      <td>4.8</td>\n",
       "      <td>Pale Lager - International / Premium</td>\n",
       "      <td>https://res.cloudinary.com/ratebeer/image/uplo...</td>\n",
       "    </tr>\n",
       "  </tbody>\n",
       "</table>\n",
       "</div>"
      ],
      "text/plain": [
       "       reviewScore               reviewTime  \\\n",
       "94316          3.0  2000-06-14 04:58:02.000   \n",
       "94317          4.2  2000-06-10 16:51:58.000   \n",
       "94318          2.7  2000-06-05 08:46:21.000   \n",
       "94319          3.3  2000-06-03 23:59:02.000   \n",
       "94320          3.3  2000-05-07 01:07:31.000   \n",
       "\n",
       "                                              reviewText  appearance  aroma  \\\n",
       "94316  pale clear golden colour with a fine head, low...         4.0    5.0   \n",
       "94317  love that skunky smell !  Actually, my fav eve...         4.0    9.0   \n",
       "94318  Much better than American pilsners which isn't...         2.0    5.0   \n",
       "94319  A decent, light-German beer. Not bad, but then...         3.0    6.0   \n",
       "94320  Beck's is a decent german beer.  It's a little...         3.0    6.0   \n",
       "\n",
       "       palate  taste  overall  profileName beerName  beerID  brewerID  ABV  \\\n",
       "94316     3.0    6.0     12.0          Bov   Beck's     703       112  4.8   \n",
       "94317     4.0    8.0     17.0  sallyclub99   Beck's     703       112  4.8   \n",
       "94318     2.0    6.0     12.0      kublai3   Beck's     703       112  4.8   \n",
       "94319     3.0    6.0     15.0       Aubrey   Beck's     703       112  4.8   \n",
       "94320     4.0    7.0     13.0       roland   Beck's     703       112  4.8   \n",
       "\n",
       "                                      style  \\\n",
       "94316  Pale Lager - International / Premium   \n",
       "94317  Pale Lager - International / Premium   \n",
       "94318  Pale Lager - International / Premium   \n",
       "94319  Pale Lager - International / Premium   \n",
       "94320  Pale Lager - International / Premium   \n",
       "\n",
       "                                                imageUrl  \n",
       "94316  https://res.cloudinary.com/ratebeer/image/uplo...  \n",
       "94317  https://res.cloudinary.com/ratebeer/image/uplo...  \n",
       "94318  https://res.cloudinary.com/ratebeer/image/uplo...  \n",
       "94319  https://res.cloudinary.com/ratebeer/image/uplo...  \n",
       "94320  https://res.cloudinary.com/ratebeer/image/uplo...  "
      ]
     },
     "execution_count": 3,
     "metadata": {},
     "output_type": "execute_result"
    }
   ],
   "source": [
    "ratebeer.tail()"
   ]
  },
  {
   "cell_type": "code",
   "execution_count": 4,
   "id": "9db0f9b0-bc39-4bb0-887e-17c12da6d350",
   "metadata": {},
   "outputs": [
    {
     "name": "stdout",
     "output_type": "stream",
     "text": [
      "<class 'pandas.core.frame.DataFrame'>\n",
      "Int64Index: 93623 entries, 0 to 94320\n",
      "Data columns (total 15 columns):\n",
      " #   Column       Non-Null Count  Dtype  \n",
      "---  ------       --------------  -----  \n",
      " 0   reviewScore  93620 non-null  float64\n",
      " 1   reviewTime   93623 non-null  object \n",
      " 2   reviewText   93623 non-null  object \n",
      " 3   appearance   92036 non-null  float64\n",
      " 4   aroma        92036 non-null  float64\n",
      " 5   palate       92036 non-null  float64\n",
      " 6   taste        92036 non-null  float64\n",
      " 7   overall      92036 non-null  float64\n",
      " 8   profileName  93623 non-null  object \n",
      " 9   beerName     93623 non-null  object \n",
      " 10  beerID       93623 non-null  int64  \n",
      " 11  brewerID     93623 non-null  int64  \n",
      " 12  ABV          93623 non-null  float64\n",
      " 13  style        93623 non-null  object \n",
      " 14  imageUrl     93623 non-null  object \n",
      "dtypes: float64(7), int64(2), object(6)\n",
      "memory usage: 11.4+ MB\n"
     ]
    }
   ],
   "source": [
    "ratebeer.info()"
   ]
  },
  {
   "cell_type": "code",
   "execution_count": 5,
   "id": "cfdbfaaf-8e45-46d0-8bc4-cf73062f3dbe",
   "metadata": {},
   "outputs": [
    {
     "name": "stdout",
     "output_type": "stream",
     "text": [
      "<class 'pandas.core.frame.DataFrame'>\n",
      "RangeIndex: 93620 entries, 0 to 93619\n",
      "Data columns (total 15 columns):\n",
      " #   Column       Non-Null Count  Dtype  \n",
      "---  ------       --------------  -----  \n",
      " 0   reviewScore  93620 non-null  float64\n",
      " 1   reviewTime   93620 non-null  object \n",
      " 2   reviewText   93620 non-null  object \n",
      " 3   appearance   92036 non-null  float64\n",
      " 4   aroma        92036 non-null  float64\n",
      " 5   palate       92036 non-null  float64\n",
      " 6   taste        92036 non-null  float64\n",
      " 7   overall      92036 non-null  float64\n",
      " 8   profileName  93620 non-null  object \n",
      " 9   beerName     93620 non-null  object \n",
      " 10  beerID       93620 non-null  int64  \n",
      " 11  brewerID     93620 non-null  int64  \n",
      " 12  ABV          93620 non-null  float64\n",
      " 13  style        93620 non-null  object \n",
      " 14  imageUrl     93620 non-null  object \n",
      "dtypes: float64(7), int64(2), object(6)\n",
      "memory usage: 10.7+ MB\n"
     ]
    }
   ],
   "source": [
    "# 결측치 제거\n",
    "ratebeer = ratebeer.dropna(subset=['reviewScore']).reset_index(drop=True)\n",
    "ratebeer.info()"
   ]
  },
  {
   "cell_type": "markdown",
   "id": "045cff95-e856-469a-b376-be80fced3a17",
   "metadata": {},
   "source": [
    "### 편의점 유통 맥주 개수"
   ]
  },
  {
   "cell_type": "code",
   "execution_count": 6,
   "id": "36548c9a-27a4-4ecf-a03c-c1fff3fc9794",
   "metadata": {},
   "outputs": [
    {
     "data": {
      "text/plain": [
       "81"
      ]
     },
     "execution_count": 6,
     "metadata": {},
     "output_type": "execute_result"
    }
   ],
   "source": [
    "# 전체 데이터에서 한국 편의점 맥주 개수\n",
    "len(ratebeer['beerName'].unique())"
   ]
  },
  {
   "cell_type": "markdown",
   "id": "1ed65f32-cb28-44d0-9710-e0b9c7ce704e",
   "metadata": {},
   "source": [
    "## preprocessing"
   ]
  },
  {
   "cell_type": "markdown",
   "id": "4f259d90-2068-4bbb-9e50-ff4bced15b87",
   "metadata": {},
   "source": [
    "### reviewScore 기준 상위권"
   ]
  },
  {
   "cell_type": "code",
   "execution_count": 7,
   "id": "ba81715c-465d-4bdf-81a8-87b9cbdbfa3f",
   "metadata": {},
   "outputs": [],
   "source": [
    "# reviewScore 기준 topk개\n",
    "def reviewScore_topk(df, topk):\n",
    "\n",
    "    return df.groupby(['beerID']).mean()[['reviewScore']].sort_values(by=['reviewScore'], ascending = False).iloc[:topk, :].index"
   ]
  },
  {
   "cell_type": "code",
   "execution_count": 8,
   "id": "7dab0412-aed7-4653-898d-4b0850302492",
   "metadata": {},
   "outputs": [],
   "source": [
    "topk = 4\n",
    "\n",
    "reviewScore_topk_list = reviewScore_topk(ratebeer, topk)"
   ]
  },
  {
   "cell_type": "code",
   "execution_count": 9,
   "id": "3c668d67-78ca-4136-a121-d482eee785b4",
   "metadata": {},
   "outputs": [
    {
     "data": {
      "text/plain": [
       "array(['Platinum White Ale', 'Paulaner Hefe-Weissbier',\n",
       "       'Franziskaner Hefe-Weissbier / Weissbier Naturtrub',\n",
       "       'BrewDog Punk IPA'], dtype=object)"
      ]
     },
     "execution_count": 9,
     "metadata": {},
     "output_type": "execute_result"
    }
   ],
   "source": [
    "ratebeer[ratebeer['beerID'].isin(reviewScore_topk_list)]['beerName'].unique()"
   ]
  },
  {
   "cell_type": "code",
   "execution_count": 10,
   "id": "0c021c92-d80d-4b90-b1c7-cdba8e1bff06",
   "metadata": {},
   "outputs": [
    {
     "data": {
      "text/plain": [
       "array(['https://res.cloudinary.com/ratebeer/image/upload/w_400,c_limit,d_Default_Beer_qqrv7k.png,f_auto/beer_580686',\n",
       "       'https://res.cloudinary.com/ratebeer/image/upload/w_400,c_limit,d_Default_Beer_qqrv7k.png,f_auto/beer_647',\n",
       "       'https://res.cloudinary.com/ratebeer/image/upload/w_400,c_limit,d_Default_Beer_qqrv7k.png,f_auto/beer_1088',\n",
       "       'https://res.cloudinary.com/ratebeer/image/upload/w_400,c_limit,d_Default_Beer_qqrv7k.png,f_auto/beer_135361'],\n",
       "      dtype=object)"
      ]
     },
     "execution_count": 10,
     "metadata": {},
     "output_type": "execute_result"
    }
   ],
   "source": [
    "ratebeer[ratebeer['beerID'].isin(reviewScore_topk_list)]['imageUrl'].unique()"
   ]
  },
  {
   "cell_type": "markdown",
   "id": "d1ee045b-f491-4877-a8cc-c472ed8d9797",
   "metadata": {},
   "source": [
    "### 리뷰수 기준 상위권"
   ]
  },
  {
   "cell_type": "code",
   "execution_count": 11,
   "id": "29f70715-d343-47c7-89f2-bf851a552a33",
   "metadata": {},
   "outputs": [],
   "source": [
    "# 리뷰수 기준 topk개\n",
    "def reviewNum_topk(df, topk):\n",
    "\n",
    "    return df.groupby(['beerID']).count()[['beerName']].sort_values(by=['beerName'], ascending = False).iloc[:topk, :].index"
   ]
  },
  {
   "cell_type": "code",
   "execution_count": 12,
   "id": "78bcf301-6b35-4924-9a32-4665065d281a",
   "metadata": {},
   "outputs": [],
   "source": [
    "topk = 4\n",
    "\n",
    "reviewNum_topk_list = reviewNum_topk(ratebeer, topk)"
   ]
  },
  {
   "cell_type": "code",
   "execution_count": 13,
   "id": "2512a408-62f8-4e82-a592-dfe7504c2bbb",
   "metadata": {},
   "outputs": [
    {
     "data": {
      "text/plain": [
       "array(['Pilsner Urquell', 'Hoegaarden', 'Heineken', 'Budweiser'],\n",
       "      dtype=object)"
      ]
     },
     "execution_count": 13,
     "metadata": {},
     "output_type": "execute_result"
    }
   ],
   "source": [
    "ratebeer[ratebeer['beerID'].isin(reviewNum_topk_list)]['beerName'].unique()"
   ]
  },
  {
   "cell_type": "code",
   "execution_count": 14,
   "id": "01a4a8fc-957e-49d7-ab54-2e22b02770f4",
   "metadata": {},
   "outputs": [
    {
     "data": {
      "text/plain": [
       "array(['https://res.cloudinary.com/ratebeer/image/upload/w_400,c_limit,d_Default_Beer_qqrv7k.png,f_auto/beer_717',\n",
       "       'https://res.cloudinary.com/ratebeer/image/upload/w_400,c_limit,d_Default_Beer_qqrv7k.png,f_auto/beer_399',\n",
       "       'https://res.cloudinary.com/ratebeer/image/upload/w_400,c_limit,d_Default_Beer_qqrv7k.png,f_auto/beer_37',\n",
       "       'https://res.cloudinary.com/ratebeer/image/upload/w_400,c_limit,d_Default_Beer_qqrv7k.png,f_auto/beer_473'],\n",
       "      dtype=object)"
      ]
     },
     "execution_count": 14,
     "metadata": {},
     "output_type": "execute_result"
    }
   ],
   "source": [
    "ratebeer[ratebeer['beerID'].isin(reviewNum_topk_list)]['imageUrl'].unique()"
   ]
  },
  {
   "cell_type": "markdown",
   "id": "1da6fd39-f090-4875-96fa-bcdf1494b3b1",
   "metadata": {},
   "source": [
    "### Overall 기준 상위권"
   ]
  },
  {
   "cell_type": "code",
   "execution_count": 15,
   "id": "a2d41861-446f-41b6-b3c8-2329f40fb3d5",
   "metadata": {},
   "outputs": [],
   "source": [
    "# Overall 기준 topk개\n",
    "def overall_topk(df, topk):\n",
    "\n",
    "    return df.groupby(['beerID']).mean()[['overall']].sort_values(by=['overall'], ascending = False).iloc[:topk, :].index"
   ]
  },
  {
   "cell_type": "code",
   "execution_count": 16,
   "id": "84560b10-252e-4c22-82ec-007f5beb1334",
   "metadata": {},
   "outputs": [],
   "source": [
    "topk = 4\n",
    "\n",
    "overall_topk_list = overall_topk(ratebeer, topk)"
   ]
  },
  {
   "cell_type": "code",
   "execution_count": 17,
   "id": "d50f151e-97f4-41af-a33b-5e09a0690a61",
   "metadata": {},
   "outputs": [
    {
     "data": {
      "text/plain": [
       "array(['Platinum White Ale', 'Paulaner Hefe-Weissbier',\n",
       "       'Franziskaner Hefe-Weissbier / Weissbier Naturtrub',\n",
       "       'BrewDog Punk IPA'], dtype=object)"
      ]
     },
     "execution_count": 17,
     "metadata": {},
     "output_type": "execute_result"
    }
   ],
   "source": [
    "ratebeer[ratebeer['beerID'].isin(overall_topk_list)]['beerName'].unique()"
   ]
  },
  {
   "cell_type": "code",
   "execution_count": 18,
   "id": "32391ca1-3893-4d81-8327-398ac2fbefcb",
   "metadata": {},
   "outputs": [
    {
     "data": {
      "text/plain": [
       "array(['https://res.cloudinary.com/ratebeer/image/upload/w_400,c_limit,d_Default_Beer_qqrv7k.png,f_auto/beer_580686',\n",
       "       'https://res.cloudinary.com/ratebeer/image/upload/w_400,c_limit,d_Default_Beer_qqrv7k.png,f_auto/beer_647',\n",
       "       'https://res.cloudinary.com/ratebeer/image/upload/w_400,c_limit,d_Default_Beer_qqrv7k.png,f_auto/beer_1088',\n",
       "       'https://res.cloudinary.com/ratebeer/image/upload/w_400,c_limit,d_Default_Beer_qqrv7k.png,f_auto/beer_135361'],\n",
       "      dtype=object)"
      ]
     },
     "execution_count": 18,
     "metadata": {},
     "output_type": "execute_result"
    }
   ],
   "source": [
    "ratebeer[ratebeer['beerID'].isin(overall_topk_list)]['imageUrl'].unique()"
   ]
  },
  {
   "cell_type": "markdown",
   "id": "8e9d7b58-75cc-46c7-894e-deefd8e73cf0",
   "metadata": {},
   "source": [
    "### Steam Rating Formula"
   ]
  },
  {
   "cell_type": "code",
   "execution_count": 19,
   "id": "5ed2df2f-56a1-4fd6-9d91-672d807500b9",
   "metadata": {},
   "outputs": [],
   "source": [
    "def steam_Rating(df, topk):\n",
    "    avg_rating = df.groupby(['beerID']).mean()[['reviewScore']]\n",
    "    score = avg_rating - ((avg_rating - 3.0) * (2 ** (-1 * np.log10(df.groupby(['beerID']).count()[['reviewScore']]))))\n",
    "    \n",
    "    return score.sort_values(by=['reviewScore'], ascending = False).iloc[:topk, :].index "
   ]
  },
  {
   "cell_type": "code",
   "execution_count": 20,
   "id": "127b5b58-2852-49e1-aa28-7b4da05e173c",
   "metadata": {},
   "outputs": [],
   "source": [
    "topk = 4\n",
    "\n",
    "steamRating_topk_list = steam_Rating(ratebeer, topk)"
   ]
  },
  {
   "cell_type": "code",
   "execution_count": 21,
   "id": "49e71567-46e8-4b51-ab8d-192c742413fc",
   "metadata": {},
   "outputs": [
    {
     "data": {
      "text/plain": [
       "array(['Paulaner Hefe-Weissbier', 'Hoegaarden',\n",
       "       'Franziskaner Hefe-Weissbier / Weissbier Naturtrub',\n",
       "       'BrewDog Punk IPA'], dtype=object)"
      ]
     },
     "execution_count": 21,
     "metadata": {},
     "output_type": "execute_result"
    }
   ],
   "source": [
    "ratebeer[ratebeer['beerID'].isin(steamRating_topk_list)]['beerName'].unique()"
   ]
  },
  {
   "cell_type": "code",
   "execution_count": 22,
   "id": "c999b474-b0b0-4c1e-ad7b-bfe7b581aa24",
   "metadata": {},
   "outputs": [
    {
     "data": {
      "text/plain": [
       "array(['https://res.cloudinary.com/ratebeer/image/upload/w_400,c_limit,d_Default_Beer_qqrv7k.png,f_auto/beer_647',\n",
       "       'https://res.cloudinary.com/ratebeer/image/upload/w_400,c_limit,d_Default_Beer_qqrv7k.png,f_auto/beer_399',\n",
       "       'https://res.cloudinary.com/ratebeer/image/upload/w_400,c_limit,d_Default_Beer_qqrv7k.png,f_auto/beer_1088',\n",
       "       'https://res.cloudinary.com/ratebeer/image/upload/w_400,c_limit,d_Default_Beer_qqrv7k.png,f_auto/beer_135361'],\n",
       "      dtype=object)"
      ]
     },
     "execution_count": 22,
     "metadata": {},
     "output_type": "execute_result"
    }
   ],
   "source": [
    "ratebeer[ratebeer['beerID'].isin(steamRating_topk_list)]['imageUrl'].unique()"
   ]
  },
  {
   "cell_type": "markdown",
   "id": "3bc734b5-78f5-41e6-a844-0833b79b93f9",
   "metadata": {},
   "source": [
    "### Hacker News Formula"
   ]
  },
  {
   "cell_type": "code",
   "execution_count": 23,
   "id": "b3d417c9-f598-4886-854f-8c668dfd8279",
   "metadata": {},
   "outputs": [],
   "source": [
    "def Hacker_News(df, topk):\n",
    "    # 맥주 별 리뷰 수\n",
    "    pageviews = (df.groupby(['beerID']).count()['beerName'] - 1)\n",
    "    \n",
    "    # 현재 시간\n",
    "    now  = datetime.now()\n",
    "    \n",
    "    # 현재 시간 기준 리뷰 작성 시간 가중치 처리\n",
    "    df['age'] = ((now - pd.to_datetime(df['reviewTime'])).dt.days + 2) ** 1.8\n",
    "    \n",
    "    # 맥주 기준으로 평균\n",
    "    age = df.groupby(['beerID']).mean()['age']\n",
    "    \n",
    "    score = pageviews / age\n",
    "    \n",
    "    return score.sort_values(ascending = False).iloc[:topk].index"
   ]
  },
  {
   "cell_type": "code",
   "execution_count": 24,
   "id": "82c2e7a1-393a-4291-8f3f-c7b68963d001",
   "metadata": {},
   "outputs": [],
   "source": [
    "topk = 4\n",
    "\n",
    "HackerNews_topk_list = Hacker_News(ratebeer, topk)"
   ]
  },
  {
   "cell_type": "code",
   "execution_count": 25,
   "id": "b9649d9e-e242-44f0-bdf6-ab68c313ca13",
   "metadata": {},
   "outputs": [
    {
     "data": {
      "text/plain": [
       "array(['Pilsner Urquell', 'Leffe Blonde / Blond', 'Hoegaarden',\n",
       "       'BrewDog Punk IPA'], dtype=object)"
      ]
     },
     "execution_count": 25,
     "metadata": {},
     "output_type": "execute_result"
    }
   ],
   "source": [
    "ratebeer[ratebeer['beerID'].isin(HackerNews_topk_list)]['beerName'].unique()"
   ]
  },
  {
   "cell_type": "code",
   "execution_count": 26,
   "id": "b70fb891-2804-485a-80b6-b990ec1787ac",
   "metadata": {},
   "outputs": [
    {
     "data": {
      "text/plain": [
       "array(['https://res.cloudinary.com/ratebeer/image/upload/w_400,c_limit,d_Default_Beer_qqrv7k.png,f_auto/beer_717',\n",
       "       'https://res.cloudinary.com/ratebeer/image/upload/w_400,c_limit,d_Default_Beer_qqrv7k.png,f_auto/beer_2514',\n",
       "       'https://res.cloudinary.com/ratebeer/image/upload/w_400,c_limit,d_Default_Beer_qqrv7k.png,f_auto/beer_399',\n",
       "       'https://res.cloudinary.com/ratebeer/image/upload/w_400,c_limit,d_Default_Beer_qqrv7k.png,f_auto/beer_135361'],\n",
       "      dtype=object)"
      ]
     },
     "execution_count": 26,
     "metadata": {},
     "output_type": "execute_result"
    }
   ],
   "source": [
    "ratebeer[ratebeer['beerID'].isin(HackerNews_topk_list)]['imageUrl'].unique()"
   ]
  },
  {
   "cell_type": "markdown",
   "id": "ef2db8de-c971-4a06-8fcd-cce399fabed8",
   "metadata": {},
   "source": [
    "### popular topk"
   ]
  },
  {
   "cell_type": "code",
   "execution_count": 27,
   "id": "6127b915-f092-4a96-b284-8aee740f34ac",
   "metadata": {},
   "outputs": [],
   "source": [
    "# topk 맥주 index list 함수\n",
    "def popular_topk(df, topk, method='news'):\n",
    "    if method=='reviewScore':\n",
    "        return reviewScore_topk(df, topk)\n",
    "    elif method=='reviewNum':\n",
    "        return reviewNum_topk(df, topk)\n",
    "    elif method=='overall':\n",
    "        return overall_topk(df, topk)\n",
    "    elif method=='steam':\n",
    "        return steam_Rating(df, topk)\n",
    "    else:\n",
    "        return Hacker_News(df, topk)"
   ]
  },
  {
   "cell_type": "code",
   "execution_count": 34,
   "id": "8227c4c8-ecab-494d-8d33-3961a0154d25",
   "metadata": {},
   "outputs": [
    {
     "name": "stdout",
     "output_type": "stream",
     "text": [
      "Int64Index([580686, 135361, 1088, 647], dtype='int64', name='beerID')\n",
      "Int64Index([399, 473, 717, 37], dtype='int64', name='beerID')\n",
      "Int64Index([580686, 135361, 1088, 647], dtype='int64', name='beerID')\n",
      "Int64Index([135361, 1088, 647, 399], dtype='int64', name='beerID')\n",
      "Int64Index([135361, 399, 2514, 717], dtype='int64', name='beerID')\n"
     ]
    }
   ],
   "source": [
    "topk = 4\n",
    "\n",
    "print(popular_topk(ratebeer, topk, method='reviewScore'))\n",
    "print(popular_topk(ratebeer, topk, method='reviewNum'))\n",
    "print(popular_topk(ratebeer, topk, method='overall'))\n",
    "print(popular_topk(ratebeer, topk, method='steam'))\n",
    "print(popular_topk(ratebeer, topk, method='news'))"
   ]
  },
  {
   "cell_type": "code",
   "execution_count": 35,
   "id": "8c96be0b-aeae-4fc1-aad6-4cdeca2017f2",
   "metadata": {},
   "outputs": [],
   "source": [
    "# topk 맥주 이름\n",
    "def topk_beerName(df, topk_list):\n",
    "    return df[df['beerID'].isin(topk_list)]['beerName'].unique()\n",
    "\n",
    "# topk 맥주 이미지 주소\n",
    "def topk_Image(df, topk_list):\n",
    "    return df[df['beerID'].isin(topk_list)]['imageUrl'].unique()"
   ]
  },
  {
   "cell_type": "code",
   "execution_count": 36,
   "id": "5cfc7f8f-d84a-432e-82b1-69ca90885bf9",
   "metadata": {},
   "outputs": [
    {
     "name": "stdout",
     "output_type": "stream",
     "text": [
      "['Pilsner Urquell' 'Leffe Blonde / Blond' 'Hoegaarden' 'BrewDog Punk IPA']\n",
      "['https://res.cloudinary.com/ratebeer/image/upload/w_400,c_limit,d_Default_Beer_qqrv7k.png,f_auto/beer_717'\n",
      " 'https://res.cloudinary.com/ratebeer/image/upload/w_400,c_limit,d_Default_Beer_qqrv7k.png,f_auto/beer_2514'\n",
      " 'https://res.cloudinary.com/ratebeer/image/upload/w_400,c_limit,d_Default_Beer_qqrv7k.png,f_auto/beer_399'\n",
      " 'https://res.cloudinary.com/ratebeer/image/upload/w_400,c_limit,d_Default_Beer_qqrv7k.png,f_auto/beer_135361']\n"
     ]
    }
   ],
   "source": [
    "topk_list = popular_topk(ratebeer, topk, method='news')\n",
    "\n",
    "print(topk_beerName(ratebeer, topk_list))\n",
    "print(topk_Image(ratebeer, topk_list))"
   ]
  },
  {
   "cell_type": "code",
   "execution_count": null,
   "id": "66279e76-f521-40e1-816b-5f41c41ddaac",
   "metadata": {},
   "outputs": [],
   "source": []
  }
 ],
 "metadata": {
  "kernelspec": {
   "display_name": "beer",
   "language": "python",
   "name": "beer"
  },
  "language_info": {
   "codemirror_mode": {
    "name": "ipython",
    "version": 3
   },
   "file_extension": ".py",
   "mimetype": "text/x-python",
   "name": "python",
   "nbconvert_exporter": "python",
   "pygments_lexer": "ipython3",
   "version": "3.8.13"
  }
 },
 "nbformat": 4,
 "nbformat_minor": 5
}
