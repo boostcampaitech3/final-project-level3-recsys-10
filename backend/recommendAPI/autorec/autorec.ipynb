{
 "cells": [
  {
   "cell_type": "code",
   "execution_count": 1,
   "id": "29bcbd9c-2b94-4940-ac5e-cc1bf18cb2cd",
   "metadata": {},
   "outputs": [],
   "source": [
    "import torch\n",
    "import torch.nn as nn\n",
    "import torch.optim as optim\n",
    "from torch.utils.data import DataLoader, Dataset\n",
    "\n",
    "import pandas as pd\n",
    "import numpy as np\n",
    "import matplotlib.pyplot as plt\n",
    "import random\n",
    "import math\n",
    "\n",
    "from sklearn.model_selection import train_test_split\n",
    "from sklearn.preprocessing import LabelEncoder\n",
    "\n",
    "import warnings\n",
    "warnings.filterwarnings(action='ignore')"
   ]
  },
  {
   "cell_type": "markdown",
   "id": "5510b252-7581-4003-9389-f51ab4fb842b",
   "metadata": {},
   "source": [
    "## dataset"
   ]
  },
  {
   "cell_type": "code",
   "execution_count": 2,
   "id": "ef3c6dfc-7ca7-4943-89b6-dec7ff2ac8ce",
   "metadata": {},
   "outputs": [],
   "source": [
    "ratebeer = pd.read_json(\"../data/new_ratebeer.json\", lines=True).dropna()"
   ]
  },
  {
   "cell_type": "code",
   "execution_count": 3,
   "id": "5cbfa3e8-550d-4a48-a5ee-ea1f3251f81b",
   "metadata": {},
   "outputs": [
    {
     "data": {
      "text/html": [
       "<div>\n",
       "<style scoped>\n",
       "    .dataframe tbody tr th:only-of-type {\n",
       "        vertical-align: middle;\n",
       "    }\n",
       "\n",
       "    .dataframe tbody tr th {\n",
       "        vertical-align: top;\n",
       "    }\n",
       "\n",
       "    .dataframe thead th {\n",
       "        text-align: right;\n",
       "    }\n",
       "</style>\n",
       "<table border=\"1\" class=\"dataframe\">\n",
       "  <thead>\n",
       "    <tr style=\"text-align: right;\">\n",
       "      <th></th>\n",
       "      <th>beer/name</th>\n",
       "      <th>beer/beerId</th>\n",
       "      <th>beer/brewerId</th>\n",
       "      <th>beer/ABV</th>\n",
       "      <th>beer/style</th>\n",
       "      <th>review/appearance</th>\n",
       "      <th>review/aroma</th>\n",
       "      <th>review/palate</th>\n",
       "      <th>review/taste</th>\n",
       "      <th>review/overall</th>\n",
       "      <th>review/time</th>\n",
       "      <th>review/profileName</th>\n",
       "      <th>review/text</th>\n",
       "    </tr>\n",
       "  </thead>\n",
       "  <tbody>\n",
       "    <tr>\n",
       "      <th>2924158</th>\n",
       "      <td>Oakhill Mendip Twister</td>\n",
       "      <td>12240</td>\n",
       "      <td>1028.0</td>\n",
       "      <td>6.3</td>\n",
       "      <td>Stout</td>\n",
       "      <td>3/5</td>\n",
       "      <td>7/10</td>\n",
       "      <td>3/5</td>\n",
       "      <td>7/10</td>\n",
       "      <td>15/20</td>\n",
       "      <td>1.013731e+09</td>\n",
       "      <td>rauchbier</td>\n",
       "      <td>Doesnt suggest it from the bottle label, but f...</td>\n",
       "    </tr>\n",
       "    <tr>\n",
       "      <th>2924159</th>\n",
       "      <td>Oakhill Yeoman 1767 Strong Ale</td>\n",
       "      <td>5677</td>\n",
       "      <td>1028.0</td>\n",
       "      <td>5</td>\n",
       "      <td>Premium Bitter/ESB</td>\n",
       "      <td>4/5</td>\n",
       "      <td>5/10</td>\n",
       "      <td>3/5</td>\n",
       "      <td>6/10</td>\n",
       "      <td>12/20</td>\n",
       "      <td>1.074816e+09</td>\n",
       "      <td>imdownthepub</td>\n",
       "      <td>Cask conditioned at The Wild Goose, Combeignte...</td>\n",
       "    </tr>\n",
       "    <tr>\n",
       "      <th>2924160</th>\n",
       "      <td>Oakhill Yeoman 1767 Strong Ale</td>\n",
       "      <td>5677</td>\n",
       "      <td>1028.0</td>\n",
       "      <td>5</td>\n",
       "      <td>Premium Bitter/ESB</td>\n",
       "      <td>4/5</td>\n",
       "      <td>4/10</td>\n",
       "      <td>3/5</td>\n",
       "      <td>6/10</td>\n",
       "      <td>13/20</td>\n",
       "      <td>1.050797e+09</td>\n",
       "      <td>SilkTork</td>\n",
       "      <td>The original Oakhill Brewery was formed in 176...</td>\n",
       "    </tr>\n",
       "    <tr>\n",
       "      <th>2924161</th>\n",
       "      <td>Oakhill Yeoman 1767 Strong Ale</td>\n",
       "      <td>5677</td>\n",
       "      <td>1028.0</td>\n",
       "      <td>5</td>\n",
       "      <td>Premium Bitter/ESB</td>\n",
       "      <td>3/5</td>\n",
       "      <td>5/10</td>\n",
       "      <td>2/5</td>\n",
       "      <td>5/10</td>\n",
       "      <td>10/20</td>\n",
       "      <td>1.016410e+09</td>\n",
       "      <td>omhper</td>\n",
       "      <td>Sampled cask conditioned. Amber coloured. Frui...</td>\n",
       "    </tr>\n",
       "    <tr>\n",
       "      <th>2924162</th>\n",
       "      <td>Oakhill Yeoman 1767 Strong Ale</td>\n",
       "      <td>5677</td>\n",
       "      <td>1028.0</td>\n",
       "      <td>5</td>\n",
       "      <td>Premium Bitter/ESB</td>\n",
       "      <td>4/5</td>\n",
       "      <td>8/10</td>\n",
       "      <td>4/5</td>\n",
       "      <td>7/10</td>\n",
       "      <td>15/20</td>\n",
       "      <td>1.000253e+09</td>\n",
       "      <td>Bov</td>\n",
       "      <td></td>\n",
       "    </tr>\n",
       "  </tbody>\n",
       "</table>\n",
       "</div>"
      ],
      "text/plain": [
       "                              beer/name beer/beerId  beer/brewerId beer/ABV  \\\n",
       "2924158          Oakhill Mendip Twister       12240         1028.0      6.3   \n",
       "2924159  Oakhill Yeoman 1767 Strong Ale        5677         1028.0        5   \n",
       "2924160  Oakhill Yeoman 1767 Strong Ale        5677         1028.0        5   \n",
       "2924161  Oakhill Yeoman 1767 Strong Ale        5677         1028.0        5   \n",
       "2924162  Oakhill Yeoman 1767 Strong Ale        5677         1028.0        5   \n",
       "\n",
       "                 beer/style review/appearance review/aroma review/palate  \\\n",
       "2924158               Stout               3/5         7/10           3/5   \n",
       "2924159  Premium Bitter/ESB               4/5         5/10           3/5   \n",
       "2924160  Premium Bitter/ESB               4/5         4/10           3/5   \n",
       "2924161  Premium Bitter/ESB               3/5         5/10           2/5   \n",
       "2924162  Premium Bitter/ESB               4/5         8/10           4/5   \n",
       "\n",
       "        review/taste review/overall   review/time review/profileName  \\\n",
       "2924158         7/10          15/20  1.013731e+09          rauchbier   \n",
       "2924159         6/10          12/20  1.074816e+09       imdownthepub   \n",
       "2924160         6/10          13/20  1.050797e+09           SilkTork   \n",
       "2924161         5/10          10/20  1.016410e+09             omhper   \n",
       "2924162         7/10          15/20  1.000253e+09                Bov   \n",
       "\n",
       "                                               review/text  \n",
       "2924158  Doesnt suggest it from the bottle label, but f...  \n",
       "2924159  Cask conditioned at The Wild Goose, Combeignte...  \n",
       "2924160  The original Oakhill Brewery was formed in 176...  \n",
       "2924161  Sampled cask conditioned. Amber coloured. Frui...  \n",
       "2924162                                                     "
      ]
     },
     "execution_count": 3,
     "metadata": {},
     "output_type": "execute_result"
    }
   ],
   "source": [
    "ratebeer.tail()"
   ]
  },
  {
   "cell_type": "code",
   "execution_count": 4,
   "id": "9db0f9b0-bc39-4bb0-887e-17c12da6d350",
   "metadata": {},
   "outputs": [
    {
     "name": "stdout",
     "output_type": "stream",
     "text": [
      "<class 'pandas.core.frame.DataFrame'>\n",
      "Int64Index: 2924163 entries, 0 to 2924162\n",
      "Data columns (total 13 columns):\n",
      " #   Column              Dtype  \n",
      "---  ------              -----  \n",
      " 0   beer/name           object \n",
      " 1   beer/beerId         object \n",
      " 2   beer/brewerId       float64\n",
      " 3   beer/ABV            object \n",
      " 4   beer/style          object \n",
      " 5   review/appearance   object \n",
      " 6   review/aroma        object \n",
      " 7   review/palate       object \n",
      " 8   review/taste        object \n",
      " 9   review/overall      object \n",
      " 10  review/time         float64\n",
      " 11  review/profileName  object \n",
      " 12  review/text         object \n",
      "dtypes: float64(2), object(11)\n",
      "memory usage: 312.3+ MB\n"
     ]
    }
   ],
   "source": [
    "ratebeer.info()"
   ]
  },
  {
   "cell_type": "markdown",
   "id": "045cff95-e856-469a-b376-be80fced3a17",
   "metadata": {},
   "source": [
    "### 편의점 유통 맥주만 가져오기"
   ]
  },
  {
   "cell_type": "code",
   "execution_count": 5,
   "id": "0d419b7c-7dad-45d5-b6e1-01ead4c7ab12",
   "metadata": {},
   "outputs": [],
   "source": [
    "# 편의점 유통 맥주 리스트 csv\n",
    "kor_beer_list_csv = pd.read_csv(\"./data/ratebeer_list_inKorea.csv\",header=None, names = ['name', 'id', 'review_count'])\n",
    "\n",
    "# 결측치 처리\n",
    "kor_beer_list_csv['review_count'].fillna(0, inplace = True)\n",
    "# id 타입 변환(기존 데이터와 통일)\n",
    "kor_beer_list_csv['id'] = kor_beer_list_csv['id'].astype(str)"
   ]
  },
  {
   "cell_type": "code",
   "execution_count": 6,
   "id": "c9dcdc16-288b-44c3-a218-44321d9b2cd0",
   "metadata": {},
   "outputs": [
    {
     "data": {
      "text/plain": [
       "97"
      ]
     },
     "execution_count": 6,
     "metadata": {},
     "output_type": "execute_result"
    }
   ],
   "source": [
    "# 편의점 유통 맥주 list\n",
    "kor_beer_list = kor_beer_list_csv['id'].unique()\n",
    "len(kor_beer_list)"
   ]
  },
  {
   "cell_type": "code",
   "execution_count": 7,
   "id": "529ef9d9-1494-4765-99ab-02dc2dfaf2d5",
   "metadata": {},
   "outputs": [
    {
     "data": {
      "text/html": [
       "<div>\n",
       "<style scoped>\n",
       "    .dataframe tbody tr th:only-of-type {\n",
       "        vertical-align: middle;\n",
       "    }\n",
       "\n",
       "    .dataframe tbody tr th {\n",
       "        vertical-align: top;\n",
       "    }\n",
       "\n",
       "    .dataframe thead th {\n",
       "        text-align: right;\n",
       "    }\n",
       "</style>\n",
       "<table border=\"1\" class=\"dataframe\">\n",
       "  <thead>\n",
       "    <tr style=\"text-align: right;\">\n",
       "      <th></th>\n",
       "      <th>beer/name</th>\n",
       "      <th>beer/beerId</th>\n",
       "      <th>beer/brewerId</th>\n",
       "      <th>beer/ABV</th>\n",
       "      <th>beer/style</th>\n",
       "      <th>review/appearance</th>\n",
       "      <th>review/aroma</th>\n",
       "      <th>review/palate</th>\n",
       "      <th>review/taste</th>\n",
       "      <th>review/overall</th>\n",
       "      <th>review/time</th>\n",
       "      <th>review/profileName</th>\n",
       "      <th>review/text</th>\n",
       "    </tr>\n",
       "  </thead>\n",
       "  <tbody>\n",
       "    <tr>\n",
       "      <th>0</th>\n",
       "      <td>Eichbaum Apostel Bru</td>\n",
       "      <td>75661</td>\n",
       "      <td>1103.0</td>\n",
       "      <td>4.8</td>\n",
       "      <td>Classic German Pilsener</td>\n",
       "      <td>3/5</td>\n",
       "      <td>6/10</td>\n",
       "      <td>3/5</td>\n",
       "      <td>6/10</td>\n",
       "      <td>15/20</td>\n",
       "      <td>1.324685e+09</td>\n",
       "      <td>Leighton</td>\n",
       "      <td>Can in Gabrovo, Bulgaria, at 5%. Pours clear, ...</td>\n",
       "    </tr>\n",
       "    <tr>\n",
       "      <th>1</th>\n",
       "      <td>Eichbaum Apostel Bru</td>\n",
       "      <td>75661</td>\n",
       "      <td>1103.0</td>\n",
       "      <td>4.8</td>\n",
       "      <td>Classic German Pilsener</td>\n",
       "      <td>3/5</td>\n",
       "      <td>4/10</td>\n",
       "      <td>2/5</td>\n",
       "      <td>3/10</td>\n",
       "      <td>7/20</td>\n",
       "      <td>1.324080e+09</td>\n",
       "      <td>oh6gdx</td>\n",
       "      <td>Canned (thanks CueSheet). Yellowish golden col...</td>\n",
       "    </tr>\n",
       "    <tr>\n",
       "      <th>2</th>\n",
       "      <td>Eichbaum Apostel Bru</td>\n",
       "      <td>75661</td>\n",
       "      <td>1103.0</td>\n",
       "      <td>4.8</td>\n",
       "      <td>Classic German Pilsener</td>\n",
       "      <td>2/5</td>\n",
       "      <td>3/10</td>\n",
       "      <td>2/5</td>\n",
       "      <td>3/10</td>\n",
       "      <td>7/20</td>\n",
       "      <td>1.324080e+09</td>\n",
       "      <td>TBone</td>\n",
       "      <td>Can 330ml (ABV 5.0 %, BB 06/2012)\\tGolden colo...</td>\n",
       "    </tr>\n",
       "    <tr>\n",
       "      <th>3</th>\n",
       "      <td>Eichbaum Apostel Bru</td>\n",
       "      <td>75661</td>\n",
       "      <td>1103.0</td>\n",
       "      <td>4.8</td>\n",
       "      <td>Classic German Pilsener</td>\n",
       "      <td>3/5</td>\n",
       "      <td>5/10</td>\n",
       "      <td>3/5</td>\n",
       "      <td>5/10</td>\n",
       "      <td>10/20</td>\n",
       "      <td>1.322438e+09</td>\n",
       "      <td>blankboy</td>\n",
       "      <td>Can [330ml].Pours a clear bubbly light gold wi...</td>\n",
       "    </tr>\n",
       "    <tr>\n",
       "      <th>4</th>\n",
       "      <td>Eichbaum Apostel Bru</td>\n",
       "      <td>75661</td>\n",
       "      <td>1103.0</td>\n",
       "      <td>4.8</td>\n",
       "      <td>Classic German Pilsener</td>\n",
       "      <td>3/5</td>\n",
       "      <td>3/10</td>\n",
       "      <td>3/5</td>\n",
       "      <td>4/10</td>\n",
       "      <td>10/20</td>\n",
       "      <td>1.316736e+09</td>\n",
       "      <td>suurjuust</td>\n",
       "      <td>Clear pale yellow, white head. Aroma of cereal...</td>\n",
       "    </tr>\n",
       "    <tr>\n",
       "      <th>...</th>\n",
       "      <td>...</td>\n",
       "      <td>...</td>\n",
       "      <td>...</td>\n",
       "      <td>...</td>\n",
       "      <td>...</td>\n",
       "      <td>...</td>\n",
       "      <td>...</td>\n",
       "      <td>...</td>\n",
       "      <td>...</td>\n",
       "      <td>...</td>\n",
       "      <td>...</td>\n",
       "      <td>...</td>\n",
       "      <td>...</td>\n",
       "    </tr>\n",
       "    <tr>\n",
       "      <th>45066</th>\n",
       "      <td>Krombacher Weizen</td>\n",
       "      <td>71469</td>\n",
       "      <td>581.0</td>\n",
       "      <td>5.3</td>\n",
       "      <td>German Hefeweizen</td>\n",
       "      <td>4/5</td>\n",
       "      <td>6/10</td>\n",
       "      <td>3/5</td>\n",
       "      <td>6/10</td>\n",
       "      <td>11/20</td>\n",
       "      <td>1.274141e+09</td>\n",
       "      <td>YK23</td>\n",
       "      <td>Bottle: bubblegum, wheat, lots of banana, some...</td>\n",
       "    </tr>\n",
       "    <tr>\n",
       "      <th>45067</th>\n",
       "      <td>Krombacher Weizen</td>\n",
       "      <td>71469</td>\n",
       "      <td>581.0</td>\n",
       "      <td>5.3</td>\n",
       "      <td>German Hefeweizen</td>\n",
       "      <td>3/5</td>\n",
       "      <td>5/10</td>\n",
       "      <td>3/5</td>\n",
       "      <td>5/10</td>\n",
       "      <td>9/20</td>\n",
       "      <td>1.272067e+09</td>\n",
       "      <td>Zita</td>\n",
       "      <td>weat,bread,amber, hazy, white foam, light swee...</td>\n",
       "    </tr>\n",
       "    <tr>\n",
       "      <th>45068</th>\n",
       "      <td>Krombacher Weizen</td>\n",
       "      <td>71469</td>\n",
       "      <td>581.0</td>\n",
       "      <td>5.3</td>\n",
       "      <td>German Hefeweizen</td>\n",
       "      <td>4/5</td>\n",
       "      <td>6/10</td>\n",
       "      <td>4/5</td>\n",
       "      <td>7/10</td>\n",
       "      <td>14/20</td>\n",
       "      <td>1.270944e+09</td>\n",
       "      <td>johndoughty</td>\n",
       "      <td>Bottle. Lively  on opening with a large head. ...</td>\n",
       "    </tr>\n",
       "    <tr>\n",
       "      <th>45069</th>\n",
       "      <td>Krombacher Weizen</td>\n",
       "      <td>71469</td>\n",
       "      <td>581.0</td>\n",
       "      <td>5.3</td>\n",
       "      <td>German Hefeweizen</td>\n",
       "      <td>4/5</td>\n",
       "      <td>9/10</td>\n",
       "      <td>4/5</td>\n",
       "      <td>7/10</td>\n",
       "      <td>14/20</td>\n",
       "      <td>1.262995e+09</td>\n",
       "      <td>turbothy</td>\n",
       "      <td>Pours hazy light amber with medium head. Very ...</td>\n",
       "    </tr>\n",
       "    <tr>\n",
       "      <th>45070</th>\n",
       "      <td>Krombacher Weizen</td>\n",
       "      <td>71469</td>\n",
       "      <td>581.0</td>\n",
       "      <td>5.3</td>\n",
       "      <td>German Hefeweizen</td>\n",
       "      <td>4/5</td>\n",
       "      <td>6/10</td>\n",
       "      <td>4/5</td>\n",
       "      <td>7/10</td>\n",
       "      <td>14/20</td>\n",
       "      <td>1.255478e+09</td>\n",
       "      <td>Hermod</td>\n",
       "      <td>50cl bottle @ Kaisla, Helsinki. Hazy yellow co...</td>\n",
       "    </tr>\n",
       "  </tbody>\n",
       "</table>\n",
       "<p>45071 rows × 13 columns</p>\n",
       "</div>"
      ],
      "text/plain": [
       "                  beer/name beer/beerId  beer/brewerId beer/ABV  \\\n",
       "0      Eichbaum Apostel Bru       75661         1103.0      4.8   \n",
       "1      Eichbaum Apostel Bru       75661         1103.0      4.8   \n",
       "2      Eichbaum Apostel Bru       75661         1103.0      4.8   \n",
       "3      Eichbaum Apostel Bru       75661         1103.0      4.8   \n",
       "4      Eichbaum Apostel Bru       75661         1103.0      4.8   \n",
       "...                     ...         ...            ...      ...   \n",
       "45066     Krombacher Weizen       71469          581.0      5.3   \n",
       "45067     Krombacher Weizen       71469          581.0      5.3   \n",
       "45068     Krombacher Weizen       71469          581.0      5.3   \n",
       "45069     Krombacher Weizen       71469          581.0      5.3   \n",
       "45070     Krombacher Weizen       71469          581.0      5.3   \n",
       "\n",
       "                    beer/style review/appearance review/aroma review/palate  \\\n",
       "0      Classic German Pilsener               3/5         6/10           3/5   \n",
       "1      Classic German Pilsener               3/5         4/10           2/5   \n",
       "2      Classic German Pilsener               2/5         3/10           2/5   \n",
       "3      Classic German Pilsener               3/5         5/10           3/5   \n",
       "4      Classic German Pilsener               3/5         3/10           3/5   \n",
       "...                        ...               ...          ...           ...   \n",
       "45066        German Hefeweizen               4/5         6/10           3/5   \n",
       "45067        German Hefeweizen               3/5         5/10           3/5   \n",
       "45068        German Hefeweizen               4/5         6/10           4/5   \n",
       "45069        German Hefeweizen               4/5         9/10           4/5   \n",
       "45070        German Hefeweizen               4/5         6/10           4/5   \n",
       "\n",
       "      review/taste review/overall   review/time review/profileName  \\\n",
       "0             6/10          15/20  1.324685e+09           Leighton   \n",
       "1             3/10           7/20  1.324080e+09             oh6gdx   \n",
       "2             3/10           7/20  1.324080e+09              TBone   \n",
       "3             5/10          10/20  1.322438e+09           blankboy   \n",
       "4             4/10          10/20  1.316736e+09          suurjuust   \n",
       "...            ...            ...           ...                ...   \n",
       "45066         6/10          11/20  1.274141e+09               YK23   \n",
       "45067         5/10           9/20  1.272067e+09               Zita   \n",
       "45068         7/10          14/20  1.270944e+09        johndoughty   \n",
       "45069         7/10          14/20  1.262995e+09           turbothy   \n",
       "45070         7/10          14/20  1.255478e+09             Hermod   \n",
       "\n",
       "                                             review/text  \n",
       "0      Can in Gabrovo, Bulgaria, at 5%. Pours clear, ...  \n",
       "1      Canned (thanks CueSheet). Yellowish golden col...  \n",
       "2      Can 330ml (ABV 5.0 %, BB 06/2012)\\tGolden colo...  \n",
       "3      Can [330ml].Pours a clear bubbly light gold wi...  \n",
       "4      Clear pale yellow, white head. Aroma of cereal...  \n",
       "...                                                  ...  \n",
       "45066  Bottle: bubblegum, wheat, lots of banana, some...  \n",
       "45067  weat,bread,amber, hazy, white foam, light swee...  \n",
       "45068  Bottle. Lively  on opening with a large head. ...  \n",
       "45069  Pours hazy light amber with medium head. Very ...  \n",
       "45070  50cl bottle @ Kaisla, Helsinki. Hazy yellow co...  \n",
       "\n",
       "[45071 rows x 13 columns]"
      ]
     },
     "execution_count": 7,
     "metadata": {},
     "output_type": "execute_result"
    }
   ],
   "source": [
    "# 전체 데이터에서 한국 편의점 맥주만 추출\n",
    "ratebeer_kor = ratebeer[ratebeer['beer/beerId'].isin(kor_beer_list)].reset_index(drop = True)\n",
    "ratebeer_kor"
   ]
  },
  {
   "cell_type": "code",
   "execution_count": 8,
   "id": "36548c9a-27a4-4ecf-a03c-c1fff3fc9794",
   "metadata": {},
   "outputs": [
    {
     "data": {
      "text/plain": [
       "49"
      ]
     },
     "execution_count": 8,
     "metadata": {},
     "output_type": "execute_result"
    }
   ],
   "source": [
    "# 전체 데이터에서 한국 편의점 맥주 개수\n",
    "len(ratebeer_kor['beer/name'].unique())"
   ]
  },
  {
   "cell_type": "markdown",
   "id": "1ed65f32-cb28-44d0-9710-e0b9c7ce704e",
   "metadata": {},
   "source": [
    "### preprocessing"
   ]
  },
  {
   "cell_type": "code",
   "execution_count": 9,
   "id": "f3e0526b-0124-4902-bab4-c8de03d5bc6c",
   "metadata": {},
   "outputs": [],
   "source": [
    "def preprocessing_df(df):\n",
    "    # rating 전처리\n",
    "    df['rating/apperance'] = df['review/appearance'].str.split(\"/\").str[0].astype(int)\n",
    "    df['rating/aroma'] = df['review/aroma'].str.split(\"/\").str[0].astype(int)\n",
    "    df['rating/palate'] = df['review/palate'].str.split(\"/\").str[0].astype(int)\n",
    "    df['rating/taste'] = df['review/taste'].str.split(\"/\").str[0].astype(int)\n",
    "    df['rating/overall'] = df['review/overall'].str.split(\"/\").str[0].astype(int)\n",
    "    \n",
    "    # overall rating 최대치 5로 변환\n",
    "    df['rating/overall'] = df['rating/overall'] / 20 * 5\n",
    "    \n",
    "    # item, user, rating만 추출\n",
    "    df = df[['beer/beerId', 'review/profileName', 'rating/overall']]\n",
    "    df.rename(columns={'beer/beerId' : 'item_id', 'review/profileName' : 'user', 'rating/overall' : 'rating'}, inplace = True) \n",
    "    \n",
    "    # 유저 리뷰 수 개산\n",
    "    df['user/reviewcount'] = df.groupby('user')['user'].transform('count')\n",
    "    # 리뷰 수가 10개 이상인 유저만 남김 \n",
    "    df = df[(df['user/reviewcount'] > 10)]\n",
    "    \n",
    "    df.drop(columns=['user/reviewcount'], inplace=True)\n",
    "    \n",
    "    num_users = df.user.unique().shape[0]\n",
    "    num_items = df.item_id.unique().shape[0]\n",
    "    return df, num_users, num_items"
   ]
  },
  {
   "cell_type": "markdown",
   "id": "479b2adc-0830-4c71-b53f-5ddba3cd7236",
   "metadata": {},
   "source": [
    "### Statistics of the Dataset"
   ]
  },
  {
   "cell_type": "code",
   "execution_count": 10,
   "id": "a0bab6d9-401f-43a9-ba4e-8b337841a466",
   "metadata": {},
   "outputs": [
    {
     "name": "stdout",
     "output_type": "stream",
     "text": [
      "number of users: 1360, number of items: 49\n",
      "matrix sparsity: 0.645573\n",
      "  item_id            user  rating\n",
      "0   75661        Leighton    3.75\n",
      "1   75661          oh6gdx    1.75\n",
      "2   75661           TBone    1.75\n",
      "3   75661        blankboy    2.50\n",
      "7   75661  Koelschtrinker    1.75\n"
     ]
    }
   ],
   "source": [
    "data, num_users, num_items = preprocessing_df(ratebeer_kor)\n",
    "sparsity = 1 - len(data) / (num_users * num_items)\n",
    "print(f'number of users: {num_users}, number of items: {num_items}')\n",
    "print(f'matrix sparsity: {sparsity:f}')\n",
    "print(data.head())"
   ]
  },
  {
   "cell_type": "code",
   "execution_count": 11,
   "id": "aa65b73b-fae4-49ab-b59a-3ee5652ef44d",
   "metadata": {},
   "outputs": [
    {
     "data": {
      "image/png": "[encoded data removed]",
      "text/plain": [
       "<Figure size 432x288 with 1 Axes>"
      ]
     },
     "metadata": {
      "needs_background": "light"
     },
     "output_type": "display_data"
    }
   ],
   "source": [
    "plt.hist(data['rating'], bins=5, ec='black')\n",
    "plt.xlabel('Rating')\n",
    "plt.ylabel('Count')\n",
    "plt.title('Distribution of Ratings in Ratebeer Korean Beer')\n",
    "plt.show()"
   ]
  },
  {
   "cell_type": "markdown",
   "id": "ac9a07d0-ab1a-4c6f-b321-fc0902cf00c0",
   "metadata": {},
   "source": [
    "### Label Encoding"
   ]
  },
  {
   "cell_type": "code",
   "execution_count": 12,
   "id": "f1506d94-641d-4cb5-afc0-27f58863a737",
   "metadata": {},
   "outputs": [],
   "source": [
    "user_le = LabelEncoder()\n",
    "item_le = LabelEncoder()\n",
    "data['user_id_idx'] = user_le.fit_transform(data['user'].values)\n",
    "data['item_id_idx'] = item_le.fit_transform(data['item_id'].values)\n",
    "\n",
    "data.drop(columns=['user', 'item_id'], inplace=True)"
   ]
  },
  {
   "cell_type": "markdown",
   "id": "07172e2f-530d-488c-a4d7-4f38efb9b5b7",
   "metadata": {},
   "source": [
    "### Loading the data"
   ]
  },
  {
   "cell_type": "code",
   "execution_count": 13,
   "id": "9328902d-9c4e-4d35-b7fe-e048040ba2ae",
   "metadata": {},
   "outputs": [],
   "source": [
    "class BeerDataset(Dataset):\n",
    "    def __init__(self, df, mode='train'):\n",
    "        self.df = df\n",
    "        self.mode = mode\n",
    "        self.train_size = 0.8\n",
    "        self.val_size = 0.1\n",
    "        self.test_size = 1 - self.train_size - self.val_size \n",
    "\n",
    "        self.num_items = len(self.df['item_id_idx'].unique())\n",
    "        self.num_users = len(self.df['user_id_idx'].unique())\n",
    "        \n",
    "        n_val = int(self.num_users * self.val_size)\n",
    "        n_test = int(self.num_users * self.test_size)\n",
    "        \n",
    "        random.seed(42)\n",
    "        \n",
    "        val_indices = set(random.choices(range(self.num_users), k=n_val))\n",
    "        test_indices = set(random.choices(list(set(range(self.num_users)) - val_indices), k=n_test))\n",
    "        train_indices = set(range(self.num_users)) - val_indices - test_indices\n",
    "    \n",
    "        # self.train_df, self.test_df = train_test_split(self.df, test_size=self.test_size, train_size=self.train_size, stratify = self.df['user_id_idx'].values, random_state=42)\n",
    "                        \n",
    "        if self.mode == 'train':\n",
    "            self.df = self.df[self.df['user_id_idx'].isin(train_indices)]\n",
    "        elif self.mode == 'val':\n",
    "            self.df = self.df[self.df['user_id_idx'].isin(val_indices)]\n",
    "        else:\n",
    "            self.df = self.df[self.df['user_id_idx'].isin(test_indices)]\n",
    "\n",
    "        self.users = torch.tensor(self.df['user_id_idx'].values)\n",
    "        self.items = torch.tensor(self.df['item_id_idx'].values)\n",
    "        self.ratings = torch.tensor(self.df['rating'].values)\n",
    "        \n",
    "        self.inter_mat = self.make_inter_mat()\n",
    "    \n",
    "    def make_inter_mat(self):\n",
    "        inter_mat = np.zeros((self.num_users, self.num_items))\n",
    "        for user, item, rating in zip(self.users, self.items, self.ratings):\n",
    "            inter_mat[user][item] = rating\n",
    "\n",
    "        return inter_mat\n",
    "\n",
    "    def __len__(self):\n",
    "        return len(self.inter_mat)\n",
    "\n",
    "    def __getitem__(self, index):\n",
    "        inter_mat = torch.tensor(self.inter_mat[index]).float()\n",
    "\n",
    "        return index, inter_mat"
   ]
  },
  {
   "cell_type": "markdown",
   "id": "a00cddbb-7c6a-4871-b796-92602f7f1ae4",
   "metadata": {},
   "source": [
    "### Autorec Model"
   ]
  },
  {
   "cell_type": "code",
   "execution_count": 14,
   "id": "824e9e06-921d-446f-a93a-767c7837c853",
   "metadata": {},
   "outputs": [],
   "source": [
    "class AutoRec(nn.Module):\n",
    "    def __init__(self, num_hidden, num_items, dropout=0.05):\n",
    "        super(AutoRec, self).__init__()\n",
    "        self.encoder = nn.Linear(num_items, num_hidden)\n",
    "        self.sigmoid = nn.Sigmoid()\n",
    "        self.decoder = nn.Linear(num_hidden, num_items)\n",
    "        self.dropout = nn.Dropout(dropout)\n",
    "\n",
    "    def forward(self, mat):\n",
    "        hidden = self.dropout(self.sigmoid(self.encoder(mat)))\n",
    "        pred = self.decoder(hidden)\n",
    "        \n",
    "        return pred"
   ]
  },
  {
   "cell_type": "markdown",
   "id": "1c64864d-aab9-429b-b4b6-d5a319c7bafe",
   "metadata": {},
   "source": [
    "###  Model train, validcation"
   ]
  },
  {
   "cell_type": "code",
   "execution_count": 15,
   "id": "2d670b0f-9ed0-4a9b-953b-832f67dcd695",
   "metadata": {},
   "outputs": [],
   "source": [
    "def train(model, train_iter, criterion, optm, device):\n",
    "    model.train() # to train mode\n",
    "    loss_sum = 0\n",
    "\n",
    "    for _, inter_mat in train_iter:\n",
    "        inter_mat = inter_mat.to(device)    \n",
    "\n",
    "        preds = model(inter_mat)\n",
    "        loss = criterion(preds, inter_mat)\n",
    "\n",
    "        # Update\n",
    "        optm.zero_grad()      # reset gradient \n",
    "        loss.backward()      # backpropagate\n",
    "        optm.step()      # optimizer update\n",
    "        \n",
    "        loss_sum += loss.item()\n",
    "        \n",
    "    loss_avg = loss_sum / len(train_iter)\n",
    "\n",
    "    return loss_avg"
   ]
  },
  {
   "cell_type": "code",
   "execution_count": 16,
   "id": "62571012-7682-460e-b4b6-174a11ea6a5b",
   "metadata": {},
   "outputs": [],
   "source": [
    "def validation(model, valid_iter, criterion, device):\n",
    "    with torch.no_grad():\n",
    "        model.eval()\n",
    "        loss_sum = 0\n",
    "\n",
    "        for _, inter_mat in valid_iter:\n",
    "            inter_mat = inter_mat.to(device) \n",
    "\n",
    "            preds = model(inter_mat)\n",
    "            loss = criterion(preds, inter_mat)            \n",
    "\n",
    "            loss_sum += loss.item()\n",
    "\n",
    "    loss_avg = loss_sum / len(valid_iter)\n",
    "\n",
    "    return loss_avg"
   ]
  },
  {
   "cell_type": "code",
   "execution_count": 17,
   "id": "00a37b7a-7095-458c-8fc6-c7c0fe516018",
   "metadata": {},
   "outputs": [],
   "source": [
    "device = torch.device('cuda:0' if torch.cuda.is_available() else 'cpu')\n",
    "\n",
    "num_epochs = 25\n",
    "lr = 0.001\n",
    "batch_size = 64\n",
    "\n",
    "num_items = data.item_id_idx.nunique()\n",
    "num_hidden = 100"
   ]
  },
  {
   "cell_type": "code",
   "execution_count": 18,
   "id": "d25de793-cb99-4cc4-9c40-0c7458946dd3",
   "metadata": {},
   "outputs": [],
   "source": [
    "train_dataset = BeerDataset(df=data, mode='train')\n",
    "val_dataset = BeerDataset(df=data, mode='val')\n",
    "\n",
    "train_dataloader = DataLoader(dataset=train_dataset, batch_size=batch_size, shuffle=True) \n",
    "val_dataloader = DataLoader(dataset=val_dataset, batch_size=batch_size, shuffle=False)"
   ]
  },
  {
   "cell_type": "code",
   "execution_count": 19,
   "id": "bb92211c-ca43-431c-87f0-b86093d2a600",
   "metadata": {},
   "outputs": [],
   "source": [
    "model = AutoRec(num_hidden, num_items).to(device)\n",
    "loss = nn.MSELoss()\n",
    "optm = optim.Adam(model.parameters(),lr=lr)"
   ]
  },
  {
   "cell_type": "code",
   "execution_count": 20,
   "id": "888f186e-1bb8-40d8-9815-4348378acba1",
   "metadata": {},
   "outputs": [
    {
     "name": "stdout",
     "output_type": "stream",
     "text": [
      "epoch: 0, train Loss: 1.6231, test Loss: 0.5483\n",
      "epoch: 1, train Loss: 1.0385, test Loss: 0.7006\n",
      "epoch: 2, train Loss: 0.9380, test Loss: 0.5525\n",
      "epoch: 3, train Loss: 0.9033, test Loss: 0.4613\n",
      "epoch: 4, train Loss: 0.8670, test Loss: 0.4006\n",
      "epoch: 5, train Loss: 0.8178, test Loss: 0.3546\n",
      "epoch: 6, train Loss: 0.7863, test Loss: 0.3103\n",
      "epoch: 7, train Loss: 0.7562, test Loss: 0.2733\n",
      "epoch: 8, train Loss: 0.7197, test Loss: 0.2419\n",
      "epoch: 9, train Loss: 0.6878, test Loss: 0.2183\n",
      "epoch: 10, train Loss: 0.6548, test Loss: 0.1878\n",
      "epoch: 11, train Loss: 0.6274, test Loss: 0.1671\n",
      "epoch: 12, train Loss: 0.5971, test Loss: 0.1500\n",
      "epoch: 13, train Loss: 0.5724, test Loss: 0.1335\n",
      "epoch: 14, train Loss: 0.5483, test Loss: 0.1214\n",
      "epoch: 15, train Loss: 0.5247, test Loss: 0.1081\n",
      "epoch: 16, train Loss: 0.5062, test Loss: 0.0993\n",
      "epoch: 17, train Loss: 0.4798, test Loss: 0.0913\n",
      "epoch: 18, train Loss: 0.4623, test Loss: 0.0842\n",
      "epoch: 19, train Loss: 0.4430, test Loss: 0.0772\n",
      "epoch: 20, train Loss: 0.4196, test Loss: 0.0706\n",
      "epoch: 21, train Loss: 0.4028, test Loss: 0.0665\n",
      "epoch: 22, train Loss: 0.3843, test Loss: 0.0616\n",
      "epoch: 23, train Loss: 0.3694, test Loss: 0.0581\n",
      "epoch: 24, train Loss: 0.3543, test Loss: 0.0542\n"
     ]
    },
    {
     "data": {
      "image/png": "[encoded data removed]",
      "text/plain": [
       "<Figure size 720x360 with 1 Axes>"
      ]
     },
     "metadata": {
      "needs_background": "light"
     },
     "output_type": "display_data"
    }
   ],
   "source": [
    "train_losses = []\n",
    "val_losses = []\n",
    "\n",
    "for epoch in range(num_epochs):\n",
    "\n",
    "    train_loss = train(model, train_dataloader, loss, optm, device)\n",
    "    val_loss = validation(model, val_dataloader, loss, device)\n",
    "\n",
    "    train_losses.append(train_loss)\n",
    "    val_losses.append(val_loss)\n",
    "    \n",
    "    print(f'epoch: {epoch}, train Loss: {train_loss:.4f}, test Loss: {val_loss:.4f}')\n",
    "\n",
    "plt.figure(figsize=(10,5))\n",
    "plt.plot(train_losses,label=\"train_loss\")\n",
    "plt.plot(val_losses,label=\"val_loss\")\n",
    "plt.xlabel(\"epoch\")\n",
    "plt.ylabel(\"Loss\")\n",
    "plt.legend()\n",
    "plt.show()"
   ]
  },
  {
   "cell_type": "code",
   "execution_count": 21,
   "id": "4e258010-0f76-44eb-a49d-9b116fcc622f",
   "metadata": {},
   "outputs": [],
   "source": [
    "PATH = './model/autorec.pt'\n",
    "torch.save(model.state_dict(), PATH)"
   ]
  },
  {
   "cell_type": "markdown",
   "id": "bdb75490-0841-4e51-b7ee-ca53fbc949a5",
   "metadata": {},
   "source": [
    "### inference"
   ]
  },
  {
   "cell_type": "code",
   "execution_count": 22,
   "id": "1c7802a9-a41b-41a9-a485-ca7c0cc4683a",
   "metadata": {},
   "outputs": [
    {
     "data": {
      "text/plain": [
       "<All keys matched successfully>"
      ]
     },
     "execution_count": 22,
     "metadata": {},
     "output_type": "execute_result"
    }
   ],
   "source": [
    "model = AutoRec(num_hidden, num_items).to(device)\n",
    "model.load_state_dict(torch.load(PATH))"
   ]
  },
  {
   "cell_type": "code",
   "execution_count": 23,
   "id": "0ebe94ba-f586-4bb0-a26e-91e7fe13327a",
   "metadata": {},
   "outputs": [],
   "source": [
    "def ndcg_k(actual, predicted, topk):\n",
    "    res = 0\n",
    "    for user_id in range(len(actual)):\n",
    "        k = min(topk, len(actual[user_id]))\n",
    "        idcg = idcg_k(k)\n",
    "        dcg_k = sum(\n",
    "            [\n",
    "                int(predicted[user_id][j] in set(actual[user_id])) / math.log(j + 2, 2)\n",
    "                for j in range(topk)\n",
    "            ]\n",
    "        )\n",
    "        res += dcg_k / idcg\n",
    "    return res / float(len(actual))\n",
    "\n",
    "# Calculates the ideal discounted cumulative gain at k\n",
    "def idcg_k(k):\n",
    "    res = sum([1.0 / math.log(i + 2, 2) for i in range(k)])\n",
    "    if not res:\n",
    "        return 1.0\n",
    "    else:\n",
    "        return res\n",
    "\n",
    "def recall_at_k(actual, predicted, topk):\n",
    "    sum_recall = 0.0\n",
    "    num_users = len(predicted)\n",
    "    true_users = 0\n",
    "    for i in range(num_users):\n",
    "        act_set = set(actual[i])\n",
    "        pred_set = set(predicted[i][:topk])\n",
    "        if len(act_set) != 0:\n",
    "            sum_recall += len(act_set & pred_set) / float(len(act_set))\n",
    "            true_users += 1\n",
    "    return sum_recall / true_users"
   ]
  },
  {
   "cell_type": "code",
   "execution_count": 24,
   "id": "b824c518-3699-46d0-b141-298428939d38",
   "metadata": {},
   "outputs": [],
   "source": [
    "def inference(model, test_iter, test_matrix, device, topk = 4):\n",
    "    pred_list = None\n",
    "    answer_list = None\n",
    "    with torch.no_grad():\n",
    "        model.eval()\n",
    "\n",
    "        for i, (user_ids, inter_mat) in enumerate(test_iter):\n",
    "            inter_mat = inter_mat.to(device)\n",
    "            \n",
    "            rating_pred = model(inter_mat)\n",
    "            \n",
    "            rating_pred = rating_pred.cpu().data.numpy().copy()\n",
    "            \n",
    "            batch_user_index = user_ids.cpu().numpy()\n",
    "            answers = test_matrix.argsort(axis = 1)[batch_user_index, -topk:][:, ::-1]\n",
    "            # rating_pred[test_matrix[batch_user_index] > 0] = 0\n",
    "            \n",
    "            ind = np.argpartition(rating_pred, -topk)[:, -topk:]\n",
    "            \n",
    "            arr_ind = rating_pred[np.arange(len(rating_pred))[:, None], ind]\n",
    "\n",
    "            arr_ind_argsort = np.argsort(arr_ind)[np.arange(len(rating_pred)), ::-1]\n",
    "\n",
    "            batch_pred_list = ind[\n",
    "                np.arange(len(rating_pred))[:, None], arr_ind_argsort\n",
    "            ]\n",
    "\n",
    "            if i == 0:\n",
    "                pred_list = batch_pred_list\n",
    "                answer_list = answers\n",
    "            else:\n",
    "                pred_list = np.append(pred_list, batch_pred_list, axis=0)\n",
    "                answer_list = np.append(\n",
    "                        answer_list, answers, axis=0\n",
    "                )\n",
    "            \n",
    "        recall = recall_at_k(answer_list, pred_list, topk)\n",
    "        ndcg = ndcg_k(answer_list, pred_list, topk)\n",
    "        \n",
    "        print(f'recall@{topk} = {recall}, ndcg@{topk} = {ndcg}')\n",
    "    return pred_list, answer_list"
   ]
  },
  {
   "cell_type": "code",
   "execution_count": 25,
   "id": "95a484f1-91ef-497b-87f8-eeac00dac966",
   "metadata": {},
   "outputs": [],
   "source": [
    "device = torch.device('cuda:0' if torch.cuda.is_available() else 'cpu')\n",
    "\n",
    "num_epochs = 25\n",
    "lr = 0.001\n",
    "batch_size = 1\n",
    "\n",
    "num_items = data.item_id_idx.nunique()\n",
    "num_hidden = 100"
   ]
  },
  {
   "cell_type": "code",
   "execution_count": 26,
   "id": "5590df15-498d-453e-b8a0-2a1d321ad8ba",
   "metadata": {},
   "outputs": [],
   "source": [
    "test_dataset = BeerDataset(df=data, mode='test')\n",
    "\n",
    "test_dataloader = DataLoader(dataset=test_dataset, batch_size=batch_size, shuffle=False)\n",
    "\n",
    "test_matrix = test_dataset.inter_mat"
   ]
  },
  {
   "cell_type": "code",
   "execution_count": 27,
   "id": "f079b6e7-fccb-494a-ac5d-bcecab8fcda7",
   "metadata": {},
   "outputs": [
    {
     "name": "stdout",
     "output_type": "stream",
     "text": [
      "recall@4 = 0.2891544117647059, ndcg@4 = 0.42011576776347553\n"
     ]
    }
   ],
   "source": [
    "pred_list, answer_list = inference(model, test_dataloader, test_matrix, device, topk=4)"
   ]
  },
  {
   "cell_type": "code",
   "execution_count": 28,
   "id": "aec90108-a730-4d45-a5b9-3dc7489b1c05",
   "metadata": {},
   "outputs": [
    {
     "data": {
      "text/plain": [
       "array([ 368, 1359, 1352,  661, 1135,  111, 1133,  253,  843,  626,   99,\n",
       "       1185,  832, 1198,  338,  613,  216, 1023,  414,   72,  916,  580,\n",
       "       1269,  894,   81,  167,  169,  288, 1358, 1258,  553,  913,  437,\n",
       "        575,  995,   96,  468, 1302,  432,  183,  551,  343,  136,  324,\n",
       "        508, 1196,  637,   11,  802,  277,  709,  259,  738,   82, 1306,\n",
       "        749,  703,  579, 1341,  318,  581,  796,  644,  139,  976,  308,\n",
       "       1338,  918, 1019,  960,  315,  327,  778,  367, 1337, 1153,  178,\n",
       "        621,  212,  978, 1041, 1158, 1270,  467, 1110,   98,  273, 1169,\n",
       "        888,  291,  545,  100,  735, 1066,  809, 1316, 1254,  227,  794,\n",
       "        683,  647,  101,  522, 1353, 1231,  858, 1166, 1096, 1034, 1210,\n",
       "        600,  810,  301,  994,  410,  386,  290,  590,  606,  758, 1268,\n",
       "        921,  789,  341,  328])"
      ]
     },
     "execution_count": 28,
     "metadata": {},
     "output_type": "execute_result"
    }
   ],
   "source": [
    "test_dataset.df.user_id_idx.unique()"
   ]
  },
  {
   "cell_type": "code",
   "execution_count": 29,
   "id": "06ac0bf9-9d7b-49c4-8f5f-402ba8e3d2fb",
   "metadata": {},
   "outputs": [
    {
     "data": {
      "text/plain": [
       "array([33,  1,  2, 23])"
      ]
     },
     "execution_count": 29,
     "metadata": {},
     "output_type": "execute_result"
    }
   ],
   "source": [
    "pred_list[368]"
   ]
  },
  {
   "cell_type": "code",
   "execution_count": 30,
   "id": "5b82772b-a1b2-4a6f-af10-4409f63945a8",
   "metadata": {},
   "outputs": [
    {
     "data": {
      "text/plain": [
       "array([ 2, 22,  1, 48])"
      ]
     },
     "execution_count": 30,
     "metadata": {},
     "output_type": "execute_result"
    }
   ],
   "source": [
    "answer_list[368]"
   ]
  },
  {
   "cell_type": "code",
   "execution_count": 31,
   "id": "142ee032-cefb-4444-81a1-221ab37608f2",
   "metadata": {},
   "outputs": [
    {
     "data": {
      "text/plain": [
       "array([0.  , 4.25, 4.75, 0.  , 0.  , 0.  , 0.  , 0.  , 0.  , 0.  , 0.  ,\n",
       "       0.  , 2.  , 3.75, 3.5 , 0.  , 0.  , 0.  , 0.  , 0.  , 0.  , 0.  ,\n",
       "       4.5 , 3.75, 0.  , 0.  , 0.  , 0.  , 0.  , 0.  , 0.  , 0.  , 0.  ,\n",
       "       4.  , 0.  , 3.75, 0.  , 0.  , 0.  , 3.75, 0.  , 0.  , 0.  , 0.  ,\n",
       "       2.5 , 0.  , 3.75, 0.  , 4.  ])"
      ]
     },
     "execution_count": 31,
     "metadata": {},
     "output_type": "execute_result"
    }
   ],
   "source": [
    "test_matrix[368]"
   ]
  },
  {
   "cell_type": "code",
   "execution_count": null,
   "id": "69d3bed9-a5ac-4bb8-8651-02ab4c5b2f17",
   "metadata": {},
   "outputs": [],
   "source": []
  }
 ],
 "metadata": {
  "kernelspec": {
   "display_name": "beer",
   "language": "python",
   "name": "beer"
  },
  "language_info": {
   "codemirror_mode": {
    "name": "ipython",
    "version": 3
   },
   "file_extension": ".py",
   "mimetype": "text/x-python",
   "name": "python",
   "nbconvert_exporter": "python",
   "pygments_lexer": "ipython3",
   "version": "3.8.13"
  }
 },
 "nbformat": 4,
 "nbformat_minor": 5
}
