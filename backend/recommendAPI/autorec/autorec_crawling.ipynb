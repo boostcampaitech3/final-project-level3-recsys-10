{
 "cells": [
  {
   "cell_type": "code",
   "execution_count": 1,
   "id": "29bcbd9c-2b94-4940-ac5e-cc1bf18cb2cd",
   "metadata": {},
   "outputs": [],
   "source": [
    "import torch\n",
    "import torch.nn as nn\n",
    "import torch.optim as optim\n",
    "from torch.utils.data import DataLoader, Dataset\n",
    "\n",
    "import pandas as pd\n",
    "import numpy as np\n",
    "import matplotlib.pyplot as plt\n",
    "import random\n",
    "import math\n",
    "\n",
    "from sklearn.model_selection import train_test_split\n",
    "from sklearn.preprocessing import LabelEncoder\n",
    "\n",
    "import warnings\n",
    "warnings.filterwarnings(action='ignore')"
   ]
  },
  {
   "cell_type": "markdown",
   "id": "5510b252-7581-4003-9389-f51ab4fb842b",
   "metadata": {},
   "source": [
    "## dataset"
   ]
  },
  {
   "cell_type": "code",
   "execution_count": 2,
   "id": "ef3c6dfc-7ca7-4943-89b6-dec7ff2ac8ce",
   "metadata": {},
   "outputs": [],
   "source": [
    "ratebeer = pd.read_json(\"../data/ratebeer_korea.json\")"
   ]
  },
  {
   "cell_type": "code",
   "execution_count": 3,
   "id": "5cbfa3e8-550d-4a48-a5ee-ea1f3251f81b",
   "metadata": {},
   "outputs": [
    {
     "data": {
      "text/html": [
       "<div>\n",
       "<style scoped>\n",
       "    .dataframe tbody tr th:only-of-type {\n",
       "        vertical-align: middle;\n",
       "    }\n",
       "\n",
       "    .dataframe tbody tr th {\n",
       "        vertical-align: top;\n",
       "    }\n",
       "\n",
       "    .dataframe thead th {\n",
       "        text-align: right;\n",
       "    }\n",
       "</style>\n",
       "<table border=\"1\" class=\"dataframe\">\n",
       "  <thead>\n",
       "    <tr style=\"text-align: right;\">\n",
       "      <th></th>\n",
       "      <th>reviewScore</th>\n",
       "      <th>reviewTime</th>\n",
       "      <th>reviewText</th>\n",
       "      <th>appearance</th>\n",
       "      <th>aroma</th>\n",
       "      <th>palate</th>\n",
       "      <th>taste</th>\n",
       "      <th>overall</th>\n",
       "      <th>profileName</th>\n",
       "      <th>beerName</th>\n",
       "      <th>beerID</th>\n",
       "      <th>brewerID</th>\n",
       "      <th>ABV</th>\n",
       "      <th>style</th>\n",
       "      <th>imageUrl</th>\n",
       "    </tr>\n",
       "  </thead>\n",
       "  <tbody>\n",
       "    <tr>\n",
       "      <th>94316</th>\n",
       "      <td>3.0</td>\n",
       "      <td>2000-06-14 04:58:02.000</td>\n",
       "      <td>pale clear golden colour with a fine head, low...</td>\n",
       "      <td>4.0</td>\n",
       "      <td>5.0</td>\n",
       "      <td>3.0</td>\n",
       "      <td>6.0</td>\n",
       "      <td>12.0</td>\n",
       "      <td>Bov</td>\n",
       "      <td>Beck's</td>\n",
       "      <td>703</td>\n",
       "      <td>112</td>\n",
       "      <td>4.8</td>\n",
       "      <td>Pale Lager - International / Premium</td>\n",
       "      <td>https://res.cloudinary.com/ratebeer/image/uplo...</td>\n",
       "    </tr>\n",
       "    <tr>\n",
       "      <th>94317</th>\n",
       "      <td>4.2</td>\n",
       "      <td>2000-06-10 16:51:58.000</td>\n",
       "      <td>love that skunky smell !  Actually, my fav eve...</td>\n",
       "      <td>4.0</td>\n",
       "      <td>9.0</td>\n",
       "      <td>4.0</td>\n",
       "      <td>8.0</td>\n",
       "      <td>17.0</td>\n",
       "      <td>sallyclub99</td>\n",
       "      <td>Beck's</td>\n",
       "      <td>703</td>\n",
       "      <td>112</td>\n",
       "      <td>4.8</td>\n",
       "      <td>Pale Lager - International / Premium</td>\n",
       "      <td>https://res.cloudinary.com/ratebeer/image/uplo...</td>\n",
       "    </tr>\n",
       "    <tr>\n",
       "      <th>94318</th>\n",
       "      <td>2.7</td>\n",
       "      <td>2000-06-05 08:46:21.000</td>\n",
       "      <td>Much better than American pilsners which isn't...</td>\n",
       "      <td>2.0</td>\n",
       "      <td>5.0</td>\n",
       "      <td>2.0</td>\n",
       "      <td>6.0</td>\n",
       "      <td>12.0</td>\n",
       "      <td>kublai3</td>\n",
       "      <td>Beck's</td>\n",
       "      <td>703</td>\n",
       "      <td>112</td>\n",
       "      <td>4.8</td>\n",
       "      <td>Pale Lager - International / Premium</td>\n",
       "      <td>https://res.cloudinary.com/ratebeer/image/uplo...</td>\n",
       "    </tr>\n",
       "    <tr>\n",
       "      <th>94319</th>\n",
       "      <td>3.3</td>\n",
       "      <td>2000-06-03 23:59:02.000</td>\n",
       "      <td>A decent, light-German beer. Not bad, but then...</td>\n",
       "      <td>3.0</td>\n",
       "      <td>6.0</td>\n",
       "      <td>3.0</td>\n",
       "      <td>6.0</td>\n",
       "      <td>15.0</td>\n",
       "      <td>Aubrey</td>\n",
       "      <td>Beck's</td>\n",
       "      <td>703</td>\n",
       "      <td>112</td>\n",
       "      <td>4.8</td>\n",
       "      <td>Pale Lager - International / Premium</td>\n",
       "      <td>https://res.cloudinary.com/ratebeer/image/uplo...</td>\n",
       "    </tr>\n",
       "    <tr>\n",
       "      <th>94320</th>\n",
       "      <td>3.3</td>\n",
       "      <td>2000-05-07 01:07:31.000</td>\n",
       "      <td>Beck's is a decent german beer.  It's a little...</td>\n",
       "      <td>3.0</td>\n",
       "      <td>6.0</td>\n",
       "      <td>4.0</td>\n",
       "      <td>7.0</td>\n",
       "      <td>13.0</td>\n",
       "      <td>roland</td>\n",
       "      <td>Beck's</td>\n",
       "      <td>703</td>\n",
       "      <td>112</td>\n",
       "      <td>4.8</td>\n",
       "      <td>Pale Lager - International / Premium</td>\n",
       "      <td>https://res.cloudinary.com/ratebeer/image/uplo...</td>\n",
       "    </tr>\n",
       "  </tbody>\n",
       "</table>\n",
       "</div>"
      ],
      "text/plain": [
       "       reviewScore               reviewTime  \\\n",
       "94316          3.0  2000-06-14 04:58:02.000   \n",
       "94317          4.2  2000-06-10 16:51:58.000   \n",
       "94318          2.7  2000-06-05 08:46:21.000   \n",
       "94319          3.3  2000-06-03 23:59:02.000   \n",
       "94320          3.3  2000-05-07 01:07:31.000   \n",
       "\n",
       "                                              reviewText  appearance  aroma  \\\n",
       "94316  pale clear golden colour with a fine head, low...         4.0    5.0   \n",
       "94317  love that skunky smell !  Actually, my fav eve...         4.0    9.0   \n",
       "94318  Much better than American pilsners which isn't...         2.0    5.0   \n",
       "94319  A decent, light-German beer. Not bad, but then...         3.0    6.0   \n",
       "94320  Beck's is a decent german beer.  It's a little...         3.0    6.0   \n",
       "\n",
       "       palate  taste  overall  profileName beerName  beerID  brewerID  ABV  \\\n",
       "94316     3.0    6.0     12.0          Bov   Beck's     703       112  4.8   \n",
       "94317     4.0    8.0     17.0  sallyclub99   Beck's     703       112  4.8   \n",
       "94318     2.0    6.0     12.0      kublai3   Beck's     703       112  4.8   \n",
       "94319     3.0    6.0     15.0       Aubrey   Beck's     703       112  4.8   \n",
       "94320     4.0    7.0     13.0       roland   Beck's     703       112  4.8   \n",
       "\n",
       "                                      style  \\\n",
       "94316  Pale Lager - International / Premium   \n",
       "94317  Pale Lager - International / Premium   \n",
       "94318  Pale Lager - International / Premium   \n",
       "94319  Pale Lager - International / Premium   \n",
       "94320  Pale Lager - International / Premium   \n",
       "\n",
       "                                                imageUrl  \n",
       "94316  https://res.cloudinary.com/ratebeer/image/uplo...  \n",
       "94317  https://res.cloudinary.com/ratebeer/image/uplo...  \n",
       "94318  https://res.cloudinary.com/ratebeer/image/uplo...  \n",
       "94319  https://res.cloudinary.com/ratebeer/image/uplo...  \n",
       "94320  https://res.cloudinary.com/ratebeer/image/uplo...  "
      ]
     },
     "execution_count": 3,
     "metadata": {},
     "output_type": "execute_result"
    }
   ],
   "source": [
    "ratebeer.tail()"
   ]
  },
  {
   "cell_type": "code",
   "execution_count": 4,
   "id": "9db0f9b0-bc39-4bb0-887e-17c12da6d350",
   "metadata": {},
   "outputs": [
    {
     "name": "stdout",
     "output_type": "stream",
     "text": [
      "<class 'pandas.core.frame.DataFrame'>\n",
      "Int64Index: 93623 entries, 0 to 94320\n",
      "Data columns (total 15 columns):\n",
      " #   Column       Non-Null Count  Dtype  \n",
      "---  ------       --------------  -----  \n",
      " 0   reviewScore  93620 non-null  float64\n",
      " 1   reviewTime   93623 non-null  object \n",
      " 2   reviewText   93623 non-null  object \n",
      " 3   appearance   92036 non-null  float64\n",
      " 4   aroma        92036 non-null  float64\n",
      " 5   palate       92036 non-null  float64\n",
      " 6   taste        92036 non-null  float64\n",
      " 7   overall      92036 non-null  float64\n",
      " 8   profileName  93623 non-null  object \n",
      " 9   beerName     93623 non-null  object \n",
      " 10  beerID       93623 non-null  int64  \n",
      " 11  brewerID     93623 non-null  int64  \n",
      " 12  ABV          93623 non-null  float64\n",
      " 13  style        93623 non-null  object \n",
      " 14  imageUrl     93623 non-null  object \n",
      "dtypes: float64(7), int64(2), object(6)\n",
      "memory usage: 11.4+ MB\n"
     ]
    }
   ],
   "source": [
    "ratebeer.info()"
   ]
  },
  {
   "cell_type": "code",
   "execution_count": 5,
   "id": "cfdbfaaf-8e45-46d0-8bc4-cf73062f3dbe",
   "metadata": {},
   "outputs": [
    {
     "name": "stdout",
     "output_type": "stream",
     "text": [
      "<class 'pandas.core.frame.DataFrame'>\n",
      "RangeIndex: 93620 entries, 0 to 93619\n",
      "Data columns (total 15 columns):\n",
      " #   Column       Non-Null Count  Dtype  \n",
      "---  ------       --------------  -----  \n",
      " 0   reviewScore  93620 non-null  float64\n",
      " 1   reviewTime   93620 non-null  object \n",
      " 2   reviewText   93620 non-null  object \n",
      " 3   appearance   92036 non-null  float64\n",
      " 4   aroma        92036 non-null  float64\n",
      " 5   palate       92036 non-null  float64\n",
      " 6   taste        92036 non-null  float64\n",
      " 7   overall      92036 non-null  float64\n",
      " 8   profileName  93620 non-null  object \n",
      " 9   beerName     93620 non-null  object \n",
      " 10  beerID       93620 non-null  int64  \n",
      " 11  brewerID     93620 non-null  int64  \n",
      " 12  ABV          93620 non-null  float64\n",
      " 13  style        93620 non-null  object \n",
      " 14  imageUrl     93620 non-null  object \n",
      "dtypes: float64(7), int64(2), object(6)\n",
      "memory usage: 10.7+ MB\n"
     ]
    }
   ],
   "source": [
    "# 결측치 제거\n",
    "ratebeer = ratebeer.dropna(subset=['reviewScore']).reset_index(drop = True)\n",
    "ratebeer.info()"
   ]
  },
  {
   "cell_type": "markdown",
   "id": "045cff95-e856-469a-b376-be80fced3a17",
   "metadata": {},
   "source": [
    "### 편의점 유통 맥주만 가져오기"
   ]
  },
  {
   "cell_type": "code",
   "execution_count": 6,
   "id": "36548c9a-27a4-4ecf-a03c-c1fff3fc9794",
   "metadata": {},
   "outputs": [
    {
     "data": {
      "text/plain": [
       "81"
      ]
     },
     "execution_count": 6,
     "metadata": {},
     "output_type": "execute_result"
    }
   ],
   "source": [
    "# 전체 데이터에서 한국 편의점 맥주 개수\n",
    "len(ratebeer['beerName'].unique())"
   ]
  },
  {
   "cell_type": "markdown",
   "id": "1ed65f32-cb28-44d0-9710-e0b9c7ce704e",
   "metadata": {},
   "source": [
    "### preprocessing"
   ]
  },
  {
   "cell_type": "code",
   "execution_count": 7,
   "id": "f3e0526b-0124-4902-bab4-c8de03d5bc6c",
   "metadata": {},
   "outputs": [],
   "source": [
    "def preprocessing_df(df):\n",
    "    # rating 전처리\n",
    "    # df['rating/apperance'] = df['review/appearance'].str.split(\"/\").str[0].astype(int)\n",
    "    # df['rating/aroma'] = df['review/aroma'].str.split(\"/\").str[0].astype(int)\n",
    "    # df['rating/palate'] = df['review/palate'].str.split(\"/\").str[0].astype(int)\n",
    "    # df['rating/taste'] = df['review/taste'].str.split(\"/\").str[0].astype(int)\n",
    "    # df['rating/overall'] = df['review/overall'].str.split(\"/\").str[0].astype(int)\n",
    "    \n",
    "    # overall rating 최대치 5로 변환\n",
    "    # df['rating/overall'] = df['rating/overall'] / 20 * 5\n",
    "    \n",
    "    # item, user, rating만 추출\n",
    "    df = df[['beerID', 'profileName', 'reviewScore', 'imageUrl']]\n",
    "    df.rename(columns={'beerID' : 'item', 'profileName' : 'user', 'reviewScore' : 'rating'}, inplace = True) \n",
    "    \n",
    "    # 유저 리뷰 수 개산\n",
    "    df['user/reviewcount'] = df.groupby('user')['user'].transform('count')\n",
    "    # 리뷰 수가 10개 이상인 유저만 남김 \n",
    "#     df = df[(df['user/reviewcount'] > 10)]\n",
    "    \n",
    "#     df.drop(columns=['user/reviewcount'], inplace=True)\n",
    "    \n",
    "    num_users = df.user.unique().shape[0]\n",
    "    num_items = df.item.unique().shape[0]\n",
    "    return df, num_users, num_items"
   ]
  },
  {
   "cell_type": "markdown",
   "id": "479b2adc-0830-4c71-b53f-5ddba3cd7236",
   "metadata": {},
   "source": [
    "### Statistics of the Dataset"
   ]
  },
  {
   "cell_type": "code",
   "execution_count": 8,
   "id": "a0bab6d9-401f-43a9-ba4e-8b337841a466",
   "metadata": {},
   "outputs": [
    {
     "name": "stdout",
     "output_type": "stream",
     "text": [
      "number of users: 17165, number of items: 81\n",
      "matrix sparsity: 0.932665\n",
      "    item        user  rating  \\\n",
      "0  75661  Grzesiek79     1.3   \n",
      "1  75661    GriZZZly     2.7   \n",
      "2  75661   bdleedahl     3.3   \n",
      "3  75661    DoctorHU     2.6   \n",
      "4  75661     McTapps     2.5   \n",
      "\n",
      "                                            imageUrl  user/reviewcount  \n",
      "0  https://res.cloudinary.com/ratebeer/image/uplo...                55  \n",
      "1  https://res.cloudinary.com/ratebeer/image/uplo...                13  \n",
      "2  https://res.cloudinary.com/ratebeer/image/uplo...                31  \n",
      "3  https://res.cloudinary.com/ratebeer/image/uplo...                48  \n",
      "4  https://res.cloudinary.com/ratebeer/image/uplo...                49  \n"
     ]
    }
   ],
   "source": [
    "data, num_users, num_items = preprocessing_df(ratebeer)\n",
    "sparsity = 1 - len(data) / (num_users * num_items)\n",
    "print(f'number of users: {num_users}, number of items: {num_items}')\n",
    "print(f'matrix sparsity: {sparsity:f}')\n",
    "print(data.head())"
   ]
  },
  {
   "cell_type": "code",
   "execution_count": 9,
   "id": "aa65b73b-fae4-49ab-b59a-3ee5652ef44d",
   "metadata": {},
   "outputs": [
    {
     "data": {
      "image/png": "[encoded data removed]",
      "text/plain": [
       "<Figure size 432x288 with 1 Axes>"
      ]
     },
     "metadata": {
      "needs_background": "light"
     },
     "output_type": "display_data"
    }
   ],
   "source": [
    "plt.hist(data['rating'], bins=5, ec='black')\n",
    "plt.xlabel('Rating')\n",
    "plt.ylabel('Count')\n",
    "plt.title('Distribution of Ratings in Ratebeer Korean Beer')\n",
    "plt.show()"
   ]
  },
  {
   "cell_type": "markdown",
   "id": "ac9a07d0-ab1a-4c6f-b321-fc0902cf00c0",
   "metadata": {},
   "source": [
    "### Label Encoding"
   ]
  },
  {
   "cell_type": "code",
   "execution_count": 10,
   "id": "f1506d94-641d-4cb5-afc0-27f58863a737",
   "metadata": {},
   "outputs": [],
   "source": [
    "user_le = LabelEncoder()\n",
    "item_le = LabelEncoder()\n",
    "data['user_id_idx'] = user_le.fit_transform(data['user'].values)\n",
    "data['item_id_idx'] = item_le.fit_transform(data['item'].values)\n",
    "\n",
    "# data.drop(columns=['user', 'item_id'], inplace=True)"
   ]
  },
  {
   "cell_type": "markdown",
   "id": "07172e2f-530d-488c-a4d7-4f38efb9b5b7",
   "metadata": {},
   "source": [
    "### Loading the data"
   ]
  },
  {
   "cell_type": "code",
   "execution_count": 11,
   "id": "9328902d-9c4e-4d35-b7fe-e048040ba2ae",
   "metadata": {},
   "outputs": [],
   "source": [
    "class BeerDataset(Dataset):\n",
    "    def __init__(self, df, mode='train'):\n",
    "        self.df = df\n",
    "        self.mode = mode\n",
    "        self.train_size = 0.8\n",
    "        self.val_size = 0.1\n",
    "        self.test_size = 1 - self.train_size - self.val_size \n",
    "\n",
    "        self.num_items = len(self.df['item_id_idx'].unique())\n",
    "        self.num_users = len(self.df['user_id_idx'].unique())\n",
    "        \n",
    "        n_val = int(self.num_users * self.val_size)\n",
    "        n_test = int(self.num_users * self.test_size)\n",
    "        \n",
    "        random.seed(42)\n",
    "        \n",
    "        val_indices = set(random.choices(range(self.num_users), k=n_val))\n",
    "        test_indices = set(random.choices(list(set(range(self.num_users)) - val_indices), k=n_test))\n",
    "        train_indices = set(range(self.num_users)) - val_indices - test_indices\n",
    "    \n",
    "        # self.train_df, self.test_df = train_test_split(self.df, test_size=self.test_size, train_size=self.train_size, stratify = self.df['user_id_idx'].values, random_state=42)\n",
    "                        \n",
    "        if self.mode == 'train':\n",
    "            self.df = self.df[self.df['user_id_idx'].isin(train_indices)]\n",
    "        elif self.mode == 'val':\n",
    "            self.df = self.df[self.df['user_id_idx'].isin(val_indices)]\n",
    "        else:\n",
    "            self.df = self.df[self.df['user_id_idx'].isin(test_indices)]\n",
    "\n",
    "        self.users = torch.tensor(self.df['user_id_idx'].values)\n",
    "        self.items = torch.tensor(self.df['item_id_idx'].values)\n",
    "        self.ratings = torch.tensor(self.df['rating'].values)\n",
    "        \n",
    "        self.inter_mat = self.make_inter_mat()\n",
    "    \n",
    "    def make_inter_mat(self):\n",
    "        inter_mat = np.zeros((self.num_users, self.num_items))\n",
    "        for user, item, rating in zip(self.users, self.items, self.ratings):\n",
    "            inter_mat[user][item] = rating\n",
    "\n",
    "        return inter_mat\n",
    "\n",
    "    def __len__(self):\n",
    "        return len(self.inter_mat)\n",
    "\n",
    "    def __getitem__(self, index):\n",
    "        inter_mat = torch.tensor(self.inter_mat[index]).float()\n",
    "\n",
    "        return index, inter_mat"
   ]
  },
  {
   "cell_type": "markdown",
   "id": "a00cddbb-7c6a-4871-b796-92602f7f1ae4",
   "metadata": {},
   "source": [
    "### Autorec Model"
   ]
  },
  {
   "cell_type": "code",
   "execution_count": 12,
   "id": "824e9e06-921d-446f-a93a-767c7837c853",
   "metadata": {},
   "outputs": [],
   "source": [
    "class AutoRec(nn.Module):\n",
    "    def __init__(self, num_hidden, num_items, dropout=0.05):\n",
    "        super(AutoRec, self).__init__()\n",
    "        self.encoder = nn.Linear(num_items, num_hidden)\n",
    "        self.sigmoid = nn.Sigmoid()\n",
    "        self.decoder = nn.Linear(num_hidden, num_items)\n",
    "        self.dropout = nn.Dropout(dropout)\n",
    "\n",
    "    def forward(self, mat):\n",
    "        hidden = self.dropout(self.sigmoid(self.encoder(mat)))\n",
    "        pred = self.decoder(hidden)\n",
    "        \n",
    "        return pred"
   ]
  },
  {
   "cell_type": "markdown",
   "id": "1c64864d-aab9-429b-b4b6-d5a319c7bafe",
   "metadata": {},
   "source": [
    "###  Model train, validcation"
   ]
  },
  {
   "cell_type": "code",
   "execution_count": 13,
   "id": "2d670b0f-9ed0-4a9b-953b-832f67dcd695",
   "metadata": {},
   "outputs": [],
   "source": [
    "def train(model, train_iter, criterion, optm, device):\n",
    "    model.train() # to train mode\n",
    "    loss_sum = 0\n",
    "\n",
    "    for _, inter_mat in train_iter:\n",
    "        inter_mat = inter_mat.to(device)    \n",
    "\n",
    "        preds = model(inter_mat)\n",
    "        loss = criterion(preds, inter_mat)\n",
    "\n",
    "        # Update\n",
    "        optm.zero_grad()      # reset gradient \n",
    "        loss.backward()      # backpropagate\n",
    "        optm.step()      # optimizer update\n",
    "        \n",
    "        loss_sum += loss.item()\n",
    "        \n",
    "    loss_avg = loss_sum / len(train_iter)\n",
    "\n",
    "    return loss_avg"
   ]
  },
  {
   "cell_type": "code",
   "execution_count": 14,
   "id": "62571012-7682-460e-b4b6-174a11ea6a5b",
   "metadata": {},
   "outputs": [],
   "source": [
    "def validation(model, valid_iter, criterion, device):\n",
    "    with torch.no_grad():\n",
    "        model.eval()\n",
    "        loss_sum = 0\n",
    "\n",
    "        for _, inter_mat in valid_iter:\n",
    "            inter_mat = inter_mat.to(device) \n",
    "\n",
    "            preds = model(inter_mat)\n",
    "            loss = criterion(preds, inter_mat)            \n",
    "\n",
    "            loss_sum += loss.item()\n",
    "\n",
    "    loss_avg = loss_sum / len(valid_iter)\n",
    "\n",
    "    return loss_avg"
   ]
  },
  {
   "cell_type": "code",
   "execution_count": 15,
   "id": "00a37b7a-7095-458c-8fc6-c7c0fe516018",
   "metadata": {},
   "outputs": [],
   "source": [
    "device = torch.device('cuda:0' if torch.cuda.is_available() else 'cpu')\n",
    "\n",
    "num_epochs = 50\n",
    "lr = 0.001\n",
    "batch_size = 64\n",
    "\n",
    "num_items = data.item_id_idx.nunique()\n",
    "num_hidden = 100"
   ]
  },
  {
   "cell_type": "code",
   "execution_count": 16,
   "id": "d25de793-cb99-4cc4-9c40-0c7458946dd3",
   "metadata": {},
   "outputs": [],
   "source": [
    "train_dataset = BeerDataset(df=data, mode='train')\n",
    "val_dataset = BeerDataset(df=data, mode='val')\n",
    "\n",
    "train_dataloader = DataLoader(dataset=train_dataset, batch_size=batch_size, shuffle=True) \n",
    "val_dataloader = DataLoader(dataset=val_dataset, batch_size=batch_size, shuffle=False)"
   ]
  },
  {
   "cell_type": "code",
   "execution_count": 17,
   "id": "bb92211c-ca43-431c-87f0-b86093d2a600",
   "metadata": {},
   "outputs": [],
   "source": [
    "model = AutoRec(num_hidden, num_items).to(device)\n",
    "loss = nn.MSELoss()\n",
    "optm = optim.Adam(model.parameters(),lr=lr)"
   ]
  },
  {
   "cell_type": "code",
   "execution_count": 18,
   "id": "888f186e-1bb8-40d8-9815-4348378acba1",
   "metadata": {},
   "outputs": [
    {
     "name": "stdout",
     "output_type": "stream",
     "text": [
      "epoch: 0, train Loss: 0.2701, test Loss: 0.0235\n",
      "epoch: 1, train Loss: 0.1430, test Loss: 0.0120\n",
      "epoch: 2, train Loss: 0.0896, test Loss: 0.0078\n",
      "epoch: 3, train Loss: 0.0702, test Loss: 0.0069\n",
      "epoch: 4, train Loss: 0.0607, test Loss: 0.0065\n",
      "epoch: 5, train Loss: 0.0554, test Loss: 0.0053\n",
      "epoch: 6, train Loss: 0.0517, test Loss: 0.0044\n",
      "epoch: 7, train Loss: 0.0482, test Loss: 0.0041\n",
      "epoch: 8, train Loss: 0.0453, test Loss: 0.0037\n",
      "epoch: 9, train Loss: 0.0434, test Loss: 0.0035\n",
      "epoch: 10, train Loss: 0.0409, test Loss: 0.0028\n",
      "epoch: 11, train Loss: 0.0395, test Loss: 0.0028\n",
      "epoch: 12, train Loss: 0.0379, test Loss: 0.0026\n",
      "epoch: 13, train Loss: 0.0366, test Loss: 0.0024\n",
      "epoch: 14, train Loss: 0.0358, test Loss: 0.0024\n",
      "epoch: 15, train Loss: 0.0352, test Loss: 0.0022\n",
      "epoch: 16, train Loss: 0.0342, test Loss: 0.0022\n",
      "epoch: 17, train Loss: 0.0337, test Loss: 0.0021\n",
      "epoch: 18, train Loss: 0.0332, test Loss: 0.0021\n",
      "epoch: 19, train Loss: 0.0329, test Loss: 0.0021\n",
      "epoch: 20, train Loss: 0.0325, test Loss: 0.0020\n",
      "epoch: 21, train Loss: 0.0319, test Loss: 0.0020\n",
      "epoch: 22, train Loss: 0.0316, test Loss: 0.0020\n",
      "epoch: 23, train Loss: 0.0315, test Loss: 0.0020\n",
      "epoch: 24, train Loss: 0.0313, test Loss: 0.0020\n",
      "epoch: 25, train Loss: 0.0310, test Loss: 0.0019\n",
      "epoch: 26, train Loss: 0.0308, test Loss: 0.0019\n",
      "epoch: 27, train Loss: 0.0305, test Loss: 0.0019\n",
      "epoch: 28, train Loss: 0.0299, test Loss: 0.0019\n",
      "epoch: 29, train Loss: 0.0299, test Loss: 0.0018\n",
      "epoch: 30, train Loss: 0.0297, test Loss: 0.0018\n",
      "epoch: 31, train Loss: 0.0294, test Loss: 0.0018\n",
      "epoch: 32, train Loss: 0.0292, test Loss: 0.0018\n",
      "epoch: 33, train Loss: 0.0293, test Loss: 0.0018\n",
      "epoch: 34, train Loss: 0.0287, test Loss: 0.0018\n",
      "epoch: 35, train Loss: 0.0286, test Loss: 0.0018\n",
      "epoch: 36, train Loss: 0.0286, test Loss: 0.0017\n",
      "epoch: 37, train Loss: 0.0282, test Loss: 0.0017\n",
      "epoch: 38, train Loss: 0.0282, test Loss: 0.0017\n",
      "epoch: 39, train Loss: 0.0281, test Loss: 0.0017\n",
      "epoch: 40, train Loss: 0.0280, test Loss: 0.0017\n",
      "epoch: 41, train Loss: 0.0277, test Loss: 0.0017\n",
      "epoch: 42, train Loss: 0.0274, test Loss: 0.0017\n",
      "epoch: 43, train Loss: 0.0273, test Loss: 0.0017\n",
      "epoch: 44, train Loss: 0.0270, test Loss: 0.0017\n",
      "epoch: 45, train Loss: 0.0271, test Loss: 0.0017\n",
      "epoch: 46, train Loss: 0.0270, test Loss: 0.0016\n",
      "epoch: 47, train Loss: 0.0269, test Loss: 0.0017\n",
      "epoch: 48, train Loss: 0.0267, test Loss: 0.0016\n",
      "epoch: 49, train Loss: 0.0265, test Loss: 0.0016\n"
     ]
    },
    {
     "data": {
      "image/png": "[encoded data removed]",
      "text/plain": [
       "<Figure size 720x360 with 1 Axes>"
      ]
     },
     "metadata": {
      "needs_background": "light"
     },
     "output_type": "display_data"
    }
   ],
   "source": [
    "train_losses = []\n",
    "val_losses = []\n",
    "\n",
    "for epoch in range(num_epochs):\n",
    "\n",
    "    train_loss = train(model, train_dataloader, loss, optm, device)\n",
    "    val_loss = validation(model, val_dataloader, loss, device)\n",
    "\n",
    "    train_losses.append(train_loss)\n",
    "    val_losses.append(val_loss)\n",
    "    \n",
    "    print(f'epoch: {epoch}, train Loss: {train_loss:.4f}, test Loss: {val_loss:.4f}')\n",
    "\n",
    "plt.figure(figsize=(10,5))\n",
    "plt.plot(train_losses,label=\"train_loss\")\n",
    "plt.plot(val_losses,label=\"val_loss\")\n",
    "plt.xlabel(\"epoch\")\n",
    "plt.ylabel(\"Loss\")\n",
    "plt.legend()\n",
    "plt.show()"
   ]
  },
  {
   "cell_type": "code",
   "execution_count": 19,
   "id": "4e258010-0f76-44eb-a49d-9b116fcc622f",
   "metadata": {},
   "outputs": [],
   "source": [
    "PATH = '../model/autorec_crawling.pt'\n",
    "torch.save(model.state_dict(), PATH)"
   ]
  },
  {
   "cell_type": "markdown",
   "id": "bdb75490-0841-4e51-b7ee-ca53fbc949a5",
   "metadata": {},
   "source": [
    "## inference"
   ]
  },
  {
   "cell_type": "markdown",
   "id": "e9ececd1-0882-42fe-8891-6dc6a7d8e81a",
   "metadata": {},
   "source": [
    "### 모델 불러오기"
   ]
  },
  {
   "cell_type": "code",
   "execution_count": 20,
   "id": "1c7802a9-a41b-41a9-a485-ca7c0cc4683a",
   "metadata": {},
   "outputs": [
    {
     "data": {
      "text/plain": [
       "<All keys matched successfully>"
      ]
     },
     "execution_count": 20,
     "metadata": {},
     "output_type": "execute_result"
    }
   ],
   "source": [
    "model = AutoRec(num_hidden, num_items).to(device)\n",
    "model.load_state_dict(torch.load(PATH))"
   ]
  },
  {
   "cell_type": "markdown",
   "id": "07170d85-4d36-4e3b-9d62-0bf2bdeac6ef",
   "metadata": {},
   "source": [
    "### 평가지표 함수"
   ]
  },
  {
   "cell_type": "code",
   "execution_count": 21,
   "id": "0ebe94ba-f586-4bb0-a26e-91e7fe13327a",
   "metadata": {},
   "outputs": [],
   "source": [
    "def ndcg_k(actual, predicted, topk):\n",
    "    res = 0\n",
    "    for user_id in range(len(actual)):\n",
    "        k = min(topk, len(actual[user_id]))\n",
    "        idcg = idcg_k(k)\n",
    "        dcg_k = sum(\n",
    "            [\n",
    "                int(predicted[user_id][j] in set(actual[user_id])) / math.log(j + 2, 2)\n",
    "                for j in range(topk)\n",
    "            ]\n",
    "        )\n",
    "        res += dcg_k / idcg\n",
    "    return res / float(len(actual))\n",
    "\n",
    "# Calculates the ideal discounted cumulative gain at k\n",
    "def idcg_k(k):\n",
    "    res = sum([1.0 / math.log(i + 2, 2) for i in range(k)])\n",
    "    if not res:\n",
    "        return 1.0\n",
    "    else:\n",
    "        return res\n",
    "\n",
    "def recall_at_k(actual, predicted, topk):\n",
    "    sum_recall = 0.0\n",
    "    num_users = len(predicted)\n",
    "    true_users = 0\n",
    "    for i in range(num_users):\n",
    "        act_set = set(actual[i])\n",
    "        pred_set = set(predicted[i][:topk])\n",
    "        if len(act_set) != 0:\n",
    "            sum_recall += len(act_set & pred_set) / float(len(act_set))\n",
    "            true_users += 1\n",
    "    return sum_recall / true_users"
   ]
  },
  {
   "cell_type": "code",
   "execution_count": 22,
   "id": "b824c518-3699-46d0-b141-298428939d38",
   "metadata": {},
   "outputs": [],
   "source": [
    "def inference(model, test_iter, test_matrix, device, topk = 4):\n",
    "    pred_list = None\n",
    "    answer_list = None\n",
    "    with torch.no_grad():\n",
    "        model.eval()\n",
    "\n",
    "        for i, (user_ids, inter_mat) in enumerate(test_iter):\n",
    "            inter_mat = inter_mat.to(device)\n",
    "            \n",
    "            rating_pred = model(inter_mat)\n",
    "            \n",
    "            rating_pred = rating_pred.cpu().data.numpy().copy()\n",
    "            \n",
    "            batch_user_index = user_ids.cpu().numpy()\n",
    "            answers = test_matrix.argsort(axis = 1)[batch_user_index, -topk:][:, ::-1]\n",
    "            # rating_pred[test_matrix[batch_user_index] > 0] = 0\n",
    "            \n",
    "            ind = np.argpartition(rating_pred, -topk)[:, -topk:]\n",
    "            \n",
    "            arr_ind = rating_pred[np.arange(len(rating_pred))[:, None], ind]\n",
    "\n",
    "            arr_ind_argsort = np.argsort(arr_ind)[np.arange(len(rating_pred)), ::-1]\n",
    "\n",
    "            batch_pred_list = ind[\n",
    "                np.arange(len(rating_pred))[:, None], arr_ind_argsort\n",
    "            ]\n",
    "\n",
    "            if i == 0:\n",
    "                pred_list = batch_pred_list\n",
    "                answer_list = answers\n",
    "            else:\n",
    "                pred_list = np.append(pred_list, batch_pred_list, axis=0)\n",
    "                answer_list = np.append(\n",
    "                        answer_list, answers, axis=0\n",
    "                )\n",
    "            \n",
    "        recall = recall_at_k(answer_list, pred_list, topk)\n",
    "        ndcg = ndcg_k(answer_list, pred_list, topk)\n",
    "        \n",
    "        print(f'recall@{topk} = {recall}, ndcg@{topk} = {ndcg}')\n",
    "    return pred_list, answer_list"
   ]
  },
  {
   "cell_type": "code",
   "execution_count": 23,
   "id": "95a484f1-91ef-497b-87f8-eeac00dac966",
   "metadata": {},
   "outputs": [],
   "source": [
    "device = torch.device('cuda:0' if torch.cuda.is_available() else 'cpu')\n",
    "\n",
    "num_epochs = 50\n",
    "lr = 0.001\n",
    "batch_size = 1\n",
    "\n",
    "num_items = data.item_id_idx.nunique()\n",
    "num_hidden = 100"
   ]
  },
  {
   "cell_type": "code",
   "execution_count": 24,
   "id": "5590df15-498d-453e-b8a0-2a1d321ad8ba",
   "metadata": {},
   "outputs": [],
   "source": [
    "test_dataset = BeerDataset(df=data, mode='test')\n",
    "\n",
    "test_dataloader = DataLoader(dataset=test_dataset, batch_size=batch_size, shuffle=False)\n",
    "\n",
    "test_matrix = test_dataset.inter_mat"
   ]
  },
  {
   "cell_type": "markdown",
   "id": "927a0c6e-626f-499f-9c35-a44f8be81c9e",
   "metadata": {},
   "source": [
    "### inference 수행"
   ]
  },
  {
   "cell_type": "code",
   "execution_count": 25,
   "id": "f079b6e7-fccb-494a-ac5d-bcecab8fcda7",
   "metadata": {},
   "outputs": [
    {
     "name": "stdout",
     "output_type": "stream",
     "text": [
      "recall@4 = 0.053480920477716284, ndcg@4 = 0.06208667941525734\n"
     ]
    }
   ],
   "source": [
    "pred_list, answer_list = inference(model, test_dataloader, test_matrix, device, topk=4)"
   ]
  },
  {
   "cell_type": "code",
   "execution_count": 26,
   "id": "aec90108-a730-4d45-a5b9-3dc7489b1c05",
   "metadata": {},
   "outputs": [
    {
     "data": {
      "text/plain": [
       "array([14420,  2619, 12238, ...,  7819, 14540,  3600])"
      ]
     },
     "execution_count": 26,
     "metadata": {},
     "output_type": "execute_result"
    }
   ],
   "source": [
    "# test 데이터 user 목록\n",
    "test_dataset.df.user_id_idx.unique()"
   ]
  },
  {
   "cell_type": "code",
   "execution_count": 27,
   "id": "06ac0bf9-9d7b-49c4-8f5f-402ba8e3d2fb",
   "metadata": {},
   "outputs": [
    {
     "data": {
      "text/plain": [
       "array([26,  9, 27, 23])"
      ]
     },
     "execution_count": 27,
     "metadata": {},
     "output_type": "execute_result"
    }
   ],
   "source": [
    "# 모델 예측 선호 맥주 top4\n",
    "pred_list[2619]"
   ]
  },
  {
   "cell_type": "code",
   "execution_count": 28,
   "id": "5b82772b-a1b2-4a6f-af10-4409f63945a8",
   "metadata": {},
   "outputs": [
    {
     "data": {
      "text/plain": [
       "array([26, 19,  9,  1])"
      ]
     },
     "execution_count": 28,
     "metadata": {},
     "output_type": "execute_result"
    }
   ],
   "source": [
    "# 유저 실제 선호 맥주 top4\n",
    "answer_list[2619]"
   ]
  },
  {
   "cell_type": "code",
   "execution_count": 29,
   "id": "142ee032-cefb-4444-81a1-221ab37608f2",
   "metadata": {},
   "outputs": [
    {
     "data": {
      "text/plain": [
       "array([2.6, 3.5, 0. , 3. , 0. , 1.5, 2.6, 1.5, 0. , 3.7, 3. , 0. , 0. ,\n",
       "       2.7, 2.5, 2.4, 3. , 1.2, 0. , 3.8, 2.7, 3.4, 0. , 3.3, 2.6, 2.6,\n",
       "       4. , 3.1, 0. , 0. , 2.8, 0. , 3.1, 0. , 1.5, 2.5, 3.2, 0. , 0. ,\n",
       "       0. , 0. , 0. , 0. , 0. , 0. , 0. , 2.4, 0. , 0. , 0. , 0. , 0. ,\n",
       "       3.3, 3.5, 0. , 3.2, 2.8, 1.8, 3.2, 0. , 1.9, 2.7, 2.9, 0. , 0. ,\n",
       "       0. , 0. , 0. , 2.5, 0. , 0. , 0. , 0. , 0. , 0. , 0. , 0. , 0. ,\n",
       "       0. , 0. , 0. ])"
      ]
     },
     "execution_count": 29,
     "metadata": {},
     "output_type": "execute_result"
    }
   ],
   "source": [
    "test_matrix[2619]"
   ]
  },
  {
   "cell_type": "markdown",
   "id": "4eaa3539-071c-4769-82ff-05d5f4c8ddd3",
   "metadata": {},
   "source": [
    "### 웹사이트 inference"
   ]
  },
  {
   "cell_type": "code",
   "execution_count": 30,
   "id": "69d3bed9-a5ac-4bb8-8651-02ab4c5b2f17",
   "metadata": {},
   "outputs": [
    {
     "name": "stdout",
     "output_type": "stream",
     "text": [
      "[15  6 19 55]\n",
      "[3.6321254 3.588359  3.4769635 3.36825  ]\n"
     ]
    }
   ],
   "source": [
    "# 웹사이트 input\n",
    "x_test = torch.tensor([1.9, 0. , 0. , 1.5, 2.2, 2.1, 3.5, 1.9, 1.4, 3.4, 2.8, 0. , 0. ,\n",
    "       3.3, 0. , 3.6, 1.7, 1.6, 3.5, 3.8, 2.8, 2.2, 0. , 2.9, 3. , 3. ,\n",
    "       3.4, 3.3, 0. , 0. , 2. , 2.4, 0. , 1.8, 0. , 2.3, 0. , 0. , 0. ,\n",
    "       0. , 0. , 0. , 0. , 0. , 0. , 0. , 3.2, 0. , 0. , 0. , 0. , 3. ,\n",
    "       3.1, 0. , 1.9, 3.7, 2. , 0. , 3.8, 0. , 0. , 0. , 0. , 0. , 0. ,\n",
    "       0. , 0. , 0. , 0. , 0. , 3. , 1.8, 0. , 0. , 0. , 0. , 0. , 0. ,\n",
    "       0. , 0. , 0. ]).to(device)\n",
    "\n",
    "# 추천 맥주 개수\n",
    "topk = 4\n",
    "\n",
    "# 모델 에측 맥주 평점\n",
    "rating_pred = model(x_test)\n",
    "\n",
    "rating_pred = rating_pred.cpu().data.numpy().copy()\n",
    "# print(rating_pred)\n",
    "\n",
    "# batch_user_index = user_ids.cpu().numpy()\n",
    "answers = x_test.cpu().numpy().argsort()[-topk:][::-1]\n",
    "\n",
    "# user가 리뷰를 남긴 맥주 추천하고 싶지 않을 때 사용\n",
    "\n",
    "# if novelty:\n",
    "    # rating_pred[x_test.cpu().numpy() > 0] = 0\n",
    "# print(rating_pred)\n",
    "\n",
    "# topk 맥주 index\n",
    "ind = np.argpartition(rating_pred, -topk)[-topk:]\n",
    "# print(ind)\n",
    "\n",
    "# topk 맥주 index별 평점\n",
    "arr_ind = rating_pred[ind]\n",
    "# print(arr_ind)\n",
    "\n",
    "# 평점 기준으로 내림차순으로 정렬\n",
    "arr_ind_argsort = np.argsort(arr_ind)[::-1]\n",
    "# print(arr_ind_argsort)\n",
    "\n",
    "# rating 내림차순 모델 예측 topk 맥주 index \n",
    "topk_pred_list = ind[arr_ind_argsort]\n",
    "print(topk_pred_list)\n",
    "\n",
    "# rating 내림차순 모델 예측 맥주 평점 중 topk개\n",
    "topk_rating_list = rating_pred[topk_pred_list] #rating_pred[np.arange(len(rating_pred))[:, None], ind]\n",
    "print(topk_rating_list)\n"
   ]
  },
  {
   "cell_type": "code",
   "execution_count": 31,
   "id": "3bc6f34e-9951-4feb-8035-722319024bc9",
   "metadata": {},
   "outputs": [
    {
     "data": {
      "text/plain": [
       "array([15,  6, 19, 55])"
      ]
     },
     "execution_count": 31,
     "metadata": {},
     "output_type": "execute_result"
    }
   ],
   "source": [
    "# 모델 예측 선호 맥주 top4\n",
    "topk_pred_list"
   ]
  },
  {
   "cell_type": "code",
   "execution_count": 32,
   "id": "11f57e89-f6fd-4a3d-a989-4b2b229768e3",
   "metadata": {},
   "outputs": [
    {
     "data": {
      "text/plain": [
       "array([58, 19, 55, 15])"
      ]
     },
     "execution_count": 32,
     "metadata": {},
     "output_type": "execute_result"
    }
   ],
   "source": [
    "# 유저 실제 선호 맥주 top4\n",
    "answers"
   ]
  },
  {
   "cell_type": "code",
   "execution_count": 33,
   "id": "b6f3abd2-16da-4e7d-8d4c-d55bca913da1",
   "metadata": {},
   "outputs": [
    {
     "data": {
      "text/plain": [
       "array([ 1.5795493e+00,  4.3046919e-01,  5.2349016e-02,  1.5450146e+00,\n",
       "        2.0889072e+00,  1.5606297e+00,  3.5883591e+00,  1.9432230e+00,\n",
       "        1.5966895e+00,  3.2232666e+00,  2.7241521e+00,  6.0208738e-01,\n",
       "        3.8002929e-01,  2.7956274e+00, -3.1997919e-02,  3.6321254e+00,\n",
       "        1.5130544e+00,  1.6930282e+00,  3.2560854e+00,  3.4769635e+00,\n",
       "        2.5746107e+00,  2.1917133e+00, -2.7367495e-02,  2.9516122e+00,\n",
       "        2.7639976e+00,  3.0183492e+00,  3.2216973e+00,  2.9691451e+00,\n",
       "        1.6220693e-01,  2.1939427e-02,  1.4840145e+00,  2.2514577e+00,\n",
       "       -1.9768938e-01,  1.1661770e+00,  7.4799202e-02,  2.1786075e+00,\n",
       "       -3.0259621e-01,  2.5744876e-01, -1.7462614e-01,  4.2451009e-02,\n",
       "        1.3250985e-02,  1.1906036e-01, -3.3964001e-02, -2.9417859e-02,\n",
       "       -3.8537577e-01, -9.8605372e-02,  2.8481636e+00,  1.8106515e-02,\n",
       "        2.0256381e-02,  8.3547845e-02,  6.9134748e-03,  2.9009888e+00,\n",
       "        2.7710433e+00,  6.4235151e-02,  1.8903141e+00,  3.3682499e+00,\n",
       "        1.2783604e+00,  1.3982478e-01,  2.9258943e+00, -1.3418736e-01,\n",
       "        6.9097243e-02,  1.7914087e-01,  1.2788202e-01, -2.2607613e-02,\n",
       "        7.9876244e-02,  1.1130593e-01, -1.2682274e-02,  2.2444431e-02,\n",
       "        5.1907469e-02,  2.2475732e-02,  2.7713082e+00,  3.0536813e-01,\n",
       "        5.0169835e-04,  1.1413485e-02,  2.7131733e-02,  2.1057716e-04,\n",
       "       -1.9062215e-02, -7.2029815e-03,  5.6784712e-02,  7.5828642e-02,\n",
       "        3.7872415e-02], dtype=float32)"
      ]
     },
     "execution_count": 33,
     "metadata": {},
     "output_type": "execute_result"
    }
   ],
   "source": [
    "# 모델 예측 rating 점수\n",
    "rating_pred"
   ]
  },
  {
   "cell_type": "code",
   "execution_count": 34,
   "id": "023d5a6a-a58b-4e8a-b944-f7f607f7c4cb",
   "metadata": {},
   "outputs": [
    {
     "data": {
      "text/plain": [
       "array(['https://res.cloudinary.com/ratebeer/image/upload/w_400,c_limit,d_Default_Beer_qqrv7k.png,f_auto/beer_75071',\n",
       "       'https://res.cloudinary.com/ratebeer/image/upload/w_400,c_limit,d_Default_Beer_qqrv7k.png,f_auto/beer_729',\n",
       "       'https://res.cloudinary.com/ratebeer/image/upload/w_400,c_limit,d_Default_Beer_qqrv7k.png,f_auto/beer_399',\n",
       "       'https://res.cloudinary.com/ratebeer/image/upload/w_400,c_limit,d_Default_Beer_qqrv7k.png,f_auto/beer_1088'],\n",
       "      dtype=object)"
      ]
     },
     "execution_count": 34,
     "metadata": {},
     "output_type": "execute_result"
    }
   ],
   "source": [
    "# image url\n",
    "data[data['item_id_idx'].isin(topk_pred_list)]['imageUrl'].unique()"
   ]
  },
  {
   "cell_type": "code",
   "execution_count": 35,
   "id": "468b0d25-c614-467e-ab62-63a9b586169e",
   "metadata": {},
   "outputs": [
    {
     "data": {
      "text/plain": [
       "array([75071,   729,   399,  1088])"
      ]
     },
     "execution_count": 35,
     "metadata": {},
     "output_type": "execute_result"
    }
   ],
   "source": [
    "# 맥주 이름\n",
    "data[data['item_id_idx'].isin(topk_pred_list)]['item'].unique()"
   ]
  },
  {
   "cell_type": "markdown",
   "id": "2696b346-a8d0-43eb-b0c2-270dad50c4d4",
   "metadata": {},
   "source": [
    "### 평가지표 점수"
   ]
  },
  {
   "cell_type": "code",
   "execution_count": 36,
   "id": "4e81f064-cf8e-4188-bcd0-905ef1d81419",
   "metadata": {},
   "outputs": [],
   "source": [
    "def ndcg_k_inf(actual, predicted, topk):\n",
    "    res = 0\n",
    "    k = min(topk, len(actual))\n",
    "    idcg = idcg_k(k)\n",
    "    dcg_k = sum(\n",
    "        [\n",
    "            int(predicted[j] in set(actual)) / math.log(j + 2, 2)\n",
    "            for j in range(topk)\n",
    "        ]\n",
    "    )\n",
    "    res += dcg_k / idcg\n",
    "    return res / float(len(actual))\n",
    "\n",
    "# Calculates the ideal discounted cumulative gain at k\n",
    "def idcg_k(k):\n",
    "    res = sum([1.0 / math.log(i + 2, 2) for i in range(k)])\n",
    "    if not res:\n",
    "        return 1.0\n",
    "    else:\n",
    "        return res\n",
    "\n",
    "def recall_at_k_inf(actual, predicted, topk):\n",
    "    act_set = set(actual)\n",
    "    pred_set = set(predicted[:topk])\n",
    "    if len(act_set) != 0:\n",
    "        sum_recall = len(act_set & pred_set) / float(len(act_set))\n",
    "        \n",
    "    return sum_recall"
   ]
  },
  {
   "cell_type": "code",
   "execution_count": 37,
   "id": "6ceded6d-5fd8-4038-844c-918bdf15c77f",
   "metadata": {},
   "outputs": [
    {
     "data": {
      "text/plain": [
       "0.75"
      ]
     },
     "execution_count": 37,
     "metadata": {},
     "output_type": "execute_result"
    }
   ],
   "source": [
    "recall_at_k_inf(answers, topk_pred_list, 4)"
   ]
  },
  {
   "cell_type": "code",
   "execution_count": 38,
   "id": "f9b9cb9a-5b0f-4477-9a7e-8a8caa35a1c0",
   "metadata": {},
   "outputs": [
    {
     "data": {
      "text/plain": [
       "0.18842440281481754"
      ]
     },
     "execution_count": 38,
     "metadata": {},
     "output_type": "execute_result"
    }
   ],
   "source": [
    "ndcg_k_inf(answers, topk_pred_list, 4)"
   ]
  },
  {
   "cell_type": "code",
   "execution_count": 39,
   "id": "6d8a63f7-b824-4a2b-95fc-d0eee870e298",
   "metadata": {},
   "outputs": [
    {
     "data": {
      "text/html": [
       "<div>\n",
       "<style scoped>\n",
       "    .dataframe tbody tr th:only-of-type {\n",
       "        vertical-align: middle;\n",
       "    }\n",
       "\n",
       "    .dataframe tbody tr th {\n",
       "        vertical-align: top;\n",
       "    }\n",
       "\n",
       "    .dataframe thead th {\n",
       "        text-align: right;\n",
       "    }\n",
       "</style>\n",
       "<table border=\"1\" class=\"dataframe\">\n",
       "  <thead>\n",
       "    <tr style=\"text-align: right;\">\n",
       "      <th></th>\n",
       "      <th>item</th>\n",
       "      <th>user</th>\n",
       "      <th>rating</th>\n",
       "      <th>imageUrl</th>\n",
       "      <th>user/reviewcount</th>\n",
       "      <th>user_id_idx</th>\n",
       "      <th>item_id_idx</th>\n",
       "    </tr>\n",
       "  </thead>\n",
       "  <tbody>\n",
       "    <tr>\n",
       "      <th>0</th>\n",
       "      <td>75661</td>\n",
       "      <td>Grzesiek79</td>\n",
       "      <td>1.3</td>\n",
       "      <td>https://res.cloudinary.com/ratebeer/image/uplo...</td>\n",
       "      <td>55</td>\n",
       "      <td>3051</td>\n",
       "      <td>56</td>\n",
       "    </tr>\n",
       "    <tr>\n",
       "      <th>1</th>\n",
       "      <td>75661</td>\n",
       "      <td>GriZZZly</td>\n",
       "      <td>2.7</td>\n",
       "      <td>https://res.cloudinary.com/ratebeer/image/uplo...</td>\n",
       "      <td>13</td>\n",
       "      <td>3028</td>\n",
       "      <td>56</td>\n",
       "    </tr>\n",
       "    <tr>\n",
       "      <th>2</th>\n",
       "      <td>75661</td>\n",
       "      <td>bdleedahl</td>\n",
       "      <td>3.3</td>\n",
       "      <td>https://res.cloudinary.com/ratebeer/image/uplo...</td>\n",
       "      <td>31</td>\n",
       "      <td>8450</td>\n",
       "      <td>56</td>\n",
       "    </tr>\n",
       "    <tr>\n",
       "      <th>3</th>\n",
       "      <td>75661</td>\n",
       "      <td>DoctorHU</td>\n",
       "      <td>2.6</td>\n",
       "      <td>https://res.cloudinary.com/ratebeer/image/uplo...</td>\n",
       "      <td>48</td>\n",
       "      <td>2153</td>\n",
       "      <td>56</td>\n",
       "    </tr>\n",
       "    <tr>\n",
       "      <th>4</th>\n",
       "      <td>75661</td>\n",
       "      <td>McTapps</td>\n",
       "      <td>2.5</td>\n",
       "      <td>https://res.cloudinary.com/ratebeer/image/uplo...</td>\n",
       "      <td>49</td>\n",
       "      <td>4783</td>\n",
       "      <td>56</td>\n",
       "    </tr>\n",
       "    <tr>\n",
       "      <th>...</th>\n",
       "      <td>...</td>\n",
       "      <td>...</td>\n",
       "      <td>...</td>\n",
       "      <td>...</td>\n",
       "      <td>...</td>\n",
       "      <td>...</td>\n",
       "      <td>...</td>\n",
       "    </tr>\n",
       "    <tr>\n",
       "      <th>93615</th>\n",
       "      <td>703</td>\n",
       "      <td>Bov</td>\n",
       "      <td>3.0</td>\n",
       "      <td>https://res.cloudinary.com/ratebeer/image/uplo...</td>\n",
       "      <td>46</td>\n",
       "      <td>1215</td>\n",
       "      <td>10</td>\n",
       "    </tr>\n",
       "    <tr>\n",
       "      <th>93616</th>\n",
       "      <td>703</td>\n",
       "      <td>sallyclub99</td>\n",
       "      <td>4.2</td>\n",
       "      <td>https://res.cloudinary.com/ratebeer/image/uplo...</td>\n",
       "      <td>7</td>\n",
       "      <td>15196</td>\n",
       "      <td>10</td>\n",
       "    </tr>\n",
       "    <tr>\n",
       "      <th>93617</th>\n",
       "      <td>703</td>\n",
       "      <td>kublai3</td>\n",
       "      <td>2.7</td>\n",
       "      <td>https://res.cloudinary.com/ratebeer/image/uplo...</td>\n",
       "      <td>6</td>\n",
       "      <td>12689</td>\n",
       "      <td>10</td>\n",
       "    </tr>\n",
       "    <tr>\n",
       "      <th>93618</th>\n",
       "      <td>703</td>\n",
       "      <td>Aubrey</td>\n",
       "      <td>3.3</td>\n",
       "      <td>https://res.cloudinary.com/ratebeer/image/uplo...</td>\n",
       "      <td>23</td>\n",
       "      <td>520</td>\n",
       "      <td>10</td>\n",
       "    </tr>\n",
       "    <tr>\n",
       "      <th>93619</th>\n",
       "      <td>703</td>\n",
       "      <td>roland</td>\n",
       "      <td>3.3</td>\n",
       "      <td>https://res.cloudinary.com/ratebeer/image/uplo...</td>\n",
       "      <td>5</td>\n",
       "      <td>15050</td>\n",
       "      <td>10</td>\n",
       "    </tr>\n",
       "  </tbody>\n",
       "</table>\n",
       "<p>93620 rows × 7 columns</p>\n",
       "</div>"
      ],
      "text/plain": [
       "        item         user  rating  \\\n",
       "0      75661   Grzesiek79     1.3   \n",
       "1      75661     GriZZZly     2.7   \n",
       "2      75661    bdleedahl     3.3   \n",
       "3      75661     DoctorHU     2.6   \n",
       "4      75661      McTapps     2.5   \n",
       "...      ...          ...     ...   \n",
       "93615    703          Bov     3.0   \n",
       "93616    703  sallyclub99     4.2   \n",
       "93617    703      kublai3     2.7   \n",
       "93618    703       Aubrey     3.3   \n",
       "93619    703       roland     3.3   \n",
       "\n",
       "                                                imageUrl  user/reviewcount  \\\n",
       "0      https://res.cloudinary.com/ratebeer/image/uplo...                55   \n",
       "1      https://res.cloudinary.com/ratebeer/image/uplo...                13   \n",
       "2      https://res.cloudinary.com/ratebeer/image/uplo...                31   \n",
       "3      https://res.cloudinary.com/ratebeer/image/uplo...                48   \n",
       "4      https://res.cloudinary.com/ratebeer/image/uplo...                49   \n",
       "...                                                  ...               ...   \n",
       "93615  https://res.cloudinary.com/ratebeer/image/uplo...                46   \n",
       "93616  https://res.cloudinary.com/ratebeer/image/uplo...                 7   \n",
       "93617  https://res.cloudinary.com/ratebeer/image/uplo...                 6   \n",
       "93618  https://res.cloudinary.com/ratebeer/image/uplo...                23   \n",
       "93619  https://res.cloudinary.com/ratebeer/image/uplo...                 5   \n",
       "\n",
       "       user_id_idx  item_id_idx  \n",
       "0             3051           56  \n",
       "1             3028           56  \n",
       "2             8450           56  \n",
       "3             2153           56  \n",
       "4             4783           56  \n",
       "...            ...          ...  \n",
       "93615         1215           10  \n",
       "93616        15196           10  \n",
       "93617        12689           10  \n",
       "93618          520           10  \n",
       "93619        15050           10  \n",
       "\n",
       "[93620 rows x 7 columns]"
      ]
     },
     "execution_count": 39,
     "metadata": {},
     "output_type": "execute_result"
    }
   ],
   "source": [
    "data"
   ]
  },
  {
   "cell_type": "code",
   "execution_count": 40,
   "id": "454bb394-0e01-4e4e-803e-818850a8f3f1",
   "metadata": {},
   "outputs": [],
   "source": [
    "data.to_csv('../data/ratebeer_label_encoding.csv', index = False)"
   ]
  },
  {
   "cell_type": "code",
   "execution_count": null,
   "id": "7dab0412-aed7-4653-898d-4b0850302492",
   "metadata": {},
   "outputs": [],
   "source": []
  }
 ],
 "metadata": {
  "kernelspec": {
   "display_name": "beer",
   "language": "python",
   "name": "beer"
  },
  "language_info": {
   "codemirror_mode": {
    "name": "ipython",
    "version": 3
   },
   "file_extension": ".py",
   "mimetype": "text/x-python",
   "name": "python",
   "nbconvert_exporter": "python",
   "pygments_lexer": "ipython3",
   "version": "3.8.13"
  }
 },
 "nbformat": 4,
 "nbformat_minor": 5
}
