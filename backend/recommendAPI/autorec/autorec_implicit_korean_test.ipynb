{
 "cells": [
  {
   "cell_type": "code",
   "execution_count": 1,
   "id": "29bcbd9c-2b94-4940-ac5e-cc1bf18cb2cd",
   "metadata": {},
   "outputs": [],
   "source": [
    "import torch\n",
    "import torch.nn as nn\n",
    "import torch.optim as optim\n",
    "from torch.utils.data import DataLoader, Dataset\n",
    "\n",
    "import pandas as pd\n",
    "import numpy as np\n",
    "import matplotlib.pyplot as plt\n",
    "import random\n",
    "import math\n",
    "import seaborn as sns\n",
    "import os\n",
    "from tqdm import tqdm\n",
    "\n",
    "%matplotlib inline\n",
    "\n",
    "from sklearn.model_selection import train_test_split\n",
    "from sklearn.preprocessing import LabelEncoder\n",
    "\n",
    "import warnings\n",
    "warnings.filterwarnings(action='ignore')"
   ]
  },
  {
   "cell_type": "markdown",
   "id": "5510b252-7581-4003-9389-f51ab4fb842b",
   "metadata": {},
   "source": [
    "## dataset"
   ]
  },
  {
   "cell_type": "code",
   "execution_count": 4,
   "id": "860cc5ff-db1f-4de7-9705-a8cfc2a785cb",
   "metadata": {},
   "outputs": [],
   "source": [
    "ratebeer = pd.read_csv(\"../../../data/train_ratings.csv\")"
   ]
  },
  {
   "cell_type": "markdown",
   "id": "80b1de32-db52-40b7-a3e9-ab2efb39ab43",
   "metadata": {},
   "source": [
    "### normalize"
   ]
  },
  {
   "cell_type": "code",
   "execution_count": null,
   "id": "95067f10-b5e6-4297-9f14-0cef496f2e4c",
   "metadata": {},
   "outputs": [],
   "source": [
    "# ratebeer['review_score'] = ratebeer.groupby('profile_name')['review_score'].transform(lambda x: ((x - x.min() + 1e-6) / (x.max() - x.min() + 1e-6)))"
   ]
  },
  {
   "cell_type": "markdown",
   "id": "4c2f2b12-940d-4e82-9253-f938049bf9c5",
   "metadata": {},
   "source": [
    "### 맥주 점수 분포 체크"
   ]
  },
  {
   "cell_type": "code",
   "execution_count": 5,
   "id": "fd0a6abf-7013-4757-9af0-f5b60cded026",
   "metadata": {},
   "outputs": [
    {
     "name": "stdout",
     "output_type": "stream",
     "text": [
      "<class 'pandas.core.frame.DataFrame'>\n",
      "RangeIndex: 1559177 entries, 0 to 1559176\n",
      "Data columns (total 3 columns):\n",
      " #   Column  Non-Null Count    Dtype  \n",
      "---  ------  --------------    -----  \n",
      " 0   user    1559177 non-null  int64  \n",
      " 1   item    1559177 non-null  int64  \n",
      " 2   time    1559177 non-null  float64\n",
      "dtypes: float64(1), int64(2)\n",
      "memory usage: 35.7 MB\n"
     ]
    }
   ],
   "source": [
    "ratebeer.info()"
   ]
  },
  {
   "cell_type": "code",
   "execution_count": 6,
   "id": "3a0fad76-202b-4938-9eac-95c52a3de817",
   "metadata": {},
   "outputs": [
    {
     "data": {
      "text/plain": [
       "604      3262\n",
       "568      3150\n",
       "603      2823\n",
       "595      2808\n",
       "1262     2755\n",
       "         ... \n",
       "10318       2\n",
       "29431       2\n",
       "25360       2\n",
       "21031       2\n",
       "17226       2\n",
       "Name: user, Length: 21478, dtype: int64"
      ]
     },
     "execution_count": 6,
     "metadata": {},
     "output_type": "execute_result"
    }
   ],
   "source": [
    "ratebeer['user'].value_counts()"
   ]
  },
  {
   "cell_type": "code",
   "execution_count": 7,
   "id": "c8bc565b-9acf-4d36-be81-f88b55b4d1a0",
   "metadata": {},
   "outputs": [
    {
     "data": {
      "text/plain": [
       "9274"
      ]
     },
     "execution_count": 7,
     "metadata": {},
     "output_type": "execute_result"
    }
   ],
   "source": [
    "ratebeer['item'].nunique()"
   ]
  },
  {
   "cell_type": "markdown",
   "id": "1ed65f32-cb28-44d0-9710-e0b9c7ce704e",
   "metadata": {},
   "source": [
    "### preprocessing"
   ]
  },
  {
   "cell_type": "code",
   "execution_count": 9,
   "id": "f3e0526b-0124-4902-bab4-c8de03d5bc6c",
   "metadata": {},
   "outputs": [],
   "source": [
    "def preprocessing_df(df):\n",
    "\n",
    "    \n",
    "    # item, user, rating만 추출\n",
    "    # df = df[['beer_id', 'profile_name', 'review_score', 'image_url']]\n",
    "    # df.rename(columns={'beer_id' : 'item', 'profile_name' : 'user', 'review_score' : 'rating'}, inplace = True) \n",
    "    \n",
    "    df['rating'] = 1\n",
    "#     df['rating_median'] = df.groupby('user')['rating'].transform('median')\n",
    "#     df.loc[df['rating'] > df['rating_median'], 'rating'] = 1\n",
    "#     df.loc[df['rating'] <= df['rating_median'], 'rating'] = 0\n",
    "    \n",
    "    # 유저 리뷰 수 개산\n",
    "#     df['user/reviewcount'] = df.groupby('user')['user'].transform('count')\n",
    "#     # 리뷰 수가 10개 이상인 유저만 남김 \n",
    "#     df = df[(df['user/reviewcount'] >= 10)]\n",
    "    \n",
    "#     df.drop(columns=['user/reviewcount'], inplace=True)\n",
    "    \n",
    "    num_users = df.user.unique().shape[0]\n",
    "    num_items = df.item.unique().shape[0]\n",
    "    return df, num_users, num_items"
   ]
  },
  {
   "cell_type": "code",
   "execution_count": 288,
   "id": "9b60695a-5699-423b-8490-f057cf730690",
   "metadata": {},
   "outputs": [],
   "source": [
    "# ratebeer[ratebeer['profile_name']=='Ungstrup']['review_score'].hist()"
   ]
  },
  {
   "cell_type": "markdown",
   "id": "479b2adc-0830-4c71-b53f-5ddba3cd7236",
   "metadata": {},
   "source": [
    "### Statistics of the Dataset"
   ]
  },
  {
   "cell_type": "code",
   "execution_count": 10,
   "id": "a0bab6d9-401f-43a9-ba4e-8b337841a466",
   "metadata": {},
   "outputs": [
    {
     "name": "stdout",
     "output_type": "stream",
     "text": [
      "number of users: 21478, number of items: 9274\n",
      "matrix sparsity: 0.992172\n",
      "   user    item          time  rating\n",
      "0     0   94349  1.334980e+09       1\n",
      "1     0  113934  1.335147e+09       1\n",
      "2     0  116128  1.335417e+09       1\n",
      "3     0   13324  1.335584e+09       1\n",
      "4     0   59023  1.335765e+09       1\n"
     ]
    }
   ],
   "source": [
    "data, num_users, num_items = preprocessing_df(ratebeer)\n",
    "sparsity = 1 - len(data) / (num_users * num_items)\n",
    "print(f'number of users: {num_users}, number of items: {num_items}')\n",
    "print(f'matrix sparsity: {sparsity:f}')\n",
    "print(data.head())"
   ]
  },
  {
   "cell_type": "markdown",
   "id": "7268e618-8b83-4ba9-8551-eefeeaa0ef7e",
   "metadata": {},
   "source": [
    "### 한국 편의점 맥주만"
   ]
  },
  {
   "cell_type": "code",
   "execution_count": 11,
   "id": "9dbc00fe-2245-44aa-ae70-ce35c43a3517",
   "metadata": {},
   "outputs": [],
   "source": [
    "kor_beer_list = np.array([ 8666,  75661, 614833, 169964,    251,  10726,   5588,   5571,\n",
    "                        703,   6668,   7656,   2228, 135361,    473,  36249,    709,\n",
    "                        12775, 143730,    742,   4007,  72025,  58275, 221535, 291276,\n",
    "                        2469,   2468, 553454,   1088,    721,  30913,    814,  75071,\n",
    "                        715,   1267,     55,  17334,     37, 493355,  64253,  34662,\n",
    "                        136165, 500620,  13833, 506847,  73158,    399,   5159,   3101,\n",
    "                        315443, 552713, 911382, 906973,    268, 550283, 271470,    390,\n",
    "                        71469,  35424,   4701,   2514,   2516, 288954,    405, 303473,\n",
    "                        136785,    647, 632627,   3029,    717, 553245, 580686, 252000,\n",
    "                        21936, 667837,   2811,    729,  71458, 634182,  86387,   1478,\n",
    "                        146878, 146725, 149060,  15747, 718172,   3126, 480225, 268685,\n",
    "                        730, 211962,  64518, 621308,   7580, 452525,   1417,   1486,\n",
    "                        221])\n",
    "\n",
    "data = data[data['item'].isin(kor_beer_list)]"
   ]
  },
  {
   "cell_type": "markdown",
   "id": "ac9a07d0-ab1a-4c6f-b321-fc0902cf00c0",
   "metadata": {},
   "source": [
    "### Label Encoding"
   ]
  },
  {
   "cell_type": "code",
   "execution_count": 12,
   "id": "f1506d94-641d-4cb5-afc0-27f58863a737",
   "metadata": {},
   "outputs": [],
   "source": [
    "user_le = LabelEncoder()\n",
    "item_le = LabelEncoder()\n",
    "data['user_id_idx'] = user_le.fit_transform(data['user'].values)\n",
    "data['item_id_idx'] = item_le.fit_transform(data['item'].values)\n",
    "\n",
    "num_users = data.user.nunique()\n",
    "num_items = data.item.nunique()\n",
    "# data.drop(columns=['user', 'item_id'], inplace=True)"
   ]
  },
  {
   "cell_type": "code",
   "execution_count": 13,
   "id": "a6d7f290-ac27-43d1-a817-8bb4f9a825f3",
   "metadata": {},
   "outputs": [
    {
     "data": {
      "text/plain": [
       "(8704, 75)"
      ]
     },
     "execution_count": 13,
     "metadata": {},
     "output_type": "execute_result"
    }
   ],
   "source": [
    "num_users, num_items"
   ]
  },
  {
   "cell_type": "markdown",
   "id": "07172e2f-530d-488c-a4d7-4f38efb9b5b7",
   "metadata": {},
   "source": [
    "### Loading the data"
   ]
  },
  {
   "cell_type": "code",
   "execution_count": 14,
   "id": "9328902d-9c4e-4d35-b7fe-e048040ba2ae",
   "metadata": {},
   "outputs": [],
   "source": [
    "class BeerDataset(Dataset):\n",
    "    def __init__(self, df, mode='train'):\n",
    "        self.df = df\n",
    "        self.mode = mode\n",
    "        self.train_size = 0.9\n",
    "        self.val_size = 0.1\n",
    "        # self.test_size = 1 - self.train_size - self.val_size \n",
    "\n",
    "        self.num_items = len(self.df['item_id_idx'].unique())\n",
    "        self.num_users = len(self.df['user_id_idx'].unique())\n",
    "        \n",
    "        n_val = int(self.num_users * self.val_size)\n",
    "#         n_test = int(self.num_users * self.test_size)\n",
    "        \n",
    "        np.random.seed(42)\n",
    "        \n",
    "        val_indices = set(np.random.choice(range(self.num_users), n_val, replace = False))\n",
    "        # test_indices = set(random.choices(list(set(range(self.num_users)) - val_indices), k=n_test))\n",
    "        train_indices = set(range(self.num_users)) - val_indices # - test_indices\n",
    "\n",
    "        \n",
    "        if self.mode == 'train':\n",
    "            self.df = self.df[self.df['user_id_idx'].isin(train_indices)]\n",
    "        elif self.mode == 'val':\n",
    "            self.df = self.df[self.df['user_id_idx'].isin(val_indices)]\n",
    "#         else:\n",
    "#             self.df = self.df[self.df['user_id_idx'].isin(test_indices)]\n",
    "        \n",
    "        \n",
    "        self.users = torch.tensor(self.df['user_id_idx'].values)\n",
    "        self.items = torch.tensor(self.df['item_id_idx'].values)\n",
    "        self.ratings = torch.tensor(self.df['rating'].values)\n",
    "        \n",
    "        self.inter_mat = self.make_inter_mat()\n",
    "    \n",
    "    def make_inter_mat(self):\n",
    "        inter_mat = np.zeros((self.num_users, self.num_items))\n",
    "        for user, item, rating in zip(self.users, self.items, self.ratings):\n",
    "            inter_mat[user][item] = rating\n",
    "            \n",
    "\n",
    "        return inter_mat\n",
    "\n",
    "    def __len__(self):\n",
    "        # return len(self.users)\n",
    "        return len(self.inter_mat)\n",
    "\n",
    "    def __getitem__(self, index):\n",
    "        # inter_mat = torch.tensor(self.inter_mat[self.users[index]]).float()\n",
    "        inter_mat = torch.tensor(self.inter_mat[index]).float()\n",
    "\n",
    "        return index, inter_mat"
   ]
  },
  {
   "cell_type": "markdown",
   "id": "a00cddbb-7c6a-4871-b796-92602f7f1ae4",
   "metadata": {},
   "source": [
    "### Autorec Model"
   ]
  },
  {
   "cell_type": "code",
   "execution_count": 15,
   "id": "824e9e06-921d-446f-a93a-767c7837c853",
   "metadata": {},
   "outputs": [],
   "source": [
    "class AutoRec(nn.Module):\n",
    "    def __init__(self, num_hidden, num_items, dropout=0.2):\n",
    "        super(AutoRec, self).__init__()\n",
    "        self.encoder = nn.Linear(num_items, num_hidden)\n",
    "        self.activate = nn.Sigmoid()\n",
    "        self.decoder = nn.Linear(num_hidden, num_items)\n",
    "        self.dropout = nn.Dropout(dropout)\n",
    "\n",
    "    def forward(self, mat):\n",
    "        hidden = self.dropout(self.activate(self.encoder(mat)))\n",
    "        pred = self.activate(self.decoder(hidden))\n",
    "        \n",
    "        return pred"
   ]
  },
  {
   "cell_type": "markdown",
   "id": "1c64864d-aab9-429b-b4b6-d5a319c7bafe",
   "metadata": {},
   "source": [
    "###  Model train, validation"
   ]
  },
  {
   "cell_type": "code",
   "execution_count": 16,
   "id": "2d670b0f-9ed0-4a9b-953b-832f67dcd695",
   "metadata": {},
   "outputs": [],
   "source": [
    "def train(model, train_iter, criterion, optm, device):\n",
    "    model.train() # to train mode\n",
    "    loss_sum = 0\n",
    "    loss_cal_count = 0\n",
    "\n",
    "    for _, inter_mat in train_iter:\n",
    "        inter_mat = inter_mat.to(device)    \n",
    "\n",
    "        preds = model(inter_mat)\n",
    "        loss = criterion(preds, inter_mat)\n",
    "\n",
    "        # Update\n",
    "        optm.zero_grad()      # reset gradient \n",
    "        loss.backward()      # backpropagate\n",
    "        optm.step()      # optimizer update\n",
    "        \n",
    "        if not np.isnan(loss.cpu().detach().numpy()):\n",
    "            loss_cal_count += 1\n",
    "            loss_sum += loss.item()\n",
    "            \n",
    "    loss_avg = loss_sum / loss_cal_count\n",
    "\n",
    "    return loss_avg"
   ]
  },
  {
   "cell_type": "code",
   "execution_count": 17,
   "id": "62571012-7682-460e-b4b6-174a11ea6a5b",
   "metadata": {},
   "outputs": [],
   "source": [
    "def validation(model, valid_iter, criterion, device):\n",
    "    \n",
    "    # np.random.seed(42)\n",
    "    \n",
    "    with torch.no_grad():\n",
    "        model.eval()\n",
    "        loss_sum = 0\n",
    "        loss_cal_count = 0\n",
    "        \n",
    "        for _, inter_mat in valid_iter:\n",
    "            inter_mat = inter_mat.to(device)\n",
    "            \n",
    "            # mask된 input으로 prediction 후 기존 정답 활용 loss값 계산\n",
    "            preds = model(inter_mat)\n",
    "            loss = criterion(preds, inter_mat)\n",
    "            \n",
    "            if not np.isnan(loss.cpu().numpy()):\n",
    "                loss_cal_count += 1\n",
    "                loss_sum += loss.item()\n",
    "      \n",
    "    loss_avg = loss_sum / loss_cal_count\n",
    "\n",
    "    return loss_avg"
   ]
  },
  {
   "cell_type": "code",
   "execution_count": 18,
   "id": "a8b51f04-17b8-4dcd-8f7c-55ebe883d1ec",
   "metadata": {},
   "outputs": [],
   "source": [
    "class AutoRec_loss_fn(nn.Module):\n",
    "\n",
    "    def __init__(self, loss_fn):\n",
    "        super(AutoRec_loss_fn, self).__init__()\n",
    "        self.loss_fn = loss_fn\n",
    "    \n",
    "    def forward(self, pred, y):\n",
    "        y_for_compute = y.clone().to('cpu')\n",
    "        index = np.where(y_for_compute > 0) # FILL HERE : USE np.where & y_for_compute. WARNING: y를 사용 시, y의 device가 gpu일 경우 오류 발생 #\n",
    "        loss = self.loss_fn(pred[index], y[index])\n",
    "        return loss"
   ]
  },
  {
   "cell_type": "code",
   "execution_count": 19,
   "id": "00a37b7a-7095-458c-8fc6-c7c0fe516018",
   "metadata": {},
   "outputs": [],
   "source": [
    "device = torch.device('cuda:0' if torch.cuda.is_available() else 'cpu')\n",
    "\n",
    "num_epochs = 50\n",
    "lr = 0.001\n",
    "batch_size = 16\n",
    "\n",
    "PATH = '../../../model/autorec_implicit_korean_test.pt'\n",
    "patience = 5\n",
    "\n",
    "num_items = data.item_id_idx.nunique()\n",
    "num_hidden = 40"
   ]
  },
  {
   "cell_type": "code",
   "execution_count": 20,
   "id": "d25de793-cb99-4cc4-9c40-0c7458946dd3",
   "metadata": {},
   "outputs": [],
   "source": [
    "train_dataset = BeerDataset(df=data, mode='train')\n",
    "val_dataset = BeerDataset(df=data, mode='val')\n",
    "\n",
    "train_dataloader = DataLoader(dataset=train_dataset, batch_size=batch_size, shuffle=True) \n",
    "val_dataloader = DataLoader(dataset=val_dataset, batch_size=1, shuffle=False)"
   ]
  },
  {
   "cell_type": "code",
   "execution_count": 21,
   "id": "bb92211c-ca43-431c-87f0-b86093d2a600",
   "metadata": {},
   "outputs": [],
   "source": [
    "model = AutoRec(num_hidden, num_items).to(device)\n",
    "# loss = AutoRec_loss_fn(nn.MSELoss().to(device)).to(device)\n",
    "# loss = nn.BCEWithLogitsLoss().to(device)\n",
    "loss = nn.BCELoss().to(device)\n",
    "optm = optim.Adam(model.parameters(),lr=lr)"
   ]
  },
  {
   "cell_type": "code",
   "execution_count": 22,
   "id": "bb46cd6f-589a-48e6-b97d-11b423ddda61",
   "metadata": {},
   "outputs": [],
   "source": [
    "class EarlyStopping:\n",
    "    \"\"\"주어진 patience 이후로 validation loss가 개선되지 않으면 학습을 조기 중지\"\"\"\n",
    "    def __init__(self, patience=7, verbose=False, delta=0, path='checkpoint.pt'):\n",
    "        \"\"\"\n",
    "        Args:\n",
    "            patience (int): validation loss가 개선된 후 기다리는 기간\n",
    "                            Default: 7\n",
    "            verbose (bool): True일 경우 각 validation loss의 개선 사항 메세지 출력\n",
    "                            Default: False\n",
    "            delta (float): 개선되었다고 인정되는 monitered quantity의 최소 변화\n",
    "                            Default: 0\n",
    "            path (str): checkpoint저장 경로\n",
    "                            Default: 'checkpoint.pt'\n",
    "        \"\"\"\n",
    "        self.patience = patience\n",
    "        self.verbose = verbose\n",
    "        self.counter = 0\n",
    "        self.best_score = None\n",
    "        self.early_stop = False\n",
    "        self.val_loss_min = np.Inf\n",
    "        self.delta = delta\n",
    "        self.path = path\n",
    "\n",
    "    def __call__(self, val_loss, model):\n",
    "\n",
    "        score = -val_loss\n",
    "\n",
    "        if self.best_score is None:\n",
    "            self.best_score = score\n",
    "            self.save_checkpoint(val_loss, model)\n",
    "        elif score < self.best_score + self.delta:\n",
    "            self.counter += 1\n",
    "            print(f'EarlyStopping counter: {self.counter} out of {self.patience}')\n",
    "            if self.counter >= self.patience:\n",
    "                self.early_stop = True\n",
    "        else:\n",
    "            self.best_score = score\n",
    "            self.save_checkpoint(val_loss, model)\n",
    "            self.counter = 0\n",
    "\n",
    "    def save_checkpoint(self, val_loss, model):\n",
    "        '''validation loss가 감소하면 모델을 저장한다.'''\n",
    "        if self.verbose:\n",
    "            print(f'Validation loss decreased ({self.val_loss_min:.6f} --> {val_loss:.6f}).  Saving model ...')\n",
    "        torch.save(model.state_dict(), self.path)\n",
    "        self.val_loss_min = val_loss"
   ]
  },
  {
   "cell_type": "code",
   "execution_count": 23,
   "id": "888f186e-1bb8-40d8-9815-4348378acba1",
   "metadata": {},
   "outputs": [
    {
     "name": "stderr",
     "output_type": "stream",
     "text": [
      "  2%|▎               | 1/50 [00:04<03:48,  4.66s/it]"
     ]
    },
    {
     "name": "stdout",
     "output_type": "stream",
     "text": [
      "Validation loss decreased (inf --> 0.056373).  Saving model ...\n",
      "epoch: 0, train Loss: 0.1752, test Loss: 0.0564\n"
     ]
    },
    {
     "name": "stderr",
     "output_type": "stream",
     "text": [
      "  4%|▋               | 2/50 [00:08<03:23,  4.24s/it]"
     ]
    },
    {
     "name": "stdout",
     "output_type": "stream",
     "text": [
      "Validation loss decreased (0.056373 --> 0.033104).  Saving model ...\n",
      "epoch: 1, train Loss: 0.1011, test Loss: 0.0331\n"
     ]
    },
    {
     "name": "stderr",
     "output_type": "stream",
     "text": [
      "  6%|▉               | 3/50 [00:12<03:12,  4.10s/it]"
     ]
    },
    {
     "name": "stdout",
     "output_type": "stream",
     "text": [
      "Validation loss decreased (0.033104 --> 0.022184).  Saving model ...\n",
      "epoch: 2, train Loss: 0.0868, test Loss: 0.0222\n"
     ]
    },
    {
     "name": "stderr",
     "output_type": "stream",
     "text": [
      "  8%|█▎              | 4/50 [00:16<03:05,  4.02s/it]"
     ]
    },
    {
     "name": "stdout",
     "output_type": "stream",
     "text": [
      "Validation loss decreased (0.022184 --> 0.017484).  Saving model ...\n",
      "epoch: 3, train Loss: 0.0775, test Loss: 0.0175\n"
     ]
    },
    {
     "name": "stderr",
     "output_type": "stream",
     "text": [
      " 10%|█▌              | 5/50 [00:20<02:59,  3.98s/it]"
     ]
    },
    {
     "name": "stdout",
     "output_type": "stream",
     "text": [
      "Validation loss decreased (0.017484 --> 0.014040).  Saving model ...\n",
      "epoch: 4, train Loss: 0.0682, test Loss: 0.0140\n"
     ]
    },
    {
     "name": "stderr",
     "output_type": "stream",
     "text": [
      " 12%|█▉              | 6/50 [00:24<02:54,  3.96s/it]"
     ]
    },
    {
     "name": "stdout",
     "output_type": "stream",
     "text": [
      "Validation loss decreased (0.014040 --> 0.010622).  Saving model ...\n",
      "epoch: 5, train Loss: 0.0583, test Loss: 0.0106\n"
     ]
    },
    {
     "name": "stderr",
     "output_type": "stream",
     "text": [
      " 14%|██▏             | 7/50 [00:28<02:49,  3.94s/it]"
     ]
    },
    {
     "name": "stdout",
     "output_type": "stream",
     "text": [
      "Validation loss decreased (0.010622 --> 0.008362).  Saving model ...\n",
      "epoch: 6, train Loss: 0.0500, test Loss: 0.0084\n"
     ]
    },
    {
     "name": "stderr",
     "output_type": "stream",
     "text": [
      " 16%|██▌             | 8/50 [00:32<02:45,  3.93s/it]"
     ]
    },
    {
     "name": "stdout",
     "output_type": "stream",
     "text": [
      "Validation loss decreased (0.008362 --> 0.006736).  Saving model ...\n",
      "epoch: 7, train Loss: 0.0437, test Loss: 0.0067\n"
     ]
    },
    {
     "name": "stderr",
     "output_type": "stream",
     "text": [
      " 18%|██▉             | 9/50 [00:36<02:40,  3.93s/it]"
     ]
    },
    {
     "name": "stdout",
     "output_type": "stream",
     "text": [
      "Validation loss decreased (0.006736 --> 0.005588).  Saving model ...\n",
      "epoch: 8, train Loss: 0.0390, test Loss: 0.0056\n"
     ]
    },
    {
     "name": "stderr",
     "output_type": "stream",
     "text": [
      " 20%|███            | 10/50 [00:39<02:37,  3.93s/it]"
     ]
    },
    {
     "name": "stdout",
     "output_type": "stream",
     "text": [
      "Validation loss decreased (0.005588 --> 0.004741).  Saving model ...\n",
      "epoch: 9, train Loss: 0.0355, test Loss: 0.0047\n"
     ]
    },
    {
     "name": "stderr",
     "output_type": "stream",
     "text": [
      " 22%|███▎           | 11/50 [00:43<02:33,  3.93s/it]"
     ]
    },
    {
     "name": "stdout",
     "output_type": "stream",
     "text": [
      "Validation loss decreased (0.004741 --> 0.004142).  Saving model ...\n",
      "epoch: 10, train Loss: 0.0327, test Loss: 0.0041\n"
     ]
    },
    {
     "name": "stderr",
     "output_type": "stream",
     "text": [
      " 24%|███▌           | 12/50 [00:48<02:37,  4.15s/it]"
     ]
    },
    {
     "name": "stdout",
     "output_type": "stream",
     "text": [
      "Validation loss decreased (0.004142 --> 0.003721).  Saving model ...\n",
      "epoch: 11, train Loss: 0.0304, test Loss: 0.0037\n"
     ]
    },
    {
     "name": "stderr",
     "output_type": "stream",
     "text": [
      " 26%|███▉           | 13/50 [00:53<02:41,  4.36s/it]"
     ]
    },
    {
     "name": "stdout",
     "output_type": "stream",
     "text": [
      "Validation loss decreased (0.003721 --> 0.003381).  Saving model ...\n",
      "epoch: 12, train Loss: 0.0284, test Loss: 0.0034\n"
     ]
    },
    {
     "name": "stderr",
     "output_type": "stream",
     "text": [
      " 28%|████▏          | 14/50 [00:57<02:34,  4.29s/it]"
     ]
    },
    {
     "name": "stdout",
     "output_type": "stream",
     "text": [
      "Validation loss decreased (0.003381 --> 0.003067).  Saving model ...\n",
      "epoch: 13, train Loss: 0.0270, test Loss: 0.0031\n"
     ]
    },
    {
     "name": "stderr",
     "output_type": "stream",
     "text": [
      " 30%|████▌          | 15/50 [01:01<02:26,  4.17s/it]"
     ]
    },
    {
     "name": "stdout",
     "output_type": "stream",
     "text": [
      "Validation loss decreased (0.003067 --> 0.002817).  Saving model ...\n",
      "epoch: 14, train Loss: 0.0254, test Loss: 0.0028\n"
     ]
    },
    {
     "name": "stderr",
     "output_type": "stream",
     "text": [
      " 32%|████▊          | 16/50 [01:05<02:19,  4.09s/it]"
     ]
    },
    {
     "name": "stdout",
     "output_type": "stream",
     "text": [
      "Validation loss decreased (0.002817 --> 0.002647).  Saving model ...\n",
      "epoch: 15, train Loss: 0.0243, test Loss: 0.0026\n"
     ]
    },
    {
     "name": "stderr",
     "output_type": "stream",
     "text": [
      " 34%|█████          | 17/50 [01:09<02:13,  4.04s/it]"
     ]
    },
    {
     "name": "stdout",
     "output_type": "stream",
     "text": [
      "Validation loss decreased (0.002647 --> 0.002454).  Saving model ...\n",
      "epoch: 16, train Loss: 0.0230, test Loss: 0.0025\n"
     ]
    },
    {
     "name": "stderr",
     "output_type": "stream",
     "text": [
      " 36%|█████▍         | 18/50 [01:13<02:08,  4.01s/it]"
     ]
    },
    {
     "name": "stdout",
     "output_type": "stream",
     "text": [
      "Validation loss decreased (0.002454 --> 0.002301).  Saving model ...\n",
      "epoch: 17, train Loss: 0.0220, test Loss: 0.0023\n"
     ]
    },
    {
     "name": "stderr",
     "output_type": "stream",
     "text": [
      " 38%|█████▋         | 19/50 [01:17<02:04,  4.00s/it]"
     ]
    },
    {
     "name": "stdout",
     "output_type": "stream",
     "text": [
      "Validation loss decreased (0.002301 --> 0.002181).  Saving model ...\n",
      "epoch: 18, train Loss: 0.0213, test Loss: 0.0022\n"
     ]
    },
    {
     "name": "stderr",
     "output_type": "stream",
     "text": [
      " 40%|██████         | 20/50 [01:21<01:59,  3.99s/it]"
     ]
    },
    {
     "name": "stdout",
     "output_type": "stream",
     "text": [
      "Validation loss decreased (0.002181 --> 0.002051).  Saving model ...\n",
      "epoch: 19, train Loss: 0.0205, test Loss: 0.0021\n"
     ]
    },
    {
     "name": "stderr",
     "output_type": "stream",
     "text": [
      " 42%|██████▎        | 21/50 [01:25<01:55,  3.98s/it]"
     ]
    },
    {
     "name": "stdout",
     "output_type": "stream",
     "text": [
      "Validation loss decreased (0.002051 --> 0.001963).  Saving model ...\n",
      "epoch: 20, train Loss: 0.0199, test Loss: 0.0020\n"
     ]
    },
    {
     "name": "stderr",
     "output_type": "stream",
     "text": [
      " 44%|██████▌        | 22/50 [01:29<01:51,  3.99s/it]"
     ]
    },
    {
     "name": "stdout",
     "output_type": "stream",
     "text": [
      "Validation loss decreased (0.001963 --> 0.001858).  Saving model ...\n",
      "epoch: 21, train Loss: 0.0192, test Loss: 0.0019\n"
     ]
    },
    {
     "name": "stderr",
     "output_type": "stream",
     "text": [
      " 46%|██████▉        | 23/50 [01:33<01:48,  4.00s/it]"
     ]
    },
    {
     "name": "stdout",
     "output_type": "stream",
     "text": [
      "Validation loss decreased (0.001858 --> 0.001775).  Saving model ...\n",
      "epoch: 22, train Loss: 0.0186, test Loss: 0.0018\n"
     ]
    },
    {
     "name": "stderr",
     "output_type": "stream",
     "text": [
      " 48%|███████▏       | 24/50 [01:37<01:44,  4.02s/it]"
     ]
    },
    {
     "name": "stdout",
     "output_type": "stream",
     "text": [
      "Validation loss decreased (0.001775 --> 0.001706).  Saving model ...\n",
      "epoch: 23, train Loss: 0.0183, test Loss: 0.0017\n"
     ]
    },
    {
     "name": "stderr",
     "output_type": "stream",
     "text": [
      " 50%|███████▌       | 25/50 [01:41<01:40,  4.03s/it]"
     ]
    },
    {
     "name": "stdout",
     "output_type": "stream",
     "text": [
      "Validation loss decreased (0.001706 --> 0.001634).  Saving model ...\n",
      "epoch: 24, train Loss: 0.0176, test Loss: 0.0016\n"
     ]
    },
    {
     "name": "stderr",
     "output_type": "stream",
     "text": [
      " 52%|███████▊       | 26/50 [01:45<01:36,  4.02s/it]"
     ]
    },
    {
     "name": "stdout",
     "output_type": "stream",
     "text": [
      "Validation loss decreased (0.001634 --> 0.001581).  Saving model ...\n",
      "epoch: 25, train Loss: 0.0170, test Loss: 0.0016\n"
     ]
    },
    {
     "name": "stderr",
     "output_type": "stream",
     "text": [
      " 54%|████████       | 27/50 [01:49<01:31,  3.99s/it]"
     ]
    },
    {
     "name": "stdout",
     "output_type": "stream",
     "text": [
      "Validation loss decreased (0.001581 --> 0.001520).  Saving model ...\n",
      "epoch: 26, train Loss: 0.0165, test Loss: 0.0015\n"
     ]
    },
    {
     "name": "stderr",
     "output_type": "stream",
     "text": [
      " 56%|████████▍      | 28/50 [01:53<01:27,  3.98s/it]"
     ]
    },
    {
     "name": "stdout",
     "output_type": "stream",
     "text": [
      "Validation loss decreased (0.001520 --> 0.001473).  Saving model ...\n",
      "epoch: 27, train Loss: 0.0164, test Loss: 0.0015\n"
     ]
    },
    {
     "name": "stderr",
     "output_type": "stream",
     "text": [
      " 58%|████████▋      | 29/50 [01:57<01:23,  3.96s/it]"
     ]
    },
    {
     "name": "stdout",
     "output_type": "stream",
     "text": [
      "Validation loss decreased (0.001473 --> 0.001416).  Saving model ...\n",
      "epoch: 28, train Loss: 0.0158, test Loss: 0.0014\n"
     ]
    },
    {
     "name": "stderr",
     "output_type": "stream",
     "text": [
      " 60%|█████████      | 30/50 [02:00<01:19,  3.96s/it]"
     ]
    },
    {
     "name": "stdout",
     "output_type": "stream",
     "text": [
      "Validation loss decreased (0.001416 --> 0.001377).  Saving model ...\n",
      "epoch: 29, train Loss: 0.0156, test Loss: 0.0014\n"
     ]
    },
    {
     "name": "stderr",
     "output_type": "stream",
     "text": [
      " 62%|█████████▎     | 31/50 [02:04<01:15,  3.97s/it]"
     ]
    },
    {
     "name": "stdout",
     "output_type": "stream",
     "text": [
      "Validation loss decreased (0.001377 --> 0.001340).  Saving model ...\n",
      "epoch: 30, train Loss: 0.0152, test Loss: 0.0013\n"
     ]
    },
    {
     "name": "stderr",
     "output_type": "stream",
     "text": [
      " 64%|█████████▌     | 32/50 [02:08<01:11,  3.98s/it]"
     ]
    },
    {
     "name": "stdout",
     "output_type": "stream",
     "text": [
      "Validation loss decreased (0.001340 --> 0.001303).  Saving model ...\n",
      "epoch: 31, train Loss: 0.0149, test Loss: 0.0013\n"
     ]
    },
    {
     "name": "stderr",
     "output_type": "stream",
     "text": [
      " 66%|█████████▉     | 33/50 [02:12<01:07,  3.99s/it]"
     ]
    },
    {
     "name": "stdout",
     "output_type": "stream",
     "text": [
      "Validation loss decreased (0.001303 --> 0.001271).  Saving model ...\n",
      "epoch: 32, train Loss: 0.0147, test Loss: 0.0013\n"
     ]
    },
    {
     "name": "stderr",
     "output_type": "stream",
     "text": [
      " 68%|██████████▏    | 34/50 [02:16<01:03,  4.00s/it]"
     ]
    },
    {
     "name": "stdout",
     "output_type": "stream",
     "text": [
      "Validation loss decreased (0.001271 --> 0.001247).  Saving model ...\n",
      "epoch: 33, train Loss: 0.0145, test Loss: 0.0012\n"
     ]
    },
    {
     "name": "stderr",
     "output_type": "stream",
     "text": [
      " 70%|██████████▌    | 35/50 [02:21<01:00,  4.00s/it]"
     ]
    },
    {
     "name": "stdout",
     "output_type": "stream",
     "text": [
      "Validation loss decreased (0.001247 --> 0.001222).  Saving model ...\n",
      "epoch: 34, train Loss: 0.0143, test Loss: 0.0012\n"
     ]
    },
    {
     "name": "stderr",
     "output_type": "stream",
     "text": [
      " 72%|██████████▊    | 36/50 [02:24<00:56,  4.00s/it]"
     ]
    },
    {
     "name": "stdout",
     "output_type": "stream",
     "text": [
      "Validation loss decreased (0.001222 --> 0.001196).  Saving model ...\n",
      "epoch: 35, train Loss: 0.0140, test Loss: 0.0012\n"
     ]
    },
    {
     "name": "stderr",
     "output_type": "stream",
     "text": [
      " 74%|███████████    | 37/50 [02:28<00:51,  4.00s/it]"
     ]
    },
    {
     "name": "stdout",
     "output_type": "stream",
     "text": [
      "Validation loss decreased (0.001196 --> 0.001169).  Saving model ...\n",
      "epoch: 36, train Loss: 0.0135, test Loss: 0.0012\n"
     ]
    },
    {
     "name": "stderr",
     "output_type": "stream",
     "text": [
      " 76%|███████████▍   | 38/50 [02:32<00:47,  3.99s/it]"
     ]
    },
    {
     "name": "stdout",
     "output_type": "stream",
     "text": [
      "Validation loss decreased (0.001169 --> 0.001145).  Saving model ...\n",
      "epoch: 37, train Loss: 0.0135, test Loss: 0.0011\n"
     ]
    },
    {
     "name": "stderr",
     "output_type": "stream",
     "text": [
      " 78%|███████████▋   | 39/50 [02:36<00:43,  3.98s/it]"
     ]
    },
    {
     "name": "stdout",
     "output_type": "stream",
     "text": [
      "Validation loss decreased (0.001145 --> 0.001128).  Saving model ...\n",
      "epoch: 38, train Loss: 0.0133, test Loss: 0.0011\n"
     ]
    },
    {
     "name": "stderr",
     "output_type": "stream",
     "text": [
      " 80%|████████████   | 40/50 [02:40<00:39,  3.98s/it]"
     ]
    },
    {
     "name": "stdout",
     "output_type": "stream",
     "text": [
      "Validation loss decreased (0.001128 --> 0.001109).  Saving model ...\n",
      "epoch: 39, train Loss: 0.0134, test Loss: 0.0011\n"
     ]
    },
    {
     "name": "stderr",
     "output_type": "stream",
     "text": [
      " 82%|████████████▎  | 41/50 [02:44<00:35,  3.98s/it]"
     ]
    },
    {
     "name": "stdout",
     "output_type": "stream",
     "text": [
      "Validation loss decreased (0.001109 --> 0.001091).  Saving model ...\n",
      "epoch: 40, train Loss: 0.0132, test Loss: 0.0011\n"
     ]
    },
    {
     "name": "stderr",
     "output_type": "stream",
     "text": [
      " 84%|████████████▌  | 42/50 [02:48<00:31,  3.99s/it]"
     ]
    },
    {
     "name": "stdout",
     "output_type": "stream",
     "text": [
      "Validation loss decreased (0.001091 --> 0.001076).  Saving model ...\n",
      "epoch: 41, train Loss: 0.0128, test Loss: 0.0011\n"
     ]
    },
    {
     "name": "stderr",
     "output_type": "stream",
     "text": [
      " 86%|████████████▉  | 43/50 [02:52<00:27,  3.99s/it]"
     ]
    },
    {
     "name": "stdout",
     "output_type": "stream",
     "text": [
      "Validation loss decreased (0.001076 --> 0.001059).  Saving model ...\n",
      "epoch: 42, train Loss: 0.0128, test Loss: 0.0011\n"
     ]
    },
    {
     "name": "stderr",
     "output_type": "stream",
     "text": [
      " 88%|█████████████▏ | 44/50 [02:56<00:23,  3.99s/it]"
     ]
    },
    {
     "name": "stdout",
     "output_type": "stream",
     "text": [
      "Validation loss decreased (0.001059 --> 0.001050).  Saving model ...\n",
      "epoch: 43, train Loss: 0.0126, test Loss: 0.0010\n"
     ]
    },
    {
     "name": "stderr",
     "output_type": "stream",
     "text": [
      " 90%|█████████████▌ | 45/50 [03:00<00:19,  4.00s/it]"
     ]
    },
    {
     "name": "stdout",
     "output_type": "stream",
     "text": [
      "Validation loss decreased (0.001050 --> 0.001037).  Saving model ...\n",
      "epoch: 44, train Loss: 0.0125, test Loss: 0.0010\n"
     ]
    },
    {
     "name": "stderr",
     "output_type": "stream",
     "text": [
      " 92%|█████████████▊ | 46/50 [03:04<00:15,  3.98s/it]"
     ]
    },
    {
     "name": "stdout",
     "output_type": "stream",
     "text": [
      "Validation loss decreased (0.001037 --> 0.001023).  Saving model ...\n",
      "epoch: 45, train Loss: 0.0124, test Loss: 0.0010\n"
     ]
    },
    {
     "name": "stderr",
     "output_type": "stream",
     "text": [
      " 94%|██████████████ | 47/50 [03:08<00:11,  3.97s/it]"
     ]
    },
    {
     "name": "stdout",
     "output_type": "stream",
     "text": [
      "Validation loss decreased (0.001023 --> 0.001010).  Saving model ...\n",
      "epoch: 46, train Loss: 0.0123, test Loss: 0.0010\n"
     ]
    },
    {
     "name": "stderr",
     "output_type": "stream",
     "text": [
      " 96%|██████████████▍| 48/50 [03:12<00:07,  3.96s/it]"
     ]
    },
    {
     "name": "stdout",
     "output_type": "stream",
     "text": [
      "Validation loss decreased (0.001010 --> 0.000998).  Saving model ...\n",
      "epoch: 47, train Loss: 0.0121, test Loss: 0.0010\n"
     ]
    },
    {
     "name": "stderr",
     "output_type": "stream",
     "text": [
      " 98%|██████████████▋| 49/50 [03:16<00:03,  3.95s/it]"
     ]
    },
    {
     "name": "stdout",
     "output_type": "stream",
     "text": [
      "Validation loss decreased (0.000998 --> 0.000990).  Saving model ...\n",
      "epoch: 48, train Loss: 0.0119, test Loss: 0.0010\n"
     ]
    },
    {
     "name": "stderr",
     "output_type": "stream",
     "text": [
      "100%|███████████████| 50/50 [03:20<00:00,  4.01s/it]"
     ]
    },
    {
     "name": "stdout",
     "output_type": "stream",
     "text": [
      "Validation loss decreased (0.000990 --> 0.000980).  Saving model ...\n",
      "epoch: 49, train Loss: 0.0122, test Loss: 0.0010\n"
     ]
    },
    {
     "name": "stderr",
     "output_type": "stream",
     "text": [
      "\n"
     ]
    },
    {
     "data": {
      "image/png": "[encoded data removed]",
      "text/plain": [
       "<Figure size 720x360 with 1 Axes>"
      ]
     },
     "metadata": {
      "needs_background": "light"
     },
     "output_type": "display_data"
    }
   ],
   "source": [
    "train_losses = []\n",
    "val_losses = []\n",
    "\n",
    "early_stopping = EarlyStopping(patience = patience, verbose = True, path=PATH)\n",
    "\n",
    "for epoch in tqdm(range(num_epochs)):\n",
    "\n",
    "    train_loss = train(model, train_dataloader, loss, optm, device)\n",
    "    val_loss = validation(model, val_dataloader, loss, device)\n",
    "\n",
    "    train_losses.append(train_loss)\n",
    "    val_losses.append(val_loss)\n",
    "    \n",
    "    early_stopping(val_loss, model)\n",
    "\n",
    "    if early_stopping.early_stop:\n",
    "        print(\"Early stopping\")\n",
    "        break\n",
    "        \n",
    "    print(f'epoch: {epoch}, train Loss: {train_loss:.4f}, test Loss: {val_loss:.4f}')\n",
    "\n",
    "plt.figure(figsize=(10,5))\n",
    "plt.plot(train_losses,label=\"train_loss\")\n",
    "plt.plot(val_losses,label=\"val_loss\")\n",
    "plt.xlabel(\"epoch\")\n",
    "plt.ylabel(\"Loss\")\n",
    "plt.legend()\n",
    "plt.show()"
   ]
  },
  {
   "cell_type": "markdown",
   "id": "e9ececd1-0882-42fe-8891-6dc6a7d8e81a",
   "metadata": {},
   "source": [
    "### 모델 불러오기"
   ]
  },
  {
   "cell_type": "code",
   "execution_count": 24,
   "id": "1c7802a9-a41b-41a9-a485-ca7c0cc4683a",
   "metadata": {},
   "outputs": [
    {
     "data": {
      "text/plain": [
       "<All keys matched successfully>"
      ]
     },
     "execution_count": 24,
     "metadata": {},
     "output_type": "execute_result"
    }
   ],
   "source": [
    "model = AutoRec(num_hidden, num_items).to(device)\n",
    "model.load_state_dict(torch.load(PATH))"
   ]
  },
  {
   "cell_type": "markdown",
   "id": "60376f21-cbba-432e-a816-8fe05f07ec31",
   "metadata": {},
   "source": [
    "### test"
   ]
  },
  {
   "cell_type": "code",
   "execution_count": 25,
   "id": "dda3bb25-6b21-484e-842e-c51e971eb7cc",
   "metadata": {},
   "outputs": [],
   "source": [
    "test_data = pd.read_csv(\"../../../data/test_file.csv\")"
   ]
  },
  {
   "cell_type": "code",
   "execution_count": 26,
   "id": "83372e59-32c7-4bcf-a1f1-07b40eaa17ec",
   "metadata": {},
   "outputs": [],
   "source": [
    "test_data['rating'] = 1"
   ]
  },
  {
   "cell_type": "code",
   "execution_count": 27,
   "id": "27945a30-299f-46ff-b3e8-9e9f08d9188e",
   "metadata": {},
   "outputs": [],
   "source": [
    "kor_beer_list = np.array([ 8666,  75661, 614833, 169964,    251,  10726,   5588,   5571,\n",
    "                        703,   6668,   7656,   2228, 135361,    473,  36249,    709,\n",
    "                        12775, 143730,    742,   4007,  72025,  58275, 221535, 291276,\n",
    "                        2469,   2468, 553454,   1088,    721,  30913,    814,  75071,\n",
    "                        715,   1267,     55,  17334,     37, 493355,  64253,  34662,\n",
    "                        136165, 500620,  13833, 506847,  73158,    399,   5159,   3101,\n",
    "                        315443, 552713, 911382, 906973,    268, 550283, 271470,    390,\n",
    "                        71469,  35424,   4701,   2514,   2516, 288954,    405, 303473,\n",
    "                        136785,    647, 632627,   3029,    717, 553245, 580686, 252000,\n",
    "                        21936, 667837,   2811,    729,  71458, 634182,  86387,   1478,\n",
    "                        146878, 146725, 149060,  15747, 718172,   3126, 480225, 268685,\n",
    "                        730, 211962,  64518, 621308,   7580, 452525,   1417,   1486,\n",
    "                        221])\n",
    "test_data = test_data[test_data['item'].isin(kor_beer_list)]"
   ]
  },
  {
   "cell_type": "code",
   "execution_count": 28,
   "id": "23c92776-3e54-46fd-a4fe-42602112dade",
   "metadata": {},
   "outputs": [],
   "source": [
    "user_le = LabelEncoder()\n",
    "# item_le = LabelEncoder()\n",
    "test_data['user_id_idx'] = user_le.fit_transform(test_data['user'].values)\n",
    "test_data['item_id_idx'] = item_le.transform(test_data['item'].values)\n",
    "\n",
    "# data.drop(columns=['user', 'item_id'], inplace=True)"
   ]
  },
  {
   "cell_type": "code",
   "execution_count": 29,
   "id": "1f232fda-06da-4bb2-a44c-3884aa171969",
   "metadata": {},
   "outputs": [],
   "source": [
    "test_users = torch.tensor(test_data['user_id_idx'].values)\n",
    "test_items = torch.tensor(test_data['item_id_idx'].values)\n",
    "test_ratings = torch.tensor(test_data['rating'].values)\n",
    "\n",
    "def make_inter_mat():\n",
    "    inter_mat = np.zeros((num_users, num_items))\n",
    "    for user, item, rating in zip(test_users, test_items, test_ratings):\n",
    "        inter_mat[user][item] = rating\n",
    "\n",
    "    return inter_mat\n",
    "\n",
    "inter_mat = make_inter_mat()"
   ]
  },
  {
   "cell_type": "markdown",
   "id": "efbb1de0-49c0-49a0-a497-07b2f21332e5",
   "metadata": {},
   "source": [
    "### 평가지표"
   ]
  },
  {
   "cell_type": "code",
   "execution_count": 30,
   "id": "0412eb1f-f4e0-4472-90c2-acbc44b95a0c",
   "metadata": {},
   "outputs": [],
   "source": [
    "def ndcg_k_inf(actual, predicted, topk):\n",
    "    res = 0\n",
    "    k = min(topk, len(actual))\n",
    "    idcg = idcg_k(k)\n",
    "    dcg_k = sum(\n",
    "        [\n",
    "            int(predicted[j] in set(actual)) / math.log(j + 2, 2)\n",
    "            for j in range(topk)\n",
    "        ]\n",
    "    )\n",
    "    res += dcg_k / idcg\n",
    "    if len(actual):\n",
    "        return res / float(len(actual))\n",
    "    else:\n",
    "        return 0\n",
    "\n",
    "# Calculates the ideal discounted cumulative gain at k\n",
    "def idcg_k(k):\n",
    "    res = sum([1.0 / math.log(i + 2, 2) for i in range(k)])\n",
    "    if not res:\n",
    "        return 1.0\n",
    "    else:\n",
    "        return res\n",
    "\n",
    "def recall_at_k_inf(actual, predicted, topk):\n",
    "    act_set = set(actual)\n",
    "    pred_set = set(predicted[:topk])\n",
    "    if len(act_set):\n",
    "        if len(act_set) == 0:\n",
    "            print('1')\n",
    "        sum_recall = len(act_set & pred_set) / float(len(act_set))\n",
    "    else:\n",
    "        sum_recall = 0\n",
    "    return sum_recall"
   ]
  },
  {
   "cell_type": "code",
   "execution_count": 31,
   "id": "e60c8580-7996-497b-96a4-04bedd64303d",
   "metadata": {},
   "outputs": [
    {
     "data": {
      "text/plain": [
       "75"
      ]
     },
     "execution_count": 31,
     "metadata": {},
     "output_type": "execute_result"
    }
   ],
   "source": [
    "inter_mat[0].shape[0]"
   ]
  },
  {
   "cell_type": "code",
   "execution_count": 32,
   "id": "94375011-1724-4b3e-851e-41b877880ce2",
   "metadata": {},
   "outputs": [
    {
     "data": {
      "text/plain": [
       "array([0., 0., 0., 0., 0., 0., 0., 0., 0., 0., 0., 0., 0., 0., 0., 0., 0.,\n",
       "       0., 0., 0., 0., 0., 0., 0., 0., 0., 0., 0., 0., 0., 0., 0., 0., 0.,\n",
       "       0., 0., 0., 0., 0., 0., 0., 0., 0., 0., 0., 0., 0., 0., 0., 0., 0.,\n",
       "       0., 0., 0., 0., 0., 0., 0., 0., 0., 0., 0., 0., 0., 0., 0., 0., 0.,\n",
       "       0., 0., 0., 0., 0., 0., 0.])"
      ]
     },
     "execution_count": 32,
     "metadata": {},
     "output_type": "execute_result"
    }
   ],
   "source": [
    "np.zeros(75)"
   ]
  },
  {
   "cell_type": "code",
   "execution_count": 33,
   "id": "8c5abc76-e97c-4162-bf21-24a274ebb3e6",
   "metadata": {},
   "outputs": [
    {
     "name": "stdout",
     "output_type": "stream",
     "text": [
      "ndcg = 0.018406424249625315, recall@10 = 0.16810113650874958\n"
     ]
    }
   ],
   "source": [
    "topk = 10\n",
    "ndcg_sum = 0\n",
    "recall_sum = 0\n",
    "ndcg_count = 0\n",
    "recall_count = 0\n",
    "\n",
    "for x_ans in inter_mat:\n",
    "    x_ans = torch.tensor(x_ans, dtype = torch.float32).to(device)\n",
    "    \n",
    "    # answers = x_ans.cpu().numpy().argsort()[x_ans.cpu().numpy() == 1][-topk:][::-1]\n",
    "    answers = x_ans.cpu().numpy().argsort()[-topk:][::-1]\n",
    "    \n",
    "    # print(answers)\n",
    "    # x_test = torch.tensor(np.zeros(x_ans.shape[0]), dtype = torch.float32).to(device)\n",
    "    x_test = np.ones(x_ans.shape[0])\n",
    "    x_test[x_ans.cpu().numpy() == 0] = 0\n",
    "    x_test[answers] = 0\n",
    "\n",
    "    x_test = torch.tensor(x_test, dtype = torch.float32).to(device)\n",
    "    \n",
    "    # 모델 에측 맥주 평점\n",
    "    rating_pred = model(x_test)\n",
    "\n",
    "    rating_pred = rating_pred.cpu().data.numpy().copy()\n",
    "    \n",
    "    # user가 리뷰를 남긴 맥주 추천하고 싶지 않을 때 사용\n",
    "\n",
    "    # if novelty:\n",
    "    # 좋아요, 싫어요로 직접 평가한 맥주는 다시 추천하지 않도록 설정\n",
    "    # rating_pred_kor[x_test_kor.cpu().numpy() == rating_list[0]] = rating_pred_kor.min()\n",
    "    # rating_pred_kor[x_test_kor.cpu().numpy() == rating_list[2]] = rating_pred_kor.min()\n",
    "    rating_pred[x_ans.cpu().numpy() > 0] = rating_pred.min()\n",
    "    # print(rating_pred)\n",
    "\n",
    "    # topk 맥주 index\n",
    "    ind = np.argpartition(rating_pred, -topk)[-topk:]\n",
    "    # print(ind)\n",
    "\n",
    "    # topk 맥주 index별 평점\n",
    "    arr_ind = rating_pred[ind]\n",
    "    # print(arr_ind)\n",
    "\n",
    "    # 평점 기준으로 내림차순으로 정렬\n",
    "    arr_ind_argsort = np.argsort(arr_ind)[::-1]\n",
    "    # print(arr_ind_argsort)\n",
    "\n",
    "    # rating 내림차순 모델 예측 topk 맥주 index \n",
    "    topk_pred_list = ind[arr_ind_argsort]\n",
    "    # print(topk_pred_list)\n",
    "\n",
    "    # rating 내림차순 모델 예측 맥주 평점 중 topk개\n",
    "    topk_rating_list = rating_pred[topk_pred_list] #rating_pred[np.arange(len(rating_pred))[:, None], ind]\n",
    "    # print(topk_rating_list)\n",
    "    \n",
    "    ndcg = ndcg_k_inf(answers, topk_pred_list, topk)\n",
    "    recall = recall_at_k_inf(answers, topk_pred_list, topk)\n",
    "\n",
    "    if ndcg != 0:\n",
    "        ndcg_count += 1\n",
    "        ndcg_sum += ndcg\n",
    "        \n",
    "    if recall != 0:\n",
    "        recall_count += 1\n",
    "        recall_sum += recall\n",
    "        \n",
    "ndcg_sum /= ndcg_count\n",
    "recall_sum /= recall_count\n",
    "\n",
    "print(f'ndcg = {ndcg_sum}, recall@{topk} = {recall_sum}')"
   ]
  },
  {
   "cell_type": "code",
   "execution_count": 34,
   "id": "69d3bed9-a5ac-4bb8-8651-02ab4c5b2f17",
   "metadata": {},
   "outputs": [],
   "source": [
    "# 웹사이트 input\n",
    "# x_test = torch.tensor([1.9, 0. , 0. , 1.5, 2.2, 2.1, 3.5, 1.9, 1.4, 3.4, 2.8, 0. , 0. ,\n",
    "#        3.3, 0. , 3.6, 1.7, 1.6, 3.5, 3.8, 2.8, 2.2, 0. , 2.9, 3. , 3. ,\n",
    "#        3.4, 3.3, 0. , 0. , 2. , 2.4, 0. , 1.8, 0. , 2.3, 0. , 0. , 0. ,\n",
    "#        0. , 0. , 0. , 0. , 0. , 0. , 0. , 3.2, 0. , 0. , 0. , 0. , 3. ,\n",
    "#        3.1, 0. , 1.9, 3.7, 2. , 0. , 3.8, 0. , 0. , 0. , 0. , 0. , 0. ,\n",
    "#        0. , 0. , 0. , 0. , 0. , 3. , 1.8, 0. , 0. , 0. , 0. , 0. , 0. ,\n",
    "#        0. , 0. , 0. ]).to(device)\n",
    "\n",
    "\n",
    "num_item = data['item'].nunique()\n",
    "\n",
    "# 한국 맥주 평가\n",
    "# rating_list = [5.0, 2.76, 0.5] # 좋아요, 몰라요, 싫어요\n",
    "\n",
    "rating_list = [1.0, 0, 0] # 좋아요, 몰라요, 싫어요\n",
    "# show_list = np.random.choice(data['item_id_idx'].unique(), 29, replace=False) # 임의로 29개 추출\n",
    "\n",
    "# beer_pick = [473, 37, 268, 390, 729, 86387, 1478, 730] # 민철님\n",
    "# beer_pick = [730, 268685, 37] #칭따오, 타이거, 블루문, 블랑, # 아현님 동생분\n",
    "# beer_pick = [251, 2228, 473, 4007, 1267, 86387, 730] #경태\n",
    "# beer_pick = [709, 1267, 37, 315443, 717] #동석님\n",
    "# beer_pick = [4007, 72025, 37, 399, 390]\n",
    "# beer_pick = [30913,  814, 4007, 37, 390, 717, 35424] #승태님\n",
    "# beer_pick = [814, 135361, 73158, 632627, 86387]\n",
    "beer_pick = [    37,     55, 390,    703,    715,\n",
    "          729,    730,   1478,   1486,  34662,   2516, 169964]\n",
    "\n",
    "x_test = torch.zeros(num_item).to(device) # 0으로 초기화\n",
    "\n",
    "# for beer in show_list:\n",
    "#     x_test[beer] = random.choice(rating_list) # 29개에 대해서 임의로 평가\n",
    "    \n",
    "for beer_id in beer_pick:\n",
    "    beer = item_le.transform([beer_id])\n",
    "    x_test[beer] = 1 \n",
    "# 나머지 맥주 중 일부 평가\n",
    "# not_kor_rating_list = [1.0, 0.67, 0.1]\n",
    "# not_kor_idx = np.delete(np.arange(num_item), kor_beer_idx)\n",
    "# not_kor_choice = np.random.randint(int(len(not_kor_idx) * 0.3))\n",
    "# not_kor_list = np.random.choice(not_kor_idx, not_kor_choice , replace=False) \n",
    "\n",
    "# for beer in not_kor_list:\n",
    "#     x_test[beer] = random.choice(not_kor_rating_list)\n",
    "\n",
    "# for i in not_show_list:\n",
    "#     style = data[data['item_id_idx'] == i]['label'].unique()[0]\n",
    "#     rating = show_df[show_df['label'] == style]['rating'].mean()\n",
    "    \n",
    "#     if np.isnan(rating):\n",
    "#         rating = rating_list[1] # style로 점수를 채울 수 없는 경우 몰라요로 채운다\n",
    "#     x_test[i] = rating\n",
    "#     # print(rating)\n",
    "\n"
   ]
  },
  {
   "cell_type": "code",
   "execution_count": 35,
   "id": "90825893-77b9-4bff-9478-2afd7c44dd5c",
   "metadata": {},
   "outputs": [
    {
     "name": "stdout",
     "output_type": "stream",
     "text": [
      "[32 25 60 40]\n",
      "[0.67883617 0.6301462  0.609804   0.52452725]\n"
     ]
    }
   ],
   "source": [
    "# 추천 맥주 개수\n",
    "topk = 4\n",
    "\n",
    "# 모델 에측 맥주 평점\n",
    "rating_pred = model(x_test)\n",
    "\n",
    "rating_pred = rating_pred.cpu().data.numpy().copy()\n",
    "# print(rating_pred)\n",
    "\n",
    "# rating_pred_kor = rating_pred[kor_beer_idx]\n",
    "# x_test_kor = x_test[kor_beer_idx]\n",
    "# batch_user_index = user_ids.cpu().numpy()\n",
    "\n",
    "\n",
    "answers = x_test.cpu().numpy().argsort()[-topk:][::-1]\n",
    "# print(answers)\n",
    "\n",
    "# user가 리뷰를 남긴 맥주 추천하고 싶지 않을 때 사용\n",
    "\n",
    "# if novelty:\n",
    "# 좋아요, 싫어요로 직접 평가한 맥주는 다시 추천하지 않도록 설정\n",
    "# rating_pred_kor[x_test.cpu().numpy() == rating_list[0]] = rating_pred_kor.min()\n",
    "# rating_pred_kor[x_test_kor.cpu().numpy() == rating_list[2]] = rating_pred_kor.min()\n",
    "rating_pred[x_test.cpu().numpy() > 0] = rating_pred.min()\n",
    "# print(rating_pred)\n",
    "\n",
    "# topk 맥주 index\n",
    "ind = np.argpartition(rating_pred, -topk)[-topk:]\n",
    "# print(ind)\n",
    "\n",
    "# topk 맥주 index별 평점\n",
    "arr_ind = rating_pred[ind]\n",
    "# print(arr_ind)\n",
    "\n",
    "# 평점 기준으로 내림차순으로 정렬\n",
    "arr_ind_argsort = np.argsort(arr_ind)[::-1]\n",
    "# print(arr_ind_argsort)\n",
    "\n",
    "# rating 내림차순 모델 예측 topk 맥주 index \n",
    "topk_pred_list = ind[arr_ind_argsort]\n",
    "print(topk_pred_list)\n",
    "\n",
    "# rating 내림차순 모델 예측 맥주 평점 중 topk개\n",
    "topk_rating_list = rating_pred[topk_pred_list] #rating_pred[np.arange(len(rating_pred))[:, None], ind]\n",
    "print(topk_rating_list)"
   ]
  },
  {
   "cell_type": "code",
   "execution_count": 36,
   "id": "3bc6f34e-9951-4feb-8035-722319024bc9",
   "metadata": {},
   "outputs": [
    {
     "data": {
      "text/plain": [
       "array([32, 25, 60, 40])"
      ]
     },
     "execution_count": 36,
     "metadata": {},
     "output_type": "execute_result"
    }
   ],
   "source": [
    "# 모델 예측 선호 맥주 top4\n",
    "topk_pred_list"
   ]
  },
  {
   "cell_type": "code",
   "execution_count": 37,
   "id": "11f57e89-f6fd-4a3d-a989-4b2b229768e3",
   "metadata": {},
   "outputs": [
    {
     "data": {
      "text/plain": [
       "array([ 0, 65, 23, 16])"
      ]
     },
     "execution_count": 37,
     "metadata": {},
     "output_type": "execute_result"
    }
   ],
   "source": [
    "# 유저 실제 선호 맥주 top4\n",
    "answers"
   ]
  },
  {
   "cell_type": "code",
   "execution_count": 38,
   "id": "b30f5bdb-4698-47b6-8246-bba8660ac7fc",
   "metadata": {},
   "outputs": [
    {
     "data": {
      "text/plain": [
       "array([0.67883617, 0.6301462 , 0.609804  , 0.52452725], dtype=float32)"
      ]
     },
     "execution_count": 38,
     "metadata": {},
     "output_type": "execute_result"
    }
   ],
   "source": [
    "rating_pred[topk_pred_list]"
   ]
  },
  {
   "cell_type": "code",
   "execution_count": 184,
   "id": "ff0240f1-a8af-4232-9094-422768412b90",
   "metadata": {},
   "outputs": [],
   "source": [
    "# label_list = ['good', 'unknown', 'bad']\n",
    "\n",
    "# for i, rating in enumerate(rating_list):\n",
    "#     print(label_list[i])\n",
    "#     print(list(sorted([rating_pred[i] for i in np.where(x_test.cpu().numpy() == rating)[0]], reverse=True)))\n",
    "#     print()"
   ]
  },
  {
   "cell_type": "code",
   "execution_count": 110,
   "id": "e557d852-5b65-4b47-be97-e3184535d82b",
   "metadata": {},
   "outputs": [],
   "source": [
    "# label_list = ['good', 'unknown', 'bad']\n",
    "\n",
    "# fig, ax = plt.subplots(1, 1, figsize=(10, 5))\n",
    "\n",
    "# for i, rating in enumerate(rating_list):\n",
    "    \n",
    "#     ax = sns.kdeplot(sorted([rating_pred[i] for i in np.where(x_test.cpu().numpy() == rating)[0]], reverse=True), label = label_list[i], fill = True)\n",
    "\n",
    "# plt.legend()\n",
    "# plt.show()"
   ]
  },
  {
   "cell_type": "code",
   "execution_count": 39,
   "id": "bcbf81ba-6bde-4716-bd16-706bd7c7633c",
   "metadata": {},
   "outputs": [
    {
     "data": {
      "text/plain": [
       "<AxesSubplot:ylabel='Count'>"
      ]
     },
     "execution_count": 39,
     "metadata": {},
     "output_type": "execute_result"
    },
    {
     "data": {
      "image/png": "[encoded data removed]",
      "text/plain": [
       "<Figure size 432x288 with 1 Axes>"
      ]
     },
     "metadata": {
      "needs_background": "light"
     },
     "output_type": "display_data"
    }
   ],
   "source": [
    "sns.histplot(x_test.cpu().numpy(), bins = 10)"
   ]
  },
  {
   "cell_type": "code",
   "execution_count": 40,
   "id": "c65b32b9-bebf-42ac-9fec-e992862357db",
   "metadata": {},
   "outputs": [
    {
     "data": {
      "text/plain": [
       "<AxesSubplot:ylabel='Count'>"
      ]
     },
     "execution_count": 40,
     "metadata": {},
     "output_type": "execute_result"
    },
    {
     "data": {
      "image/png": "[encoded data removed]",
      "text/plain": [
       "<Figure size 432x288 with 1 Axes>"
      ]
     },
     "metadata": {
      "needs_background": "light"
     },
     "output_type": "display_data"
    }
   ],
   "source": [
    "sns.histplot(rating_pred, bins = 10)"
   ]
  },
  {
   "cell_type": "code",
   "execution_count": 41,
   "id": "b6f3abd2-16da-4e7d-8d4c-d55bca913da1",
   "metadata": {},
   "outputs": [
    {
     "data": {
      "text/plain": [
       "array([2.98953499e-04, 2.98953499e-04, 1.16922431e-01, 3.04759499e-02,\n",
       "       2.11884901e-01, 2.98953499e-04, 1.04062654e-01, 1.96821205e-02,\n",
       "       1.91519380e-01, 2.75508374e-01, 2.98953499e-04, 5.99620752e-02,\n",
       "       2.98953499e-04, 4.91886050e-01, 8.16490427e-02, 2.98953499e-04,\n",
       "       2.98953499e-04, 4.05892491e-01, 6.22720420e-02, 9.84857325e-04,\n",
       "       2.75823653e-01, 3.63191850e-02, 2.98953499e-04, 2.98953499e-04,\n",
       "       5.01590908e-01, 6.30146205e-01, 2.92056967e-02, 3.73634510e-02,\n",
       "       2.98953499e-04, 1.63885623e-01, 2.31554538e-01, 2.45265797e-01,\n",
       "       6.78836167e-01, 9.54531282e-02, 1.53562967e-02, 7.95524847e-03,\n",
       "       1.60265826e-02, 7.09579065e-02, 7.25433230e-02, 2.76940376e-01,\n",
       "       5.24527252e-01, 5.02622202e-02, 4.49743569e-02, 2.88607199e-02,\n",
       "       2.75782079e-01, 3.72313857e-02, 1.11574948e-01, 2.98953499e-04,\n",
       "       2.92237401e-01, 3.89859416e-02, 6.87166303e-02, 8.58756131e-04,\n",
       "       2.45505571e-02, 1.48476264e-03, 5.71862049e-02, 1.29697123e-03,\n",
       "       9.74965394e-02, 4.04547638e-04, 3.81934308e-02, 1.56373791e-02,\n",
       "       6.09803975e-01, 3.08504812e-02, 1.33762020e-03, 3.16804089e-02,\n",
       "       1.85091961e-02, 2.98953499e-04, 9.89353191e-03, 8.73731226e-02,\n",
       "       1.42703834e-03, 5.84727675e-02, 4.86560017e-01, 1.18055813e-01,\n",
       "       2.98953499e-04, 4.96642478e-02, 6.87630265e-04], dtype=float32)"
      ]
     },
     "execution_count": 41,
     "metadata": {},
     "output_type": "execute_result"
    }
   ],
   "source": [
    "# 모델 예측 rating 점수\n",
    "rating_pred"
   ]
  },
  {
   "cell_type": "code",
   "execution_count": 42,
   "id": "c1f9edd6-a542-4479-9be5-6348791a9ef1",
   "metadata": {},
   "outputs": [
    {
     "data": {
      "text/plain": [
       "tensor([1., 1., 0., 0., 0., 1., 0., 0., 0., 0., 1., 0., 1., 0., 0., 1., 1., 0.,\n",
       "        0., 0., 0., 0., 1., 1., 0., 0., 0., 0., 1., 0., 0., 0., 0., 0., 0., 0.,\n",
       "        0., 0., 0., 0., 0., 0., 0., 0., 0., 0., 0., 1., 0., 0., 0., 0., 0., 0.,\n",
       "        0., 0., 0., 0., 0., 0., 0., 0., 0., 0., 0., 1., 0., 0., 0., 0., 0., 0.,\n",
       "        0., 0., 0.], device='cuda:0')"
      ]
     },
     "execution_count": 42,
     "metadata": {},
     "output_type": "execute_result"
    }
   ],
   "source": [
    "x_test"
   ]
  },
  {
   "cell_type": "code",
   "execution_count": 43,
   "id": "ad5e0207-b8de-469b-8326-d857ca34f03d",
   "metadata": {},
   "outputs": [
    {
     "data": {
      "text/plain": [
       "[37, 55, 390, 703, 715, 729, 730, 1478, 1486, 34662, 2516, 169964]"
      ]
     },
     "execution_count": 43,
     "metadata": {},
     "output_type": "execute_result"
    }
   ],
   "source": [
    "beer_pick"
   ]
  },
  {
   "cell_type": "code",
   "execution_count": 44,
   "id": "468b0d25-c614-467e-ab62-63a9b586169e",
   "metadata": {},
   "outputs": [
    {
     "data": {
      "text/plain": [
       "['https://www.ratebeer.com/beer/135361/',\n",
       " 'https://www.ratebeer.com/beer/2468/',\n",
       " 'https://www.ratebeer.com/beer/3126/',\n",
       " 'https://www.ratebeer.com/beer/7656/']"
      ]
     },
     "execution_count": 44,
     "metadata": {},
     "output_type": "execute_result"
    }
   ],
   "source": [
    "# image url\n",
    "[f'https://www.ratebeer.com/beer/{i}/' for i in data[data['item_id_idx'].isin(topk_pred_list)]['item'].unique()]"
   ]
  },
  {
   "cell_type": "code",
   "execution_count": 46,
   "id": "6046ffbc-16b6-4f08-b6a4-3b646548a012",
   "metadata": {},
   "outputs": [],
   "source": [
    "data[['item', 'item_id_idx']].sort_values(by = ['item_id_idx']).groupby('item').head(1).to_csv('../../../data/ratebeer_item_label_encoding.csv', index = False)"
   ]
  },
  {
   "cell_type": "markdown",
   "id": "2696b346-a8d0-43eb-b0c2-270dad50c4d4",
   "metadata": {},
   "source": [
    "### 평가지표 점수"
   ]
  },
  {
   "cell_type": "code",
   "execution_count": null,
   "id": "4e81f064-cf8e-4188-bcd0-905ef1d81419",
   "metadata": {},
   "outputs": [],
   "source": [
    "def ndcg_k_inf(actual, predicted, topk):\n",
    "    res = 0\n",
    "    k = min(topk, len(actual))\n",
    "    idcg = idcg_k(k)\n",
    "    dcg_k = sum(\n",
    "        [\n",
    "            int(predicted[j] in set(actual)) / math.log(j + 2, 2)\n",
    "            for j in range(topk)\n",
    "        ]\n",
    "    )\n",
    "    res += dcg_k / idcg\n",
    "    return res / float(len(actual))\n",
    "\n",
    "# Calculates the ideal discounted cumulative gain at k\n",
    "def idcg_k(k):\n",
    "    res = sum([1.0 / math.log(i + 2, 2) for i in range(k)])\n",
    "    if not res:\n",
    "        return 1.0\n",
    "    else:\n",
    "        return res\n",
    "\n",
    "def recall_at_k_inf(actual, predicted, topk):\n",
    "    act_set = set(actual)\n",
    "    pred_set = set(predicted[:topk])\n",
    "    if len(act_set) != 0:\n",
    "        sum_recall = len(act_set & pred_set) / float(len(act_set))\n",
    "        \n",
    "    return sum_recall"
   ]
  },
  {
   "cell_type": "code",
   "execution_count": null,
   "id": "6ceded6d-5fd8-4038-844c-918bdf15c77f",
   "metadata": {},
   "outputs": [],
   "source": [
    "recall_at_k_inf(answers, topk_pred_list, 4)"
   ]
  },
  {
   "cell_type": "code",
   "execution_count": null,
   "id": "f9b9cb9a-5b0f-4477-9a7e-8a8caa35a1c0",
   "metadata": {},
   "outputs": [],
   "source": [
    "ndcg_k_inf(answers, topk_pred_list, 4)"
   ]
  },
  {
   "cell_type": "code",
   "execution_count": null,
   "id": "6d8a63f7-b824-4a2b-95fc-d0eee870e298",
   "metadata": {},
   "outputs": [],
   "source": [
    "data"
   ]
  },
  {
   "cell_type": "code",
   "execution_count": 97,
   "id": "454bb394-0e01-4e4e-803e-818850a8f3f1",
   "metadata": {},
   "outputs": [],
   "source": [
    "data.to_csv('../data/ratebeer_implicit_label_encoding.csv', index = False)"
   ]
  },
  {
   "cell_type": "code",
   "execution_count": null,
   "id": "83f1f813-2c8d-485e-a582-ec983813cd7f",
   "metadata": {},
   "outputs": [],
   "source": []
  }
 ],
 "metadata": {
  "kernelspec": {
   "display_name": "beer",
   "language": "python",
   "name": "beer"
  },
  "language_info": {
   "codemirror_mode": {
    "name": "ipython",
    "version": 3
   },
   "file_extension": ".py",
   "mimetype": "text/x-python",
   "name": "python",
   "nbconvert_exporter": "python",
   "pygments_lexer": "ipython3",
   "version": "3.8.13"
  }
 },
 "nbformat": 4,
 "nbformat_minor": 5
}
