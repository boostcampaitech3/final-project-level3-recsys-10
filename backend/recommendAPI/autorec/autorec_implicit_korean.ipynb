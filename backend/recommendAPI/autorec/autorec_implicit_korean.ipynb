{
 "cells": [
  {
   "cell_type": "code",
   "execution_count": 1,
   "id": "29bcbd9c-2b94-4940-ac5e-cc1bf18cb2cd",
   "metadata": {},
   "outputs": [],
   "source": [
    "import torch\n",
    "import torch.nn as nn\n",
    "import torch.optim as optim\n",
    "from torch.utils.data import DataLoader, Dataset\n",
    "\n",
    "import pandas as pd\n",
    "import numpy as np\n",
    "import matplotlib.pyplot as plt\n",
    "import random\n",
    "import math\n",
    "import seaborn as sns\n",
    "import os\n",
    "from tqdm import tqdm\n",
    "\n",
    "%matplotlib inline\n",
    "\n",
    "from sklearn.model_selection import train_test_split\n",
    "from sklearn.preprocessing import LabelEncoder\n",
    "\n",
    "import warnings\n",
    "warnings.filterwarnings(action='ignore')"
   ]
  },
  {
   "cell_type": "markdown",
   "id": "5510b252-7581-4003-9389-f51ab4fb842b",
   "metadata": {},
   "source": [
    "## dataset"
   ]
  },
  {
   "cell_type": "code",
   "execution_count": 2,
   "id": "860cc5ff-db1f-4de7-9705-a8cfc2a785cb",
   "metadata": {},
   "outputs": [],
   "source": [
    "ratebeer = pd.read_csv(\"../data/train_ratebeer_without_text.csv\")"
   ]
  },
  {
   "cell_type": "markdown",
   "id": "80b1de32-db52-40b7-a3e9-ab2efb39ab43",
   "metadata": {},
   "source": [
    "### normalize"
   ]
  },
  {
   "cell_type": "code",
   "execution_count": null,
   "id": "95067f10-b5e6-4297-9f14-0cef496f2e4c",
   "metadata": {},
   "outputs": [],
   "source": [
    "# ratebeer['review_score'] = ratebeer.groupby('profile_name')['review_score'].transform(lambda x: ((x - x.min() + 1e-6) / (x.max() - x.min() + 1e-6)))"
   ]
  },
  {
   "cell_type": "markdown",
   "id": "4c2f2b12-940d-4e82-9253-f938049bf9c5",
   "metadata": {},
   "source": [
    "### 맥주 점수 분포 체크"
   ]
  },
  {
   "cell_type": "code",
   "execution_count": 3,
   "id": "fd0a6abf-7013-4757-9af0-f5b60cded026",
   "metadata": {},
   "outputs": [
    {
     "name": "stdout",
     "output_type": "stream",
     "text": [
      "<class 'pandas.core.frame.DataFrame'>\n",
      "RangeIndex: 2931605 entries, 0 to 2931604\n",
      "Data columns (total 15 columns):\n",
      " #   Column        Dtype  \n",
      "---  ------        -----  \n",
      " 0   review_score  float64\n",
      " 1   review_time   object \n",
      " 2   appearance    float64\n",
      " 3   aroma         float64\n",
      " 4   palate        float64\n",
      " 5   taste         float64\n",
      " 6   overall       float64\n",
      " 7   profile_name  object \n",
      " 8   beer_name     object \n",
      " 9   beer_id       int64  \n",
      " 10  brewer_id     int64  \n",
      " 11  abv           float64\n",
      " 12  style         object \n",
      " 13  image_url     object \n",
      " 14  user_id       int64  \n",
      "dtypes: float64(7), int64(3), object(5)\n",
      "memory usage: 335.5+ MB\n"
     ]
    }
   ],
   "source": [
    "ratebeer.info()"
   ]
  },
  {
   "cell_type": "code",
   "execution_count": 4,
   "id": "b6acb070-8bbc-4178-b58d-3dffd03befd5",
   "metadata": {},
   "outputs": [
    {
     "data": {
      "text/plain": [
       "array([3.9, 4.1, 3.8, 4. , 4.2, 3.7, 4.5, 4.8, 3.6, 4.7, 4.3, 4.9, 3.4,\n",
       "       4.4, 5. , 3.5, 4.6, 3.3, 3. , 3.2, 2.9, 3.1, 2.5, 2.4, 2.7, 2.6,\n",
       "       2.3, 2.8, 1.8, 1.9, 1.5, 1.6, 2.2, 2.1, 2. , 1.4, 1.7, 1.3, 0.9,\n",
       "       1. , 0.5, 1.2, 1.1, 0.8, 0.6, 0.7])"
      ]
     },
     "execution_count": 4,
     "metadata": {},
     "output_type": "execute_result"
    }
   ],
   "source": [
    "ratebeer['review_score'].unique()"
   ]
  },
  {
   "cell_type": "code",
   "execution_count": 5,
   "id": "1f8e2bf1-1da8-4ae2-bded-64827214d372",
   "metadata": {},
   "outputs": [
    {
     "data": {
      "text/plain": [
       "count    2.931605e+06\n",
       "mean     3.369230e+00\n",
       "std      7.281425e-01\n",
       "min      5.000000e-01\n",
       "25%      3.000000e+00\n",
       "50%      3.500000e+00\n",
       "75%      3.800000e+00\n",
       "max      5.000000e+00\n",
       "Name: review_score, dtype: float64"
      ]
     },
     "execution_count": 5,
     "metadata": {},
     "output_type": "execute_result"
    }
   ],
   "source": [
    "ratebeer['review_score'].describe()"
   ]
  },
  {
   "cell_type": "code",
   "execution_count": 6,
   "id": "0e160b3d-4a91-4ab8-9336-8291def243b9",
   "metadata": {},
   "outputs": [
    {
     "data": {
      "text/plain": [
       "<AxesSubplot:>"
      ]
     },
     "execution_count": 6,
     "metadata": {},
     "output_type": "execute_result"
    },
    {
     "data": {
      "image/png": "[encoded data removed]",
      "text/plain": [
       "<Figure size 432x288 with 1 Axes>"
      ]
     },
     "metadata": {
      "needs_background": "light"
     },
     "output_type": "display_data"
    }
   ],
   "source": [
    "ratebeer['review_score'].hist()"
   ]
  },
  {
   "cell_type": "code",
   "execution_count": 7,
   "id": "b91c7c8b-53ad-4384-9deb-360e9d189019",
   "metadata": {},
   "outputs": [
    {
     "data": {
      "text/plain": [
       "<AxesSubplot:>"
      ]
     },
     "execution_count": 7,
     "metadata": {},
     "output_type": "execute_result"
    },
    {
     "data": {
      "image/png": "[encoded data removed]",
      "text/plain": [
       "<Figure size 432x288 with 1 Axes>"
      ]
     },
     "metadata": {
      "needs_background": "light"
     },
     "output_type": "display_data"
    }
   ],
   "source": [
    "ratebeer[['review_score']].boxplot()"
   ]
  },
  {
   "cell_type": "code",
   "execution_count": 8,
   "id": "8c54cb0f-14b9-4f44-9e8b-65ad9ad4c890",
   "metadata": {},
   "outputs": [
    {
     "data": {
      "text/plain": [
       "2931605"
      ]
     },
     "execution_count": 8,
     "metadata": {},
     "output_type": "execute_result"
    }
   ],
   "source": [
    "len(ratebeer)"
   ]
  },
  {
   "cell_type": "markdown",
   "id": "1ed65f32-cb28-44d0-9710-e0b9c7ce704e",
   "metadata": {},
   "source": [
    "### preprocessing"
   ]
  },
  {
   "cell_type": "code",
   "execution_count": 60,
   "id": "f3e0526b-0124-4902-bab4-c8de03d5bc6c",
   "metadata": {},
   "outputs": [],
   "source": [
    "def preprocessing_df(df):\n",
    "\n",
    "    \n",
    "    # item, user, rating만 추출\n",
    "    df = df[['beer_id', 'profile_name', 'review_score', 'image_url', 'style']]\n",
    "    df.rename(columns={'beer_id' : 'item', 'profile_name' : 'user', 'review_score' : 'rating'}, inplace = True) \n",
    "    \n",
    "    df['rating'] /= 5\n",
    "    df['rating_median'] = df.groupby('user')['rating'].transform('median')\n",
    "    df.loc[df['rating'] > df['rating_median'], 'rating'] = 1\n",
    "    df.loc[df['rating'] <= df['rating_median'], 'rating'] = 0\n",
    "    \n",
    "    # 유저 리뷰 수 개산\n",
    "    df['user/reviewcount'] = df.groupby('user')['user'].transform('count')\n",
    "    # 리뷰 수가 10개 이상인 유저만 남김 \n",
    "    df = df[(df['user/reviewcount'] >= 10)]\n",
    "    \n",
    "    df.drop(columns=['user/reviewcount'], inplace=True)\n",
    "    \n",
    "    num_users = df.user.unique().shape[0]\n",
    "    num_items = df.item.unique().shape[0]\n",
    "    return df, num_users, num_items"
   ]
  },
  {
   "cell_type": "code",
   "execution_count": 288,
   "id": "9b60695a-5699-423b-8490-f057cf730690",
   "metadata": {},
   "outputs": [],
   "source": [
    "# ratebeer[ratebeer['profile_name']=='Ungstrup']['review_score'].hist()"
   ]
  },
  {
   "cell_type": "markdown",
   "id": "479b2adc-0830-4c71-b53f-5ddba3cd7236",
   "metadata": {},
   "source": [
    "### Statistics of the Dataset"
   ]
  },
  {
   "cell_type": "code",
   "execution_count": 61,
   "id": "a0bab6d9-401f-43a9-ba4e-8b337841a466",
   "metadata": {},
   "outputs": [
    {
     "name": "stdout",
     "output_type": "stream",
     "text": [
      "number of users: 13224, number of items: 9336\n",
      "matrix sparsity: 0.977028\n",
      "     item        user  rating  \\\n",
      "0  131594   jmgreenuk     1.0   \n",
      "1  131594         Ron     1.0   \n",
      "2  131594     olberic     1.0   \n",
      "3  131594  bergstaden     1.0   \n",
      "4  131594      rumore     1.0   \n",
      "\n",
      "                                           image_url  \\\n",
      "0  https://res.cloudinary.com/ratebeer/image/uplo...   \n",
      "1  https://res.cloudinary.com/ratebeer/image/uplo...   \n",
      "2  https://res.cloudinary.com/ratebeer/image/uplo...   \n",
      "3  https://res.cloudinary.com/ratebeer/image/uplo...   \n",
      "4  https://res.cloudinary.com/ratebeer/image/uplo...   \n",
      "\n",
      "                           style  rating_median  \n",
      "0  Saison / Farmhouse / Grisette           0.68  \n",
      "1  Saison / Farmhouse / Grisette           0.64  \n",
      "2  Saison / Farmhouse / Grisette           0.68  \n",
      "3  Saison / Farmhouse / Grisette           0.70  \n",
      "4  Saison / Farmhouse / Grisette           0.68  \n"
     ]
    }
   ],
   "source": [
    "data, num_users, num_items = preprocessing_df(ratebeer)\n",
    "sparsity = 1 - len(data) / (num_users * num_items)\n",
    "print(f'number of users: {num_users}, number of items: {num_items}')\n",
    "print(f'matrix sparsity: {sparsity:f}')\n",
    "print(data.head())"
   ]
  },
  {
   "cell_type": "code",
   "execution_count": 11,
   "id": "f8b6cacf-81f5-41c8-be59-e6546393326a",
   "metadata": {},
   "outputs": [
    {
     "data": {
      "text/plain": [
       "count    2.836096e+06\n",
       "mean     4.585652e-01\n",
       "std      4.982803e-01\n",
       "min      0.000000e+00\n",
       "25%      0.000000e+00\n",
       "50%      0.000000e+00\n",
       "75%      1.000000e+00\n",
       "max      1.000000e+00\n",
       "Name: rating, dtype: float64"
      ]
     },
     "execution_count": 11,
     "metadata": {},
     "output_type": "execute_result"
    }
   ],
   "source": [
    "data['rating'].describe()"
   ]
  },
  {
   "cell_type": "code",
   "execution_count": 12,
   "id": "aa65b73b-fae4-49ab-b59a-3ee5652ef44d",
   "metadata": {},
   "outputs": [
    {
     "data": {
      "image/png": "[encoded data removed]",
      "text/plain": [
       "<Figure size 432x288 with 1 Axes>"
      ]
     },
     "metadata": {
      "needs_background": "light"
     },
     "output_type": "display_data"
    }
   ],
   "source": [
    "plt.hist(data['rating'], bins=5, ec='black')\n",
    "plt.xlabel('Rating')\n",
    "plt.ylabel('Count')\n",
    "plt.title('Distribution of Ratings in Ratebeer Beer')\n",
    "plt.show()"
   ]
  },
  {
   "cell_type": "markdown",
   "id": "7aa1a529-fea4-4a1f-bd00-72e45600f3a2",
   "metadata": {},
   "source": [
    "### 한국 편의점 맥주만"
   ]
  },
  {
   "cell_type": "code",
   "execution_count": 62,
   "id": "9dbc00fe-2245-44aa-ae70-ce35c43a3517",
   "metadata": {},
   "outputs": [],
   "source": [
    "kor_beer_list = np.array([ 8666,  75661, 614833, 169964,    251,  10726,   5588,   5571,\n",
    "                        703,   6668,   7656,   2228, 135361,    473,  36249,    709,\n",
    "                        12775, 143730,    742,   4007,  72025,  58275, 221535, 291276,\n",
    "                        2469,   2468, 553454,   1088,    721,  30913,    814,  75071,\n",
    "                        715,   1267,     55,  17334,     37, 493355,  64253,  34662,\n",
    "                        136165, 500620,  13833, 506847,  73158,    399,   5159,   3101,\n",
    "                        315443, 552713, 911382, 906973,    268, 550283, 271470,    390,\n",
    "                        71469,  35424,   4701,   2514,   2516, 288954,    405, 303473,\n",
    "                        136785,    647, 632627,   3029,    717, 553245, 580686, 252000,\n",
    "                        21936, 667837,   2811,    729,  71458, 634182,  86387,   1478,\n",
    "                        146878, 146725, 149060,  15747, 718172,   3126, 480225, 268685,\n",
    "                        730, 211962,  64518, 621308,   7580, 452525,   1417,   1486,\n",
    "                        221])\n",
    "\n",
    "data = data[data['item'].isin(kor_beer_list)]"
   ]
  },
  {
   "cell_type": "markdown",
   "id": "ac9a07d0-ab1a-4c6f-b321-fc0902cf00c0",
   "metadata": {},
   "source": [
    "### Label Encoding"
   ]
  },
  {
   "cell_type": "code",
   "execution_count": 63,
   "id": "f1506d94-641d-4cb5-afc0-27f58863a737",
   "metadata": {},
   "outputs": [],
   "source": [
    "user_le = LabelEncoder()\n",
    "item_le = LabelEncoder()\n",
    "data['user_id_idx'] = user_le.fit_transform(data['user'].values)\n",
    "data['item_id_idx'] = item_le.fit_transform(data['item'].values)\n",
    "\n",
    "num_users = data.user.nunique()\n",
    "num_items = data.item.nunique()\n",
    "# data.drop(columns=['user', 'item_id'], inplace=True)"
   ]
  },
  {
   "cell_type": "code",
   "execution_count": 64,
   "id": "a6d7f290-ac27-43d1-a817-8bb4f9a825f3",
   "metadata": {},
   "outputs": [
    {
     "data": {
      "text/plain": [
       "(9679, 83)"
      ]
     },
     "execution_count": 64,
     "metadata": {},
     "output_type": "execute_result"
    }
   ],
   "source": [
    "num_users, num_items"
   ]
  },
  {
   "cell_type": "markdown",
   "id": "07172e2f-530d-488c-a4d7-4f38efb9b5b7",
   "metadata": {},
   "source": [
    "### Loading the data"
   ]
  },
  {
   "cell_type": "code",
   "execution_count": 17,
   "id": "9328902d-9c4e-4d35-b7fe-e048040ba2ae",
   "metadata": {},
   "outputs": [],
   "source": [
    "class BeerDataset(Dataset):\n",
    "    def __init__(self, df, mode='train'):\n",
    "        self.df = df\n",
    "        self.mode = mode\n",
    "        self.train_size = 0.9\n",
    "        self.val_size = 0.1\n",
    "        # self.test_size = 1 - self.train_size - self.val_size \n",
    "\n",
    "        self.num_items = len(self.df['item_id_idx'].unique())\n",
    "        self.num_users = len(self.df['user_id_idx'].unique())\n",
    "        \n",
    "        n_val = int(self.num_users * self.val_size)\n",
    "#         n_test = int(self.num_users * self.test_size)\n",
    "        \n",
    "        np.random.seed(42)\n",
    "        \n",
    "        val_indices = set(np.random.choice(range(self.num_users), n_val, replace = False))\n",
    "        # test_indices = set(random.choices(list(set(range(self.num_users)) - val_indices), k=n_test))\n",
    "        train_indices = set(range(self.num_users)) - val_indices # - test_indices\n",
    "\n",
    "        \n",
    "        if self.mode == 'train':\n",
    "            self.df = self.df[self.df['user_id_idx'].isin(train_indices)]\n",
    "        elif self.mode == 'val':\n",
    "            self.df = self.df[self.df['user_id_idx'].isin(val_indices)]\n",
    "#         else:\n",
    "#             self.df = self.df[self.df['user_id_idx'].isin(test_indices)]\n",
    "        \n",
    "        \n",
    "        self.users = torch.tensor(self.df['user_id_idx'].values)\n",
    "        self.items = torch.tensor(self.df['item_id_idx'].values)\n",
    "        self.ratings = torch.tensor(self.df['rating'].values)\n",
    "        \n",
    "        self.inter_mat = self.make_inter_mat()\n",
    "    \n",
    "    def make_inter_mat(self):\n",
    "        inter_mat = np.zeros((self.num_users, self.num_items))\n",
    "        for user, item, rating in zip(self.users, self.items, self.ratings):\n",
    "            inter_mat[user][item] = rating\n",
    "            \n",
    "\n",
    "        return inter_mat\n",
    "\n",
    "    def __len__(self):\n",
    "        # return len(self.users)\n",
    "        return len(self.inter_mat)\n",
    "\n",
    "    def __getitem__(self, index):\n",
    "        # inter_mat = torch.tensor(self.inter_mat[self.users[index]]).float()\n",
    "        inter_mat = torch.tensor(self.inter_mat[index]).float()\n",
    "\n",
    "        return index, inter_mat"
   ]
  },
  {
   "cell_type": "markdown",
   "id": "a00cddbb-7c6a-4871-b796-92602f7f1ae4",
   "metadata": {},
   "source": [
    "### Autorec Model"
   ]
  },
  {
   "cell_type": "code",
   "execution_count": 18,
   "id": "824e9e06-921d-446f-a93a-767c7837c853",
   "metadata": {},
   "outputs": [],
   "source": [
    "class AutoRec(nn.Module):\n",
    "    def __init__(self, num_hidden, num_items, dropout=0.2):\n",
    "        super(AutoRec, self).__init__()\n",
    "        self.encoder = nn.Linear(num_items, num_hidden)\n",
    "        self.activate = nn.Sigmoid()\n",
    "        self.decoder = nn.Linear(num_hidden, num_items)\n",
    "        self.dropout = nn.Dropout(dropout)\n",
    "\n",
    "    def forward(self, mat):\n",
    "        hidden = self.dropout(self.activate(self.encoder(mat)))\n",
    "        pred = self.activate(self.decoder(hidden))\n",
    "        \n",
    "        return pred"
   ]
  },
  {
   "cell_type": "markdown",
   "id": "1c64864d-aab9-429b-b4b6-d5a319c7bafe",
   "metadata": {},
   "source": [
    "###  Model train, validation"
   ]
  },
  {
   "cell_type": "code",
   "execution_count": 19,
   "id": "2d670b0f-9ed0-4a9b-953b-832f67dcd695",
   "metadata": {},
   "outputs": [],
   "source": [
    "def train(model, train_iter, criterion, optm, device):\n",
    "    model.train() # to train mode\n",
    "    loss_sum = 0\n",
    "    loss_cal_count = 0\n",
    "\n",
    "    for _, inter_mat in train_iter:\n",
    "        inter_mat = inter_mat.to(device)    \n",
    "\n",
    "        preds = model(inter_mat)\n",
    "        loss = criterion(preds, inter_mat)\n",
    "\n",
    "        # Update\n",
    "        optm.zero_grad()      # reset gradient \n",
    "        loss.backward()      # backpropagate\n",
    "        optm.step()      # optimizer update\n",
    "        \n",
    "        if not np.isnan(loss.cpu().detach().numpy()):\n",
    "            loss_cal_count += 1\n",
    "            loss_sum += loss.item()\n",
    "            \n",
    "    loss_avg = loss_sum / loss_cal_count\n",
    "\n",
    "    return loss_avg"
   ]
  },
  {
   "cell_type": "code",
   "execution_count": 20,
   "id": "62571012-7682-460e-b4b6-174a11ea6a5b",
   "metadata": {},
   "outputs": [],
   "source": [
    "def validation(model, valid_iter, criterion, device):\n",
    "    \n",
    "    # np.random.seed(42)\n",
    "    \n",
    "    with torch.no_grad():\n",
    "        model.eval()\n",
    "        loss_sum = 0\n",
    "        loss_cal_count = 0\n",
    "        \n",
    "        for _, inter_mat in valid_iter:\n",
    "            inter_mat = inter_mat.to(device)\n",
    "            \n",
    "            # mask된 input으로 prediction 후 기존 정답 활용 loss값 계산\n",
    "            preds = model(inter_mat)\n",
    "            loss = criterion(preds, inter_mat)\n",
    "            \n",
    "            if not np.isnan(loss.cpu().numpy()):\n",
    "                loss_cal_count += 1\n",
    "                loss_sum += loss.item()\n",
    "      \n",
    "    loss_avg = loss_sum / loss_cal_count\n",
    "\n",
    "    return loss_avg"
   ]
  },
  {
   "cell_type": "code",
   "execution_count": 21,
   "id": "a8b51f04-17b8-4dcd-8f7c-55ebe883d1ec",
   "metadata": {},
   "outputs": [],
   "source": [
    "class AutoRec_loss_fn(nn.Module):\n",
    "\n",
    "    def __init__(self, loss_fn):\n",
    "        super(AutoRec_loss_fn, self).__init__()\n",
    "        self.loss_fn = loss_fn\n",
    "    \n",
    "    def forward(self, pred, y):\n",
    "        y_for_compute = y.clone().to('cpu')\n",
    "        index = np.where(y_for_compute > 0) # FILL HERE : USE np.where & y_for_compute. WARNING: y를 사용 시, y의 device가 gpu일 경우 오류 발생 #\n",
    "        loss = self.loss_fn(pred[index], y[index])\n",
    "        return loss"
   ]
  },
  {
   "cell_type": "code",
   "execution_count": 22,
   "id": "00a37b7a-7095-458c-8fc6-c7c0fe516018",
   "metadata": {},
   "outputs": [],
   "source": [
    "device = torch.device('cuda:0' if torch.cuda.is_available() else 'cpu')\n",
    "\n",
    "num_epochs = 50\n",
    "lr = 0.001\n",
    "batch_size = 16\n",
    "\n",
    "PATH = '../model/autorec_implicit_korean.pt'\n",
    "patience = 5\n",
    "\n",
    "num_items = data.item_id_idx.nunique()\n",
    "num_hidden = 40"
   ]
  },
  {
   "cell_type": "code",
   "execution_count": 23,
   "id": "d25de793-cb99-4cc4-9c40-0c7458946dd3",
   "metadata": {},
   "outputs": [],
   "source": [
    "train_dataset = BeerDataset(df=data, mode='train')\n",
    "val_dataset = BeerDataset(df=data, mode='val')\n",
    "\n",
    "train_dataloader = DataLoader(dataset=train_dataset, batch_size=batch_size, shuffle=True) \n",
    "val_dataloader = DataLoader(dataset=val_dataset, batch_size=1, shuffle=False)"
   ]
  },
  {
   "cell_type": "code",
   "execution_count": 24,
   "id": "bb92211c-ca43-431c-87f0-b86093d2a600",
   "metadata": {},
   "outputs": [],
   "source": [
    "model = AutoRec(num_hidden, num_items).to(device)\n",
    "# loss = AutoRec_loss_fn(nn.MSELoss().to(device)).to(device)\n",
    "# loss = nn.BCEWithLogitsLoss().to(device)\n",
    "loss = nn.BCELoss().to(device)\n",
    "optm = optim.Adam(model.parameters(),lr=lr)"
   ]
  },
  {
   "cell_type": "code",
   "execution_count": 25,
   "id": "bb46cd6f-589a-48e6-b97d-11b423ddda61",
   "metadata": {},
   "outputs": [],
   "source": [
    "class EarlyStopping:\n",
    "    \"\"\"주어진 patience 이후로 validation loss가 개선되지 않으면 학습을 조기 중지\"\"\"\n",
    "    def __init__(self, patience=7, verbose=False, delta=0, path='checkpoint.pt'):\n",
    "        \"\"\"\n",
    "        Args:\n",
    "            patience (int): validation loss가 개선된 후 기다리는 기간\n",
    "                            Default: 7\n",
    "            verbose (bool): True일 경우 각 validation loss의 개선 사항 메세지 출력\n",
    "                            Default: False\n",
    "            delta (float): 개선되었다고 인정되는 monitered quantity의 최소 변화\n",
    "                            Default: 0\n",
    "            path (str): checkpoint저장 경로\n",
    "                            Default: 'checkpoint.pt'\n",
    "        \"\"\"\n",
    "        self.patience = patience\n",
    "        self.verbose = verbose\n",
    "        self.counter = 0\n",
    "        self.best_score = None\n",
    "        self.early_stop = False\n",
    "        self.val_loss_min = np.Inf\n",
    "        self.delta = delta\n",
    "        self.path = path\n",
    "\n",
    "    def __call__(self, val_loss, model):\n",
    "\n",
    "        score = -val_loss\n",
    "\n",
    "        if self.best_score is None:\n",
    "            self.best_score = score\n",
    "            self.save_checkpoint(val_loss, model)\n",
    "        elif score < self.best_score + self.delta:\n",
    "            self.counter += 1\n",
    "            print(f'EarlyStopping counter: {self.counter} out of {self.patience}')\n",
    "            if self.counter >= self.patience:\n",
    "                self.early_stop = True\n",
    "        else:\n",
    "            self.best_score = score\n",
    "            self.save_checkpoint(val_loss, model)\n",
    "            self.counter = 0\n",
    "\n",
    "    def save_checkpoint(self, val_loss, model):\n",
    "        '''validation loss가 감소하면 모델을 저장한다.'''\n",
    "        if self.verbose:\n",
    "            print(f'Validation loss decreased ({self.val_loss_min:.6f} --> {val_loss:.6f}).  Saving model ...')\n",
    "        torch.save(model.state_dict(), self.path)\n",
    "        self.val_loss_min = val_loss"
   ]
  },
  {
   "cell_type": "code",
   "execution_count": 26,
   "id": "888f186e-1bb8-40d8-9815-4348378acba1",
   "metadata": {},
   "outputs": [
    {
     "name": "stderr",
     "output_type": "stream",
     "text": [
      "  2%|▎               | 1/50 [00:05<04:20,  5.33s/it]"
     ]
    },
    {
     "name": "stdout",
     "output_type": "stream",
     "text": [
      "Validation loss decreased (inf --> 0.036047).  Saving model ...\n",
      "epoch: 0, train Loss: 0.1523, test Loss: 0.0360\n"
     ]
    },
    {
     "name": "stderr",
     "output_type": "stream",
     "text": [
      "  4%|▋               | 2/50 [00:09<03:48,  4.76s/it]"
     ]
    },
    {
     "name": "stdout",
     "output_type": "stream",
     "text": [
      "Validation loss decreased (0.036047 --> 0.018714).  Saving model ...\n",
      "epoch: 1, train Loss: 0.0672, test Loss: 0.0187\n"
     ]
    },
    {
     "name": "stderr",
     "output_type": "stream",
     "text": [
      "  6%|▉               | 3/50 [00:14<03:36,  4.60s/it]"
     ]
    },
    {
     "name": "stdout",
     "output_type": "stream",
     "text": [
      "Validation loss decreased (0.018714 --> 0.012293).  Saving model ...\n",
      "epoch: 2, train Loss: 0.0553, test Loss: 0.0123\n"
     ]
    },
    {
     "name": "stderr",
     "output_type": "stream",
     "text": [
      "  8%|█▎              | 4/50 [00:18<03:28,  4.54s/it]"
     ]
    },
    {
     "name": "stdout",
     "output_type": "stream",
     "text": [
      "Validation loss decreased (0.012293 --> 0.009312).  Saving model ...\n",
      "epoch: 3, train Loss: 0.0486, test Loss: 0.0093\n"
     ]
    },
    {
     "name": "stderr",
     "output_type": "stream",
     "text": [
      " 10%|█▌              | 5/50 [00:23<03:28,  4.64s/it]"
     ]
    },
    {
     "name": "stdout",
     "output_type": "stream",
     "text": [
      "Validation loss decreased (0.009312 --> 0.007296).  Saving model ...\n",
      "epoch: 4, train Loss: 0.0422, test Loss: 0.0073\n"
     ]
    },
    {
     "name": "stderr",
     "output_type": "stream",
     "text": [
      " 12%|█▉              | 6/50 [00:27<03:20,  4.55s/it]"
     ]
    },
    {
     "name": "stdout",
     "output_type": "stream",
     "text": [
      "Validation loss decreased (0.007296 --> 0.005691).  Saving model ...\n",
      "epoch: 5, train Loss: 0.0358, test Loss: 0.0057\n"
     ]
    },
    {
     "name": "stderr",
     "output_type": "stream",
     "text": [
      " 14%|██▏             | 7/50 [00:32<03:13,  4.50s/it]"
     ]
    },
    {
     "name": "stdout",
     "output_type": "stream",
     "text": [
      "Validation loss decreased (0.005691 --> 0.004574).  Saving model ...\n",
      "epoch: 6, train Loss: 0.0307, test Loss: 0.0046\n"
     ]
    },
    {
     "name": "stderr",
     "output_type": "stream",
     "text": [
      " 16%|██▌             | 8/50 [00:36<03:08,  4.49s/it]"
     ]
    },
    {
     "name": "stdout",
     "output_type": "stream",
     "text": [
      "Validation loss decreased (0.004574 --> 0.003806).  Saving model ...\n",
      "epoch: 7, train Loss: 0.0268, test Loss: 0.0038\n"
     ]
    },
    {
     "name": "stderr",
     "output_type": "stream",
     "text": [
      " 18%|██▉             | 9/50 [00:41<03:05,  4.53s/it]"
     ]
    },
    {
     "name": "stdout",
     "output_type": "stream",
     "text": [
      "Validation loss decreased (0.003806 --> 0.003258).  Saving model ...\n",
      "epoch: 8, train Loss: 0.0239, test Loss: 0.0033\n"
     ]
    },
    {
     "name": "stderr",
     "output_type": "stream",
     "text": [
      " 20%|███            | 10/50 [00:45<03:00,  4.51s/it]"
     ]
    },
    {
     "name": "stdout",
     "output_type": "stream",
     "text": [
      "Validation loss decreased (0.003258 --> 0.002866).  Saving model ...\n",
      "epoch: 9, train Loss: 0.0217, test Loss: 0.0029\n"
     ]
    },
    {
     "name": "stderr",
     "output_type": "stream",
     "text": [
      " 22%|███▎           | 11/50 [00:50<02:54,  4.48s/it]"
     ]
    },
    {
     "name": "stdout",
     "output_type": "stream",
     "text": [
      "Validation loss decreased (0.002866 --> 0.002579).  Saving model ...\n",
      "epoch: 10, train Loss: 0.0200, test Loss: 0.0026\n"
     ]
    },
    {
     "name": "stderr",
     "output_type": "stream",
     "text": [
      " 24%|███▌           | 12/50 [00:54<02:50,  4.48s/it]"
     ]
    },
    {
     "name": "stdout",
     "output_type": "stream",
     "text": [
      "Validation loss decreased (0.002579 --> 0.002369).  Saving model ...\n",
      "epoch: 11, train Loss: 0.0186, test Loss: 0.0024\n"
     ]
    },
    {
     "name": "stderr",
     "output_type": "stream",
     "text": [
      " 26%|███▉           | 13/50 [00:59<02:45,  4.48s/it]"
     ]
    },
    {
     "name": "stdout",
     "output_type": "stream",
     "text": [
      "Validation loss decreased (0.002369 --> 0.002199).  Saving model ...\n",
      "epoch: 12, train Loss: 0.0174, test Loss: 0.0022\n"
     ]
    },
    {
     "name": "stderr",
     "output_type": "stream",
     "text": [
      " 28%|████▏          | 14/50 [01:03<02:40,  4.45s/it]"
     ]
    },
    {
     "name": "stdout",
     "output_type": "stream",
     "text": [
      "Validation loss decreased (0.002199 --> 0.002035).  Saving model ...\n",
      "epoch: 13, train Loss: 0.0166, test Loss: 0.0020\n"
     ]
    },
    {
     "name": "stderr",
     "output_type": "stream",
     "text": [
      " 30%|████▌          | 15/50 [01:07<02:35,  4.43s/it]"
     ]
    },
    {
     "name": "stdout",
     "output_type": "stream",
     "text": [
      "Validation loss decreased (0.002035 --> 0.001908).  Saving model ...\n",
      "epoch: 14, train Loss: 0.0158, test Loss: 0.0019\n"
     ]
    },
    {
     "name": "stderr",
     "output_type": "stream",
     "text": [
      " 32%|████▊          | 16/50 [01:12<02:31,  4.46s/it]"
     ]
    },
    {
     "name": "stdout",
     "output_type": "stream",
     "text": [
      "Validation loss decreased (0.001908 --> 0.001799).  Saving model ...\n",
      "epoch: 15, train Loss: 0.0148, test Loss: 0.0018\n"
     ]
    },
    {
     "name": "stderr",
     "output_type": "stream",
     "text": [
      " 34%|█████          | 17/50 [01:16<02:26,  4.45s/it]"
     ]
    },
    {
     "name": "stdout",
     "output_type": "stream",
     "text": [
      "Validation loss decreased (0.001799 --> 0.001691).  Saving model ...\n",
      "epoch: 16, train Loss: 0.0143, test Loss: 0.0017\n"
     ]
    },
    {
     "name": "stderr",
     "output_type": "stream",
     "text": [
      " 36%|█████▍         | 18/50 [01:21<02:26,  4.56s/it]"
     ]
    },
    {
     "name": "stdout",
     "output_type": "stream",
     "text": [
      "Validation loss decreased (0.001691 --> 0.001602).  Saving model ...\n",
      "epoch: 17, train Loss: 0.0136, test Loss: 0.0016\n"
     ]
    },
    {
     "name": "stderr",
     "output_type": "stream",
     "text": [
      " 38%|█████▋         | 19/50 [01:26<02:20,  4.53s/it]"
     ]
    },
    {
     "name": "stdout",
     "output_type": "stream",
     "text": [
      "Validation loss decreased (0.001602 --> 0.001521).  Saving model ...\n",
      "epoch: 18, train Loss: 0.0130, test Loss: 0.0015\n"
     ]
    },
    {
     "name": "stderr",
     "output_type": "stream",
     "text": [
      " 40%|██████         | 20/50 [01:30<02:16,  4.55s/it]"
     ]
    },
    {
     "name": "stdout",
     "output_type": "stream",
     "text": [
      "Validation loss decreased (0.001521 --> 0.001445).  Saving model ...\n",
      "epoch: 19, train Loss: 0.0126, test Loss: 0.0014\n"
     ]
    },
    {
     "name": "stderr",
     "output_type": "stream",
     "text": [
      " 42%|██████▎        | 21/50 [01:35<02:10,  4.51s/it]"
     ]
    },
    {
     "name": "stdout",
     "output_type": "stream",
     "text": [
      "Validation loss decreased (0.001445 --> 0.001387).  Saving model ...\n",
      "epoch: 20, train Loss: 0.0122, test Loss: 0.0014\n"
     ]
    },
    {
     "name": "stderr",
     "output_type": "stream",
     "text": [
      " 44%|██████▌        | 22/50 [01:39<02:05,  4.48s/it]"
     ]
    },
    {
     "name": "stdout",
     "output_type": "stream",
     "text": [
      "Validation loss decreased (0.001387 --> 0.001325).  Saving model ...\n",
      "epoch: 21, train Loss: 0.0116, test Loss: 0.0013\n"
     ]
    },
    {
     "name": "stderr",
     "output_type": "stream",
     "text": [
      " 46%|██████▉        | 23/50 [01:43<01:59,  4.44s/it]"
     ]
    },
    {
     "name": "stdout",
     "output_type": "stream",
     "text": [
      "Validation loss decreased (0.001325 --> 0.001269).  Saving model ...\n",
      "epoch: 22, train Loss: 0.0113, test Loss: 0.0013\n"
     ]
    },
    {
     "name": "stderr",
     "output_type": "stream",
     "text": [
      " 48%|███████▏       | 24/50 [01:48<01:56,  4.49s/it]"
     ]
    },
    {
     "name": "stdout",
     "output_type": "stream",
     "text": [
      "Validation loss decreased (0.001269 --> 0.001218).  Saving model ...\n",
      "epoch: 23, train Loss: 0.0110, test Loss: 0.0012\n"
     ]
    },
    {
     "name": "stderr",
     "output_type": "stream",
     "text": [
      " 50%|███████▌       | 25/50 [01:52<01:51,  4.47s/it]"
     ]
    },
    {
     "name": "stdout",
     "output_type": "stream",
     "text": [
      "Validation loss decreased (0.001218 --> 0.001168).  Saving model ...\n",
      "epoch: 24, train Loss: 0.0106, test Loss: 0.0012\n"
     ]
    },
    {
     "name": "stderr",
     "output_type": "stream",
     "text": [
      " 52%|███████▊       | 26/50 [01:57<01:46,  4.43s/it]"
     ]
    },
    {
     "name": "stdout",
     "output_type": "stream",
     "text": [
      "Validation loss decreased (0.001168 --> 0.001130).  Saving model ...\n",
      "epoch: 25, train Loss: 0.0102, test Loss: 0.0011\n"
     ]
    },
    {
     "name": "stderr",
     "output_type": "stream",
     "text": [
      " 54%|████████       | 27/50 [02:01<01:42,  4.44s/it]"
     ]
    },
    {
     "name": "stdout",
     "output_type": "stream",
     "text": [
      "Validation loss decreased (0.001130 --> 0.001090).  Saving model ...\n",
      "epoch: 26, train Loss: 0.0100, test Loss: 0.0011\n"
     ]
    },
    {
     "name": "stderr",
     "output_type": "stream",
     "text": [
      " 56%|████████▍      | 28/50 [02:06<01:38,  4.46s/it]"
     ]
    },
    {
     "name": "stdout",
     "output_type": "stream",
     "text": [
      "Validation loss decreased (0.001090 --> 0.001054).  Saving model ...\n",
      "epoch: 27, train Loss: 0.0096, test Loss: 0.0011\n"
     ]
    },
    {
     "name": "stderr",
     "output_type": "stream",
     "text": [
      " 58%|████████▋      | 29/50 [02:10<01:32,  4.42s/it]"
     ]
    },
    {
     "name": "stdout",
     "output_type": "stream",
     "text": [
      "Validation loss decreased (0.001054 --> 0.001019).  Saving model ...\n",
      "epoch: 28, train Loss: 0.0096, test Loss: 0.0010\n"
     ]
    },
    {
     "name": "stderr",
     "output_type": "stream",
     "text": [
      " 60%|█████████      | 30/50 [02:14<01:28,  4.40s/it]"
     ]
    },
    {
     "name": "stdout",
     "output_type": "stream",
     "text": [
      "Validation loss decreased (0.001019 --> 0.000987).  Saving model ...\n",
      "epoch: 29, train Loss: 0.0093, test Loss: 0.0010\n"
     ]
    },
    {
     "name": "stderr",
     "output_type": "stream",
     "text": [
      " 62%|█████████▎     | 31/50 [02:19<01:23,  4.41s/it]"
     ]
    },
    {
     "name": "stdout",
     "output_type": "stream",
     "text": [
      "Validation loss decreased (0.000987 --> 0.000964).  Saving model ...\n",
      "epoch: 30, train Loss: 0.0091, test Loss: 0.0010\n"
     ]
    },
    {
     "name": "stderr",
     "output_type": "stream",
     "text": [
      " 64%|█████████▌     | 32/50 [02:23<01:19,  4.44s/it]"
     ]
    },
    {
     "name": "stdout",
     "output_type": "stream",
     "text": [
      "Validation loss decreased (0.000964 --> 0.000936).  Saving model ...\n",
      "epoch: 31, train Loss: 0.0087, test Loss: 0.0009\n"
     ]
    },
    {
     "name": "stderr",
     "output_type": "stream",
     "text": [
      " 66%|█████████▉     | 33/50 [02:28<01:14,  4.41s/it]"
     ]
    },
    {
     "name": "stdout",
     "output_type": "stream",
     "text": [
      "Validation loss decreased (0.000936 --> 0.000918).  Saving model ...\n",
      "epoch: 32, train Loss: 0.0086, test Loss: 0.0009\n"
     ]
    },
    {
     "name": "stderr",
     "output_type": "stream",
     "text": [
      " 68%|██████████▏    | 34/50 [02:32<01:10,  4.39s/it]"
     ]
    },
    {
     "name": "stdout",
     "output_type": "stream",
     "text": [
      "Validation loss decreased (0.000918 --> 0.000895).  Saving model ...\n",
      "epoch: 33, train Loss: 0.0085, test Loss: 0.0009\n"
     ]
    },
    {
     "name": "stderr",
     "output_type": "stream",
     "text": [
      " 70%|██████████▌    | 35/50 [02:36<01:05,  4.39s/it]"
     ]
    },
    {
     "name": "stdout",
     "output_type": "stream",
     "text": [
      "Validation loss decreased (0.000895 --> 0.000875).  Saving model ...\n",
      "epoch: 34, train Loss: 0.0083, test Loss: 0.0009\n"
     ]
    },
    {
     "name": "stderr",
     "output_type": "stream",
     "text": [
      " 72%|██████████▊    | 36/50 [02:41<01:01,  4.39s/it]"
     ]
    },
    {
     "name": "stdout",
     "output_type": "stream",
     "text": [
      "Validation loss decreased (0.000875 --> 0.000859).  Saving model ...\n",
      "epoch: 35, train Loss: 0.0082, test Loss: 0.0009\n"
     ]
    },
    {
     "name": "stderr",
     "output_type": "stream",
     "text": [
      " 74%|███████████    | 37/50 [02:45<00:56,  4.38s/it]"
     ]
    },
    {
     "name": "stdout",
     "output_type": "stream",
     "text": [
      "Validation loss decreased (0.000859 --> 0.000840).  Saving model ...\n",
      "epoch: 36, train Loss: 0.0080, test Loss: 0.0008\n"
     ]
    },
    {
     "name": "stderr",
     "output_type": "stream",
     "text": [
      " 76%|███████████▍   | 38/50 [02:49<00:52,  4.38s/it]"
     ]
    },
    {
     "name": "stdout",
     "output_type": "stream",
     "text": [
      "Validation loss decreased (0.000840 --> 0.000825).  Saving model ...\n",
      "epoch: 37, train Loss: 0.0079, test Loss: 0.0008\n"
     ]
    },
    {
     "name": "stderr",
     "output_type": "stream",
     "text": [
      " 78%|███████████▋   | 39/50 [02:54<00:48,  4.44s/it]"
     ]
    },
    {
     "name": "stdout",
     "output_type": "stream",
     "text": [
      "Validation loss decreased (0.000825 --> 0.000816).  Saving model ...\n",
      "epoch: 38, train Loss: 0.0077, test Loss: 0.0008\n"
     ]
    },
    {
     "name": "stderr",
     "output_type": "stream",
     "text": [
      " 80%|████████████   | 40/50 [02:59<00:46,  4.68s/it]"
     ]
    },
    {
     "name": "stdout",
     "output_type": "stream",
     "text": [
      "Validation loss decreased (0.000816 --> 0.000801).  Saving model ...\n",
      "epoch: 39, train Loss: 0.0078, test Loss: 0.0008\n"
     ]
    },
    {
     "name": "stderr",
     "output_type": "stream",
     "text": [
      " 82%|████████████▎  | 41/50 [03:04<00:41,  4.60s/it]"
     ]
    },
    {
     "name": "stdout",
     "output_type": "stream",
     "text": [
      "Validation loss decreased (0.000801 --> 0.000785).  Saving model ...\n",
      "epoch: 40, train Loss: 0.0075, test Loss: 0.0008\n"
     ]
    },
    {
     "name": "stderr",
     "output_type": "stream",
     "text": [
      " 84%|████████████▌  | 42/50 [03:08<00:36,  4.55s/it]"
     ]
    },
    {
     "name": "stdout",
     "output_type": "stream",
     "text": [
      "Validation loss decreased (0.000785 --> 0.000779).  Saving model ...\n",
      "epoch: 41, train Loss: 0.0076, test Loss: 0.0008\n"
     ]
    },
    {
     "name": "stderr",
     "output_type": "stream",
     "text": [
      " 86%|████████████▉  | 43/50 [03:13<00:32,  4.63s/it]"
     ]
    },
    {
     "name": "stdout",
     "output_type": "stream",
     "text": [
      "Validation loss decreased (0.000779 --> 0.000765).  Saving model ...\n",
      "epoch: 42, train Loss: 0.0073, test Loss: 0.0008\n"
     ]
    },
    {
     "name": "stderr",
     "output_type": "stream",
     "text": [
      " 88%|█████████████▏ | 44/50 [03:18<00:28,  4.71s/it]"
     ]
    },
    {
     "name": "stdout",
     "output_type": "stream",
     "text": [
      "Validation loss decreased (0.000765 --> 0.000757).  Saving model ...\n",
      "epoch: 43, train Loss: 0.0073, test Loss: 0.0008\n"
     ]
    },
    {
     "name": "stderr",
     "output_type": "stream",
     "text": [
      " 90%|█████████████▌ | 45/50 [03:22<00:23,  4.64s/it]"
     ]
    },
    {
     "name": "stdout",
     "output_type": "stream",
     "text": [
      "Validation loss decreased (0.000757 --> 0.000747).  Saving model ...\n",
      "epoch: 44, train Loss: 0.0072, test Loss: 0.0007\n"
     ]
    },
    {
     "name": "stderr",
     "output_type": "stream",
     "text": [
      " 92%|█████████████▊ | 46/50 [03:27<00:18,  4.64s/it]"
     ]
    },
    {
     "name": "stdout",
     "output_type": "stream",
     "text": [
      "Validation loss decreased (0.000747 --> 0.000737).  Saving model ...\n",
      "epoch: 45, train Loss: 0.0070, test Loss: 0.0007\n"
     ]
    },
    {
     "name": "stderr",
     "output_type": "stream",
     "text": [
      " 94%|██████████████ | 47/50 [03:32<00:14,  4.74s/it]"
     ]
    },
    {
     "name": "stdout",
     "output_type": "stream",
     "text": [
      "Validation loss decreased (0.000737 --> 0.000727).  Saving model ...\n",
      "epoch: 46, train Loss: 0.0070, test Loss: 0.0007\n"
     ]
    },
    {
     "name": "stderr",
     "output_type": "stream",
     "text": [
      " 96%|██████████████▍| 48/50 [03:37<00:09,  4.73s/it]"
     ]
    },
    {
     "name": "stdout",
     "output_type": "stream",
     "text": [
      "Validation loss decreased (0.000727 --> 0.000720).  Saving model ...\n",
      "epoch: 47, train Loss: 0.0068, test Loss: 0.0007\n"
     ]
    },
    {
     "name": "stderr",
     "output_type": "stream",
     "text": [
      " 98%|██████████████▋| 49/50 [03:41<00:04,  4.64s/it]"
     ]
    },
    {
     "name": "stdout",
     "output_type": "stream",
     "text": [
      "Validation loss decreased (0.000720 --> 0.000713).  Saving model ...\n",
      "epoch: 48, train Loss: 0.0069, test Loss: 0.0007\n"
     ]
    },
    {
     "name": "stderr",
     "output_type": "stream",
     "text": [
      "100%|███████████████| 50/50 [03:46<00:00,  4.52s/it]"
     ]
    },
    {
     "name": "stdout",
     "output_type": "stream",
     "text": [
      "Validation loss decreased (0.000713 --> 0.000707).  Saving model ...\n",
      "epoch: 49, train Loss: 0.0068, test Loss: 0.0007\n"
     ]
    },
    {
     "name": "stderr",
     "output_type": "stream",
     "text": [
      "\n"
     ]
    },
    {
     "data": {
      "image/png": "[encoded data removed]",
      "text/plain": [
       "<Figure size 720x360 with 1 Axes>"
      ]
     },
     "metadata": {
      "needs_background": "light"
     },
     "output_type": "display_data"
    }
   ],
   "source": [
    "train_losses = []\n",
    "val_losses = []\n",
    "\n",
    "early_stopping = EarlyStopping(patience = patience, verbose = True, path=PATH)\n",
    "\n",
    "for epoch in tqdm(range(num_epochs)):\n",
    "\n",
    "    train_loss = train(model, train_dataloader, loss, optm, device)\n",
    "    val_loss = validation(model, val_dataloader, loss, device)\n",
    "\n",
    "    train_losses.append(train_loss)\n",
    "    val_losses.append(val_loss)\n",
    "    \n",
    "    early_stopping(val_loss, model)\n",
    "\n",
    "    if early_stopping.early_stop:\n",
    "        print(\"Early stopping\")\n",
    "        break\n",
    "        \n",
    "    print(f'epoch: {epoch}, train Loss: {train_loss:.4f}, test Loss: {val_loss:.4f}')\n",
    "\n",
    "plt.figure(figsize=(10,5))\n",
    "plt.plot(train_losses,label=\"train_loss\")\n",
    "plt.plot(val_losses,label=\"val_loss\")\n",
    "plt.xlabel(\"epoch\")\n",
    "plt.ylabel(\"Loss\")\n",
    "plt.legend()\n",
    "plt.show()"
   ]
  },
  {
   "cell_type": "markdown",
   "id": "e9ececd1-0882-42fe-8891-6dc6a7d8e81a",
   "metadata": {},
   "source": [
    "### 모델 불러오기"
   ]
  },
  {
   "cell_type": "code",
   "execution_count": 27,
   "id": "1c7802a9-a41b-41a9-a485-ca7c0cc4683a",
   "metadata": {},
   "outputs": [
    {
     "data": {
      "text/plain": [
       "<All keys matched successfully>"
      ]
     },
     "execution_count": 27,
     "metadata": {},
     "output_type": "execute_result"
    }
   ],
   "source": [
    "model = AutoRec(num_hidden, num_items).to(device)\n",
    "model.load_state_dict(torch.load(PATH))"
   ]
  },
  {
   "cell_type": "markdown",
   "id": "4eaa3539-071c-4769-82ff-05d5f4c8ddd3",
   "metadata": {},
   "source": [
    "### 웹사이트 inference"
   ]
  },
  {
   "cell_type": "code",
   "execution_count": 43,
   "id": "69d3bed9-a5ac-4bb8-8651-02ab4c5b2f17",
   "metadata": {},
   "outputs": [],
   "source": [
    "# 웹사이트 input\n",
    "# x_test = torch.tensor([1.9, 0. , 0. , 1.5, 2.2, 2.1, 3.5, 1.9, 1.4, 3.4, 2.8, 0. , 0. ,\n",
    "#        3.3, 0. , 3.6, 1.7, 1.6, 3.5, 3.8, 2.8, 2.2, 0. , 2.9, 3. , 3. ,\n",
    "#        3.4, 3.3, 0. , 0. , 2. , 2.4, 0. , 1.8, 0. , 2.3, 0. , 0. , 0. ,\n",
    "#        0. , 0. , 0. , 0. , 0. , 0. , 0. , 3.2, 0. , 0. , 0. , 0. , 3. ,\n",
    "#        3.1, 0. , 1.9, 3.7, 2. , 0. , 3.8, 0. , 0. , 0. , 0. , 0. , 0. ,\n",
    "#        0. , 0. , 0. , 0. , 0. , 3. , 1.8, 0. , 0. , 0. , 0. , 0. , 0. ,\n",
    "#        0. , 0. , 0. ]).to(device)\n",
    "\n",
    "num_item = data['item'].nunique()\n",
    "\n",
    "# 한국 맥주 평가\n",
    "# rating_list = [5.0, 2.76, 0.5] # 좋아요, 몰라요, 싫어요\n",
    "\n",
    "rating_list = [1.0, 0, 1e-6] # 좋아요, 몰라요, 싫어요\n",
    "show_list = np.random.choice(data['item_id_idx'].unique(), 29, replace=False) # 임의로 29개 추출\n",
    "\n",
    "x_test = torch.zeros(num_item).to(device) # 0으로 초기화\n",
    "\n",
    "for beer in show_list:\n",
    "    x_test[beer] = random.choice(rating_list) # 29개에 대해서 임의로 평가\n",
    "    \n",
    "\n",
    "\n",
    "# 나머지 맥주 중 일부 평가\n",
    "# not_kor_rating_list = [1.0, 0.67, 0.1]\n",
    "# not_kor_idx = np.delete(np.arange(num_item), kor_beer_idx)\n",
    "# not_kor_choice = np.random.randint(int(len(not_kor_idx) * 0.3))\n",
    "# not_kor_list = np.random.choice(not_kor_idx, not_kor_choice , replace=False) \n",
    "\n",
    "# for beer in not_kor_list:\n",
    "#     x_test[beer] = random.choice(not_kor_rating_list)\n",
    "\n",
    "# for i in not_show_list:\n",
    "#     style = data[data['item_id_idx'] == i]['label'].unique()[0]\n",
    "#     rating = show_df[show_df['label'] == style]['rating'].mean()\n",
    "    \n",
    "#     if np.isnan(rating):\n",
    "#         rating = rating_list[1] # style로 점수를 채울 수 없는 경우 몰라요로 채운다\n",
    "#     x_test[i] = rating\n",
    "#     # print(rating)\n",
    "\n"
   ]
  },
  {
   "cell_type": "code",
   "execution_count": 44,
   "id": "90825893-77b9-4bff-9478-2afd7c44dd5c",
   "metadata": {},
   "outputs": [
    {
     "name": "stdout",
     "output_type": "stream",
     "text": [
      "[ 9 13  0 27]\n",
      "[0.8458334 0.6472249 0.6446053 0.5604683]\n"
     ]
    }
   ],
   "source": [
    "# 추천 맥주 개수\n",
    "topk = 4\n",
    "\n",
    "# 모델 에측 맥주 평점\n",
    "rating_pred = model(x_test)\n",
    "\n",
    "rating_pred = rating_pred.cpu().data.numpy().copy()\n",
    "# print(rating_pred)\n",
    "\n",
    "# rating_pred_kor = rating_pred[kor_beer_idx]\n",
    "# x_test_kor = x_test[kor_beer_idx]\n",
    "# batch_user_index = user_ids.cpu().numpy()\n",
    "\n",
    "\n",
    "answers = x_test.cpu().numpy().argsort()[-topk:][::-1]\n",
    "# print(answers)\n",
    "\n",
    "# user가 리뷰를 남긴 맥주 추천하고 싶지 않을 때 사용\n",
    "\n",
    "# if novelty:\n",
    "# 좋아요, 싫어요로 직접 평가한 맥주는 다시 추천하지 않도록 설정\n",
    "# rating_pred_kor[x_test_kor.cpu().numpy() == rating_list[0]] = rating_pred_kor.min()\n",
    "# rating_pred_kor[x_test_kor.cpu().numpy() == rating_list[2]] = rating_pred_kor.min()\n",
    "rating_pred[x_test.cpu().numpy() > 0] = rating_pred.min()\n",
    "# print(rating_pred)\n",
    "\n",
    "# topk 맥주 index\n",
    "ind = np.argpartition(rating_pred, -topk)[-topk:]\n",
    "# print(ind)\n",
    "\n",
    "# topk 맥주 index별 평점\n",
    "arr_ind = rating_pred[ind]\n",
    "# print(arr_ind)\n",
    "\n",
    "# 평점 기준으로 내림차순으로 정렬\n",
    "arr_ind_argsort = np.argsort(arr_ind)[::-1]\n",
    "# print(arr_ind_argsort)\n",
    "\n",
    "# rating 내림차순 모델 예측 topk 맥주 index \n",
    "topk_pred_list = ind[arr_ind_argsort]\n",
    "print(topk_pred_list)\n",
    "\n",
    "# rating 내림차순 모델 예측 맥주 평점 중 topk개\n",
    "topk_rating_list = rating_pred[topk_pred_list] #rating_pred[np.arange(len(rating_pred))[:, None], ind]\n",
    "print(topk_rating_list)"
   ]
  },
  {
   "cell_type": "code",
   "execution_count": 45,
   "id": "3bc6f34e-9951-4feb-8035-722319024bc9",
   "metadata": {},
   "outputs": [
    {
     "data": {
      "text/plain": [
       "array([ 9, 13,  0, 27])"
      ]
     },
     "execution_count": 45,
     "metadata": {},
     "output_type": "execute_result"
    }
   ],
   "source": [
    "# 모델 예측 선호 맥주 top4\n",
    "topk_pred_list"
   ]
  },
  {
   "cell_type": "code",
   "execution_count": 46,
   "id": "11f57e89-f6fd-4a3d-a989-4b2b229768e3",
   "metadata": {},
   "outputs": [
    {
     "data": {
      "text/plain": [
       "array([18,  7, 39, 81])"
      ]
     },
     "execution_count": 46,
     "metadata": {},
     "output_type": "execute_result"
    }
   ],
   "source": [
    "# 유저 실제 선호 맥주 top4\n",
    "answers"
   ]
  },
  {
   "cell_type": "code",
   "execution_count": 47,
   "id": "b30f5bdb-4698-47b6-8246-bba8660ac7fc",
   "metadata": {},
   "outputs": [
    {
     "data": {
      "text/plain": [
       "array([0.8458334, 0.6472249, 0.6446053, 0.5604683], dtype=float32)"
      ]
     },
     "execution_count": 47,
     "metadata": {},
     "output_type": "execute_result"
    }
   ],
   "source": [
    "rating_pred[topk_pred_list]"
   ]
  },
  {
   "cell_type": "code",
   "execution_count": 48,
   "id": "ff0240f1-a8af-4232-9094-422768412b90",
   "metadata": {},
   "outputs": [
    {
     "name": "stdout",
     "output_type": "stream",
     "text": [
      "good\n",
      "[0.0019692753, 0.0019692753, 0.0019692753, 0.0019692753, 0.0019692753, 0.0019692753, 0.0019692753, 0.0019692753, 0.0019692753, 0.0019692753, 0.0019692753, 0.0019692753, 0.0019692753]\n",
      "\n",
      "unknown\n",
      "[0.8458334, 0.6472249, 0.6446053, 0.5604683, 0.52949667, 0.49766243, 0.44295916, 0.4236835, 0.41076618, 0.40168616, 0.35507002, 0.35017025, 0.33944136, 0.3375826, 0.3060774, 0.30115464, 0.3002917, 0.2666363, 0.25655177, 0.24815823, 0.20709088, 0.2018669, 0.19215831, 0.18290487, 0.15891214, 0.1551444, 0.1525883, 0.15078633, 0.14452504, 0.11794029, 0.08437084, 0.07997238, 0.074458264, 0.073758386, 0.06321958, 0.058860816, 0.055983424, 0.05404793, 0.0443893, 0.04205327, 0.04112199, 0.03884261, 0.034747396, 0.029278327, 0.025631689, 0.024497436, 0.020348959, 0.01060981, 0.0061568483, 0.005984206, 0.0040953932, 0.003174547, 0.0028102521, 0.002796018, 0.002709689, 0.0026211466, 0.002605048, 0.0025941678, 0.0025127719, 0.0024620066, 0.0022766427, 0.0021938633, 0.0019692753]\n",
      "\n",
      "bad\n",
      "[0.0019692753, 0.0019692753, 0.0019692753, 0.0019692753, 0.0019692753, 0.0019692753, 0.0019692753]\n",
      "\n"
     ]
    }
   ],
   "source": [
    "label_list = ['good', 'unknown', 'bad']\n",
    "\n",
    "for i, rating in enumerate(rating_list):\n",
    "    print(label_list[i])\n",
    "    print(list(sorted([rating_pred[i] for i in np.where(x_test.cpu().numpy() == rating)[0]], reverse=True)))\n",
    "    print()"
   ]
  },
  {
   "cell_type": "code",
   "execution_count": 49,
   "id": "e557d852-5b65-4b47-be97-e3184535d82b",
   "metadata": {},
   "outputs": [
    {
     "data": {
      "image/png": "[encoded data removed]",
      "text/plain": [
       "<Figure size 720x360 with 1 Axes>"
      ]
     },
     "metadata": {
      "needs_background": "light"
     },
     "output_type": "display_data"
    }
   ],
   "source": [
    "label_list = ['good', 'unknown', 'bad']\n",
    "\n",
    "fig, ax = plt.subplots(1, 1, figsize=(10, 5))\n",
    "\n",
    "for i, rating in enumerate(rating_list):\n",
    "    \n",
    "    ax = sns.kdeplot(sorted([rating_pred[i] for i in np.where(x_test.cpu().numpy() == rating)[0]], reverse=True), label = label_list[i], fill = True)\n",
    "\n",
    "plt.legend()\n",
    "plt.show()"
   ]
  },
  {
   "cell_type": "code",
   "execution_count": 50,
   "id": "bcbf81ba-6bde-4716-bd16-706bd7c7633c",
   "metadata": {},
   "outputs": [
    {
     "data": {
      "text/plain": [
       "<AxesSubplot:ylabel='Count'>"
      ]
     },
     "execution_count": 50,
     "metadata": {},
     "output_type": "execute_result"
    },
    {
     "data": {
      "image/png": "[encoded data removed]",
      "text/plain": [
       "<Figure size 432x288 with 1 Axes>"
      ]
     },
     "metadata": {
      "needs_background": "light"
     },
     "output_type": "display_data"
    }
   ],
   "source": [
    "sns.histplot(x_test.cpu().numpy(), bins = 10)"
   ]
  },
  {
   "cell_type": "code",
   "execution_count": 51,
   "id": "c65b32b9-bebf-42ac-9fec-e992862357db",
   "metadata": {},
   "outputs": [
    {
     "data": {
      "text/plain": [
       "<AxesSubplot:ylabel='Count'>"
      ]
     },
     "execution_count": 51,
     "metadata": {},
     "output_type": "execute_result"
    },
    {
     "data": {
      "image/png": "[encoded data removed]",
      "text/plain": [
       "<Figure size 432x288 with 1 Axes>"
      ]
     },
     "metadata": {
      "needs_background": "light"
     },
     "output_type": "display_data"
    }
   ],
   "source": [
    "sns.histplot(rating_pred, bins = 10)"
   ]
  },
  {
   "cell_type": "code",
   "execution_count": 52,
   "id": "b6f3abd2-16da-4e7d-8d4c-d55bca913da1",
   "metadata": {},
   "outputs": [
    {
     "data": {
      "text/plain": [
       "array([0.6446053 , 0.33944136, 0.49766243, 0.2018669 , 0.00196928,\n",
       "       0.0443893 , 0.3060774 , 0.00196928, 0.08437084, 0.8458334 ,\n",
       "       0.3375826 , 0.00196928, 0.02449744, 0.6472249 , 0.04112199,\n",
       "       0.0347474 , 0.35017025, 0.02034896, 0.00196928, 0.00196928,\n",
       "       0.4236835 , 0.00196928, 0.35507002, 0.18290487, 0.00615685,\n",
       "       0.15078633, 0.07445826, 0.5604683 , 0.07375839, 0.07997238,\n",
       "       0.00196928, 0.00196928, 0.3002917 , 0.11794029, 0.1525883 ,\n",
       "       0.19215831, 0.00196928, 0.24815823, 0.30115464, 0.00196928,\n",
       "       0.00196928, 0.00196928, 0.02563169, 0.00281025, 0.00196928,\n",
       "       0.15891214, 0.00279602, 0.05598342, 0.44295916, 0.06321958,\n",
       "       0.04205327, 0.40168616, 0.00260505, 0.00196928, 0.2666363 ,\n",
       "       0.00196928, 0.52949667, 0.14452504, 0.41076618, 0.00246201,\n",
       "       0.25655177, 0.00598421, 0.1551444 , 0.05886082, 0.00196928,\n",
       "       0.00251277, 0.05404793, 0.00317455, 0.00409539, 0.00196928,\n",
       "       0.00270969, 0.00262115, 0.01060981, 0.20709088, 0.00227664,\n",
       "       0.00219386, 0.03884261, 0.00259417, 0.00196928, 0.00196928,\n",
       "       0.02927833, 0.00196928, 0.00196928], dtype=float32)"
      ]
     },
     "execution_count": 52,
     "metadata": {},
     "output_type": "execute_result"
    }
   ],
   "source": [
    "# 모델 예측 rating 점수\n",
    "rating_pred"
   ]
  },
  {
   "cell_type": "code",
   "execution_count": 53,
   "id": "c1f9edd6-a542-4479-9be5-6348791a9ef1",
   "metadata": {},
   "outputs": [
    {
     "data": {
      "text/plain": [
       "tensor([0.0000e+00, 0.0000e+00, 0.0000e+00, 0.0000e+00, 1.0000e+00, 0.0000e+00,\n",
       "        0.0000e+00, 1.0000e+00, 0.0000e+00, 0.0000e+00, 0.0000e+00, 1.0000e+00,\n",
       "        0.0000e+00, 0.0000e+00, 0.0000e+00, 0.0000e+00, 0.0000e+00, 0.0000e+00,\n",
       "        1.0000e+00, 1.0000e+00, 0.0000e+00, 1.0000e-06, 0.0000e+00, 0.0000e+00,\n",
       "        0.0000e+00, 0.0000e+00, 0.0000e+00, 0.0000e+00, 0.0000e+00, 0.0000e+00,\n",
       "        1.0000e-06, 1.0000e+00, 0.0000e+00, 0.0000e+00, 0.0000e+00, 0.0000e+00,\n",
       "        1.0000e+00, 0.0000e+00, 0.0000e+00, 1.0000e+00, 1.0000e-06, 1.0000e-06,\n",
       "        0.0000e+00, 0.0000e+00, 1.0000e-06, 0.0000e+00, 0.0000e+00, 0.0000e+00,\n",
       "        0.0000e+00, 0.0000e+00, 0.0000e+00, 0.0000e+00, 0.0000e+00, 1.0000e+00,\n",
       "        0.0000e+00, 1.0000e+00, 0.0000e+00, 0.0000e+00, 0.0000e+00, 0.0000e+00,\n",
       "        0.0000e+00, 0.0000e+00, 0.0000e+00, 0.0000e+00, 1.0000e-06, 0.0000e+00,\n",
       "        0.0000e+00, 0.0000e+00, 0.0000e+00, 1.0000e+00, 0.0000e+00, 0.0000e+00,\n",
       "        0.0000e+00, 0.0000e+00, 0.0000e+00, 0.0000e+00, 0.0000e+00, 0.0000e+00,\n",
       "        1.0000e+00, 1.0000e-06, 0.0000e+00, 1.0000e+00, 0.0000e+00],\n",
       "       device='cuda:0')"
      ]
     },
     "execution_count": 53,
     "metadata": {},
     "output_type": "execute_result"
    }
   ],
   "source": [
    "x_test"
   ]
  },
  {
   "cell_type": "code",
   "execution_count": 54,
   "id": "ad5e0207-b8de-469b-8326-d857ca34f03d",
   "metadata": {},
   "outputs": [
    {
     "data": {
      "text/plain": [
       "array([41, 18, 64, 52, 40, 39, 81, 69,  4, 11,  7, 19, 78, 30, 63, 80, 79,\n",
       "       59, 82, 75, 21, 44, 36, 55, 31, 68, 53, 49, 54])"
      ]
     },
     "execution_count": 54,
     "metadata": {},
     "output_type": "execute_result"
    }
   ],
   "source": [
    "show_list"
   ]
  },
  {
   "cell_type": "code",
   "execution_count": 55,
   "id": "023d5a6a-a58b-4e8a-b944-f7f607f7c4cb",
   "metadata": {},
   "outputs": [
    {
     "data": {
      "text/plain": [
       "array(['https://res.cloudinary.com/ratebeer/image/upload/w_400,c_limit,d_Default_Beer_qqrv7k.png,f_auto/beer_37',\n",
       "       'https://res.cloudinary.com/ratebeer/image/upload/w_400,c_limit,d_Default_Beer_qqrv7k.png,f_auto/beer_647',\n",
       "       'https://res.cloudinary.com/ratebeer/image/upload/w_400,c_limit,d_Default_Beer_qqrv7k.png,f_auto/beer_717',\n",
       "       'https://res.cloudinary.com/ratebeer/image/upload/w_400,c_limit,d_Default_Beer_qqrv7k.png,f_auto/beer_2514'],\n",
       "      dtype=object)"
      ]
     },
     "execution_count": 55,
     "metadata": {},
     "output_type": "execute_result"
    }
   ],
   "source": [
    "# image url\n",
    "data[data['item_id_idx'].isin(topk_pred_list)]['image_url'].unique()"
   ]
  },
  {
   "cell_type": "code",
   "execution_count": 56,
   "id": "468b0d25-c614-467e-ab62-63a9b586169e",
   "metadata": {},
   "outputs": [
    {
     "data": {
      "text/plain": [
       "array([  37,  647,  717, 2514])"
      ]
     },
     "execution_count": 56,
     "metadata": {},
     "output_type": "execute_result"
    }
   ],
   "source": [
    "# image url\n",
    "data[data['item_id_idx'].isin(topk_pred_list)]['item'].unique()"
   ]
  },
  {
   "cell_type": "code",
   "execution_count": 68,
   "id": "2579fb8d-25c9-48d1-9d4b-63dec51f8f0c",
   "metadata": {},
   "outputs": [
    {
     "data": {
      "text/plain": [
       "['Pale Lager - International / Premium',\n",
       " 'Stout',\n",
       " 'Dark Lager - Dunkel / Tmavý',\n",
       " 'Witbier / Belgian White Ale',\n",
       " 'Pale Lager - American',\n",
       " 'Weissbier - Hefeweizen',\n",
       " 'Pilsener / Pils / Pilsner',\n",
       " 'Pilsener - Bohemian / Czech',\n",
       " 'IPA - English',\n",
       " 'Radler / Shandy',\n",
       " 'Low / No Alcohol Beer - Pale',\n",
       " 'Dark Lager - International / Premium',\n",
       " 'Weissbier - Dunkelweizen',\n",
       " 'Belgian Ale - Pale / Golden / Single',\n",
       " 'Belgian Ale - Dark / Amber',\n",
       " 'Flavored - Other',\n",
       " 'IPA',\n",
       " 'Pilsener - Imperial',\n",
       " 'Flavored - Fruit',\n",
       " 'Stout - Dry / Irish',\n",
       " 'Wheat Ale',\n",
       " 'Apple Cider',\n",
       " 'Amber Lager - International / Vienna',\n",
       " 'Pale Ale - English',\n",
       " 'Märzen / Oktoberfest Bier',\n",
       " 'Pale Ale - American (APA)',\n",
       " 'Zwickelbier / Kellerbier / Landbier']"
      ]
     },
     "execution_count": 68,
     "metadata": {},
     "output_type": "execute_result"
    }
   ],
   "source": [
    "list(data['style'].unique())"
   ]
  },
  {
   "cell_type": "code",
   "execution_count": 80,
   "id": "ca480932-8deb-4673-a068-33e79aaa24d0",
   "metadata": {},
   "outputs": [
    {
     "data": {
      "text/plain": [
       "style\n",
       "Amber Lager - International / Vienna     1\n",
       "Apple Cider                              2\n",
       "Belgian Ale - Dark / Amber               1\n",
       "Belgian Ale - Pale / Golden / Single     1\n",
       "Dark Lager - Dunkel / Tmavý              1\n",
       "Dark Lager - International / Premium     2\n",
       "Flavored - Fruit                         1\n",
       "Flavored - Other                         1\n",
       "IPA                                      2\n",
       "IPA - English                            1\n",
       "Low / No Alcohol Beer - Pale             1\n",
       "Märzen / Oktoberfest Bier                1\n",
       "Pale Ale - American (APA)                1\n",
       "Pale Ale - English                       1\n",
       "Pale Lager - American                    7\n",
       "Pale Lager - International / Premium    28\n",
       "Pilsener - Bohemian / Czech              2\n",
       "Pilsener - Imperial                      1\n",
       "Pilsener / Pils / Pilsner                5\n",
       "Radler / Shandy                          5\n",
       "Stout                                    1\n",
       "Stout - Dry / Irish                      1\n",
       "Weissbier - Dunkelweizen                 1\n",
       "Weissbier - Hefeweizen                   8\n",
       "Wheat Ale                                1\n",
       "Witbier / Belgian White Ale              5\n",
       "Zwickelbier / Kellerbier / Landbier      1\n",
       "Name: item, dtype: int64"
      ]
     },
     "execution_count": 80,
     "metadata": {},
     "output_type": "execute_result"
    }
   ],
   "source": [
    "data.groupby('style')['item'].apply(lambda x : x.nunique())"
   ]
  },
  {
   "cell_type": "code",
   "execution_count": 83,
   "id": "421cc4d9-96c3-4b0d-9955-6a221c479a1a",
   "metadata": {},
   "outputs": [
    {
     "data": {
      "text/plain": [
       "array([    55,    390,  34662,   2516, 169964])"
      ]
     },
     "execution_count": 83,
     "metadata": {},
     "output_type": "execute_result"
    }
   ],
   "source": [
    "data[data['style'].isin(['Dark Lager - Dunkel / Tmavý', 'Dark Lager - International / Premium', 'Belgian Ale - Dark / Amber', 'Stout'])]['item'].unique()"
   ]
  },
  {
   "cell_type": "markdown",
   "id": "2696b346-a8d0-43eb-b0c2-270dad50c4d4",
   "metadata": {},
   "source": [
    "### 평가지표 점수"
   ]
  },
  {
   "cell_type": "code",
   "execution_count": 92,
   "id": "4e81f064-cf8e-4188-bcd0-905ef1d81419",
   "metadata": {},
   "outputs": [],
   "source": [
    "def ndcg_k_inf(actual, predicted, topk):\n",
    "    res = 0\n",
    "    k = min(topk, len(actual))\n",
    "    idcg = idcg_k(k)\n",
    "    dcg_k = sum(\n",
    "        [\n",
    "            int(predicted[j] in set(actual)) / math.log(j + 2, 2)\n",
    "            for j in range(topk)\n",
    "        ]\n",
    "    )\n",
    "    res += dcg_k / idcg\n",
    "    return res / float(len(actual))\n",
    "\n",
    "# Calculates the ideal discounted cumulative gain at k\n",
    "def idcg_k(k):\n",
    "    res = sum([1.0 / math.log(i + 2, 2) for i in range(k)])\n",
    "    if not res:\n",
    "        return 1.0\n",
    "    else:\n",
    "        return res\n",
    "\n",
    "def recall_at_k_inf(actual, predicted, topk):\n",
    "    act_set = set(actual)\n",
    "    pred_set = set(predicted[:topk])\n",
    "    if len(act_set) != 0:\n",
    "        sum_recall = len(act_set & pred_set) / float(len(act_set))\n",
    "        \n",
    "    return sum_recall"
   ]
  },
  {
   "cell_type": "code",
   "execution_count": 93,
   "id": "6ceded6d-5fd8-4038-844c-918bdf15c77f",
   "metadata": {},
   "outputs": [
    {
     "data": {
      "text/plain": [
       "0.25"
      ]
     },
     "execution_count": 93,
     "metadata": {},
     "output_type": "execute_result"
    }
   ],
   "source": [
    "recall_at_k_inf(answers, topk_pred_list, 4)"
   ]
  },
  {
   "cell_type": "code",
   "execution_count": 94,
   "id": "f9b9cb9a-5b0f-4477-9a7e-8a8caa35a1c0",
   "metadata": {},
   "outputs": [
    {
     "data": {
      "text/plain": [
       "0.04879750624901272"
      ]
     },
     "execution_count": 94,
     "metadata": {},
     "output_type": "execute_result"
    }
   ],
   "source": [
    "ndcg_k_inf(answers, topk_pred_list, 4)"
   ]
  },
  {
   "cell_type": "code",
   "execution_count": 78,
   "id": "6d8a63f7-b824-4a2b-95fc-d0eee870e298",
   "metadata": {},
   "outputs": [
    {
     "data": {
      "text/html": [
       "<div>\n",
       "<style scoped>\n",
       "    .dataframe tbody tr th:only-of-type {\n",
       "        vertical-align: middle;\n",
       "    }\n",
       "\n",
       "    .dataframe tbody tr th {\n",
       "        vertical-align: top;\n",
       "    }\n",
       "\n",
       "    .dataframe thead th {\n",
       "        text-align: right;\n",
       "    }\n",
       "</style>\n",
       "<table border=\"1\" class=\"dataframe\">\n",
       "  <thead>\n",
       "    <tr style=\"text-align: right;\">\n",
       "      <th></th>\n",
       "      <th>item</th>\n",
       "      <th>user</th>\n",
       "      <th>rating</th>\n",
       "      <th>image_url</th>\n",
       "      <th>rating_median</th>\n",
       "      <th>user_id_idx</th>\n",
       "      <th>item_id_idx</th>\n",
       "    </tr>\n",
       "  </thead>\n",
       "  <tbody>\n",
       "    <tr>\n",
       "      <th>3458</th>\n",
       "      <td>37</td>\n",
       "      <td>dunklermessias</td>\n",
       "      <td>0.0</td>\n",
       "      <td>https://res.cloudinary.com/ratebeer/image/uplo...</td>\n",
       "      <td>0.66</td>\n",
       "      <td>5882</td>\n",
       "      <td>0</td>\n",
       "    </tr>\n",
       "    <tr>\n",
       "      <th>3460</th>\n",
       "      <td>37</td>\n",
       "      <td>bdleedahl</td>\n",
       "      <td>0.0</td>\n",
       "      <td>https://res.cloudinary.com/ratebeer/image/uplo...</td>\n",
       "      <td>0.70</td>\n",
       "      <td>4821</td>\n",
       "      <td>0</td>\n",
       "    </tr>\n",
       "    <tr>\n",
       "      <th>3461</th>\n",
       "      <td>37</td>\n",
       "      <td>pictoman</td>\n",
       "      <td>0.0</td>\n",
       "      <td>https://res.cloudinary.com/ratebeer/image/uplo...</td>\n",
       "      <td>0.70</td>\n",
       "      <td>8181</td>\n",
       "      <td>0</td>\n",
       "    </tr>\n",
       "    <tr>\n",
       "      <th>3462</th>\n",
       "      <td>37</td>\n",
       "      <td>IPARater72</td>\n",
       "      <td>0.0</td>\n",
       "      <td>https://res.cloudinary.com/ratebeer/image/uplo...</td>\n",
       "      <td>0.66</td>\n",
       "      <td>1976</td>\n",
       "      <td>0</td>\n",
       "    </tr>\n",
       "    <tr>\n",
       "      <th>3463</th>\n",
       "      <td>37</td>\n",
       "      <td>2OLD4BS</td>\n",
       "      <td>0.0</td>\n",
       "      <td>https://res.cloudinary.com/ratebeer/image/uplo...</td>\n",
       "      <td>0.66</td>\n",
       "      <td>28</td>\n",
       "      <td>0</td>\n",
       "    </tr>\n",
       "    <tr>\n",
       "      <th>...</th>\n",
       "      <td>...</td>\n",
       "      <td>...</td>\n",
       "      <td>...</td>\n",
       "      <td>...</td>\n",
       "      <td>...</td>\n",
       "      <td>...</td>\n",
       "      <td>...</td>\n",
       "    </tr>\n",
       "    <tr>\n",
       "      <th>2931600</th>\n",
       "      <td>8666</td>\n",
       "      <td>austinpowers</td>\n",
       "      <td>0.0</td>\n",
       "      <td>https://res.cloudinary.com/ratebeer/image/uplo...</td>\n",
       "      <td>0.64</td>\n",
       "      <td>4721</td>\n",
       "      <td>41</td>\n",
       "    </tr>\n",
       "    <tr>\n",
       "      <th>2931601</th>\n",
       "      <td>8666</td>\n",
       "      <td>DavefromChicago</td>\n",
       "      <td>0.0</td>\n",
       "      <td>https://res.cloudinary.com/ratebeer/image/uplo...</td>\n",
       "      <td>0.72</td>\n",
       "      <td>1102</td>\n",
       "      <td>41</td>\n",
       "    </tr>\n",
       "    <tr>\n",
       "      <th>2931602</th>\n",
       "      <td>8666</td>\n",
       "      <td>motelpogo</td>\n",
       "      <td>0.0</td>\n",
       "      <td>https://res.cloudinary.com/ratebeer/image/uplo...</td>\n",
       "      <td>0.62</td>\n",
       "      <td>7756</td>\n",
       "      <td>41</td>\n",
       "    </tr>\n",
       "    <tr>\n",
       "      <th>2931603</th>\n",
       "      <td>8666</td>\n",
       "      <td>jbrus</td>\n",
       "      <td>0.0</td>\n",
       "      <td>https://res.cloudinary.com/ratebeer/image/uplo...</td>\n",
       "      <td>0.68</td>\n",
       "      <td>6737</td>\n",
       "      <td>41</td>\n",
       "    </tr>\n",
       "    <tr>\n",
       "      <th>2931604</th>\n",
       "      <td>8666</td>\n",
       "      <td>Bov</td>\n",
       "      <td>0.0</td>\n",
       "      <td>https://res.cloudinary.com/ratebeer/image/uplo...</td>\n",
       "      <td>0.70</td>\n",
       "      <td>683</td>\n",
       "      <td>41</td>\n",
       "    </tr>\n",
       "  </tbody>\n",
       "</table>\n",
       "<p>81098 rows × 7 columns</p>\n",
       "</div>"
      ],
      "text/plain": [
       "         item             user  rating  \\\n",
       "3458       37   dunklermessias     0.0   \n",
       "3460       37        bdleedahl     0.0   \n",
       "3461       37         pictoman     0.0   \n",
       "3462       37       IPARater72     0.0   \n",
       "3463       37          2OLD4BS     0.0   \n",
       "...       ...              ...     ...   \n",
       "2931600  8666     austinpowers     0.0   \n",
       "2931601  8666  DavefromChicago     0.0   \n",
       "2931602  8666        motelpogo     0.0   \n",
       "2931603  8666            jbrus     0.0   \n",
       "2931604  8666              Bov     0.0   \n",
       "\n",
       "                                                 image_url  rating_median  \\\n",
       "3458     https://res.cloudinary.com/ratebeer/image/uplo...           0.66   \n",
       "3460     https://res.cloudinary.com/ratebeer/image/uplo...           0.70   \n",
       "3461     https://res.cloudinary.com/ratebeer/image/uplo...           0.70   \n",
       "3462     https://res.cloudinary.com/ratebeer/image/uplo...           0.66   \n",
       "3463     https://res.cloudinary.com/ratebeer/image/uplo...           0.66   \n",
       "...                                                    ...            ...   \n",
       "2931600  https://res.cloudinary.com/ratebeer/image/uplo...           0.64   \n",
       "2931601  https://res.cloudinary.com/ratebeer/image/uplo...           0.72   \n",
       "2931602  https://res.cloudinary.com/ratebeer/image/uplo...           0.62   \n",
       "2931603  https://res.cloudinary.com/ratebeer/image/uplo...           0.68   \n",
       "2931604  https://res.cloudinary.com/ratebeer/image/uplo...           0.70   \n",
       "\n",
       "         user_id_idx  item_id_idx  \n",
       "3458            5882            0  \n",
       "3460            4821            0  \n",
       "3461            8181            0  \n",
       "3462            1976            0  \n",
       "3463              28            0  \n",
       "...              ...          ...  \n",
       "2931600         4721           41  \n",
       "2931601         1102           41  \n",
       "2931602         7756           41  \n",
       "2931603         6737           41  \n",
       "2931604          683           41  \n",
       "\n",
       "[81098 rows x 7 columns]"
      ]
     },
     "execution_count": 78,
     "metadata": {},
     "output_type": "execute_result"
    }
   ],
   "source": [
    "data"
   ]
  },
  {
   "cell_type": "code",
   "execution_count": 57,
   "id": "454bb394-0e01-4e4e-803e-818850a8f3f1",
   "metadata": {},
   "outputs": [],
   "source": [
    "data.to_csv('../data/ratebeer_implicit_label_encoding.csv', index = False)"
   ]
  },
  {
   "cell_type": "markdown",
   "id": "28cb9117-0a85-4f3f-9c05-97d01377f756",
   "metadata": {},
   "source": [
    "### 리뷰 수 별 loss값 비교"
   ]
  },
  {
   "cell_type": "code",
   "execution_count": null,
   "id": "96cd28b0-b225-4029-a3f0-5f3908c90fb6",
   "metadata": {},
   "outputs": [],
   "source": [
    "train Loss: 0.1429, test Loss: 0.3887, test rmse = 0.9741268377904415\n",
    "train Loss: 0.1597, test Loss: 0.3982, test rmse = 0.9178506077363462\n",
    "train Loss: 0.1498, test Loss: 0.3815, test rmse = 0.9185960203148705\n",
    "train Loss: 0.1526, test Loss: 0.3700, test rmse = 0.8679648307799166\n",
    "train Loss: 0.1647, test Loss: 0.3780, test rmse = 0.78464359338185\n",
    "train Loss: 0.1535, test Loss: 0.3589, test rmse = 0.8115433694417444\n",
    "train Loss: 0.1555, test Loss: 0.3459, test rmse = 0.8043579343771801"
   ]
  },
  {
   "cell_type": "code",
   "execution_count": 222,
   "id": "16aa1555-d69e-45a4-adf5-cf6a5f3cf107",
   "metadata": {},
   "outputs": [],
   "source": [
    "train_loss_list = [0.1429, 0.1597, 0.1498, 0.1526, 0.1647, 0.1535, 0.1555]\n",
    "valid_loss_list = [0.3887, 0.3982, 0.3815, 0.3700, 0.3780, 0.3589, 0.3459]\n",
    "test_loss_list = [0.9741, 0.9179, 0.9186, 0.8680, 0.7846, 0.8115, 0.8044]\n",
    "review_n = [i for i in range(4, 11)]"
   ]
  },
  {
   "cell_type": "code",
   "execution_count": 224,
   "id": "a8b27c6a-f94b-4fe6-9ebd-4bcb9de9145c",
   "metadata": {},
   "outputs": [],
   "source": [
    "train_loss_list = [i ** (1/2) for i in train_loss_list]\n",
    "valid_loss_list = [i ** (1/2) for i in valid_loss_list]"
   ]
  },
  {
   "cell_type": "code",
   "execution_count": 228,
   "id": "e4c53aaf-ef6f-4744-813d-1d68f239ddb6",
   "metadata": {},
   "outputs": [
    {
     "data": {
      "text/plain": [
       "[0.378021163428716,\n",
       " 0.3996248240537617,\n",
       " 0.38704004960727256,\n",
       " 0.3906404996924922,\n",
       " 0.4058324777540605,\n",
       " 0.39179076048319467,\n",
       " 0.39433488306260706]"
      ]
     },
     "execution_count": 228,
     "metadata": {},
     "output_type": "execute_result"
    }
   ],
   "source": [
    "train_loss_list"
   ]
  },
  {
   "cell_type": "code",
   "execution_count": 227,
   "id": "1739b0c3-5323-4e9c-b70c-07b8084b49aa",
   "metadata": {},
   "outputs": [
    {
     "data": {
      "text/plain": [
       "[0.6234580980306536,\n",
       " 0.63103090257134,\n",
       " 0.6176568626672904,\n",
       " 0.6082762530298219,\n",
       " 0.6148170459575759,\n",
       " 0.5990826320300063,\n",
       " 0.5881326381013045]"
      ]
     },
     "execution_count": 227,
     "metadata": {},
     "output_type": "execute_result"
    }
   ],
   "source": [
    "valid_loss_list"
   ]
  },
  {
   "cell_type": "code",
   "execution_count": 226,
   "id": "beaf9be8-6e56-4941-adda-b2ad13044f5e",
   "metadata": {},
   "outputs": [
    {
     "data": {
      "image/png": "[encoded data removed]",
      "text/plain": [
       "<Figure size 720x360 with 1 Axes>"
      ]
     },
     "metadata": {
      "needs_background": "light"
     },
     "output_type": "display_data"
    }
   ],
   "source": [
    "plt.figure(figsize=(10,5))\n",
    "plt.plot(train_loss_list,label=\"train_rmse\")\n",
    "plt.plot(valid_loss_list,label=\"val_rmse\")\n",
    "plt.plot(test_loss_list,label=\"test_rmse\")\n",
    "plt.xlabel(\"epoch\")\n",
    "plt.ylabel(\"rmse\")\n",
    "plt.legend()\n",
    "plt.show()"
   ]
  }
 ],
 "metadata": {
  "kernelspec": {
   "display_name": "beer",
   "language": "python",
   "name": "beer"
  },
  "language_info": {
   "codemirror_mode": {
    "name": "ipython",
    "version": 3
   },
   "file_extension": ".py",
   "mimetype": "text/x-python",
   "name": "python",
   "nbconvert_exporter": "python",
   "pygments_lexer": "ipython3",
   "version": "3.8.13"
  }
 },
 "nbformat": 4,
 "nbformat_minor": 5
}
