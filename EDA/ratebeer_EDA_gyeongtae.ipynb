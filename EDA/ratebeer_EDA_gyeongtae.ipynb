{
 "cells": [
  {
   "cell_type": "code",
   "execution_count": 1,
   "metadata": {},
   "outputs": [],
   "source": [
    "import os, sys\n",
    "import pandas as pd\n",
    "import numpy as np\n",
    "import matplotlib\n",
    "import time\n",
    "from datetime import datetime\n",
    "\n",
    "import matplotlib.pyplot as plt\n",
    "import seaborn as sns"
   ]
  },
  {
   "cell_type": "markdown",
   "metadata": {},
   "source": [
    "# 파일 불러오기\n",
    "데이터 출처 - https://cseweb.ucsd.edu/~jmcauley/datasets.html#multi_aspect\n",
    "\n",
    "1. 행간이 \"\\n\" 으로 구분된 \".json\" file 업로드 (```pd.read_json```)\n",
    "2. 결측치 1개 제거 (마지막행이 업로드시 이슈가 발생하는 것 같다) (```pd.DataFrame.dropna()```)"
   ]
  },
  {
   "cell_type": "code",
   "execution_count": 2,
   "metadata": {},
   "outputs": [],
   "source": [
    "ratebeer = pd.read_json(\"../data/new_ratebeer.json\", lines=True).dropna()"
   ]
  },
  {
   "cell_type": "markdown",
   "metadata": {},
   "source": [
    "3. 중복 데이터 제거 (완전히 중복되는 행 drop - 4개의 데이터)"
   ]
  },
  {
   "cell_type": "code",
   "execution_count": 3,
   "metadata": {},
   "outputs": [
    {
     "name": "stdout",
     "output_type": "stream",
     "text": [
      "Raw data's length = 2,924,163\n",
      "Drop-duplicated data's length = 2,924,159\n"
     ]
    }
   ],
   "source": [
    "print(f\"Raw data's length = {ratebeer.shape[0]:7,}\")\n",
    "print(f\"Drop-duplicated data's length = {ratebeer.drop_duplicates().shape[0]:7,}\")\n",
    "ratebeer.drop_duplicates(inplace=True)\n"
   ]
  },
  {
   "cell_type": "markdown",
   "metadata": {},
   "source": [
    "# 데이터 탐색"
   ]
  },
  {
   "cell_type": "markdown",
   "metadata": {},
   "source": [
    "## 변수 설명\n",
    "참고자료 - https://www.ratebeer.com/Story.asp?StoryID=292\n",
    "\n",
    "- `beer/name`: 맥주 이름(상표)\n",
    "- `beer/beerId`: 맥주 일련번호(코드)\n",
    "- `beer/brewerId`: 맥주 생산자 일련번호\n",
    "- `beer/ABV`: 맥주 알코올 도수(Alcohol by volume, %)\n",
    "- `beer/style`: 맥주 카테고리\n",
    "- `review/appearance`: 평가점수-외관(look) \n",
    "- `review/aroma`: 평가점수-향기(smell)\n",
    "- `review/palate`: 평가점수-the sense of taste(feel)\n",
    "- `review/taste`: 평가점수-맛\n",
    "- `review/overall`: 평가점수-종합\n",
    "- `review/time`: 평가 시간\n",
    "- `review/profileName`: 유저ID\n",
    "- `review/text`: 리뷰 코멘트\n",
    "  \n",
    "  \n",
    "\n"
   ]
  },
  {
   "cell_type": "code",
   "execution_count": 4,
   "metadata": {},
   "outputs": [
    {
     "data": {
      "text/html": [
       "<div>\n",
       "<style scoped>\n",
       "    .dataframe tbody tr th:only-of-type {\n",
       "        vertical-align: middle;\n",
       "    }\n",
       "\n",
       "    .dataframe tbody tr th {\n",
       "        vertical-align: top;\n",
       "    }\n",
       "\n",
       "    .dataframe thead th {\n",
       "        text-align: right;\n",
       "    }\n",
       "</style>\n",
       "<table border=\"1\" class=\"dataframe\">\n",
       "  <thead>\n",
       "    <tr style=\"text-align: right;\">\n",
       "      <th></th>\n",
       "      <th>beer/name</th>\n",
       "      <th>beer/beerId</th>\n",
       "      <th>beer/brewerId</th>\n",
       "      <th>beer/ABV</th>\n",
       "      <th>beer/style</th>\n",
       "      <th>review/appearance</th>\n",
       "      <th>review/aroma</th>\n",
       "      <th>review/palate</th>\n",
       "      <th>review/taste</th>\n",
       "      <th>review/overall</th>\n",
       "      <th>review/time</th>\n",
       "      <th>review/profileName</th>\n",
       "      <th>review/text</th>\n",
       "    </tr>\n",
       "  </thead>\n",
       "  <tbody>\n",
       "    <tr>\n",
       "      <th>0</th>\n",
       "      <td>John Harvards Simcoe IPA</td>\n",
       "      <td>63836</td>\n",
       "      <td>8481.0</td>\n",
       "      <td>5.4</td>\n",
       "      <td>India Pale Ale &amp;#40;IPA&amp;#41;</td>\n",
       "      <td>4/5</td>\n",
       "      <td>6/10</td>\n",
       "      <td>3/5</td>\n",
       "      <td>6/10</td>\n",
       "      <td>13/20</td>\n",
       "      <td>1.157587e+09</td>\n",
       "      <td>hopdog</td>\n",
       "      <td>On tap at the Springfield, PA location. Poured...</td>\n",
       "    </tr>\n",
       "    <tr>\n",
       "      <th>1</th>\n",
       "      <td>John Harvards Simcoe IPA</td>\n",
       "      <td>63836</td>\n",
       "      <td>8481.0</td>\n",
       "      <td>5.4</td>\n",
       "      <td>India Pale Ale &amp;#40;IPA&amp;#41;</td>\n",
       "      <td>4/5</td>\n",
       "      <td>6/10</td>\n",
       "      <td>4/5</td>\n",
       "      <td>7/10</td>\n",
       "      <td>13/20</td>\n",
       "      <td>1.157242e+09</td>\n",
       "      <td>TomDecapolis</td>\n",
       "      <td>On tap at the John Harvards in Springfield PA....</td>\n",
       "    </tr>\n",
       "    <tr>\n",
       "      <th>2</th>\n",
       "      <td>John Harvards Cristal Pilsner</td>\n",
       "      <td>71716</td>\n",
       "      <td>8481.0</td>\n",
       "      <td>5</td>\n",
       "      <td>Bohemian Pilsener</td>\n",
       "      <td>4/5</td>\n",
       "      <td>5/10</td>\n",
       "      <td>3/5</td>\n",
       "      <td>6/10</td>\n",
       "      <td>14/20</td>\n",
       "      <td>9.586944e+08</td>\n",
       "      <td>PhillyBeer2112</td>\n",
       "      <td>UPDATED: FEB 19, 2003 Springfield, PA. I've ne...</td>\n",
       "    </tr>\n",
       "  </tbody>\n",
       "</table>\n",
       "</div>"
      ],
      "text/plain": [
       "                       beer/name beer/beerId  beer/brewerId beer/ABV  \\\n",
       "0       John Harvards Simcoe IPA       63836         8481.0      5.4   \n",
       "1       John Harvards Simcoe IPA       63836         8481.0      5.4   \n",
       "2  John Harvards Cristal Pilsner       71716         8481.0        5   \n",
       "\n",
       "                     beer/style review/appearance review/aroma review/palate  \\\n",
       "0  India Pale Ale &#40;IPA&#41;               4/5         6/10           3/5   \n",
       "1  India Pale Ale &#40;IPA&#41;               4/5         6/10           4/5   \n",
       "2             Bohemian Pilsener               4/5         5/10           3/5   \n",
       "\n",
       "  review/taste review/overall   review/time review/profileName  \\\n",
       "0         6/10          13/20  1.157587e+09             hopdog   \n",
       "1         7/10          13/20  1.157242e+09       TomDecapolis   \n",
       "2         6/10          14/20  9.586944e+08     PhillyBeer2112   \n",
       "\n",
       "                                         review/text  \n",
       "0  On tap at the Springfield, PA location. Poured...  \n",
       "1  On tap at the John Harvards in Springfield PA....  \n",
       "2  UPDATED: FEB 19, 2003 Springfield, PA. I've ne...  "
      ]
     },
     "execution_count": 4,
     "metadata": {},
     "output_type": "execute_result"
    }
   ],
   "source": [
    "ratebeer.head(3)"
   ]
  },
  {
   "cell_type": "code",
   "execution_count": 5,
   "metadata": {},
   "outputs": [
    {
     "name": "stdout",
     "output_type": "stream",
     "text": [
      "[ratebeer] 데이터 길이 :  2,924,159\n",
      "[ratebeer] 변수 개수  :  13\n"
     ]
    }
   ],
   "source": [
    "n_data, n_var = ratebeer.shape\n",
    "print('[ratebeer] 데이터 길이 : ',format(n_data, ','))\n",
    "print('[ratebeer] 변수 개수  : ', format(n_var, ','))"
   ]
  },
  {
   "cell_type": "code",
   "execution_count": 6,
   "metadata": {},
   "outputs": [
    {
     "data": {
      "text/plain": [
       "beer/name             0\n",
       "beer/beerId           0\n",
       "beer/brewerId         0\n",
       "beer/ABV              0\n",
       "beer/style            0\n",
       "review/appearance     0\n",
       "review/aroma          0\n",
       "review/palate         0\n",
       "review/taste          0\n",
       "review/overall        0\n",
       "review/time           0\n",
       "review/profileName    0\n",
       "review/text           0\n",
       "dtype: int64"
      ]
     },
     "execution_count": 6,
     "metadata": {},
     "output_type": "execute_result"
    }
   ],
   "source": [
    "# 표면상 데이터 결측치 확인\n",
    "ratebeer.isna().sum()"
   ]
  },
  {
   "cell_type": "markdown",
   "metadata": {},
   "source": [
    "### beer/name - 맥주 이름 (상표) 탐색"
   ]
  },
  {
   "cell_type": "code",
   "execution_count": 7,
   "metadata": {},
   "outputs": [
    {
     "name": "stdout",
     "output_type": "stream",
     "text": [
      "[ratebeer] 맥주의 종류: 110,299가지\n",
      "[ratebeer] 맥주의 일련번호: 110,369가지\n"
     ]
    }
   ],
   "source": [
    "# beer/name 맥주 이름 (상표) 탐색\n",
    "n_item = ratebeer['beer/name'].nunique()\n",
    "print(f\"[ratebeer] 맥주의 종류: {n_item:,}가지\")\n",
    "# print(f\"[ratebeer] 맥주의 스타일 종류: {ratebeer['beer/style'].nunique():,}\")\n",
    "\n",
    "# beer/beerId 와의 관계\n",
    "n_itemId = ratebeer['beer/beerId'].nunique() # 개념상 개수가 같아야하는데, `beer/beerId`가 조금 더 많다. Why?\n",
    "print(f\"[ratebeer] 맥주의 일련번호: {n_itemId:,}가지\")\n"
   ]
  },
  {
   "cell_type": "code",
   "execution_count": 8,
   "metadata": {},
   "outputs": [],
   "source": [
    "# 맥주의 개수와 맥주의 일련 번호가 1대1 대응이 아닙니다!"
   ]
  },
  {
   "cell_type": "code",
   "execution_count": 9,
   "metadata": {},
   "outputs": [
    {
     "name": "stdout",
     "output_type": "stream",
     "text": [
      ">>> 1 대 1 관계에 있는 맥주이름-맥주ID 개수: 110,231\n",
      ">>> 1 대 N 관계에 있는 맥주이름-맥주ID 개수:      68\n",
      "\n",
      "하나의 맥주 이름(beer/name)에 \n",
      "- 1 개의 맥주 일련번호가 존재하는 맥주는 110,231 개 이다.\n",
      "- 2 개의 맥주 일련번호가 존재하는 맥주는      66 개 이다.\n",
      "- 3 개의 맥주 일련번호가 존재하는 맥주는       2 개 이다.\n"
     ]
    }
   ],
   "source": [
    "# 포함관계 확인;  (가정) beer/name 개수가 더 적기 때문에, 더 상위의 개념일 것이다. \n",
    "# 1 대 1 관계에 있는 맥주이름-맥주ID 개수\n",
    "item_1to1 = sum(ratebeer.groupby(\"beer/name\")[\"beer/beerId\"].nunique() == 1)\n",
    "print(f\">>> 1 대 1 관계에 있는 맥주이름-맥주ID 개수: {item_1to1:7,}\")\n",
    "\n",
    "# 1 대 N 관계에 있는 맥주이름-맥주ID 개수\n",
    "item_1toN = sum(ratebeer.groupby(\"beer/name\")[\"beer/beerId\"].nunique() != 1)\n",
    "print(f\">>> 1 대 N 관계에 있는 맥주이름-맥주ID 개수: {item_1toN:7,}\")\n",
    "\n",
    "print()\n",
    "print(\"하나의 맥주 이름(beer/name)에 \")\n",
    "for i, value in ratebeer.groupby(\"beer/name\")[\"beer/beerId\"].nunique().value_counts().iteritems():\n",
    "    print(f\"- {i} 개의 맥주 일련번호가 존재하는 맥주는 {value:7,} 개 이다.\")"
   ]
  },
  {
   "cell_type": "code",
   "execution_count": 10,
   "metadata": {},
   "outputs": [],
   "source": [
    "# 68개에 해당하는 맥주에 대해서 탐사해볼필요가 있다. -> ratebeer에서 직접 탐사해보자 (검색ㄱ)"
   ]
  },
  {
   "cell_type": "code",
   "execution_count": 11,
   "metadata": {},
   "outputs": [
    {
     "name": "stdout",
     "output_type": "stream",
     "text": [
      "여러개의 일련번호를 가지고 있는 맥주 15개의 예시 ---------------\n"
     ]
    },
    {
     "data": {
      "text/plain": [
       "beer/name\n",
       "Alcatraz Big House Red                             [1597, 114783]\n",
       "Alcatraz Octoberfest                              [18251, 114787]\n",
       "Alcatraz Penitentiary Porter                      [19706, 114788]\n",
       "BFM Cuve du 10me                                   [95584, 82831]\n",
       "Bayerischer Hof Dunkel                           [142286, 123141]\n",
       "Best Bier                                         [18102, 133877]\n",
       "Big Horn Saison                                   [119890, 19336]\n",
       "Brewers Art House Pale Ale                         [42980, 11026]\n",
       "Broyarde l`Eclipse              [80766, broyarde-l`eclipse-80766]\n",
       "Broyarde l`Harfang              [broyarde-l`harfang-80769, 80769]\n",
       "Carling Black Label                                [6447, 116441]\n",
       "Empire Imperial Stout                              [6053, 129883]\n",
       "Falter Weissbier Dunkel                           [154890, 73417]\n",
       "Fat Cat Honey Ale                                 [161761, 64273]\n",
       "Freedom Organic Lager                              [58913, 15345]\n",
       "Name: beer/beerId, dtype: object"
      ]
     },
     "execution_count": 11,
     "metadata": {},
     "output_type": "execute_result"
    }
   ],
   "source": [
    "double_id_list = ratebeer.groupby(\"beer/name\")[\"beer/beerId\"].nunique().where(lambda x: x >= 2).dropna().index.to_list()\n",
    "print(f\"여러개의 일련번호를 가지고 있는 맥주 15개의 예시 ---------------\")\n",
    "ratebeer[ratebeer[\"beer/name\"].isin(double_id_list[:15])].groupby(\"beer/name\")[\"beer/beerId\"].unique()\n"
   ]
  },
  {
   "cell_type": "code",
   "execution_count": 12,
   "metadata": {},
   "outputs": [
    {
     "data": {
      "image/png": "[encoded data removed]",
      "text/plain": [
       "<Figure size 432x288 with 1 Axes>"
      ]
     },
     "metadata": {
      "needs_background": "light"
     },
     "output_type": "display_data"
    }
   ],
   "source": [
    "# 어떤 맥주가 리뷰 횟수가 많을까? 상위 15개의 맥주만 한 번 뽑아보자.\n",
    "ratebeer['beer/name'].value_counts()[:15][::-1].plot(kind = 'barh')\n",
    "plt.title(\"Most Review Beer [TOP 15]\")\n",
    "plt.show()"
   ]
  },
  {
   "cell_type": "code",
   "execution_count": 13,
   "metadata": {},
   "outputs": [
    {
     "data": {
      "image/png": "[encoded data removed]",
      "text/plain": [
       "<Figure size 432x288 with 1 Axes>"
      ]
     },
     "metadata": {
      "needs_background": "light"
     },
     "output_type": "display_data"
    }
   ],
   "source": [
    "# 맥주 리뷰 횟수의 분포를 확인해보자\n",
    "ratebeer['beer/name'].value_counts().hist(bins=30)\n",
    "plt.title(\"Histogram of Review Beer\")\n",
    "plt.show()"
   ]
  },
  {
   "cell_type": "code",
   "execution_count": 14,
   "metadata": {},
   "outputs": [],
   "source": [
    "# 거의 대부분의 맥주가 리뷰 횟수가 적다. -> 대부분의 맥주는 잘 조회되지 않는다. "
   ]
  },
  {
   "cell_type": "code",
   "execution_count": 15,
   "metadata": {},
   "outputs": [
    {
     "name": "stdout",
     "output_type": "stream",
     "text": [
      "* 해당 데이터 안에서 존재하는 맥주의 총 가지 수  = 110,299\n",
      "\n",
      "리뷰 개수가   1 개인 맥주의 가지 수 = 24,544 가지\n",
      "리뷰 개수가   2 개인 맥주의 가지 수 = 14,886 가지\n",
      "리뷰 개수가   3 개인 맥주의 가지 수 =  9,819 가지\n",
      "리뷰 개수가   4 개인 맥주의 가지 수 =  7,191 가지\n",
      "리뷰 개수가   5 개인 맥주의 가지 수 =  5,465 가지\n",
      "리뷰 개수가   6 개인 맥주의 가지 수 =  4,420 가지\n",
      "리뷰 개수가   7 개인 맥주의 가지 수 =  3,597 가지\n",
      "리뷰 개수가   8 개인 맥주의 가지 수 =  3,071 가지\n",
      "리뷰 개수가   9 개인 맥주의 가지 수 =  2,545 가지\n",
      "리뷰 개수가  10 개인 맥주의 가지 수 =  2,374 가지\n"
     ]
    }
   ],
   "source": [
    "# 그렇다면, 리뷰 개수가 적은 맥주는 몇 개나 있을까? \n",
    "\n",
    "print(f\"* 해당 데이터 안에서 존재하는 맥주의 총 가지 수  = {n_item:,}\", end=\"\\n\\n\")\n",
    "for index, value in ratebeer['beer/name'].value_counts().value_counts().items():\n",
    "    # print(index, value)\n",
    "    print(f\"리뷰 개수가 {index:3,} 개인 맥주의 가지 수 = {value:6,} 가지\")\n",
    "    if index >= 10: break"
   ]
  },
  {
   "cell_type": "code",
   "execution_count": 16,
   "metadata": {},
   "outputs": [],
   "source": [
    "# 확실히 대부분의 맥주가 리뷰 수가 크게 많지 않다는 것을 알 수 있다.\n",
    "# (이것을 인기도의 관점으로 해석을 할 수 있는 여지가 있다.)"
   ]
  },
  {
   "cell_type": "code",
   "execution_count": 17,
   "metadata": {},
   "outputs": [],
   "source": [
    "##### 종합 평가 ##### \n",
    "# 리뷰 개수가 적은 데이터는 추천에 사용하기 힘들 수 있다.\n",
    "# 하지만 목적에 따라 어떤 데이터로 사용할 수 있기 때문에 전처리 하는 것은 유보한다.\n",
    "# 생각해볼만한점.\n",
    "# 어떤 맥주를 추천해주기 위해서는 맥주가 적어도 몇 개가 있어야 좋을까?\n",
    "\n",
    "# (생각해볼점) 현재 유통되는 맥주인지 어떻게 아나?"
   ]
  },
  {
   "cell_type": "markdown",
   "metadata": {},
   "source": [
    "### beer/brewerId - 맥주 생산자 일련번호"
   ]
  },
  {
   "cell_type": "code",
   "execution_count": 18,
   "metadata": {},
   "outputs": [
    {
     "name": "stdout",
     "output_type": "stream",
     "text": [
      "0\n"
     ]
    }
   ],
   "source": [
    "# 기존에는 float 형으로 기록되어있는데, 변수명을 유추했을때, int라고 판단된다. 따라서 실제로 int 형으로 취급해도 되는지 확인 해본다. \n",
    "print(sum(ratebeer['beer/brewerId'] != ratebeer['beer/brewerId'].astype(int)))\n",
    "\n",
    "# int 형으로 변경\n",
    "ratebeer['beer/brewerId'] = ratebeer['beer/brewerId'].astype(int)"
   ]
  },
  {
   "cell_type": "code",
   "execution_count": 19,
   "metadata": {},
   "outputs": [
    {
     "name": "stdout",
     "output_type": "stream",
     "text": [
      "[ratebeer] 맥주의 생산자: 7,547가지\n"
     ]
    }
   ],
   "source": [
    "# 몇개의 생산자가 있을까?\n",
    "n_brewer = ratebeer['beer/brewerId'].nunique()\n",
    "print(f\"[ratebeer] 맥주의 생산자: {n_brewer:,}가지\")"
   ]
  },
  {
   "cell_type": "code",
   "execution_count": 20,
   "metadata": {},
   "outputs": [
    {
     "data": {
      "image/png": "[encoded data removed]",
      "text/plain": [
       "<Figure size 432x288 with 1 Axes>"
      ]
     },
     "metadata": {
      "needs_background": "light"
     },
     "output_type": "display_data"
    }
   ],
   "source": [
    "# 생산자의 맥주 생산 개수 분포 확인;  맥주 생산을 많이 하는 생산자와 별로 생산하지 않는 생산자와 같은 정보를 확인한다.\n",
    "ratebeer.groupby([\"beer/brewerId\"])[\"beer/name\"].nunique().sort_values(ascending=False).iloc[np.r_[0:10, -10:0]][::-1].plot(kind = 'barh')\n",
    "plt.title(\"How many Beers Brewer launch [Top 10, Bottom 10]\")\n",
    "plt.show()"
   ]
  },
  {
   "cell_type": "code",
   "execution_count": 21,
   "metadata": {},
   "outputs": [],
   "source": [
    "# 많게는 300개의 맥주를 발매한 회사부터, 1개의 맥주만 발매한 회사도 다수 존재한다."
   ]
  },
  {
   "cell_type": "code",
   "execution_count": 22,
   "metadata": {},
   "outputs": [
    {
     "data": {
      "text/html": [
       "<div>\n",
       "<style scoped>\n",
       "    .dataframe tbody tr th:only-of-type {\n",
       "        vertical-align: middle;\n",
       "    }\n",
       "\n",
       "    .dataframe tbody tr th {\n",
       "        vertical-align: top;\n",
       "    }\n",
       "\n",
       "    .dataframe thead th {\n",
       "        text-align: right;\n",
       "    }\n",
       "</style>\n",
       "<table border=\"1\" class=\"dataframe\">\n",
       "  <thead>\n",
       "    <tr style=\"text-align: right;\">\n",
       "      <th></th>\n",
       "      <th>beer/brewerId</th>\n",
       "      <th>freq</th>\n",
       "      <th>top40brewer</th>\n",
       "      <th>normal</th>\n",
       "    </tr>\n",
       "  </thead>\n",
       "  <tbody>\n",
       "    <tr>\n",
       "      <th>0</th>\n",
       "      <td>32</td>\n",
       "      <td>46566</td>\n",
       "      <td>46566</td>\n",
       "      <td>0</td>\n",
       "    </tr>\n",
       "    <tr>\n",
       "      <th>1</th>\n",
       "      <td>76</td>\n",
       "      <td>38663</td>\n",
       "      <td>0</td>\n",
       "      <td>38663</td>\n",
       "    </tr>\n",
       "    <tr>\n",
       "      <th>2</th>\n",
       "      <td>198</td>\n",
       "      <td>37364</td>\n",
       "      <td>0</td>\n",
       "      <td>37364</td>\n",
       "    </tr>\n",
       "    <tr>\n",
       "      <th>3</th>\n",
       "      <td>96</td>\n",
       "      <td>35151</td>\n",
       "      <td>0</td>\n",
       "      <td>35151</td>\n",
       "    </tr>\n",
       "    <tr>\n",
       "      <th>4</th>\n",
       "      <td>232</td>\n",
       "      <td>32432</td>\n",
       "      <td>32432</td>\n",
       "      <td>0</td>\n",
       "    </tr>\n",
       "  </tbody>\n",
       "</table>\n",
       "</div>"
      ],
      "text/plain": [
       "   beer/brewerId   freq  top40brewer  normal\n",
       "0             32  46566        46566       0\n",
       "1             76  38663            0   38663\n",
       "2            198  37364            0   37364\n",
       "3             96  35151            0   35151\n",
       "4            232  32432        32432       0"
      ]
     },
     "execution_count": 22,
     "metadata": {},
     "output_type": "execute_result"
    }
   ],
   "source": [
    "# 그렇다면 혹시, 맥주를 많이 생산하는 생산자는 전체 리뷰수도 많을까?\n",
    "\n",
    "top40brewers = ratebeer.groupby([\"beer/brewerId\"])[\"beer/name\"].nunique().sort_values(ascending=False).head(40).index\n",
    "brewer_reviews = ratebeer.value_counts(\"beer/brewerId\").reset_index()\n",
    "brewer_reviews.columns = [\"beer/brewerId\", \"freq\"]\n",
    "\n",
    "brewer_reviews[\"top40brewer\"] = brewer_reviews[\"beer/brewerId\"].isin(top40brewers)\n",
    "brewer_reviews.sort_values(\"freq\", ascending=False, inplace=True)\n",
    "\n",
    "brewer_reviews[\"top40brewer\"] = np.where(brewer_reviews[\"top40brewer\"], brewer_reviews[\"freq\"], 0)\n",
    "brewer_reviews[\"normal\"] = np.where(brewer_reviews[\"top40brewer\"]==False, brewer_reviews[\"freq\"], 0)\n",
    "brewer_reviews.head()"
   ]
  },
  {
   "cell_type": "code",
   "execution_count": 23,
   "metadata": {},
   "outputs": [
    {
     "data": {
      "image/png": "[encoded data removed]",
      "text/plain": [
       "<Figure size 432x288 with 1 Axes>"
      ]
     },
     "metadata": {
      "needs_background": "light"
     },
     "output_type": "display_data"
    }
   ],
   "source": [
    "brewer_reviews.drop(\"freq\", axis= 1).set_index(\"beer/brewerId\").head(40).plot(kind = 'bar',  stacked=True, color=['red', 'steelblue', ])\n",
    "plt.show()"
   ]
  },
  {
   "cell_type": "code",
   "execution_count": 24,
   "metadata": {},
   "outputs": [],
   "source": [
    "# 맥주 발매량 상위 40개 회사가 모두, 많은 리뷰수를 만들어내지는 못하는 것을 확인할 수 있다.\n",
    "# 하지만, 맥주 발매량 상위 40개 생산자 내에 많은 수준의 생산자들을 나타내는 것으로 보인다.\n",
    "# 정리하자면, 어느정도 상관관계가 없다고 할 수 있을지는 모르겠지만, 완전한 경향성을 나타내는 것으로는 보이지 않는다."
   ]
  },
  {
   "cell_type": "markdown",
   "metadata": {},
   "source": [
    "### beer/ABV - 맥주 알코올도수 탐색"
   ]
  },
  {
   "cell_type": "code",
   "execution_count": 25,
   "metadata": {},
   "outputs": [
    {
     "name": "stdout",
     "output_type": "stream",
     "text": [
      "[ratebeer] ABV(알코올 도수)에서 결측치('-') 리뷰 개수:  138,637개\n"
     ]
    }
   ],
   "source": [
    "# 알코올도수는 숫자 타입이여야하는데, 임포트될때, 자동으로 object 타입으로 변경되었던것으로 보아, str 타입의 정보가 포함되어있을수있다.\n",
    "# 숫자가 아닌 값의 개수는?\n",
    "abvs = pd.to_numeric(ratebeer[\"beer/ABV\"], errors=\"coerce\") # 숫자가 아닌 타입을 수치형으로 바꾸는데, 실제로 수치형으로 변환 불가한 타입의 정보는 NaN 처리를 해주는 명령어\n",
    "print(f\"[ratebeer] ABV(알코올 도수)에서 결측치('-') 리뷰 개수: {abvs.isna().sum(): 7,}개\")\n",
    "ratebeer[\"beer/ABV\"] = abvs"
   ]
  },
  {
   "cell_type": "code",
   "execution_count": 26,
   "metadata": {},
   "outputs": [],
   "source": [
    "# 저네 데이터 개수가 2,924,163개 인 것에 비해서 그렇게 높은 수치는 아닌것 같다. "
   ]
  },
  {
   "cell_type": "code",
   "execution_count": 27,
   "metadata": {},
   "outputs": [
    {
     "name": "stdout",
     "output_type": "stream",
     "text": [
      "[ratebeer] ABV(알코올 도수)에서 결측치('-') 맥주 개수:  23,098개\n"
     ]
    }
   ],
   "source": [
    "# 그렇다면, 몇 개의 맥주가 알코올 도수가 없을까?\n",
    "n_missing_ABV = ratebeer[ratebeer[\"beer/ABV\"].isna()][\"beer/name\"].nunique()\n",
    "print(f\"[ratebeer] ABV(알코올 도수)에서 결측치('-') 맥주 개수: {n_missing_ABV: 7,}개\")\n"
   ]
  },
  {
   "cell_type": "code",
   "execution_count": 28,
   "metadata": {},
   "outputs": [],
   "source": [
    "# 전체 맥주의 개수가 110,299개 이므로, 전체 리뷰에서 결측치의 영향력 보다는 맥주 이름을 기준으로는 훨씬더 결측치의 비율측면에서 더 높은 것으로 보인다. "
   ]
  },
  {
   "cell_type": "code",
   "execution_count": 29,
   "metadata": {},
   "outputs": [
    {
     "data": {
      "text/plain": [
       "count    2785522.000\n",
       "mean           6.641\n",
       "std            2.314\n",
       "min            0.010\n",
       "25%            5.000\n",
       "50%            6.000\n",
       "75%            8.000\n",
       "max           57.700\n",
       "Name: beer/ABV, dtype: float64"
      ]
     },
     "execution_count": 29,
     "metadata": {},
     "output_type": "execute_result"
    }
   ],
   "source": [
    "# 기본 통계치부터 살펴보자\n",
    "round(ratebeer[\"beer/ABV\"].describe(), 3)"
   ]
  },
  {
   "cell_type": "code",
   "execution_count": 30,
   "metadata": {},
   "outputs": [],
   "source": [
    "# 맥주가, 알코올이 무려 57.700 까지 높은 것도 존재하고, 논알코올로 보이는것도 존재한다."
   ]
  },
  {
   "cell_type": "markdown",
   "metadata": {},
   "source": [
    "### beer/style - 맥주 스타일 종류 탐색"
   ]
  },
  {
   "cell_type": "code",
   "execution_count": 31,
   "metadata": {},
   "outputs": [
    {
     "name": "stdout",
     "output_type": "stream",
     "text": [
      "[ratebeer] 맥주의 스타일 종류: 89가지\n"
     ]
    }
   ],
   "source": [
    "# beer/style 맥주 스타일 종류 탐색\n",
    "n_style = ratebeer['beer/style'].nunique()\n",
    "print(f\"[ratebeer] 맥주의 스타일 종류: {n_style:,}가지\")\n"
   ]
  },
  {
   "cell_type": "code",
   "execution_count": 32,
   "metadata": {},
   "outputs": [
    {
     "data": {
      "image/png": "[encoded data removed]",
      "text/plain": [
       "<Figure size 432x288 with 1 Axes>"
      ]
     },
     "metadata": {
      "needs_background": "light"
     },
     "output_type": "display_data"
    }
   ],
   "source": [
    "# 맥주 스타일에는 뭐가 있을까? 리뷰 횟수 기준, 가장 많은 맥주의 스타일과, 맥주 종류 기준으로 가장 많은 맥주의 스타일을 구해본다. \n",
    "# 리뷰 기준, 맥주 스타일 top N\n",
    "ratebeer.value_counts(\"beer/style\").head(10)[::-1].plot(kind = \"barh\")\n",
    "plt.title(\"Most Beer Style by Reviews - [Top 10]\")\n",
    "plt.show()"
   ]
  },
  {
   "cell_type": "code",
   "execution_count": 33,
   "metadata": {},
   "outputs": [
    {
     "data": {
      "image/png": "[encoded data removed]",
      "text/plain": [
       "<Figure size 432x288 with 1 Axes>"
      ]
     },
     "metadata": {
      "needs_background": "light"
     },
     "output_type": "display_data"
    }
   ],
   "source": [
    "# 맥주 종류 기준, 맥주 스타일 top N\n",
    "ratebeer.groupby(\"beer/style\")[\"beer/name\"].nunique().sort_values(ascending=False).head(10)[::-1].plot(kind=\"barh\")\n",
    "plt.title(\"Most Beer Style by Beer name - [Top 10]\")\n",
    "plt.show()"
   ]
  },
  {
   "cell_type": "code",
   "execution_count": 34,
   "metadata": {},
   "outputs": [
    {
     "name": "stdout",
     "output_type": "stream",
     "text": [
      "[ratebeer] 공통으로 많이 나오는 맥주 스타일 6가지 = ['American Pale Ale', 'Fruit Beer', 'Bitter', 'Pale Lager', 'India Pale Ale &#40;IPA&#41;', 'Porter']\n"
     ]
    }
   ],
   "source": [
    "set_top10_style_by_review = set(ratebeer.value_counts(\"beer/style\").head(10).index)\n",
    "set_top10_style_by_name = set(ratebeer.groupby(\"beer/style\")[\"beer/name\"].nunique().sort_values(ascending=False).head(10).index)\n",
    "print(f\"[ratebeer] 공통으로 많이 나오는 맥주 스타일 6가지 = {list(set_top10_style_by_review.intersection(set_top10_style_by_name))}\")"
   ]
  },
  {
   "cell_type": "code",
   "execution_count": 35,
   "metadata": {},
   "outputs": [],
   "source": [
    "# 인기 있는 종류들은 역시나, 거기에서 거기이다. \n",
    "# 여기서 India Pale Ale &#40;IPA&#41; 의 명칭으로한 스타일이 궁금한데, 나중에 찾아봐야겠다..."
   ]
  },
  {
   "cell_type": "markdown",
   "metadata": {},
   "source": [
    "## Score!!!\n",
    "- `review/appearance`: 평가점수-외관(look) \n",
    "- `review/aroma`: 평가점수-향기(smell)\n",
    "- `review/palate`: 평가점수-the sense of taste(feel)\n",
    "- `review/taste`: 평가점수-맛\n",
    "- `review/overall`: 평가점수-종합"
   ]
  },
  {
   "cell_type": "markdown",
   "metadata": {},
   "source": [
    "### review/appearance\n",
    "- 5점 척도"
   ]
  },
  {
   "cell_type": "code",
   "execution_count": 36,
   "metadata": {},
   "outputs": [],
   "source": [
    "# 점수 변환\n",
    "temp_appearance = list(map(lambda x: x[:-2] if \"/\" in x else \"-\", ratebeer[\"review/appearance\"]))\n",
    "ratebeer[\"review/appearance\"] = pd.to_numeric(temp_appearance, errors=\"coerce\")"
   ]
  },
  {
   "cell_type": "code",
   "execution_count": 37,
   "metadata": {},
   "outputs": [
    {
     "data": {
      "text/plain": [
       "count    2924159.000\n",
       "mean           3.432\n",
       "std            0.813\n",
       "min            1.000\n",
       "25%            3.000\n",
       "50%            3.000\n",
       "75%            4.000\n",
       "max            5.000\n",
       "Name: review/appearance, dtype: float64"
      ]
     },
     "execution_count": 37,
     "metadata": {},
     "output_type": "execute_result"
    }
   ],
   "source": [
    "# 기본 통계치\n",
    "round(ratebeer[\"review/appearance\"].describe(),3)"
   ]
  },
  {
   "cell_type": "code",
   "execution_count": 38,
   "metadata": {},
   "outputs": [
    {
     "data": {
      "image/png": "[encoded data removed]",
      "text/plain": [
       "<Figure size 432x288 with 1 Axes>"
      ]
     },
     "metadata": {
      "needs_background": "light"
     },
     "output_type": "display_data"
    }
   ],
   "source": [
    "ratebeer[\"review/appearance\"].value_counts().sort_index().plot(kind = \"bar\")\n",
    "plt.title(\"[ratebeer] review/appearance\")\n",
    "plt.show()"
   ]
  },
  {
   "cell_type": "markdown",
   "metadata": {},
   "source": [
    "### review/aroma\n",
    "- 10점 척도"
   ]
  },
  {
   "cell_type": "code",
   "execution_count": 39,
   "metadata": {},
   "outputs": [],
   "source": [
    "# 점수 변환\n",
    "temp_aroma = list(map(lambda x: x[:-3] if \"/\" in x else \"-\", ratebeer[\"review/aroma\"]))\n",
    "ratebeer[\"review/aroma\"] = pd.to_numeric(temp_aroma, errors=\"coerce\")"
   ]
  },
  {
   "cell_type": "code",
   "execution_count": 40,
   "metadata": {},
   "outputs": [
    {
     "data": {
      "image/png": "[encoded data removed]",
      "text/plain": [
       "<Figure size 432x288 with 1 Axes>"
      ]
     },
     "metadata": {
      "needs_background": "light"
     },
     "output_type": "display_data"
    }
   ],
   "source": [
    "ratebeer[\"review/aroma\"].value_counts().sort_index().plot(kind = \"bar\")\n",
    "plt.title(\"[ratebeer] review/aroma\")\n",
    "plt.show()"
   ]
  },
  {
   "cell_type": "markdown",
   "metadata": {},
   "source": [
    "### review/palateb\n",
    "- 5점 척도"
   ]
  },
  {
   "cell_type": "code",
   "execution_count": 41,
   "metadata": {},
   "outputs": [],
   "source": [
    "# 점수 변환\n",
    "temp_palate = list(map(lambda x: x[:-2] if \"/\" in x else \"-\", ratebeer[\"review/palate\"]))\n",
    "ratebeer[\"review/palate\"] = pd.to_numeric(temp_palate, errors=\"coerce\")"
   ]
  },
  {
   "cell_type": "code",
   "execution_count": 42,
   "metadata": {},
   "outputs": [
    {
     "data": {
      "image/png": "[encoded data removed]",
      "text/plain": [
       "<Figure size 432x288 with 1 Axes>"
      ]
     },
     "metadata": {
      "needs_background": "light"
     },
     "output_type": "display_data"
    }
   ],
   "source": [
    "ratebeer[\"review/palate\"].value_counts().sort_index().plot(kind = \"bar\")\n",
    "plt.title(\"[ratebeer] review/palate\")\n",
    "plt.show()"
   ]
  },
  {
   "cell_type": "markdown",
   "metadata": {},
   "source": [
    "### review/taste\n",
    "- 10점 척도"
   ]
  },
  {
   "cell_type": "code",
   "execution_count": 43,
   "metadata": {},
   "outputs": [],
   "source": [
    "# 점수 변환\n",
    "temp_taste = list(map(lambda x: x[:-3] if \"/\" in x else \"-\", ratebeer[\"review/taste\"]))\n",
    "ratebeer[\"review/taste\"] = pd.to_numeric(temp_taste, errors=\"coerce\")"
   ]
  },
  {
   "cell_type": "code",
   "execution_count": 44,
   "metadata": {},
   "outputs": [
    {
     "data": {
      "image/png": "[encoded data removed]",
      "text/plain": [
       "<Figure size 432x288 with 1 Axes>"
      ]
     },
     "metadata": {
      "needs_background": "light"
     },
     "output_type": "display_data"
    }
   ],
   "source": [
    "ratebeer[\"review/taste\"].value_counts().sort_index().plot(kind = \"bar\")\n",
    "plt.title(\"[ratebeer] review/taste\")\n",
    "plt.show()"
   ]
  },
  {
   "cell_type": "markdown",
   "metadata": {},
   "source": [
    "### review/overall\n",
    "- 20점 척도"
   ]
  },
  {
   "cell_type": "code",
   "execution_count": 45,
   "metadata": {},
   "outputs": [],
   "source": [
    "# 점수 변환\n",
    "temp_overall = list(map(lambda x: x[:-3] if \"/\" in x else \"-\", ratebeer[\"review/overall\"]))\n",
    "ratebeer[\"review/overall\"] = pd.to_numeric(temp_overall, errors=\"coerce\")"
   ]
  },
  {
   "cell_type": "code",
   "execution_count": 46,
   "metadata": {},
   "outputs": [
    {
     "data": {
      "image/png": "[encoded data removed]",
      "text/plain": [
       "<Figure size 432x288 with 1 Axes>"
      ]
     },
     "metadata": {
      "needs_background": "light"
     },
     "output_type": "display_data"
    }
   ],
   "source": [
    "ratebeer[\"review/overall\"].value_counts().sort_index().plot(kind = \"bar\")\n",
    "plt.title(\"[ratebeer] review/overall\")\n",
    "plt.show()"
   ]
  },
  {
   "cell_type": "code",
   "execution_count": 47,
   "metadata": {},
   "outputs": [],
   "source": [
    "# 척도에 따라, 어느값에 사람들이 많이 체크를 하는지 알 수 있다. \n",
    "# 5점 척도인 경우에는 3점을 많이 주는 경향이 있는 것을 볼 수 있고, \n",
    "# 10점척도인 경우게는 7점, 20점 척도에서는 10점 척도로 변경한다면 매우 비슷한 형태를 취하는 것을 알 수 있다.\n",
    "\n",
    "# Further Works\n",
    "    # 이것을 통해서 사람들은 점수를 매기는 것에 큰 의미를 두고 있지 않고, 보통 후한 값을 주는 것으로 보인다. \n",
    "    # 물론 그것을 넘기고 말고가 중요한 Key point가 될 수 있다고 생각한다.\n",
    "    # 앞으로 수집하는 데이터에서는 이러한 정보를 유저로부터 수집하기 어려워지는데, 이런 문제를 해결하기 해당 데이터를 어떻게 사용할지도 고려해봐야한다.\n",
    "        # ex Preference의 Confidence 인자로 활용하여, 선호 비선호 구별?\n",
    "    # overall 에서 유저의 평가가 올바르게 이루어질 경우, "
   ]
  },
  {
   "cell_type": "markdown",
   "metadata": {},
   "source": [
    "### review/time\n",
    "\n",
    "- timedelta 형태로 날짜가 기록되어있다.\n",
    "- 구체적인 시간대는 기록되어있지 않았다. "
   ]
  },
  {
   "cell_type": "code",
   "execution_count": 48,
   "metadata": {},
   "outputs": [
    {
     "data": {
      "text/plain": [
       "0          2006-09-07 00:00:00\n",
       "1          2006-09-03 00:00:00\n",
       "2          2000-05-19 00:00:00\n",
       "3          2006-09-07 00:00:00\n",
       "4          2006-09-07 00:00:00\n",
       "                  ...         \n",
       "2924158    2002-02-15 00:00:00\n",
       "2924159    2004-01-23 00:00:00\n",
       "2924160    2003-04-20 00:00:00\n",
       "2924161    2002-03-18 00:00:00\n",
       "2924162    2001-09-12 00:00:00\n",
       "Name: review/time, Length: 2924159, dtype: object"
      ]
     },
     "execution_count": 48,
     "metadata": {},
     "output_type": "execute_result"
    }
   ],
   "source": [
    "ratebeer_datetime = ratebeer['review/time'].apply(lambda x: time.strftime('%Y-%m-%d %H:%M:%S', time.localtime(x) ))\n",
    "ratebeer_datetime"
   ]
  },
  {
   "cell_type": "code",
   "execution_count": 49,
   "metadata": {},
   "outputs": [
    {
     "name": "stdout",
     "output_type": "stream",
     "text": [
      "[ratebeer] 리뷰 기록 기간 2000-04-12 00:00:00 ~ 2012-01-13 00:00:00\n"
     ]
    }
   ],
   "source": [
    "print(f\"[ratebeer] 리뷰 기록 기간 {ratebeer_datetime.min()} ~ {ratebeer_datetime.max()}\")"
   ]
  },
  {
   "cell_type": "code",
   "execution_count": 50,
   "metadata": {},
   "outputs": [],
   "source": [
    "# 시간 데이터 탐색 | 시간 정보에 의한 인사이트 확보\n",
    "df_dt = pd.DataFrame()\n",
    "df_dt[\"dt\"] = ratebeer_datetime.apply(lambda x: datetime.fromisoformat(x))\n",
    "df_dt[\"date\"] = df_dt[\"dt\"].apply(lambda x: str(x.date()))\n",
    "df_dt[\"year\"] = df_dt[\"dt\"].apply(lambda x: x.year)\n",
    "df_dt[\"month\"] = df_dt[\"dt\"].apply(lambda x: x.month)\n",
    "df_dt[\"day\"] = df_dt[\"dt\"].apply(lambda x: x.day)\n",
    "df_dt[\"weekday\"] = df_dt[\"dt\"].apply(lambda x: x.weekday())\n",
    "\n",
    "# (dataframe-skill) 시간이 너무 많이 소요된다. 해결 방안은?"
   ]
  },
  {
   "cell_type": "code",
   "execution_count": 51,
   "metadata": {},
   "outputs": [
    {
     "data": {
      "image/png": "[encoded data removed]",
      "text/plain": [
       "<Figure size 432x288 with 1 Axes>"
      ]
     },
     "metadata": {
      "needs_background": "light"
     },
     "output_type": "display_data"
    }
   ],
   "source": [
    "df_dt.value_counts(\"year\").sort_index().plot(kind = \"bar\")\n",
    "plt.title(\"DATETIME - YEAR\")\n",
    "plt.show()"
   ]
  },
  {
   "cell_type": "code",
   "execution_count": 52,
   "metadata": {},
   "outputs": [],
   "source": [
    "# 아마도 서비스가 성장함에 따라 기록이 늘었을 가능성이 높다.\n",
    "# 추후에 Benchmark dataset을 어떻게 구성할지 고려해볼 수 있는 부분이 되겠다."
   ]
  },
  {
   "cell_type": "code",
   "execution_count": 53,
   "metadata": {},
   "outputs": [
    {
     "data": {
      "image/png": "[encoded data removed]",
      "text/plain": [
       "<Figure size 432x288 with 1 Axes>"
      ]
     },
     "metadata": {
      "needs_background": "light"
     },
     "output_type": "display_data"
    }
   ],
   "source": [
    "df_dt.value_counts(\"month\").sort_index().plot(kind = \"bar\")\n",
    "plt.title(\"DATETIME - month\")\n",
    "plt.show()"
   ]
  },
  {
   "cell_type": "code",
   "execution_count": 54,
   "metadata": {},
   "outputs": [],
   "source": [
    "# 외국 데이터로, 사계절이 뚜렷해서 여름-맥주 를 연결시켜서 상품화 하는 우리나라와는 달리\n",
    "# 사계절이 불분명하기 때문에 어떤 시즌에 맥주가 많이 소비되고 그런 경향성은 보이지 않는 것 같다."
   ]
  },
  {
   "cell_type": "code",
   "execution_count": 55,
   "metadata": {},
   "outputs": [
    {
     "data": {
      "image/png": "[encoded data removed]",
      "text/plain": [
       "<Figure size 432x288 with 1 Axes>"
      ]
     },
     "metadata": {
      "needs_background": "light"
     },
     "output_type": "display_data"
    }
   ],
   "source": [
    "df_dt.value_counts(\"day\").sort_index().plot(kind = \"bar\")\n",
    "plt.title(\"DATETIME - day\")\n",
    "plt.show()"
   ]
  },
  {
   "cell_type": "code",
   "execution_count": 56,
   "metadata": {},
   "outputs": [],
   "source": [
    "# 마찬가지로, 날짜는 어떠한 경향성도 존재하지 않는 것으로 보인다. 다만, 1일은 조금 많은 소비가 있는 것으로 보인다. "
   ]
  },
  {
   "cell_type": "code",
   "execution_count": 57,
   "metadata": {},
   "outputs": [
    {
     "data": {
      "image/png": "[encoded data removed]",
      "text/plain": [
       "<Figure size 432x288 with 1 Axes>"
      ]
     },
     "metadata": {
      "needs_background": "light"
     },
     "output_type": "display_data"
    }
   ],
   "source": [
    "df_dt.value_counts(\"weekday\").sort_index().plot(kind = \"bar\")\n",
    "plt.title(\"DATETIME - weekday\")\n",
    "plt.show()"
   ]
  },
  {
   "cell_type": "code",
   "execution_count": 58,
   "metadata": {},
   "outputs": [],
   "source": [
    "# 확실히 금요일, 토요일에 맥주 리뷰를 많이 하는 것으로 나타난다. \n",
    "# 다른 날도 충분히 많이 보고 있지만, 일요일을 제외한 주말로 갈 수록 리뷰의 수가 증가하는 추세를 볼 수 있다."
   ]
  },
  {
   "cell_type": "markdown",
   "metadata": {},
   "source": [
    "### review/profileName"
   ]
  },
  {
   "cell_type": "code",
   "execution_count": 59,
   "metadata": {},
   "outputs": [
    {
     "name": "stdout",
     "output_type": "stream",
     "text": [
      "[ratebeer] 유저의 수: 29,265\n"
     ]
    }
   ],
   "source": [
    "n_user = ratebeer['review/profileName'].nunique()\n",
    "print(f\"[ratebeer] 유저의 수: {n_user:,}\")"
   ]
  },
  {
   "cell_type": "code",
   "execution_count": 60,
   "metadata": {},
   "outputs": [
    {
     "name": "stdout",
     "output_type": "stream",
     "text": [
      "[ratebeer] Sparsity: 99.909% | Density: 0.091%\n"
     ]
    }
   ],
   "source": [
    "# sparsity\n",
    "print(f\"[ratebeer] Sparsity: {1-n_data/(n_item*n_user):2.3%} | Density: {n_data/(n_item*n_user):2.3%}\")"
   ]
  },
  {
   "cell_type": "code",
   "execution_count": 61,
   "metadata": {},
   "outputs": [
    {
     "data": {
      "text/plain": [
       "<AxesSubplot:>"
      ]
     },
     "execution_count": 61,
     "metadata": {},
     "output_type": "execute_result"
    },
    {
     "data": {
      "image/png": "[encoded data removed]",
      "text/plain": [
       "<Figure size 432x288 with 1 Axes>"
      ]
     },
     "metadata": {
      "needs_background": "light"
     },
     "output_type": "display_data"
    }
   ],
   "source": [
    "# 한 명의 유저가 남긴 리뷰의 수 분포는?\n",
    "ratebeer.value_counts(\"review/profileName\").hist(bins = 50)"
   ]
  },
  {
   "cell_type": "code",
   "execution_count": 62,
   "metadata": {},
   "outputs": [],
   "source": [
    "# 대부분이 적은 리뷰 수를 남긴다. (일반인)\n",
    "# (생각해볼점) 적은 리뷰를 남긴 유저의 데이터가 추천 모델을 학습시키기에 적합할까? \n",
    "#       -> 어떻게 처리할 수 있을까? 그래도 양질의 정성이 담긴 평가가 있다면, 그것은 해당 아이템에 대한 평가에 소중한 의견이 될 수 있다.\n",
    "# 하지만, 역시나, 무언가를 추천해주기에는, 해당 유저의 특성을 하나의 맥주만으로 파악할 수 없기 때문에, 어렵다.\n",
    "# 하지만, 해당 데이터는 리뷰를 가지고 있으므로, 리뷰 글을 통해서 비슷한 유저인지 아닌지 좀 파악알 수 있지 않을까?"
   ]
  },
  {
   "cell_type": "code",
   "execution_count": 63,
   "metadata": {},
   "outputs": [
    {
     "data": {
      "text/plain": [
       "<AxesSubplot:>"
      ]
     },
     "execution_count": 63,
     "metadata": {},
     "output_type": "execute_result"
    },
    {
     "data": {
      "image/png": "[encoded data removed]",
      "text/plain": [
       "<Figure size 432x288 with 1 Axes>"
      ]
     },
     "metadata": {
      "needs_background": "light"
     },
     "output_type": "display_data"
    }
   ],
   "source": [
    "# 리뷰 개수 상위 500명에 대한 분포\n",
    "ratebeer.value_counts(\"review/profileName\")[:500].hist(bins = 30)"
   ]
  },
  {
   "cell_type": "code",
   "execution_count": 64,
   "metadata": {},
   "outputs": [
    {
     "data": {
      "image/png": "[encoded data removed]",
      "text/plain": [
       "<Figure size 432x288 with 1 Axes>"
      ]
     },
     "metadata": {
      "needs_background": "light"
     },
     "output_type": "display_data"
    },
    {
     "data": {
      "text/plain": [
       "1    9215\n",
       "2    3778\n",
       "3    2064\n",
       "4    1442\n",
       "5    1023\n",
       "dtype: int64"
      ]
     },
     "execution_count": 64,
     "metadata": {},
     "output_type": "execute_result"
    }
   ],
   "source": [
    "# 리뷰를 적게 남긴 유저의 기준으로 리뷰 개수별 몇 명이 있는지 분포를 확인해보자.\n",
    "ratebeer.value_counts(\"review/profileName\").value_counts().sort_index().head(30).plot(kind = \"bar\")\n",
    "plt.show()\n",
    "ratebeer.value_counts(\"review/profileName\").value_counts().sort_index().head(5)"
   ]
  },
  {
   "cell_type": "code",
   "execution_count": 65,
   "metadata": {},
   "outputs": [],
   "source": [
    "# 리뷰를 1개만 남긴 데이터는 전체에서 가장 많으며, 약 3만명의 유저 중에서, 약 1만명의 유저가 (약 30%) 단 하나의 리뷰만을 기록했을 뿐이다. "
   ]
  },
  {
   "cell_type": "code",
   "execution_count": 66,
   "metadata": {},
   "outputs": [
    {
     "data": {
      "text/plain": [
       "count    29265.000000\n",
       "mean        99.920007\n",
       "std        465.197659\n",
       "min          1.000000\n",
       "25%          1.000000\n",
       "50%          3.000000\n",
       "75%         16.000000\n",
       "max      16364.000000\n",
       "dtype: float64"
      ]
     },
     "execution_count": 66,
     "metadata": {},
     "output_type": "execute_result"
    }
   ],
   "source": [
    "# 리뷰를 남긴 개수의 기본 통계치\n",
    "ratebeer.value_counts(\"review/profileName\").describe()"
   ]
  },
  {
   "cell_type": "code",
   "execution_count": 67,
   "metadata": {},
   "outputs": [],
   "source": [
    "# 가장 많은 리뷰 수를 남긴 유저는 무려 16K 건의 리뷰를 남겼다. 중위수는 3개이다."
   ]
  },
  {
   "cell_type": "code",
   "execution_count": 68,
   "metadata": {},
   "outputs": [
    {
     "data": {
      "text/plain": [
       "1       0.314881\n",
       "2       0.129096\n",
       "3       0.070528\n",
       "4       0.049274\n",
       "5       0.034956\n",
       "          ...   \n",
       "1345    0.000034\n",
       "1346    0.000034\n",
       "1353    0.000034\n",
       "1359    0.000034\n",
       "831     0.000034\n",
       "Length: 1460, dtype: float64"
      ]
     },
     "execution_count": 68,
     "metadata": {},
     "output_type": "execute_result"
    }
   ],
   "source": [
    "# (고민해야할 부분) 우리는 과연 몇 개의 리뷰를 남긴 데이터를 우리 추천에 활용할 수 있을지?\n",
    "ratebeer.value_counts(\"review/profileName\").value_counts(normalize=True)"
   ]
  },
  {
   "cell_type": "code",
   "execution_count": 69,
   "metadata": {},
   "outputs": [
    {
     "data": {
      "text/html": [
       "<div>\n",
       "<style scoped>\n",
       "    .dataframe tbody tr th:only-of-type {\n",
       "        vertical-align: middle;\n",
       "    }\n",
       "\n",
       "    .dataframe tbody tr th {\n",
       "        vertical-align: top;\n",
       "    }\n",
       "\n",
       "    .dataframe thead th {\n",
       "        text-align: right;\n",
       "    }\n",
       "</style>\n",
       "<table border=\"1\" class=\"dataframe\">\n",
       "  <thead>\n",
       "    <tr style=\"text-align: right;\">\n",
       "      <th></th>\n",
       "      <th>review/profileName</th>\n",
       "      <th>freq</th>\n",
       "    </tr>\n",
       "  </thead>\n",
       "  <tbody>\n",
       "    <tr>\n",
       "      <th>0</th>\n",
       "      <td>fonefan</td>\n",
       "      <td>16364</td>\n",
       "    </tr>\n",
       "    <tr>\n",
       "      <th>1</th>\n",
       "      <td>Ungstrup</td>\n",
       "      <td>15296</td>\n",
       "    </tr>\n",
       "    <tr>\n",
       "      <th>2</th>\n",
       "      <td>Papsoe</td>\n",
       "      <td>14170</td>\n",
       "    </tr>\n",
       "    <tr>\n",
       "      <th>3</th>\n",
       "      <td>yespr</td>\n",
       "      <td>13486</td>\n",
       "    </tr>\n",
       "    <tr>\n",
       "      <th>4</th>\n",
       "      <td>oh6gdx</td>\n",
       "      <td>9994</td>\n",
       "    </tr>\n",
       "  </tbody>\n",
       "</table>\n",
       "</div>"
      ],
      "text/plain": [
       "  review/profileName   freq\n",
       "0            fonefan  16364\n",
       "1           Ungstrup  15296\n",
       "2             Papsoe  14170\n",
       "3              yespr  13486\n",
       "4             oh6gdx   9994"
      ]
     },
     "execution_count": 69,
     "metadata": {},
     "output_type": "execute_result"
    }
   ],
   "source": [
    "# 적은 리뷰 수를 기록하는 유저들을 제외하고 data의 sparsity 변화 추이를 확인해보자.\n",
    "df_user = ratebeer.value_counts(\"review/profileName\").reset_index()\n",
    "df_user.columns = [\"review/profileName\", \"freq\"]\n",
    "ratebeer = ratebeer.merge(df_user, on = \"review/profileName\")\n",
    "\n",
    "df_user.head()"
   ]
  },
  {
   "cell_type": "code",
   "execution_count": 70,
   "metadata": {},
   "outputs": [
    {
     "name": "stdout",
     "output_type": "stream",
     "text": [
      "[ratebeer] 리뷰 개수가 N개 이하인 유저 제외\n",
      "|  N | SPARSITY | DENSITY |    SIZE   | # items | # users |\n",
      "|  0 | 99.9094% | 0.0906% | 2,924,159 | 110,299 |  29,265 |\n",
      "|  1 | 99.8682% | 0.1318% | 2,914,944 | 110,268 |  20,050 |\n",
      "|  2 | 99.8379% | 0.1621% | 2,907,388 | 110,237 |  16,272 |\n",
      "|  3 | 99.8147% | 0.1853% | 2,901,196 | 110,207 |  14,208 |\n",
      "|  4 | 99.7942% | 0.2058% | 2,895,428 | 110,190 |  12,766 |\n",
      "|  5 | 99.7766% | 0.2234% | 2,890,313 | 110,172 |  11,743 |\n",
      "|  6 | 99.7609% | 0.2391% | 2,885,591 | 110,165 |  10,956 |\n",
      "|  7 | 99.7469% | 0.2531% | 2,881,230 | 110,154 |  10,333 |\n",
      "|  8 | 99.7341% | 0.2659% | 2,877,158 | 110,145 |   9,824 |\n",
      "|  9 | 99.7211% | 0.2789% | 2,872,910 | 110,140 |   9,352 |\n",
      "| 10 | 99.7081% | 0.2919% | 2,868,630 | 110,133 |   8,924 |\n",
      "| 11 | 99.6961% | 0.3039% | 2,864,604 | 110,127 |   8,558 |\n",
      "| 12 | 99.6848% | 0.3152% | 2,860,812 | 110,121 |   8,242 |\n",
      "| 13 | 99.6737% | 0.3263% | 2,857,042 | 110,110 |   7,952 |\n",
      "| 14 | 99.6637% | 0.3363% | 2,853,612 | 110,107 |   7,707 |\n"
     ]
    }
   ],
   "source": [
    "print(\"[ratebeer] 리뷰 개수가 N개 이하인 유저 제외\")\n",
    "print(\"|  N | SPARSITY | DENSITY |    SIZE   | # items | # users |\")\n",
    "# print(\"-----------------------------------------------------------\")\n",
    "for i in range(15):\n",
    "    df_temp = ratebeer.query(f\"freq > {i}\")\n",
    "    temp_n_item = df_temp[\"beer/name\"].nunique()\n",
    "    temp_n_user = df_temp[\"review/profileName\"].nunique()\n",
    "    temp_n_data = df_temp.shape[0]\n",
    "    temp_density = temp_n_data/(temp_n_item*temp_n_user)\n",
    "    print(f\"| {i:2} | {1-temp_density:2.4%} | {temp_density:2.4%} | \", end = \"\")\n",
    "    print(f\"{temp_n_data:7,} | {temp_n_item:7,} | {temp_n_user:7,} |\")"
   ]
  },
  {
   "cell_type": "code",
   "execution_count": 71,
   "metadata": {},
   "outputs": [],
   "source": [
    "# 적은 리뷰를 기록한 유저를 추천 시스템 모델을 학습시키는데에 제외해도 될 것같다. \n",
    "# 오직 유저의 수만 줄어든다.\n",
    "\n",
    "# (고민 해야하는 내용)\n",
    "# 적은 리뷰 수를 기록한 유저를 제외하는 것은 어떤 리스크가 존재할까?\n",
    "# 잠재 고객들에게 우리는 유저가 마셔본 맥주 중에 10개 이상의 맥주에 대해서 평가를 요구할 예정이다. (10개 이상의 맥주를 마셔본 적이 없다면, 그냥 인기도 기반 추천을 할 수 밖에)\n",
    "# 그래서 초기 유저에게서 10개 맥주에 대한 정보를 얻을 수 있다면, Cold-start problem이 어느정도 해결된 데이터만을 가지고 학습 시키는 것도 괜찮을것같다. \n",
    "\n",
    "# (EDA 에서 유저가 10개를 선택하지 못하는 상황도 고려해보자!)\n",
    "# 하지만, 나의 뇌피셜로는, 우리가 실제로 고민해야할것은, 현실에서는 이렇게 유저에게 이러한 문제를 얻고자 하는 것도 어려운 일일 수 있다. 따라서, \n",
    "# 이런 부분만 고려해야할 것이 아니라, 실제로 맥주에 대한 경험이 별로 없다던지, 그런 이벤트가 있을 수 있다. \n",
    "# 그런 경우에도 추천해줄 수 있는 단순 모델이나 그런 방법들이 있다.\n"
   ]
  },
  {
   "cell_type": "markdown",
   "metadata": {},
   "source": [
    "### review/text"
   ]
  },
  {
   "cell_type": "code",
   "execution_count": 72,
   "metadata": {},
   "outputs": [
    {
     "name": "stdout",
     "output_type": "stream",
     "text": [
      "전체 데이터의 길이             = 2,924,159\n",
      "중복되지 않는 review/text 개수 = 2,844,800\n",
      "                    - )    =  79,359\n"
     ]
    }
   ],
   "source": [
    "print(f\"전체 데이터의 길이             = {ratebeer.shape[0]:7,}\")\n",
    "nunique_reviewtext = ratebeer[\"review/text\"].nunique()\n",
    "print(f\"중복되지 않는 review/text 개수 = {nunique_reviewtext:7,}\")\n",
    "print(f\"                    - )    = {ratebeer.shape[0] - nunique_reviewtext:7,}\")"
   ]
  },
  {
   "cell_type": "code",
   "execution_count": 73,
   "metadata": {},
   "outputs": [],
   "source": [
    "# 리뷰는 모든 글이 다 달라야 정상이 아닌가? 그런데, 같은 리뷰가 있는것으로 보인다. "
   ]
  },
  {
   "cell_type": "code",
   "execution_count": 74,
   "metadata": {},
   "outputs": [
    {
     "data": {
      "text/plain": [
       "                                                                                                                                                                                                                                                                                                                                                                                                                                                                                                                               5002.0\n",
       "This beer is really pretty decent, but still nothing much to it.  I like some more complexity.                                                                                                                                                                                                                                                                                                                                                                                                                                  199.0\n",
       "This is part of a beer club. Had only one bottle but was decent for the price. Poured great and had a nice finish. Would do again.                                                                                                                                                                                                                                                                                                                                                                                              126.0\n",
       "I had this beer a while back and from what I can remember I enjoyed it.  Ive had this at the pub/brewery so it was fresh.\\t\\tNothing special about it is popping into my head at the moment.                                                                                                                                                                                                                                                                                                                                     90.0\n",
       "(This beer rating was imported from FB and unfortunately lacks any further comments.)                                                                                                                                                                                                                                                                                                                                                                                                                                            71.0\n",
       "                                                                                                                                                                                                                                                                                                                                                                                                                                                                                                                                ...  \n",
       "This is a beer for those who are thirsty and still want a beer with flavor; its not full-bodied, but its not supposed to be.  Its a very drinkable beer, for bar-b-q and summer fun.                                                                                                                                                                                                                                                                                                                                              2.0\n",
       "  Bottle that I picked up from somewhere? Consumed at Campsite in Guinnes, France 12-06-09.   Pours rusty red. The head had disappeared by the time that I had turned back to check this whilst I was cooking my Bouillibase outside the camper. There was also a light carbonation to this beer. Light cherry and woodiness on the nose. Taste is cherry, drinks much easier than 7.7%, soft in the mouth, its fine.  A6 A4 F6 P3 Ov13  3.2                                                                                      2.0\n",
       "I have not drank this beer in about 5 years and was surprised how good it actually was.  Okay I was drinking 12 ounce bottles but thought it was a very smooth, drinkable malt liquor.   Remember you dont have to rock a 40 dog to try this beer.                                                                                                                                                                                                                                                                                2.0\n",
       "One of the worst beer I have ever had. It took a while for me to finish one bottle...                                                                                                                                                                                                                                                                                                                                                                                                                                             2.0\n",
       "Strong up front citrus hop aroma, sweet malt flavor.    For a small regional brewery that for the most part produces macro pale lagers, Steg Anniversary is a gem of an offering.   This limited offering cost me $19.95 USD for a case.    When brewer Brandon Greenwood left Nodding Head brewpub for the lead role at Lion Brewery I only dreamed of beers like this being created in W-B.    Now that Greenwood has departed Lion Brewery I dont know if a beer of this magnitude will be offered by the brewery again.       2.0\n",
       "Name: review/text, Length: 71583, dtype: float64"
      ]
     },
     "execution_count": 74,
     "metadata": {},
     "output_type": "execute_result"
    }
   ],
   "source": [
    "# 약 10만개의 같은 리뷰는 어떤 리뷰들로 이루어져있을까?\n",
    "ratebeer[\"review/text\"].value_counts().where(lambda x: x>1).dropna()"
   ]
  },
  {
   "cell_type": "code",
   "execution_count": 75,
   "metadata": {},
   "outputs": [],
   "source": [
    "# 엄청나게 많은 중복이 있는 텍스트가 있는것을 확인할 수 있다.\n",
    "# 71,587 개의 유니크한 리뷰 텍스트가 약 10K 개의 중복된 리뷰를 만들어내었다."
   ]
  },
  {
   "cell_type": "code",
   "execution_count": 76,
   "metadata": {},
   "outputs": [],
   "source": [
    "# (Further Works) 정상적인 이용을 위해서 다음과 같은 것을 알아볼 필요가 있다고 판단된다.\n",
    "# - 모든 중복 데이터에 대해서 이게 어떤 방식으로 작성된 것인지 파악해야한다. \n",
    "#   - 모두 같은 유저에 의해서 작성된 것인가?\n",
    "#   - 밈 처럼 사용되는 것인가?\n",
    "#   - 리뷰가 매우 많은 맥주에 대해서 발견되는 것인가?\n",
    "#   - 리뷰가 같다면, 혹시 매크로에 의해서 작성된 것인가? (수치형 리뷰가 모두 같은 점수이거나 일정한 랜덤성을 따를 수 있다.)\n",
    "# \n",
    "# - 3개 이하의 중복의 데이터에 대해서 \n",
    "#   - 이전에 봤던 같은 맥주 이름을 공유하고 있는 서로 다음 맥주 일련번호가 혹시 같은 리뷰를 공유하고 있는 것은 아닐까?"
   ]
  },
  {
   "cell_type": "code",
   "execution_count": 77,
   "metadata": {},
   "outputs": [
    {
     "data": {
      "text/plain": [
       "beer/name\n",
       "13th Century Grut Bier            158\n",
       "1809 Berliner Style Weisse        598\n",
       "1904 American Red                   2\n",
       "21st Amendment Back in Black      459\n",
       "21st Amendment Bitter American    170\n",
       "                                 ... \n",
       "lger Reykjavkur Gullfoss            1\n",
       "li                                  7\n",
       "s`Tunnel                            9\n",
       "sake2me Asian Pear                  1\n",
       "sake2me Ginger Mango                1\n",
       "Name: review/text, Length: 7690, dtype: int64"
      ]
     },
     "execution_count": 77,
     "metadata": {},
     "output_type": "execute_result"
    }
   ],
   "source": [
    "# 중복된 리뷰 텍스트와 맥주 이름 간의 관계성 파악\n",
    "duplicated_reviewtext_list = ratebeer[\"review/text\"].value_counts().where(lambda x: x>1).dropna().index.to_list()\n",
    "df_duplicated_reviewtext = ratebeer[ratebeer[\"review/text\"].isin(duplicated_reviewtext_list)]\n",
    "\n",
    "# 같은 맥주 내에 같은 리뷰가 몇 개씩 있을까?\n",
    "df_duplicated_reviewtext.groupby(\"beer/name\")[\"review/text\"].nunique()\n"
   ]
  },
  {
   "cell_type": "code",
   "execution_count": 78,
   "metadata": {},
   "outputs": [],
   "source": [
    "# 해당 결과를 통해서 중복된 리뷰에 대해 꼭 중복된 리뷰가 같은 맥주에만 존재하는 것은 아니라는 것을 알 수 있다."
   ]
  },
  {
   "cell_type": "code",
   "execution_count": 79,
   "metadata": {},
   "outputs": [
    {
     "data": {
      "text/plain": [
       "73565"
      ]
     },
     "execution_count": 79,
     "metadata": {},
     "output_type": "execute_result"
    }
   ],
   "source": [
    "# 같은 맥주 내에 같은 리뷰는 모두 같은 사람이 작성했을까? \n",
    "(df_duplicated_reviewtext[\"review/profileName\"] + df_duplicated_reviewtext[\"review/text\"]).nunique()"
   ]
  },
  {
   "cell_type": "code",
   "execution_count": 80,
   "metadata": {},
   "outputs": [
    {
     "data": {
      "text/plain": [
       "71583"
      ]
     },
     "execution_count": 80,
     "metadata": {},
     "output_type": "execute_result"
    }
   ],
   "source": [
    "(df_duplicated_reviewtext[\"review/text\"]).nunique()"
   ]
  },
  {
   "cell_type": "code",
   "execution_count": 81,
   "metadata": {},
   "outputs": [],
   "source": [
    "# 거의 모든 사람이 같은 리뷰 텍스트를 같은 사람이 쓰고 있었다.\n",
    "# 따라서 데이터의 중복의 가능성이 열려져 있으므로, 중복 데이터를 제외하고, 모든 내용에 대해서 재검토가 필요할 것으로 보인다."
   ]
  },
  {
   "cell_type": "code",
   "execution_count": 83,
   "metadata": {},
   "outputs": [
    {
     "name": "stdout",
     "output_type": "stream",
     "text": [
      "[ratebeer] 같은 맥주에 중복으로 리뷰를 작성한 리뷰 수 = 2,924,159 - 2,855,148 = 69,011\n"
     ]
    }
   ],
   "source": [
    "# 같은 맥주에 한 명의 유저가 중복으로 리뷰 기록이 있는 수는?\n",
    "before_n = ratebeer.shape[0]\n",
    "after_n = (ratebeer[\"review/profileName\"] + ratebeer[\"beer/name\"]).nunique()\n",
    "print(f\"[ratebeer] 같은 맥주에 중복으로 리뷰를 작성한 리뷰 수 = \", end = \"\")\n",
    "print(f\"{before_n:,} - {after_n:,} = {before_n - after_n:,}\")"
   ]
  },
  {
   "cell_type": "code",
   "execution_count": 84,
   "metadata": {},
   "outputs": [],
   "source": [
    "# 같은 유저가 하나의 맥주에 여러개의 리뷰를 작성한 것을 도합 70K 정도 된다. 이는 전체 데이터 셋의 크기에 비하면 적은 수치이므로, 해당 데이터는 문제가 되지 않을 수 있다.\n",
    "# 해당 데이터는 CF기반 모델을 학습시킬때, 제외하는 것이 맞지만, \n",
    "# 반대로, Seqeunce기반 모델을 학습 시킬때는, 유용하게 사용될 수 있다."
   ]
  },
  {
   "cell_type": "code",
   "execution_count": 85,
   "metadata": {},
   "outputs": [],
   "source": [
    "# 모델링에 관하여, \n",
    "# 마지막으로, 맥주는 주로 먹어본 맥주를 선택할 확률이 높다. 선택했던 맥주와 새로운 맥주를 골고루 배합해서 주는 방향으로 맥주를 추천해줘야할 것이다. \n",
    "# 그런 측면에서, 중복 기록에 대해서도 인식할 수 있는 모델을 만드는 것이 좋지 않을까? (뭐 점수가 있기 때문에, 이 부분은 크게 고려하지 않아도 될 수 있다.. 데이터 처리가 중요)"
   ]
  }
 ],
 "metadata": {
  "interpreter": {
   "hash": "1f987112d13c3a5109fc24d7b4f4d6f95510a722443984c5c3a93525168aad10"
  },
  "kernelspec": {
   "display_name": "Python 3 (ipykernel)",
   "language": "python",
   "name": "python3"
  },
  "language_info": {
   "codemirror_mode": {
    "name": "ipython",
    "version": 3
   },
   "file_extension": ".py",
   "mimetype": "text/x-python",
   "name": "python",
   "nbconvert_exporter": "python",
   "pygments_lexer": "ipython3",
   "version": "3.8.5"
  }
 },
 "nbformat": 4,
 "nbformat_minor": 4
}
