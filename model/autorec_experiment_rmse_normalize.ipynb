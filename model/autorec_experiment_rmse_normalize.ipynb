{
 "cells": [
  {
   "cell_type": "code",
   "execution_count": 1,
   "id": "29bcbd9c-2b94-4940-ac5e-cc1bf18cb2cd",
   "metadata": {},
   "outputs": [],
   "source": [
    "import torch\n",
    "import torch.nn as nn\n",
    "import torch.optim as optim\n",
    "from torch.utils.data import DataLoader, Dataset\n",
    "\n",
    "import pandas as pd\n",
    "import numpy as np\n",
    "import matplotlib.pyplot as plt\n",
    "import random\n",
    "import math\n",
    "import seaborn as sns\n",
    "import os\n",
    "from tqdm import tqdm\n",
    "\n",
    "%matplotlib inline\n",
    "\n",
    "from sklearn.model_selection import train_test_split\n",
    "from sklearn.preprocessing import LabelEncoder\n",
    "\n",
    "import warnings\n",
    "warnings.filterwarnings(action='ignore')"
   ]
  },
  {
   "cell_type": "markdown",
   "id": "5510b252-7581-4003-9389-f51ab4fb842b",
   "metadata": {},
   "source": [
    "## dataset"
   ]
  },
  {
   "cell_type": "code",
   "execution_count": 2,
   "id": "860cc5ff-db1f-4de7-9705-a8cfc2a785cb",
   "metadata": {},
   "outputs": [],
   "source": [
    "ratebeer = pd.read_csv(\"../data/train_ratebeer_without_text.csv\")"
   ]
  },
  {
   "cell_type": "markdown",
   "id": "ae9824f3-00cb-4eef-9131-8b60201ece0e",
   "metadata": {},
   "source": [
    "### normalize"
   ]
  },
  {
   "cell_type": "code",
   "execution_count": 3,
   "id": "8732a485-9328-4c94-9a53-22cc453ad72b",
   "metadata": {},
   "outputs": [],
   "source": [
    "ratebeer['normal_score'] = ratebeer.groupby('profile_name')['review_score'].transform(lambda x: ((x - x.min() + 1e-6) / (x.max() - x.min() + 1e-6)) * 5)"
   ]
  },
  {
   "cell_type": "markdown",
   "id": "4c2f2b12-940d-4e82-9253-f938049bf9c5",
   "metadata": {},
   "source": [
    "### 맥주 점수 분포 체크"
   ]
  },
  {
   "cell_type": "code",
   "execution_count": 4,
   "id": "fd0a6abf-7013-4757-9af0-f5b60cded026",
   "metadata": {},
   "outputs": [
    {
     "name": "stdout",
     "output_type": "stream",
     "text": [
      "<class 'pandas.core.frame.DataFrame'>\n",
      "RangeIndex: 2931605 entries, 0 to 2931604\n",
      "Data columns (total 16 columns):\n",
      " #   Column        Dtype  \n",
      "---  ------        -----  \n",
      " 0   review_score  float64\n",
      " 1   review_time   object \n",
      " 2   appearance    float64\n",
      " 3   aroma         float64\n",
      " 4   palate        float64\n",
      " 5   taste         float64\n",
      " 6   overall       float64\n",
      " 7   profile_name  object \n",
      " 8   beer_name     object \n",
      " 9   beer_id       int64  \n",
      " 10  brewer_id     int64  \n",
      " 11  abv           float64\n",
      " 12  style         object \n",
      " 13  image_url     object \n",
      " 14  user_id       int64  \n",
      " 15  normal_score  float64\n",
      "dtypes: float64(8), int64(3), object(5)\n",
      "memory usage: 357.9+ MB\n"
     ]
    }
   ],
   "source": [
    "ratebeer.info()"
   ]
  },
  {
   "cell_type": "code",
   "execution_count": 5,
   "id": "b6acb070-8bbc-4178-b58d-3dffd03befd5",
   "metadata": {},
   "outputs": [
    {
     "data": {
      "text/plain": [
       "46"
      ]
     },
     "execution_count": 5,
     "metadata": {},
     "output_type": "execute_result"
    }
   ],
   "source": [
    "ratebeer['review_score'].nunique()"
   ]
  },
  {
   "cell_type": "code",
   "execution_count": 6,
   "id": "1f8e2bf1-1da8-4ae2-bded-64827214d372",
   "metadata": {},
   "outputs": [
    {
     "data": {
      "text/plain": [
       "count    2.931605e+06\n",
       "mean     3.180656e+00\n",
       "std      9.748383e-01\n",
       "min      1.111111e-06\n",
       "25%      2.727273e+00\n",
       "50%      3.333334e+00\n",
       "75%      3.823530e+00\n",
       "max      5.000000e+00\n",
       "Name: normal_score, dtype: float64"
      ]
     },
     "execution_count": 6,
     "metadata": {},
     "output_type": "execute_result"
    }
   ],
   "source": [
    "ratebeer['normal_score'].describe()"
   ]
  },
  {
   "cell_type": "code",
   "execution_count": 7,
   "id": "0e160b3d-4a91-4ab8-9336-8291def243b9",
   "metadata": {},
   "outputs": [
    {
     "data": {
      "text/plain": [
       "<AxesSubplot:>"
      ]
     },
     "execution_count": 7,
     "metadata": {},
     "output_type": "execute_result"
    },
    {
     "data": {
      "image/png": "[encoded data removed]",
      "text/plain": [
       "<Figure size 432x288 with 1 Axes>"
      ]
     },
     "metadata": {
      "needs_background": "light"
     },
     "output_type": "display_data"
    }
   ],
   "source": [
    "ratebeer['normal_score'].hist()"
   ]
  },
  {
   "cell_type": "code",
   "execution_count": 8,
   "id": "b91c7c8b-53ad-4384-9deb-360e9d189019",
   "metadata": {},
   "outputs": [
    {
     "data": {
      "text/plain": [
       "<AxesSubplot:>"
      ]
     },
     "execution_count": 8,
     "metadata": {},
     "output_type": "execute_result"
    },
    {
     "data": {
      "image/png": "[encoded data removed]",
      "text/plain": [
       "<Figure size 432x288 with 1 Axes>"
      ]
     },
     "metadata": {
      "needs_background": "light"
     },
     "output_type": "display_data"
    }
   ],
   "source": [
    "ratebeer[['normal_score']].boxplot()"
   ]
  },
  {
   "cell_type": "code",
   "execution_count": 9,
   "id": "8c54cb0f-14b9-4f44-9e8b-65ad9ad4c890",
   "metadata": {},
   "outputs": [
    {
     "data": {
      "text/plain": [
       "2931605"
      ]
     },
     "execution_count": 9,
     "metadata": {},
     "output_type": "execute_result"
    }
   ],
   "source": [
    "len(ratebeer)"
   ]
  },
  {
   "cell_type": "markdown",
   "id": "1ed65f32-cb28-44d0-9710-e0b9c7ce704e",
   "metadata": {},
   "source": [
    "### preprocessing"
   ]
  },
  {
   "cell_type": "code",
   "execution_count": 10,
   "id": "f3e0526b-0124-4902-bab4-c8de03d5bc6c",
   "metadata": {},
   "outputs": [],
   "source": [
    "def preprocessing_df(df):\n",
    "    # rating 전처리\n",
    "    # df['rating/apperance'] = df['review/appearance'].str.split(\"/\").str[0].astype(int)\n",
    "    # df['rating/aroma'] = df['review/aroma'].str.split(\"/\").str[0].astype(int)\n",
    "    # df['rating/palate'] = df['review/palate'].str.split(\"/\").str[0].astype(int)\n",
    "    # df['rating/taste'] = df['review/taste'].str.split(\"/\").str[0].astype(int)\n",
    "    # df['rating/overall'] = df['review/overall'].str.split(\"/\").str[0].astype(int)\n",
    "    \n",
    "    # overall rating 최대치 5로 변환\n",
    "    # df['rating/overall'] = df['rating/overall'] / 20 * 5\n",
    "    \n",
    "    # item, user, rating만 추출\n",
    "    df = df[['beer_id', 'profile_name', 'normal_score', 'image_url']]\n",
    "    df.rename(columns={'beer_id' : 'item', 'profile_name' : 'user', 'normal_score' : 'rating'}, inplace = True) \n",
    "    \n",
    "    # 유저 리뷰 수 개산\n",
    "    df['user/reviewcount'] = df.groupby('user')['user'].transform('count')\n",
    "    # 리뷰 수가 10개 이상인 유저만 남김 \n",
    "    df = df[(df['user/reviewcount'] >= 10)]\n",
    "    \n",
    "#     df.drop(columns=['user/reviewcount'], inplace=True)\n",
    "    \n",
    "    num_users = df.user.unique().shape[0]\n",
    "    num_items = df.item.unique().shape[0]\n",
    "    return df, num_users, num_items"
   ]
  },
  {
   "cell_type": "markdown",
   "id": "479b2adc-0830-4c71-b53f-5ddba3cd7236",
   "metadata": {},
   "source": [
    "### Statistics of the Dataset"
   ]
  },
  {
   "cell_type": "code",
   "execution_count": 11,
   "id": "a0bab6d9-401f-43a9-ba4e-8b337841a466",
   "metadata": {},
   "outputs": [
    {
     "name": "stdout",
     "output_type": "stream",
     "text": [
      "number of users: 13224, number of items: 9336\n",
      "matrix sparsity: 0.977028\n",
      "     item        user    rating  \\\n",
      "0  131594   jmgreenuk  3.939394   \n",
      "1  131594         Ron  4.305556   \n",
      "2  131594     olberic  4.090909   \n",
      "3  131594  bergstaden  4.358975   \n",
      "4  131594      rumore  3.076924   \n",
      "\n",
      "                                           image_url  user/reviewcount  \n",
      "0  https://res.cloudinary.com/ratebeer/image/uplo...              1299  \n",
      "1  https://res.cloudinary.com/ratebeer/image/uplo...              1667  \n",
      "2  https://res.cloudinary.com/ratebeer/image/uplo...               110  \n",
      "3  https://res.cloudinary.com/ratebeer/image/uplo...               652  \n",
      "4  https://res.cloudinary.com/ratebeer/image/uplo...               386  \n"
     ]
    }
   ],
   "source": [
    "data, num_users, num_items = preprocessing_df(ratebeer)\n",
    "sparsity = 1 - len(data) / (num_users * num_items)\n",
    "print(f'number of users: {num_users}, number of items: {num_items}')\n",
    "print(f'matrix sparsity: {sparsity:f}')\n",
    "print(data.head())"
   ]
  },
  {
   "cell_type": "code",
   "execution_count": 12,
   "id": "f8b6cacf-81f5-41c8-be59-e6546393326a",
   "metadata": {},
   "outputs": [
    {
     "data": {
      "text/plain": [
       "count    2.836096e+06\n",
       "mean     3.178186e+00\n",
       "std      9.173596e-01\n",
       "min      1.111111e-06\n",
       "25%      2.727274e+00\n",
       "50%      3.333334e+00\n",
       "75%      3.793104e+00\n",
       "max      5.000000e+00\n",
       "Name: rating, dtype: float64"
      ]
     },
     "execution_count": 12,
     "metadata": {},
     "output_type": "execute_result"
    }
   ],
   "source": [
    "data['rating'].describe()"
   ]
  },
  {
   "cell_type": "code",
   "execution_count": 13,
   "id": "aa65b73b-fae4-49ab-b59a-3ee5652ef44d",
   "metadata": {},
   "outputs": [
    {
     "data": {
      "image/png": "[encoded data removed]",
      "text/plain": [
       "<Figure size 432x288 with 1 Axes>"
      ]
     },
     "metadata": {
      "needs_background": "light"
     },
     "output_type": "display_data"
    }
   ],
   "source": [
    "plt.hist(data['rating'], bins=5, ec='black')\n",
    "plt.xlabel('Rating')\n",
    "plt.ylabel('Count')\n",
    "plt.title('Distribution of Ratings in Ratebeer Beer')\n",
    "plt.show()"
   ]
  },
  {
   "cell_type": "markdown",
   "id": "ac9a07d0-ab1a-4c6f-b321-fc0902cf00c0",
   "metadata": {},
   "source": [
    "### Label Encoding"
   ]
  },
  {
   "cell_type": "code",
   "execution_count": 14,
   "id": "f1506d94-641d-4cb5-afc0-27f58863a737",
   "metadata": {},
   "outputs": [],
   "source": [
    "user_le = LabelEncoder()\n",
    "item_le = LabelEncoder()\n",
    "data['user_id_idx'] = user_le.fit_transform(data['user'].values)\n",
    "data['item_id_idx'] = item_le.fit_transform(data['item'].values)\n",
    "\n",
    "# data.drop(columns=['user', 'item_id'], inplace=True)"
   ]
  },
  {
   "cell_type": "markdown",
   "id": "07172e2f-530d-488c-a4d7-4f38efb9b5b7",
   "metadata": {},
   "source": [
    "### Loading the data"
   ]
  },
  {
   "cell_type": "code",
   "execution_count": 15,
   "id": "9328902d-9c4e-4d35-b7fe-e048040ba2ae",
   "metadata": {},
   "outputs": [],
   "source": [
    "class BeerDataset(Dataset):\n",
    "    def __init__(self, df, mode='train'):\n",
    "        self.df = df\n",
    "        self.mode = mode\n",
    "        self.train_size = 0.9\n",
    "        self.val_size = 0.1\n",
    "        # self.test_size = 1 - self.train_size - self.val_size \n",
    "\n",
    "        self.num_items = len(self.df['item_id_idx'].unique())\n",
    "        self.num_users = len(self.df['user_id_idx'].unique())\n",
    "        \n",
    "        n_val = int(self.num_users * self.val_size)\n",
    "#         n_test = int(self.num_users * self.test_size)\n",
    "        \n",
    "        np.random.seed(42)\n",
    "        \n",
    "        val_indices = set(np.random.choice(range(self.num_users), n_val, replace = False))\n",
    "        # test_indices = set(random.choices(list(set(range(self.num_users)) - val_indices), k=n_test))\n",
    "        train_indices = set(range(self.num_users)) - val_indices # - test_indices\n",
    "#         # self.train_df, self.test_df = train_test_split(self.df, test_size=self.test_size, train_size=self.train_size, stratify = self.df['user_id_idx'].values, random_state=42)\n",
    "        \n",
    "        if self.mode == 'train':\n",
    "            self.df = self.df[self.df['user_id_idx'].isin(train_indices)]\n",
    "        elif self.mode == 'val':\n",
    "            self.df = self.df[self.df['user_id_idx'].isin(val_indices)]\n",
    "#         else:\n",
    "#             self.df = self.df[self.df['user_id_idx'].isin(test_indices)]\n",
    "        \n",
    "        # 유저 리뷰 수 개산\n",
    "        # self.df['user/reviewcount'] = self.df.groupby('user_id_idx')['user_id_idx'].transform('count')\n",
    "        \n",
    "        # #리뷰 수가 4개 이상인 유저만 남김 \n",
    "        # self.df = self.df[(self.df['user/reviewcount'] > 3)]\n",
    "        # self.df.drop(columns=['user/reviewcount'], inplace=True)\n",
    "        \n",
    "        self.users = torch.tensor(self.df['user_id_idx'].values)\n",
    "        self.items = torch.tensor(self.df['item_id_idx'].values)\n",
    "        self.ratings = torch.tensor(self.df['rating'].values)\n",
    "        \n",
    "        self.inter_mat = self.make_inter_mat()\n",
    "    \n",
    "    def make_inter_mat(self):\n",
    "        inter_mat = np.zeros((self.num_users, self.num_items))\n",
    "        for user, item, rating in zip(self.users, self.items, self.ratings):\n",
    "            inter_mat[user][item] = rating\n",
    "            \n",
    "        # for user in self.users:\n",
    "        #     nonzero_ind = np.where(inter_mat[user] > 0)[0]\n",
    "        #     # if len(nonzero_ind) > 3:\n",
    "        #     valid_ind = np.random.choice(nonzero_ind, 3, replace = False)\n",
    "        #     if self.mode == 'train':\n",
    "        #         inter_mat[user][valid_ind] = 0\n",
    "        #     else:\n",
    "        #         inter_mat[user][np.setdiff1d(nonzero_ind, valid_ind)] = 0\n",
    "\n",
    "        return inter_mat\n",
    "\n",
    "    def __len__(self):\n",
    "        # return len(self.users)\n",
    "        return len(self.inter_mat)\n",
    "\n",
    "    def __getitem__(self, index):\n",
    "        # inter_mat = torch.tensor(self.inter_mat[self.users[index]]).float()\n",
    "        inter_mat = torch.tensor(self.inter_mat[index]).float()\n",
    "\n",
    "        return index, inter_mat"
   ]
  },
  {
   "cell_type": "markdown",
   "id": "a00cddbb-7c6a-4871-b796-92602f7f1ae4",
   "metadata": {},
   "source": [
    "### Autorec Model"
   ]
  },
  {
   "cell_type": "code",
   "execution_count": 16,
   "id": "824e9e06-921d-446f-a93a-767c7837c853",
   "metadata": {},
   "outputs": [],
   "source": [
    "class AutoRec(nn.Module):\n",
    "    def __init__(self, num_hidden, num_items, dropout=0.2):\n",
    "        super(AutoRec, self).__init__()\n",
    "        self.encoder = nn.Linear(num_items, num_hidden)\n",
    "        self.activate = nn.Sigmoid()\n",
    "        self.decoder = nn.Linear(num_hidden, num_items)\n",
    "        self.dropout = nn.Dropout(dropout)\n",
    "\n",
    "    def forward(self, mat):\n",
    "        hidden = self.dropout(self.activate(self.encoder(mat)))\n",
    "        pred = self.decoder(hidden)\n",
    "        \n",
    "        return pred"
   ]
  },
  {
   "cell_type": "markdown",
   "id": "1c64864d-aab9-429b-b4b6-d5a319c7bafe",
   "metadata": {},
   "source": [
    "###  Model pretrain, validcation"
   ]
  },
  {
   "cell_type": "code",
   "execution_count": 17,
   "id": "2d670b0f-9ed0-4a9b-953b-832f67dcd695",
   "metadata": {},
   "outputs": [],
   "source": [
    "def train(model, train_iter, criterion, optm, device):\n",
    "    model.train() # to train mode\n",
    "    loss_sum = 0\n",
    "    loss_cal_count = 0\n",
    "\n",
    "    for _, inter_mat in train_iter:\n",
    "        inter_mat = inter_mat.to(device)\n",
    "\n",
    "        preds = model(inter_mat)\n",
    "        loss = criterion(preds, inter_mat)\n",
    "\n",
    "        # Update\n",
    "        optm.zero_grad()      # reset gradient \n",
    "        loss.backward()      # backpropagate\n",
    "        optm.step()      # optimizer update\n",
    "        \n",
    "        if not np.isnan(loss.cpu().detach().numpy()):\n",
    "            loss_cal_count += 1\n",
    "            loss_sum += loss.item()\n",
    "            \n",
    "    # loss_avg = loss_sum / len(train_iter)\n",
    "    loss_avg = loss_sum / loss_cal_count\n",
    "\n",
    "    return loss_avg"
   ]
  },
  {
   "cell_type": "code",
   "execution_count": 18,
   "id": "62571012-7682-460e-b4b6-174a11ea6a5b",
   "metadata": {},
   "outputs": [],
   "source": [
    "def validation(model, valid_iter, criterion, device):\n",
    "    \n",
    "    # np.random.seed(42)\n",
    "    \n",
    "    with torch.no_grad():\n",
    "        model.eval()\n",
    "        loss_sum = 0\n",
    "        loss_cal_count = 0\n",
    "        \n",
    "        for _, inter_mat in valid_iter:\n",
    "            inter_mat = inter_mat.to(device)\n",
    "#             # matrix 값 중 0보다 큰 값만 추출\n",
    "#             y_for_compute = inter_mat.squeeze().cpu().numpy()\n",
    "#             index = np.where(y_for_compute > 0)[0]\n",
    "            \n",
    "#             # 0보다 큰 값 중 n_val개를 masking\n",
    "#             n_val = min(int(len(index) * 0.1), 3)\n",
    "#             valid_ind = np.random.choice(index, n_val, replace = False)\n",
    "#             y_for_compute[valid_ind] = 0\n",
    "            \n",
    "#             # n_val개 masking 된 input 생성\n",
    "#             masked_input = torch.tensor(y_for_compute).to(device).unsqueeze(0)\n",
    "            \n",
    "#             # 정답지는 input에서 masking 되지 않은 위치를 masking  \n",
    "#             if len(index):\n",
    "#                 # print(len(index))\n",
    "#                 # print(valid_ind)\n",
    "#                 # print(index)\n",
    "#                 mat_masked_idx = np.array([i for i in index if i not in valid_ind]) \n",
    "#                 # print(mat_masked_idx)\n",
    "#                 inter_mat = inter_mat.squeeze().cpu().numpy()\n",
    "#                 inter_mat[mat_masked_idx] = 0\n",
    "#                 inter_mat = torch.tensor(inter_mat).to(device).unsqueeze(0)\n",
    "            \n",
    "            # mask된 input으로 prediction 후 기존 정답 활용 loss값 계산\n",
    "            preds = model(inter_mat)\n",
    "            loss = criterion(preds, inter_mat)\n",
    "\n",
    "            if not np.isnan(loss.cpu().numpy()):\n",
    "                loss_cal_count += 1\n",
    "                loss_sum += loss.item()\n",
    "            # loss_sum += loss.item()\n",
    "      \n",
    "        loss_avg = loss_sum / loss_cal_count\n",
    "    # loss_avg = loss_sum / len(valid_iter)\n",
    "\n",
    "        \n",
    "    return loss_avg"
   ]
  },
  {
   "cell_type": "code",
   "execution_count": 19,
   "id": "a8b51f04-17b8-4dcd-8f7c-55ebe883d1ec",
   "metadata": {},
   "outputs": [],
   "source": [
    "class AutoRec_loss_fn(nn.Module):\n",
    "\n",
    "    def __init__(self, loss_fn):\n",
    "        super(AutoRec_loss_fn, self).__init__()\n",
    "        self.loss_fn = loss_fn\n",
    "    \n",
    "    def forward(self, pred, y):\n",
    "        y_for_compute = y.clone().to('cpu')\n",
    "        index = np.where(y_for_compute > 0) # FILL HERE : USE np.where & y_for_compute. WARNING: y를 사용 시, y의 device가 gpu일 경우 오류 발생 #\n",
    "        loss = self.loss_fn(pred[index], y[index])\n",
    "        return loss"
   ]
  },
  {
   "cell_type": "code",
   "execution_count": 20,
   "id": "00a37b7a-7095-458c-8fc6-c7c0fe516018",
   "metadata": {},
   "outputs": [],
   "source": [
    "device = torch.device('cuda:0' if torch.cuda.is_available() else 'cpu')\n",
    "\n",
    "num_epochs = 50\n",
    "lr = 0.01\n",
    "batch_size = 256\n",
    "\n",
    "PATH = '../model/autorec_norm_pretrain.pt'\n",
    "patience = 5\n",
    "\n",
    "num_items = data.item_id_idx.nunique()\n",
    "num_hidden = 500"
   ]
  },
  {
   "cell_type": "code",
   "execution_count": 21,
   "id": "d25de793-cb99-4cc4-9c40-0c7458946dd3",
   "metadata": {},
   "outputs": [],
   "source": [
    "train_dataset = BeerDataset(df=data, mode='train')\n",
    "val_dataset = BeerDataset(df=data, mode='val')\n",
    "\n",
    "train_dataloader = DataLoader(dataset=train_dataset, batch_size=batch_size, shuffle=True) \n",
    "val_dataloader = DataLoader(dataset=val_dataset, batch_size=1, shuffle=False)"
   ]
  },
  {
   "cell_type": "code",
   "execution_count": 22,
   "id": "bb92211c-ca43-431c-87f0-b86093d2a600",
   "metadata": {},
   "outputs": [],
   "source": [
    "model = AutoRec(num_hidden, num_items).to(device)\n",
    "loss = AutoRec_loss_fn(nn.MSELoss().to(device)).to(device)\n",
    "optm = optim.Adam(model.parameters(),lr=lr)"
   ]
  },
  {
   "cell_type": "code",
   "execution_count": 23,
   "id": "bb46cd6f-589a-48e6-b97d-11b423ddda61",
   "metadata": {},
   "outputs": [],
   "source": [
    "class EarlyStopping:\n",
    "    \"\"\"주어진 patience 이후로 validation loss가 개선되지 않으면 학습을 조기 중지\"\"\"\n",
    "    def __init__(self, patience=7, verbose=False, delta=0, path='checkpoint.pt'):\n",
    "        \"\"\"\n",
    "        Args:\n",
    "            patience (int): validation loss가 개선된 후 기다리는 기간\n",
    "                            Default: 7\n",
    "            verbose (bool): True일 경우 각 validation loss의 개선 사항 메세지 출력\n",
    "                            Default: False\n",
    "            delta (float): 개선되었다고 인정되는 monitered quantity의 최소 변화\n",
    "                            Default: 0\n",
    "            path (str): checkpoint저장 경로\n",
    "                            Default: 'checkpoint.pt'\n",
    "        \"\"\"\n",
    "        self.patience = patience\n",
    "        self.verbose = verbose\n",
    "        self.counter = 0\n",
    "        self.best_score = None\n",
    "        self.early_stop = False\n",
    "        self.val_loss_min = np.Inf\n",
    "        self.delta = delta\n",
    "        self.path = path\n",
    "\n",
    "    def __call__(self, val_loss, model):\n",
    "\n",
    "        score = -val_loss\n",
    "\n",
    "        if self.best_score is None:\n",
    "            self.best_score = score\n",
    "            self.save_checkpoint(val_loss, model)\n",
    "        elif score < self.best_score + self.delta:\n",
    "            self.counter += 1\n",
    "            print(f'EarlyStopping counter: {self.counter} out of {self.patience}')\n",
    "            if self.counter >= self.patience:\n",
    "                self.early_stop = True\n",
    "        else:\n",
    "            self.best_score = score\n",
    "            self.save_checkpoint(val_loss, model)\n",
    "            self.counter = 0\n",
    "\n",
    "    def save_checkpoint(self, val_loss, model):\n",
    "        '''validation loss가 감소하면 모델을 저장한다.'''\n",
    "        if self.verbose:\n",
    "            print(f'Validation loss decreased ({self.val_loss_min:.6f} --> {val_loss:.6f}).  Saving model ...')\n",
    "        torch.save(model.state_dict(), self.path)\n",
    "        self.val_loss_min = val_loss"
   ]
  },
  {
   "cell_type": "code",
   "execution_count": 24,
   "id": "888f186e-1bb8-40d8-9815-4348378acba1",
   "metadata": {},
   "outputs": [
    {
     "name": "stderr",
     "output_type": "stream",
     "text": [
      "  2%|▎               | 1/50 [00:11<09:12, 11.28s/it]"
     ]
    },
    {
     "name": "stdout",
     "output_type": "stream",
     "text": [
      "Validation loss decreased (inf --> 1.295782).  Saving model ...\n",
      "epoch: 0, train Loss: 1.4973, test Loss: 1.2958\n"
     ]
    },
    {
     "name": "stderr",
     "output_type": "stream",
     "text": [
      "  4%|▋               | 2/50 [00:22<08:47, 10.99s/it]"
     ]
    },
    {
     "name": "stdout",
     "output_type": "stream",
     "text": [
      "Validation loss decreased (1.295782 --> 1.187675).  Saving model ...\n",
      "epoch: 1, train Loss: 0.5241, test Loss: 1.1877\n"
     ]
    },
    {
     "name": "stderr",
     "output_type": "stream",
     "text": [
      "  6%|▉               | 3/50 [00:32<08:31, 10.89s/it]"
     ]
    },
    {
     "name": "stdout",
     "output_type": "stream",
     "text": [
      "Validation loss decreased (1.187675 --> 1.125179).  Saving model ...\n",
      "epoch: 2, train Loss: 0.5099, test Loss: 1.1252\n"
     ]
    },
    {
     "name": "stderr",
     "output_type": "stream",
     "text": [
      "  8%|█▎              | 4/50 [00:43<08:17, 10.82s/it]"
     ]
    },
    {
     "name": "stdout",
     "output_type": "stream",
     "text": [
      "Validation loss decreased (1.125179 --> 1.092314).  Saving model ...\n",
      "epoch: 3, train Loss: 0.4984, test Loss: 1.0923\n"
     ]
    },
    {
     "name": "stderr",
     "output_type": "stream",
     "text": [
      " 10%|█▌              | 5/50 [00:54<08:05, 10.79s/it]"
     ]
    },
    {
     "name": "stdout",
     "output_type": "stream",
     "text": [
      "Validation loss decreased (1.092314 --> 1.069249).  Saving model ...\n",
      "epoch: 4, train Loss: 0.4880, test Loss: 1.0692\n"
     ]
    },
    {
     "name": "stderr",
     "output_type": "stream",
     "text": [
      " 12%|█▉              | 6/50 [01:05<07:54, 10.79s/it]"
     ]
    },
    {
     "name": "stdout",
     "output_type": "stream",
     "text": [
      "Validation loss decreased (1.069249 --> 1.038551).  Saving model ...\n",
      "epoch: 5, train Loss: 0.4756, test Loss: 1.0386\n"
     ]
    },
    {
     "name": "stderr",
     "output_type": "stream",
     "text": [
      " 14%|██▏             | 7/50 [01:15<07:43, 10.79s/it]"
     ]
    },
    {
     "name": "stdout",
     "output_type": "stream",
     "text": [
      "Validation loss decreased (1.038551 --> 1.027675).  Saving model ...\n",
      "epoch: 6, train Loss: 0.4617, test Loss: 1.0277\n"
     ]
    },
    {
     "name": "stderr",
     "output_type": "stream",
     "text": [
      " 16%|██▌             | 8/50 [01:26<07:33, 10.80s/it]"
     ]
    },
    {
     "name": "stdout",
     "output_type": "stream",
     "text": [
      "Validation loss decreased (1.027675 --> 1.009030).  Saving model ...\n",
      "epoch: 7, train Loss: 0.4545, test Loss: 1.0090\n"
     ]
    },
    {
     "name": "stderr",
     "output_type": "stream",
     "text": [
      " 18%|██▉             | 9/50 [01:37<07:23, 10.82s/it]"
     ]
    },
    {
     "name": "stdout",
     "output_type": "stream",
     "text": [
      "Validation loss decreased (1.009030 --> 0.998564).  Saving model ...\n",
      "epoch: 8, train Loss: 0.4414, test Loss: 0.9986\n"
     ]
    },
    {
     "name": "stderr",
     "output_type": "stream",
     "text": [
      " 20%|███            | 10/50 [01:48<07:12, 10.82s/it]"
     ]
    },
    {
     "name": "stdout",
     "output_type": "stream",
     "text": [
      "Validation loss decreased (0.998564 --> 0.992314).  Saving model ...\n",
      "epoch: 9, train Loss: 0.4272, test Loss: 0.9923\n"
     ]
    },
    {
     "name": "stderr",
     "output_type": "stream",
     "text": [
      " 22%|███▎           | 11/50 [01:58<06:54, 10.62s/it]"
     ]
    },
    {
     "name": "stdout",
     "output_type": "stream",
     "text": [
      "Validation loss decreased (0.992314 --> 0.985754).  Saving model ...\n",
      "epoch: 10, train Loss: 0.4173, test Loss: 0.9858\n"
     ]
    },
    {
     "name": "stderr",
     "output_type": "stream",
     "text": [
      " 24%|███▌           | 12/50 [02:09<06:44, 10.64s/it]"
     ]
    },
    {
     "name": "stdout",
     "output_type": "stream",
     "text": [
      "EarlyStopping counter: 1 out of 5\n",
      "epoch: 11, train Loss: 0.4060, test Loss: 0.9866\n"
     ]
    },
    {
     "name": "stderr",
     "output_type": "stream",
     "text": [
      " 26%|███▉           | 13/50 [02:19<06:27, 10.47s/it]"
     ]
    },
    {
     "name": "stdout",
     "output_type": "stream",
     "text": [
      "Validation loss decreased (0.985754 --> 0.976585).  Saving model ...\n",
      "epoch: 12, train Loss: 0.3930, test Loss: 0.9766\n"
     ]
    },
    {
     "name": "stderr",
     "output_type": "stream",
     "text": [
      " 28%|████▏          | 14/50 [02:30<06:20, 10.57s/it]"
     ]
    },
    {
     "name": "stdout",
     "output_type": "stream",
     "text": [
      "Validation loss decreased (0.976585 --> 0.971074).  Saving model ...\n",
      "epoch: 13, train Loss: 0.3838, test Loss: 0.9711\n"
     ]
    },
    {
     "name": "stderr",
     "output_type": "stream",
     "text": [
      " 30%|████▌          | 15/50 [02:40<06:11, 10.61s/it]"
     ]
    },
    {
     "name": "stdout",
     "output_type": "stream",
     "text": [
      "Validation loss decreased (0.971074 --> 0.970649).  Saving model ...\n",
      "epoch: 14, train Loss: 0.3723, test Loss: 0.9706\n"
     ]
    },
    {
     "name": "stderr",
     "output_type": "stream",
     "text": [
      " 32%|████▊          | 16/50 [02:51<06:01, 10.62s/it]"
     ]
    },
    {
     "name": "stdout",
     "output_type": "stream",
     "text": [
      "Validation loss decreased (0.970649 --> 0.968225).  Saving model ...\n",
      "epoch: 15, train Loss: 0.3644, test Loss: 0.9682\n"
     ]
    },
    {
     "name": "stderr",
     "output_type": "stream",
     "text": [
      " 34%|█████          | 17/50 [03:02<05:51, 10.64s/it]"
     ]
    },
    {
     "name": "stdout",
     "output_type": "stream",
     "text": [
      "Validation loss decreased (0.968225 --> 0.962332).  Saving model ...\n",
      "epoch: 16, train Loss: 0.3555, test Loss: 0.9623\n"
     ]
    },
    {
     "name": "stderr",
     "output_type": "stream",
     "text": [
      " 36%|█████▍         | 18/50 [03:12<05:37, 10.56s/it]"
     ]
    },
    {
     "name": "stdout",
     "output_type": "stream",
     "text": [
      "Validation loss decreased (0.962332 --> 0.961296).  Saving model ...\n",
      "epoch: 17, train Loss: 0.3454, test Loss: 0.9613\n"
     ]
    },
    {
     "name": "stderr",
     "output_type": "stream",
     "text": [
      " 38%|█████▋         | 19/50 [03:22<05:24, 10.48s/it]"
     ]
    },
    {
     "name": "stdout",
     "output_type": "stream",
     "text": [
      "Validation loss decreased (0.961296 --> 0.959545).  Saving model ...\n",
      "epoch: 18, train Loss: 0.3371, test Loss: 0.9595\n"
     ]
    },
    {
     "name": "stderr",
     "output_type": "stream",
     "text": [
      " 40%|██████         | 20/50 [03:33<05:16, 10.56s/it]"
     ]
    },
    {
     "name": "stdout",
     "output_type": "stream",
     "text": [
      "Validation loss decreased (0.959545 --> 0.953826).  Saving model ...\n",
      "epoch: 19, train Loss: 0.3300, test Loss: 0.9538\n"
     ]
    },
    {
     "name": "stderr",
     "output_type": "stream",
     "text": [
      " 42%|██████▎        | 21/50 [03:44<05:06, 10.56s/it]"
     ]
    },
    {
     "name": "stdout",
     "output_type": "stream",
     "text": [
      "EarlyStopping counter: 1 out of 5\n",
      "epoch: 20, train Loss: 0.3238, test Loss: 0.9550\n"
     ]
    },
    {
     "name": "stderr",
     "output_type": "stream",
     "text": [
      " 44%|██████▌        | 22/50 [03:54<04:57, 10.63s/it]"
     ]
    },
    {
     "name": "stdout",
     "output_type": "stream",
     "text": [
      "Validation loss decreased (0.953826 --> 0.948816).  Saving model ...\n",
      "epoch: 21, train Loss: 0.3173, test Loss: 0.9488\n"
     ]
    },
    {
     "name": "stderr",
     "output_type": "stream",
     "text": [
      " 46%|██████▉        | 23/50 [04:05<04:47, 10.66s/it]"
     ]
    },
    {
     "name": "stdout",
     "output_type": "stream",
     "text": [
      "Validation loss decreased (0.948816 --> 0.945062).  Saving model ...\n",
      "epoch: 22, train Loss: 0.3104, test Loss: 0.9451\n"
     ]
    },
    {
     "name": "stderr",
     "output_type": "stream",
     "text": [
      " 48%|███████▏       | 24/50 [04:16<04:38, 10.72s/it]"
     ]
    },
    {
     "name": "stdout",
     "output_type": "stream",
     "text": [
      "Validation loss decreased (0.945062 --> 0.942195).  Saving model ...\n",
      "epoch: 23, train Loss: 0.3037, test Loss: 0.9422\n"
     ]
    },
    {
     "name": "stderr",
     "output_type": "stream",
     "text": [
      " 50%|███████▌       | 25/50 [04:27<04:28, 10.75s/it]"
     ]
    },
    {
     "name": "stdout",
     "output_type": "stream",
     "text": [
      "Validation loss decreased (0.942195 --> 0.941007).  Saving model ...\n",
      "epoch: 24, train Loss: 0.2972, test Loss: 0.9410\n"
     ]
    },
    {
     "name": "stderr",
     "output_type": "stream",
     "text": [
      " 52%|███████▊       | 26/50 [04:37<04:15, 10.64s/it]"
     ]
    },
    {
     "name": "stdout",
     "output_type": "stream",
     "text": [
      "Validation loss decreased (0.941007 --> 0.937659).  Saving model ...\n",
      "epoch: 25, train Loss: 0.2920, test Loss: 0.9377\n"
     ]
    },
    {
     "name": "stderr",
     "output_type": "stream",
     "text": [
      " 54%|████████       | 27/50 [04:48<04:02, 10.55s/it]"
     ]
    },
    {
     "name": "stdout",
     "output_type": "stream",
     "text": [
      "Validation loss decreased (0.937659 --> 0.932225).  Saving model ...\n",
      "epoch: 26, train Loss: 0.2854, test Loss: 0.9322\n",
      "Validation loss decreased (0.932225 --> 0.925682).  Saving model ...\n"
     ]
    },
    {
     "name": "stderr",
     "output_type": "stream",
     "text": [
      " 56%|████████▍      | 28/50 [04:58<03:49, 10.43s/it]"
     ]
    },
    {
     "name": "stdout",
     "output_type": "stream",
     "text": [
      "epoch: 27, train Loss: 0.2788, test Loss: 0.9257\n"
     ]
    },
    {
     "name": "stderr",
     "output_type": "stream",
     "text": [
      " 58%|████████▋      | 29/50 [05:08<03:36, 10.31s/it]"
     ]
    },
    {
     "name": "stdout",
     "output_type": "stream",
     "text": [
      "Validation loss decreased (0.925682 --> 0.921861).  Saving model ...\n",
      "epoch: 28, train Loss: 0.2738, test Loss: 0.9219\n",
      "Validation loss decreased (0.921861 --> 0.918628).  Saving model ...\n"
     ]
    },
    {
     "name": "stderr",
     "output_type": "stream",
     "text": [
      " 60%|█████████      | 30/50 [05:18<03:24, 10.22s/it]"
     ]
    },
    {
     "name": "stdout",
     "output_type": "stream",
     "text": [
      "epoch: 29, train Loss: 0.2684, test Loss: 0.9186\n"
     ]
    },
    {
     "name": "stderr",
     "output_type": "stream",
     "text": [
      " 62%|█████████▎     | 31/50 [05:28<03:13, 10.18s/it]"
     ]
    },
    {
     "name": "stdout",
     "output_type": "stream",
     "text": [
      "Validation loss decreased (0.918628 --> 0.915030).  Saving model ...\n",
      "epoch: 30, train Loss: 0.2639, test Loss: 0.9150\n",
      "Validation loss decreased (0.915030 --> 0.907967).  Saving model ...\n"
     ]
    },
    {
     "name": "stderr",
     "output_type": "stream",
     "text": [
      " 64%|█████████▌     | 32/50 [05:38<03:03, 10.18s/it]"
     ]
    },
    {
     "name": "stdout",
     "output_type": "stream",
     "text": [
      "epoch: 31, train Loss: 0.2587, test Loss: 0.9080\n"
     ]
    },
    {
     "name": "stderr",
     "output_type": "stream",
     "text": [
      " 66%|█████████▉     | 33/50 [05:48<02:53, 10.19s/it]"
     ]
    },
    {
     "name": "stdout",
     "output_type": "stream",
     "text": [
      "Validation loss decreased (0.907967 --> 0.903923).  Saving model ...\n",
      "epoch: 32, train Loss: 0.2539, test Loss: 0.9039\n",
      "Validation loss decreased (0.903923 --> 0.902563).  Saving model ...\n"
     ]
    },
    {
     "name": "stderr",
     "output_type": "stream",
     "text": [
      " 68%|██████████▏    | 34/50 [05:58<02:42, 10.16s/it]"
     ]
    },
    {
     "name": "stdout",
     "output_type": "stream",
     "text": [
      "epoch: 33, train Loss: 0.2489, test Loss: 0.9026\n"
     ]
    },
    {
     "name": "stderr",
     "output_type": "stream",
     "text": [
      " 70%|██████████▌    | 35/50 [06:08<02:32, 10.14s/it]"
     ]
    },
    {
     "name": "stdout",
     "output_type": "stream",
     "text": [
      "Validation loss decreased (0.902563 --> 0.897593).  Saving model ...\n",
      "epoch: 34, train Loss: 0.2458, test Loss: 0.8976\n"
     ]
    },
    {
     "name": "stderr",
     "output_type": "stream",
     "text": [
      " 72%|██████████▊    | 36/50 [06:19<02:22, 10.15s/it]"
     ]
    },
    {
     "name": "stdout",
     "output_type": "stream",
     "text": [
      "Validation loss decreased (0.897593 --> 0.890566).  Saving model ...\n",
      "epoch: 35, train Loss: 0.2430, test Loss: 0.8906\n"
     ]
    },
    {
     "name": "stderr",
     "output_type": "stream",
     "text": [
      " 74%|███████████    | 37/50 [06:29<02:13, 10.23s/it]"
     ]
    },
    {
     "name": "stdout",
     "output_type": "stream",
     "text": [
      "EarlyStopping counter: 1 out of 5\n",
      "epoch: 36, train Loss: 0.2389, test Loss: 0.8932\n"
     ]
    },
    {
     "name": "stderr",
     "output_type": "stream",
     "text": [
      " 76%|███████████▍   | 38/50 [06:39<02:02, 10.17s/it]"
     ]
    },
    {
     "name": "stdout",
     "output_type": "stream",
     "text": [
      "Validation loss decreased (0.890566 --> 0.889616).  Saving model ...\n",
      "epoch: 37, train Loss: 0.2328, test Loss: 0.8896\n"
     ]
    },
    {
     "name": "stderr",
     "output_type": "stream",
     "text": [
      " 78%|███████████▋   | 39/50 [06:49<01:51, 10.16s/it]"
     ]
    },
    {
     "name": "stdout",
     "output_type": "stream",
     "text": [
      "Validation loss decreased (0.889616 --> 0.883218).  Saving model ...\n",
      "epoch: 38, train Loss: 0.2291, test Loss: 0.8832\n"
     ]
    },
    {
     "name": "stderr",
     "output_type": "stream",
     "text": [
      " 80%|████████████   | 40/50 [06:59<01:41, 10.13s/it]"
     ]
    },
    {
     "name": "stdout",
     "output_type": "stream",
     "text": [
      "Validation loss decreased (0.883218 --> 0.880129).  Saving model ...\n",
      "epoch: 39, train Loss: 0.2259, test Loss: 0.8801\n"
     ]
    },
    {
     "name": "stderr",
     "output_type": "stream",
     "text": [
      " 82%|████████████▎  | 41/50 [07:09<01:31, 10.16s/it]"
     ]
    },
    {
     "name": "stdout",
     "output_type": "stream",
     "text": [
      "Validation loss decreased (0.880129 --> 0.878169).  Saving model ...\n",
      "epoch: 40, train Loss: 0.2234, test Loss: 0.8782\n"
     ]
    },
    {
     "name": "stderr",
     "output_type": "stream",
     "text": [
      " 84%|████████████▌  | 42/50 [07:20<01:21, 10.16s/it]"
     ]
    },
    {
     "name": "stdout",
     "output_type": "stream",
     "text": [
      "Validation loss decreased (0.878169 --> 0.875079).  Saving model ...\n",
      "epoch: 41, train Loss: 0.2192, test Loss: 0.8751\n"
     ]
    },
    {
     "name": "stderr",
     "output_type": "stream",
     "text": [
      " 86%|████████████▉  | 43/50 [07:30<01:11, 10.15s/it]"
     ]
    },
    {
     "name": "stdout",
     "output_type": "stream",
     "text": [
      "Validation loss decreased (0.875079 --> 0.871382).  Saving model ...\n",
      "epoch: 42, train Loss: 0.2167, test Loss: 0.8714\n"
     ]
    },
    {
     "name": "stderr",
     "output_type": "stream",
     "text": [
      " 88%|█████████████▏ | 44/50 [07:40<01:00, 10.12s/it]"
     ]
    },
    {
     "name": "stdout",
     "output_type": "stream",
     "text": [
      "Validation loss decreased (0.871382 --> 0.868037).  Saving model ...\n",
      "epoch: 43, train Loss: 0.2132, test Loss: 0.8680\n"
     ]
    },
    {
     "name": "stderr",
     "output_type": "stream",
     "text": [
      " 90%|█████████████▌ | 45/50 [07:51<00:51, 10.31s/it]"
     ]
    },
    {
     "name": "stdout",
     "output_type": "stream",
     "text": [
      "Validation loss decreased (0.868037 --> 0.864588).  Saving model ...\n",
      "epoch: 44, train Loss: 0.2105, test Loss: 0.8646\n"
     ]
    },
    {
     "name": "stderr",
     "output_type": "stream",
     "text": [
      " 92%|█████████████▊ | 46/50 [08:01<00:41, 10.43s/it]"
     ]
    },
    {
     "name": "stdout",
     "output_type": "stream",
     "text": [
      "Validation loss decreased (0.864588 --> 0.861160).  Saving model ...\n",
      "epoch: 45, train Loss: 0.2081, test Loss: 0.8612\n"
     ]
    },
    {
     "name": "stderr",
     "output_type": "stream",
     "text": [
      " 94%|██████████████ | 47/50 [08:11<00:30, 10.30s/it]"
     ]
    },
    {
     "name": "stdout",
     "output_type": "stream",
     "text": [
      "EarlyStopping counter: 1 out of 5\n",
      "epoch: 46, train Loss: 0.2057, test Loss: 0.8612\n"
     ]
    },
    {
     "name": "stderr",
     "output_type": "stream",
     "text": [
      " 96%|██████████████▍| 48/50 [08:21<00:20, 10.27s/it]"
     ]
    },
    {
     "name": "stdout",
     "output_type": "stream",
     "text": [
      "Validation loss decreased (0.861160 --> 0.857802).  Saving model ...\n",
      "epoch: 47, train Loss: 0.2026, test Loss: 0.8578\n"
     ]
    },
    {
     "name": "stderr",
     "output_type": "stream",
     "text": [
      " 98%|██████████████▋| 49/50 [08:31<00:10, 10.19s/it]"
     ]
    },
    {
     "name": "stdout",
     "output_type": "stream",
     "text": [
      "Validation loss decreased (0.857802 --> 0.856446).  Saving model ...\n",
      "epoch: 48, train Loss: 0.2014, test Loss: 0.8564\n"
     ]
    },
    {
     "name": "stderr",
     "output_type": "stream",
     "text": [
      "100%|███████████████| 50/50 [08:41<00:00, 10.44s/it]"
     ]
    },
    {
     "name": "stdout",
     "output_type": "stream",
     "text": [
      "Validation loss decreased (0.856446 --> 0.850123).  Saving model ...\n",
      "epoch: 49, train Loss: 0.1975, test Loss: 0.8501\n"
     ]
    },
    {
     "name": "stderr",
     "output_type": "stream",
     "text": [
      "\n"
     ]
    },
    {
     "data": {
      "image/png": "[encoded data removed]",
      "text/plain": [
       "<Figure size 720x360 with 1 Axes>"
      ]
     },
     "metadata": {
      "needs_background": "light"
     },
     "output_type": "display_data"
    }
   ],
   "source": [
    "train_losses = []\n",
    "val_losses = []\n",
    "\n",
    "early_stopping = EarlyStopping(patience = patience, verbose = True, path=PATH)\n",
    "\n",
    "for epoch in tqdm(range(num_epochs)):\n",
    "\n",
    "    train_loss = train(model, train_dataloader, loss, optm, device)\n",
    "    val_loss = validation(model, val_dataloader, loss, device)\n",
    "\n",
    "    train_losses.append(train_loss)\n",
    "    val_losses.append(val_loss)\n",
    "    \n",
    "    early_stopping(val_loss, model)\n",
    "\n",
    "    if early_stopping.early_stop:\n",
    "        print(\"Early stopping\")\n",
    "        break\n",
    "        \n",
    "    print(f'epoch: {epoch}, train Loss: {train_loss:.4f}, test Loss: {val_loss:.4f}')\n",
    "\n",
    "plt.figure(figsize=(10,5))\n",
    "plt.plot(train_losses,label=\"train_loss\")\n",
    "plt.plot(val_losses,label=\"val_loss\")\n",
    "plt.xlabel(\"epoch\")\n",
    "plt.ylabel(\"Loss\")\n",
    "plt.legend()\n",
    "plt.show()"
   ]
  },
  {
   "cell_type": "markdown",
   "id": "bdb75490-0841-4e51-b7ee-ca53fbc949a5",
   "metadata": {},
   "source": [
    "## inference"
   ]
  },
  {
   "cell_type": "markdown",
   "id": "e9ececd1-0882-42fe-8891-6dc6a7d8e81a",
   "metadata": {},
   "source": [
    "### 모델 불러오기"
   ]
  },
  {
   "cell_type": "code",
   "execution_count": 25,
   "id": "1c7802a9-a41b-41a9-a485-ca7c0cc4683a",
   "metadata": {},
   "outputs": [
    {
     "data": {
      "text/plain": [
       "<All keys matched successfully>"
      ]
     },
     "execution_count": 25,
     "metadata": {},
     "output_type": "execute_result"
    }
   ],
   "source": [
    "model = AutoRec(num_hidden, num_items).to(device)\n",
    "model.load_state_dict(torch.load(PATH))"
   ]
  },
  {
   "cell_type": "markdown",
   "id": "2ec2f751-09fb-4f2c-9eff-aa929ee5d8a5",
   "metadata": {},
   "source": [
    "### 편의점 맥주만 가져오기"
   ]
  },
  {
   "cell_type": "code",
   "execution_count": 26,
   "id": "267e7de8-5ff2-4686-b1df-e7c6ff045f39",
   "metadata": {},
   "outputs": [],
   "source": [
    "kor_beer_list = np.array([ 8666,  75661, 614833, 169964,    251,  10726,   5588,   5571,\n",
    "                        703,   6668,   7656,   2228, 135361,    473,  36249,    709,\n",
    "                        12775, 143730,    742,   4007,  72025,  58275, 221535, 291276,\n",
    "                        2469,   2468, 553454,   1088,    721,  30913,    814,  75071,\n",
    "                        715,   1267,     55,  17334,     37, 493355,  64253,  34662,\n",
    "                        136165, 500620,  13833, 506847,  73158,    399,   5159,   3101,\n",
    "                        315443, 552713, 911382, 906973,    268, 550283, 271470,    390,\n",
    "                        71469,  35424,   4701,   2514,   2516, 288954,    405, 303473,\n",
    "                        136785,    647, 632627,   3029,    717, 553245, 580686, 252000,\n",
    "                        21936, 667837,   2811,    729,  71458, 634182,  86387,   1478,\n",
    "                        146878, 146725, 149060,  15747, 718172,   3126, 480225, 268685,\n",
    "                        730, 211962,  64518, 621308,   7580, 452525,   1417,   1486,\n",
    "                        221])\n",
    "\n",
    "kor_ratebeer = data[data['item'].isin(kor_beer_list)]"
   ]
  },
  {
   "cell_type": "code",
   "execution_count": 27,
   "id": "6d18c4c7-97f4-4dc3-b42e-20bd9c8777ca",
   "metadata": {},
   "outputs": [
    {
     "data": {
      "image/png": "[encoded data removed]",
      "text/plain": [
       "<Figure size 432x288 with 1 Axes>"
      ]
     },
     "metadata": {
      "needs_background": "light"
     },
     "output_type": "display_data"
    }
   ],
   "source": [
    "plt.hist(kor_ratebeer['rating'], bins=5, ec='black')\n",
    "plt.xlabel('Rating')\n",
    "plt.ylabel('Count')\n",
    "plt.title('Distribution of Ratings in Ratebeer Beer')\n",
    "plt.show()"
   ]
  },
  {
   "cell_type": "markdown",
   "id": "4a4294ae-6374-4823-b7a3-2559e4f8ea1c",
   "metadata": {},
   "source": [
    "### train with korean beer"
   ]
  },
  {
   "cell_type": "code",
   "execution_count": 28,
   "id": "0a4da290-97ad-4e0e-a009-82252ef2c65e",
   "metadata": {},
   "outputs": [],
   "source": [
    "class BeerKoreanDataset(Dataset):\n",
    "    def __init__(self, df, num_items, num_users, mode='train'):\n",
    "        self.df = df\n",
    "        self.mode = mode\n",
    "        self.train_size = 0.9\n",
    "        self.val_size = 0.1\n",
    "        # self.test_size = 1 - self.train_size - self.val_size \n",
    "\n",
    "        self.num_items = num_items #len(self.df['item_id_idx'].unique())\n",
    "        self.num_users = num_users #len(self.df['user_id_idx'].unique())\n",
    "        \n",
    "        n_val = int(self.num_users * self.val_size)\n",
    "#         n_test = int(self.num_users * self.test_size)\n",
    "        \n",
    "        np.random.seed(42)\n",
    "        \n",
    "        val_indices = set(np.random.choice(range(self.num_users), n_val, replace = False))\n",
    "        # test_indices = set(random.choices(list(set(range(self.num_users)) - val_indices), k=n_test))\n",
    "        train_indices = set(range(self.num_users)) - val_indices # - test_indices\n",
    "#         # self.train_df, self.test_df = train_test_split(self.df, test_size=self.test_size, train_size=self.train_size, stratify = self.df['user_id_idx'].values, random_state=42)\n",
    "        \n",
    "        if self.mode == 'train':\n",
    "            self.df = self.df[self.df['user_id_idx'].isin(train_indices)]\n",
    "        elif self.mode == 'val':\n",
    "            self.df = self.df[self.df['user_id_idx'].isin(val_indices)]\n",
    "#         else:\n",
    "#             self.df = self.df[self.df['user_id_idx'].isin(test_indices)]\n",
    "        \n",
    "        # 유저 리뷰 수 개산\n",
    "        # self.df['user/reviewcount'] = self.df.groupby('user_id_idx')['user_id_idx'].transform('count')\n",
    "        \n",
    "        # #리뷰 수가 4개 이상인 유저만 남김 \n",
    "        # self.df = self.df[(self.df['user/reviewcount'] > 3)]\n",
    "        # self.df.drop(columns=['user/reviewcount'], inplace=True)\n",
    "        \n",
    "        self.users = torch.tensor(self.df['user_id_idx'].values)\n",
    "        self.items = torch.tensor(self.df['item_id_idx'].values)\n",
    "        self.ratings = torch.tensor(self.df['rating'].values)\n",
    "        \n",
    "        self.inter_mat = self.make_inter_mat()\n",
    "    \n",
    "    def make_inter_mat(self):\n",
    "        inter_mat = np.zeros((self.num_users, self.num_items))\n",
    "        for user, item, rating in zip(self.users, self.items, self.ratings):\n",
    "            inter_mat[user][item] = rating\n",
    "            \n",
    "        # for user in self.users:\n",
    "        #     nonzero_ind = np.where(inter_mat[user] > 0)[0]\n",
    "        #     # if len(nonzero_ind) > 3:\n",
    "        #     valid_ind = np.random.choice(nonzero_ind, 3, replace = False)\n",
    "        #     if self.mode == 'train':\n",
    "        #         inter_mat[user][valid_ind] = 0\n",
    "        #     else:\n",
    "        #         inter_mat[user][np.setdiff1d(nonzero_ind, valid_ind)] = 0\n",
    "\n",
    "        return inter_mat\n",
    "\n",
    "    def __len__(self):\n",
    "        # return len(self.users)\n",
    "        return len(self.inter_mat)\n",
    "\n",
    "    def __getitem__(self, index):\n",
    "        # inter_mat = torch.tensor(self.inter_mat[self.users[index]]).float()\n",
    "        inter_mat = torch.tensor(self.inter_mat[index]).float()\n",
    "\n",
    "        return index, inter_mat"
   ]
  },
  {
   "cell_type": "code",
   "execution_count": 29,
   "id": "f88cf163-3d63-4c56-b813-154b3329f060",
   "metadata": {},
   "outputs": [],
   "source": [
    "device = torch.device('cuda:0' if torch.cuda.is_available() else 'cpu')\n",
    "\n",
    "num_epochs = 50\n",
    "lr = 0.001\n",
    "batch_size = 256\n",
    "\n",
    "PATH = '../model/autorec_norm_train.pt'\n",
    "patience = 5\n",
    "\n",
    "num_items = data.item_id_idx.nunique()\n",
    "num_users = data.user_id_idx.nunique()\n",
    "num_hidden = 500"
   ]
  },
  {
   "cell_type": "code",
   "execution_count": 30,
   "id": "4e05b0f3-38f9-4658-9e53-ce83525b6ad5",
   "metadata": {},
   "outputs": [],
   "source": [
    "train_dataset = BeerKoreanDataset(df=kor_ratebeer, num_items=num_items, num_users=num_users, mode='train')\n",
    "val_dataset = BeerKoreanDataset(df=kor_ratebeer, num_items=num_items, num_users=num_users, mode='val')\n",
    "\n",
    "train_dataloader = DataLoader(dataset=train_dataset, batch_size=batch_size, shuffle=True) \n",
    "val_dataloader = DataLoader(dataset=val_dataset, batch_size=1, shuffle=False)"
   ]
  },
  {
   "cell_type": "code",
   "execution_count": 31,
   "id": "f831fbbd-1005-4cb0-829c-88894c932db3",
   "metadata": {},
   "outputs": [],
   "source": [
    "model = AutoRec(num_hidden, num_items).to(device)\n",
    "loss = AutoRec_loss_fn(nn.MSELoss().to(device)).to(device)\n",
    "optm = optim.Adam(model.parameters(),lr=lr)"
   ]
  },
  {
   "cell_type": "code",
   "execution_count": 32,
   "id": "6722bace-134a-44df-b10e-b291b2fd07bc",
   "metadata": {},
   "outputs": [
    {
     "name": "stderr",
     "output_type": "stream",
     "text": [
      "  2%|▎               | 1/50 [00:10<08:24, 10.30s/it]"
     ]
    },
    {
     "name": "stdout",
     "output_type": "stream",
     "text": [
      "Validation loss decreased (inf --> 0.982767).  Saving model ...\n",
      "epoch: 0, train Loss: 1.3100, test Loss: 0.9828\n"
     ]
    },
    {
     "name": "stderr",
     "output_type": "stream",
     "text": [
      "  4%|▋               | 2/50 [00:20<07:59,  9.98s/it]"
     ]
    },
    {
     "name": "stdout",
     "output_type": "stream",
     "text": [
      "Validation loss decreased (0.982767 --> 0.894093).  Saving model ...\n",
      "epoch: 1, train Loss: 0.6535, test Loss: 0.8941\n"
     ]
    },
    {
     "name": "stderr",
     "output_type": "stream",
     "text": [
      "  6%|▉               | 3/50 [00:29<07:45,  9.91s/it]"
     ]
    },
    {
     "name": "stdout",
     "output_type": "stream",
     "text": [
      "Validation loss decreased (0.894093 --> 0.824739).  Saving model ...\n",
      "epoch: 2, train Loss: 0.6051, test Loss: 0.8247\n"
     ]
    },
    {
     "name": "stderr",
     "output_type": "stream",
     "text": [
      "  8%|█▎              | 4/50 [00:39<07:32,  9.85s/it]"
     ]
    },
    {
     "name": "stdout",
     "output_type": "stream",
     "text": [
      "Validation loss decreased (0.824739 --> 0.755429).  Saving model ...\n",
      "epoch: 3, train Loss: 0.5580, test Loss: 0.7554\n"
     ]
    },
    {
     "name": "stderr",
     "output_type": "stream",
     "text": [
      " 10%|█▌              | 5/50 [00:49<07:22,  9.84s/it]"
     ]
    },
    {
     "name": "stdout",
     "output_type": "stream",
     "text": [
      "Validation loss decreased (0.755429 --> 0.692646).  Saving model ...\n",
      "epoch: 4, train Loss: 0.5170, test Loss: 0.6926\n"
     ]
    },
    {
     "name": "stderr",
     "output_type": "stream",
     "text": [
      " 12%|█▉              | 6/50 [00:59<07:12,  9.82s/it]"
     ]
    },
    {
     "name": "stdout",
     "output_type": "stream",
     "text": [
      "Validation loss decreased (0.692646 --> 0.631808).  Saving model ...\n",
      "epoch: 5, train Loss: 0.4737, test Loss: 0.6318\n"
     ]
    },
    {
     "name": "stderr",
     "output_type": "stream",
     "text": [
      " 14%|██▏             | 7/50 [01:09<07:02,  9.83s/it]"
     ]
    },
    {
     "name": "stdout",
     "output_type": "stream",
     "text": [
      "Validation loss decreased (0.631808 --> 0.568639).  Saving model ...\n",
      "epoch: 6, train Loss: 0.4338, test Loss: 0.5686\n"
     ]
    },
    {
     "name": "stderr",
     "output_type": "stream",
     "text": [
      " 16%|██▌             | 8/50 [01:19<06:53,  9.86s/it]"
     ]
    },
    {
     "name": "stdout",
     "output_type": "stream",
     "text": [
      "Validation loss decreased (0.568639 --> 0.516553).  Saving model ...\n",
      "epoch: 7, train Loss: 0.3984, test Loss: 0.5166\n"
     ]
    },
    {
     "name": "stderr",
     "output_type": "stream",
     "text": [
      " 18%|██▉             | 9/50 [01:28<06:44,  9.86s/it]"
     ]
    },
    {
     "name": "stdout",
     "output_type": "stream",
     "text": [
      "Validation loss decreased (0.516553 --> 0.459928).  Saving model ...\n",
      "epoch: 8, train Loss: 0.3637, test Loss: 0.4599\n"
     ]
    },
    {
     "name": "stderr",
     "output_type": "stream",
     "text": [
      " 20%|███            | 10/50 [01:38<06:36,  9.91s/it]"
     ]
    },
    {
     "name": "stdout",
     "output_type": "stream",
     "text": [
      "Validation loss decreased (0.459928 --> 0.408489).  Saving model ...\n",
      "epoch: 9, train Loss: 0.3363, test Loss: 0.4085\n"
     ]
    },
    {
     "name": "stderr",
     "output_type": "stream",
     "text": [
      " 22%|███▎           | 11/50 [01:48<06:25,  9.89s/it]"
     ]
    },
    {
     "name": "stdout",
     "output_type": "stream",
     "text": [
      "Validation loss decreased (0.408489 --> 0.361839).  Saving model ...\n",
      "epoch: 10, train Loss: 0.3075, test Loss: 0.3618\n"
     ]
    },
    {
     "name": "stderr",
     "output_type": "stream",
     "text": [
      " 24%|███▌           | 12/50 [01:58<06:14,  9.85s/it]"
     ]
    },
    {
     "name": "stdout",
     "output_type": "stream",
     "text": [
      "Validation loss decreased (0.361839 --> 0.317329).  Saving model ...\n",
      "epoch: 11, train Loss: 0.2807, test Loss: 0.3173\n"
     ]
    },
    {
     "name": "stderr",
     "output_type": "stream",
     "text": [
      " 26%|███▉           | 13/50 [02:08<06:04,  9.84s/it]"
     ]
    },
    {
     "name": "stdout",
     "output_type": "stream",
     "text": [
      "Validation loss decreased (0.317329 --> 0.285326).  Saving model ...\n",
      "epoch: 12, train Loss: 0.2608, test Loss: 0.2853\n"
     ]
    },
    {
     "name": "stderr",
     "output_type": "stream",
     "text": [
      " 28%|████▏          | 14/50 [02:18<05:53,  9.82s/it]"
     ]
    },
    {
     "name": "stdout",
     "output_type": "stream",
     "text": [
      "Validation loss decreased (0.285326 --> 0.252350).  Saving model ...\n",
      "epoch: 13, train Loss: 0.2408, test Loss: 0.2523\n"
     ]
    },
    {
     "name": "stderr",
     "output_type": "stream",
     "text": [
      " 30%|████▌          | 15/50 [02:27<05:43,  9.82s/it]"
     ]
    },
    {
     "name": "stdout",
     "output_type": "stream",
     "text": [
      "Validation loss decreased (0.252350 --> 0.221499).  Saving model ...\n",
      "epoch: 14, train Loss: 0.2232, test Loss: 0.2215\n"
     ]
    },
    {
     "name": "stderr",
     "output_type": "stream",
     "text": [
      " 32%|████▊          | 16/50 [02:37<05:33,  9.80s/it]"
     ]
    },
    {
     "name": "stdout",
     "output_type": "stream",
     "text": [
      "Validation loss decreased (0.221499 --> 0.201082).  Saving model ...\n",
      "epoch: 15, train Loss: 0.2100, test Loss: 0.2011\n"
     ]
    },
    {
     "name": "stderr",
     "output_type": "stream",
     "text": [
      " 34%|█████          | 17/50 [02:47<05:23,  9.82s/it]"
     ]
    },
    {
     "name": "stdout",
     "output_type": "stream",
     "text": [
      "Validation loss decreased (0.201082 --> 0.171813).  Saving model ...\n",
      "epoch: 16, train Loss: 0.1969, test Loss: 0.1718\n"
     ]
    },
    {
     "name": "stderr",
     "output_type": "stream",
     "text": [
      " 36%|█████▍         | 18/50 [02:57<05:13,  9.79s/it]"
     ]
    },
    {
     "name": "stdout",
     "output_type": "stream",
     "text": [
      "Validation loss decreased (0.171813 --> 0.155365).  Saving model ...\n",
      "epoch: 17, train Loss: 0.1855, test Loss: 0.1554\n"
     ]
    },
    {
     "name": "stderr",
     "output_type": "stream",
     "text": [
      " 38%|█████▋         | 19/50 [03:08<05:13, 10.11s/it]"
     ]
    },
    {
     "name": "stdout",
     "output_type": "stream",
     "text": [
      "Validation loss decreased (0.155365 --> 0.135455).  Saving model ...\n",
      "epoch: 18, train Loss: 0.1755, test Loss: 0.1355\n"
     ]
    },
    {
     "name": "stderr",
     "output_type": "stream",
     "text": [
      " 40%|██████         | 20/50 [03:18<05:05, 10.18s/it]"
     ]
    },
    {
     "name": "stdout",
     "output_type": "stream",
     "text": [
      "Validation loss decreased (0.135455 --> 0.122659).  Saving model ...\n",
      "epoch: 19, train Loss: 0.1672, test Loss: 0.1227\n"
     ]
    },
    {
     "name": "stderr",
     "output_type": "stream",
     "text": [
      " 42%|██████▎        | 21/50 [03:28<04:53, 10.12s/it]"
     ]
    },
    {
     "name": "stdout",
     "output_type": "stream",
     "text": [
      "Validation loss decreased (0.122659 --> 0.111570).  Saving model ...\n",
      "epoch: 20, train Loss: 0.1593, test Loss: 0.1116\n"
     ]
    },
    {
     "name": "stderr",
     "output_type": "stream",
     "text": [
      " 44%|██████▌        | 22/50 [03:38<04:41, 10.05s/it]"
     ]
    },
    {
     "name": "stdout",
     "output_type": "stream",
     "text": [
      "Validation loss decreased (0.111570 --> 0.097689).  Saving model ...\n",
      "epoch: 21, train Loss: 0.1513, test Loss: 0.0977\n"
     ]
    },
    {
     "name": "stderr",
     "output_type": "stream",
     "text": [
      " 46%|██████▉        | 23/50 [03:48<04:29,  9.98s/it]"
     ]
    },
    {
     "name": "stdout",
     "output_type": "stream",
     "text": [
      "Validation loss decreased (0.097689 --> 0.089071).  Saving model ...\n",
      "epoch: 22, train Loss: 0.1477, test Loss: 0.0891\n"
     ]
    },
    {
     "name": "stderr",
     "output_type": "stream",
     "text": [
      " 48%|███████▏       | 24/50 [03:57<04:17,  9.92s/it]"
     ]
    },
    {
     "name": "stdout",
     "output_type": "stream",
     "text": [
      "Validation loss decreased (0.089071 --> 0.078210).  Saving model ...\n",
      "epoch: 23, train Loss: 0.1420, test Loss: 0.0782\n"
     ]
    },
    {
     "name": "stderr",
     "output_type": "stream",
     "text": [
      " 50%|███████▌       | 25/50 [04:07<04:08,  9.96s/it]"
     ]
    },
    {
     "name": "stdout",
     "output_type": "stream",
     "text": [
      "Validation loss decreased (0.078210 --> 0.076360).  Saving model ...\n",
      "epoch: 24, train Loss: 0.1392, test Loss: 0.0764\n"
     ]
    },
    {
     "name": "stderr",
     "output_type": "stream",
     "text": [
      " 52%|███████▊       | 26/50 [04:17<03:58,  9.92s/it]"
     ]
    },
    {
     "name": "stdout",
     "output_type": "stream",
     "text": [
      "Validation loss decreased (0.076360 --> 0.068140).  Saving model ...\n",
      "epoch: 25, train Loss: 0.1328, test Loss: 0.0681\n"
     ]
    },
    {
     "name": "stderr",
     "output_type": "stream",
     "text": [
      " 54%|████████       | 27/50 [04:28<03:50, 10.04s/it]"
     ]
    },
    {
     "name": "stdout",
     "output_type": "stream",
     "text": [
      "Validation loss decreased (0.068140 --> 0.062249).  Saving model ...\n",
      "epoch: 26, train Loss: 0.1318, test Loss: 0.0622\n"
     ]
    },
    {
     "name": "stderr",
     "output_type": "stream",
     "text": [
      " 56%|████████▍      | 28/50 [04:37<03:39,  9.98s/it]"
     ]
    },
    {
     "name": "stdout",
     "output_type": "stream",
     "text": [
      "Validation loss decreased (0.062249 --> 0.057106).  Saving model ...\n",
      "epoch: 27, train Loss: 0.1287, test Loss: 0.0571\n"
     ]
    },
    {
     "name": "stderr",
     "output_type": "stream",
     "text": [
      " 58%|████████▋      | 29/50 [04:47<03:28,  9.94s/it]"
     ]
    },
    {
     "name": "stdout",
     "output_type": "stream",
     "text": [
      "Validation loss decreased (0.057106 --> 0.052894).  Saving model ...\n",
      "epoch: 28, train Loss: 0.1253, test Loss: 0.0529\n"
     ]
    },
    {
     "name": "stderr",
     "output_type": "stream",
     "text": [
      " 60%|█████████      | 30/50 [04:57<03:17,  9.90s/it]"
     ]
    },
    {
     "name": "stdout",
     "output_type": "stream",
     "text": [
      "Validation loss decreased (0.052894 --> 0.050231).  Saving model ...\n",
      "epoch: 29, train Loss: 0.1245, test Loss: 0.0502\n"
     ]
    },
    {
     "name": "stderr",
     "output_type": "stream",
     "text": [
      " 62%|█████████▎     | 31/50 [05:07<03:07,  9.88s/it]"
     ]
    },
    {
     "name": "stdout",
     "output_type": "stream",
     "text": [
      "Validation loss decreased (0.050231 --> 0.047736).  Saving model ...\n",
      "epoch: 30, train Loss: 0.1204, test Loss: 0.0477\n"
     ]
    },
    {
     "name": "stderr",
     "output_type": "stream",
     "text": [
      " 64%|█████████▌     | 32/50 [05:17<02:58,  9.90s/it]"
     ]
    },
    {
     "name": "stdout",
     "output_type": "stream",
     "text": [
      "Validation loss decreased (0.047736 --> 0.047130).  Saving model ...\n",
      "epoch: 31, train Loss: 0.1185, test Loss: 0.0471\n"
     ]
    },
    {
     "name": "stderr",
     "output_type": "stream",
     "text": [
      " 66%|█████████▉     | 33/50 [05:27<02:48,  9.90s/it]"
     ]
    },
    {
     "name": "stdout",
     "output_type": "stream",
     "text": [
      "Validation loss decreased (0.047130 --> 0.042847).  Saving model ...\n",
      "epoch: 32, train Loss: 0.1186, test Loss: 0.0428\n"
     ]
    },
    {
     "name": "stderr",
     "output_type": "stream",
     "text": [
      " 68%|██████████▏    | 34/50 [05:37<02:37,  9.87s/it]"
     ]
    },
    {
     "name": "stdout",
     "output_type": "stream",
     "text": [
      "Validation loss decreased (0.042847 --> 0.041932).  Saving model ...\n",
      "epoch: 33, train Loss: 0.1155, test Loss: 0.0419\n"
     ]
    },
    {
     "name": "stderr",
     "output_type": "stream",
     "text": [
      " 70%|██████████▌    | 35/50 [05:46<02:27,  9.86s/it]"
     ]
    },
    {
     "name": "stdout",
     "output_type": "stream",
     "text": [
      "Validation loss decreased (0.041932 --> 0.040058).  Saving model ...\n",
      "epoch: 34, train Loss: 0.1137, test Loss: 0.0401\n"
     ]
    },
    {
     "name": "stderr",
     "output_type": "stream",
     "text": [
      " 72%|██████████▊    | 36/50 [05:56<02:17,  9.81s/it]"
     ]
    },
    {
     "name": "stdout",
     "output_type": "stream",
     "text": [
      "Validation loss decreased (0.040058 --> 0.040013).  Saving model ...\n",
      "epoch: 35, train Loss: 0.1131, test Loss: 0.0400\n"
     ]
    },
    {
     "name": "stderr",
     "output_type": "stream",
     "text": [
      " 74%|███████████    | 37/50 [06:06<02:07,  9.79s/it]"
     ]
    },
    {
     "name": "stdout",
     "output_type": "stream",
     "text": [
      "Validation loss decreased (0.040013 --> 0.039418).  Saving model ...\n",
      "epoch: 36, train Loss: 0.1124, test Loss: 0.0394\n"
     ]
    },
    {
     "name": "stderr",
     "output_type": "stream",
     "text": [
      " 76%|███████████▍   | 38/50 [06:16<01:57,  9.80s/it]"
     ]
    },
    {
     "name": "stdout",
     "output_type": "stream",
     "text": [
      "Validation loss decreased (0.039418 --> 0.037546).  Saving model ...\n",
      "epoch: 37, train Loss: 0.1104, test Loss: 0.0375\n"
     ]
    },
    {
     "name": "stderr",
     "output_type": "stream",
     "text": [
      " 78%|███████████▋   | 39/50 [06:26<01:48,  9.83s/it]"
     ]
    },
    {
     "name": "stdout",
     "output_type": "stream",
     "text": [
      "Validation loss decreased (0.037546 --> 0.034918).  Saving model ...\n",
      "epoch: 38, train Loss: 0.1099, test Loss: 0.0349\n"
     ]
    },
    {
     "name": "stderr",
     "output_type": "stream",
     "text": [
      " 80%|████████████   | 40/50 [06:36<01:40, 10.07s/it]"
     ]
    },
    {
     "name": "stdout",
     "output_type": "stream",
     "text": [
      "EarlyStopping counter: 1 out of 5\n",
      "epoch: 39, train Loss: 0.1064, test Loss: 0.0351\n"
     ]
    },
    {
     "name": "stderr",
     "output_type": "stream",
     "text": [
      " 82%|████████████▎  | 41/50 [06:47<01:32, 10.25s/it]"
     ]
    },
    {
     "name": "stdout",
     "output_type": "stream",
     "text": [
      "Validation loss decreased (0.034918 --> 0.034877).  Saving model ...\n",
      "epoch: 40, train Loss: 0.1069, test Loss: 0.0349\n",
      "Validation loss decreased (0.034877 --> 0.034106).  Saving model ...\n"
     ]
    },
    {
     "name": "stderr",
     "output_type": "stream",
     "text": [
      " 84%|████████████▌  | 42/50 [06:58<01:23, 10.44s/it]"
     ]
    },
    {
     "name": "stdout",
     "output_type": "stream",
     "text": [
      "epoch: 41, train Loss: 0.1053, test Loss: 0.0341\n"
     ]
    },
    {
     "name": "stderr",
     "output_type": "stream",
     "text": [
      " 86%|████████████▉  | 43/50 [07:09<01:14, 10.67s/it]"
     ]
    },
    {
     "name": "stdout",
     "output_type": "stream",
     "text": [
      "Validation loss decreased (0.034106 --> 0.033533).  Saving model ...\n",
      "epoch: 42, train Loss: 0.1063, test Loss: 0.0335\n"
     ]
    },
    {
     "name": "stderr",
     "output_type": "stream",
     "text": [
      " 88%|█████████████▏ | 44/50 [07:19<01:02, 10.41s/it]"
     ]
    },
    {
     "name": "stdout",
     "output_type": "stream",
     "text": [
      "EarlyStopping counter: 1 out of 5\n",
      "epoch: 43, train Loss: 0.1045, test Loss: 0.0338\n"
     ]
    },
    {
     "name": "stderr",
     "output_type": "stream",
     "text": [
      " 90%|█████████████▌ | 45/50 [07:28<00:50, 10.18s/it]"
     ]
    },
    {
     "name": "stdout",
     "output_type": "stream",
     "text": [
      "EarlyStopping counter: 2 out of 5\n",
      "epoch: 44, train Loss: 0.1036, test Loss: 0.0338\n"
     ]
    },
    {
     "name": "stderr",
     "output_type": "stream",
     "text": [
      " 92%|█████████████▊ | 46/50 [07:38<00:40, 10.04s/it]"
     ]
    },
    {
     "name": "stdout",
     "output_type": "stream",
     "text": [
      "Validation loss decreased (0.033533 --> 0.033227).  Saving model ...\n",
      "epoch: 45, train Loss: 0.1038, test Loss: 0.0332\n"
     ]
    },
    {
     "name": "stderr",
     "output_type": "stream",
     "text": [
      " 94%|██████████████ | 47/50 [07:48<00:29,  9.97s/it]"
     ]
    },
    {
     "name": "stdout",
     "output_type": "stream",
     "text": [
      "Validation loss decreased (0.033227 --> 0.033063).  Saving model ...\n",
      "epoch: 46, train Loss: 0.1020, test Loss: 0.0331\n"
     ]
    },
    {
     "name": "stderr",
     "output_type": "stream",
     "text": [
      " 96%|██████████████▍| 48/50 [07:58<00:19,  9.86s/it]"
     ]
    },
    {
     "name": "stdout",
     "output_type": "stream",
     "text": [
      "EarlyStopping counter: 1 out of 5\n",
      "epoch: 47, train Loss: 0.1026, test Loss: 0.0334\n"
     ]
    },
    {
     "name": "stderr",
     "output_type": "stream",
     "text": [
      " 98%|██████████████▋| 49/50 [08:07<00:09,  9.86s/it]"
     ]
    },
    {
     "name": "stdout",
     "output_type": "stream",
     "text": [
      "Validation loss decreased (0.033063 --> 0.032090).  Saving model ...\n",
      "epoch: 48, train Loss: 0.1005, test Loss: 0.0321\n"
     ]
    },
    {
     "name": "stderr",
     "output_type": "stream",
     "text": [
      "100%|███████████████| 50/50 [08:17<00:00,  9.95s/it]"
     ]
    },
    {
     "name": "stdout",
     "output_type": "stream",
     "text": [
      "Validation loss decreased (0.032090 --> 0.031493).  Saving model ...\n",
      "epoch: 49, train Loss: 0.1003, test Loss: 0.0315\n"
     ]
    },
    {
     "name": "stderr",
     "output_type": "stream",
     "text": [
      "\n"
     ]
    },
    {
     "data": {
      "image/png": "[encoded data removed]",
      "text/plain": [
       "<Figure size 720x360 with 1 Axes>"
      ]
     },
     "metadata": {
      "needs_background": "light"
     },
     "output_type": "display_data"
    }
   ],
   "source": [
    "train_losses = []\n",
    "val_losses = []\n",
    "\n",
    "early_stopping = EarlyStopping(patience = patience, verbose = True, path=PATH)\n",
    "\n",
    "for epoch in tqdm(range(num_epochs)):\n",
    "\n",
    "    train_loss = train(model, train_dataloader, loss, optm, device)\n",
    "    val_loss = validation(model, val_dataloader, loss, device)\n",
    "\n",
    "    train_losses.append(train_loss)\n",
    "    val_losses.append(val_loss)\n",
    "    \n",
    "    early_stopping(val_loss, model)\n",
    "\n",
    "    if early_stopping.early_stop:\n",
    "        print(\"Early stopping\")\n",
    "        break\n",
    "        \n",
    "    print(f'epoch: {epoch}, train Loss: {train_loss:.4f}, test Loss: {val_loss:.4f}')\n",
    "\n",
    "plt.figure(figsize=(10,5))\n",
    "plt.plot(train_losses,label=\"train_loss\")\n",
    "plt.plot(val_losses,label=\"val_loss\")\n",
    "plt.xlabel(\"epoch\")\n",
    "plt.ylabel(\"Loss\")\n",
    "plt.legend()\n",
    "plt.show()"
   ]
  },
  {
   "cell_type": "markdown",
   "id": "dff0231e-cf27-4c49-8771-17355e9b906e",
   "metadata": {},
   "source": [
    "### 모델 불러오기"
   ]
  },
  {
   "cell_type": "code",
   "execution_count": 60,
   "id": "275ec81c-5b83-44c9-8000-2c8ec72203e0",
   "metadata": {},
   "outputs": [
    {
     "data": {
      "text/plain": [
       "<All keys matched successfully>"
      ]
     },
     "execution_count": 60,
     "metadata": {},
     "output_type": "execute_result"
    }
   ],
   "source": [
    "model = AutoRec(num_hidden, num_items).to(device)\n",
    "model.load_state_dict(torch.load(PATH))"
   ]
  },
  {
   "cell_type": "markdown",
   "id": "aef7a560-c581-4f5b-a27b-3b8949edad50",
   "metadata": {},
   "source": [
    "### 파일 불러오기"
   ]
  },
  {
   "cell_type": "code",
   "execution_count": 34,
   "id": "9cbd90f8-0863-4365-bc13-860bef17d662",
   "metadata": {},
   "outputs": [],
   "source": [
    "test_input = pd.read_csv(\"../data/test_input_ratebeer_without_text_limit30.csv\")\n",
    "test_ans = pd.read_csv(\"../data/test_output_ratebeer_without_text_limit30.csv\")"
   ]
  },
  {
   "cell_type": "code",
   "execution_count": 35,
   "id": "5b3836dd-ca6b-40b9-a627-62a4c82be0b1",
   "metadata": {},
   "outputs": [
    {
     "data": {
      "text/html": [
       "<div>\n",
       "<style scoped>\n",
       "    .dataframe tbody tr th:only-of-type {\n",
       "        vertical-align: middle;\n",
       "    }\n",
       "\n",
       "    .dataframe tbody tr th {\n",
       "        vertical-align: top;\n",
       "    }\n",
       "\n",
       "    .dataframe thead th {\n",
       "        text-align: right;\n",
       "    }\n",
       "</style>\n",
       "<table border=\"1\" class=\"dataframe\">\n",
       "  <thead>\n",
       "    <tr style=\"text-align: right;\">\n",
       "      <th></th>\n",
       "      <th>user_id</th>\n",
       "      <th>beer_id</th>\n",
       "      <th>review_score</th>\n",
       "      <th>review_time</th>\n",
       "      <th>appearance</th>\n",
       "      <th>aroma</th>\n",
       "      <th>palate</th>\n",
       "      <th>taste</th>\n",
       "      <th>overall</th>\n",
       "      <th>profile_name</th>\n",
       "      <th>beer_name</th>\n",
       "      <th>brewer_id</th>\n",
       "      <th>abv</th>\n",
       "      <th>style</th>\n",
       "      <th>image_url</th>\n",
       "    </tr>\n",
       "  </thead>\n",
       "  <tbody>\n",
       "    <tr>\n",
       "      <th>0</th>\n",
       "      <td>4</td>\n",
       "      <td>145903</td>\n",
       "      <td>4.2</td>\n",
       "      <td>2021-08-19 22:01:20.193000+00:00</td>\n",
       "      <td>4.0</td>\n",
       "      <td>9.0</td>\n",
       "      <td>4.0</td>\n",
       "      <td>8.0</td>\n",
       "      <td>17.0</td>\n",
       "      <td>ZayZay</td>\n",
       "      <td>Hill Farmstead Double Citra</td>\n",
       "      <td>11233</td>\n",
       "      <td>8.0</td>\n",
       "      <td>IIPA DIPA - Imperial / Double Hazy (NEIPA)</td>\n",
       "      <td>https://res.cloudinary.com/ratebeer/image/uplo...</td>\n",
       "    </tr>\n",
       "    <tr>\n",
       "      <th>1</th>\n",
       "      <td>4</td>\n",
       "      <td>114499</td>\n",
       "      <td>3.9</td>\n",
       "      <td>2021-01-25 03:00:13.110000+00:00</td>\n",
       "      <td>3.0</td>\n",
       "      <td>8.0</td>\n",
       "      <td>4.0</td>\n",
       "      <td>8.0</td>\n",
       "      <td>16.0</td>\n",
       "      <td>ZayZay</td>\n",
       "      <td>St-Ambroise Stout Impériale Russe</td>\n",
       "      <td>137</td>\n",
       "      <td>9.2</td>\n",
       "      <td>Stout - Imperial</td>\n",
       "      <td>https://res.cloudinary.com/ratebeer/image/uplo...</td>\n",
       "    </tr>\n",
       "    <tr>\n",
       "      <th>2</th>\n",
       "      <td>4</td>\n",
       "      <td>12027</td>\n",
       "      <td>3.8</td>\n",
       "      <td>2021-08-23 02:21:37.730000+00:00</td>\n",
       "      <td>4.0</td>\n",
       "      <td>8.0</td>\n",
       "      <td>4.0</td>\n",
       "      <td>7.0</td>\n",
       "      <td>15.0</td>\n",
       "      <td>ZayZay</td>\n",
       "      <td>Boon Oude Geuze Mariage Parfait</td>\n",
       "      <td>748</td>\n",
       "      <td>8.0</td>\n",
       "      <td>Lambic - Gueuze</td>\n",
       "      <td>https://res.cloudinary.com/ratebeer/image/uplo...</td>\n",
       "    </tr>\n",
       "    <tr>\n",
       "      <th>3</th>\n",
       "      <td>4</td>\n",
       "      <td>1921</td>\n",
       "      <td>3.4</td>\n",
       "      <td>2021-03-14 01:55:44.420000+00:00</td>\n",
       "      <td>3.0</td>\n",
       "      <td>7.0</td>\n",
       "      <td>3.0</td>\n",
       "      <td>7.0</td>\n",
       "      <td>14.0</td>\n",
       "      <td>ZayZay</td>\n",
       "      <td>Unibroue Maudite</td>\n",
       "      <td>180</td>\n",
       "      <td>8.0</td>\n",
       "      <td>Dubbel</td>\n",
       "      <td>https://res.cloudinary.com/ratebeer/image/uplo...</td>\n",
       "    </tr>\n",
       "    <tr>\n",
       "      <th>4</th>\n",
       "      <td>4</td>\n",
       "      <td>15121</td>\n",
       "      <td>3.9</td>\n",
       "      <td>2020-12-07 03:36:06.880000+00:00</td>\n",
       "      <td>3.0</td>\n",
       "      <td>8.0</td>\n",
       "      <td>4.0</td>\n",
       "      <td>8.0</td>\n",
       "      <td>16.0</td>\n",
       "      <td>ZayZay</td>\n",
       "      <td>Dieu du Ciel! Solstice d'Hiver</td>\n",
       "      <td>364</td>\n",
       "      <td>10.2</td>\n",
       "      <td>Barley Wine / Wheat Wine / Rye Wine</td>\n",
       "      <td>https://res.cloudinary.com/ratebeer/image/uplo...</td>\n",
       "    </tr>\n",
       "  </tbody>\n",
       "</table>\n",
       "</div>"
      ],
      "text/plain": [
       "   user_id  beer_id  review_score                       review_time  \\\n",
       "0        4   145903           4.2  2021-08-19 22:01:20.193000+00:00   \n",
       "1        4   114499           3.9  2021-01-25 03:00:13.110000+00:00   \n",
       "2        4    12027           3.8  2021-08-23 02:21:37.730000+00:00   \n",
       "3        4     1921           3.4  2021-03-14 01:55:44.420000+00:00   \n",
       "4        4    15121           3.9  2020-12-07 03:36:06.880000+00:00   \n",
       "\n",
       "   appearance  aroma  palate  taste  overall profile_name  \\\n",
       "0         4.0    9.0     4.0    8.0     17.0       ZayZay   \n",
       "1         3.0    8.0     4.0    8.0     16.0       ZayZay   \n",
       "2         4.0    8.0     4.0    7.0     15.0       ZayZay   \n",
       "3         3.0    7.0     3.0    7.0     14.0       ZayZay   \n",
       "4         3.0    8.0     4.0    8.0     16.0       ZayZay   \n",
       "\n",
       "                           beer_name  brewer_id   abv  \\\n",
       "0        Hill Farmstead Double Citra      11233   8.0   \n",
       "1  St-Ambroise Stout Impériale Russe        137   9.2   \n",
       "2    Boon Oude Geuze Mariage Parfait        748   8.0   \n",
       "3                   Unibroue Maudite        180   8.0   \n",
       "4     Dieu du Ciel! Solstice d'Hiver        364  10.2   \n",
       "\n",
       "                                        style  \\\n",
       "0  IIPA DIPA - Imperial / Double Hazy (NEIPA)   \n",
       "1                            Stout - Imperial   \n",
       "2                             Lambic - Gueuze   \n",
       "3                                      Dubbel   \n",
       "4         Barley Wine / Wheat Wine / Rye Wine   \n",
       "\n",
       "                                           image_url  \n",
       "0  https://res.cloudinary.com/ratebeer/image/uplo...  \n",
       "1  https://res.cloudinary.com/ratebeer/image/uplo...  \n",
       "2  https://res.cloudinary.com/ratebeer/image/uplo...  \n",
       "3  https://res.cloudinary.com/ratebeer/image/uplo...  \n",
       "4  https://res.cloudinary.com/ratebeer/image/uplo...  "
      ]
     },
     "execution_count": 35,
     "metadata": {},
     "output_type": "execute_result"
    }
   ],
   "source": [
    "test_input.head()"
   ]
  },
  {
   "cell_type": "code",
   "execution_count": 36,
   "id": "cdbdfa3d-3616-4e07-bf53-665c4f25f536",
   "metadata": {},
   "outputs": [
    {
     "data": {
      "text/html": [
       "<div>\n",
       "<style scoped>\n",
       "    .dataframe tbody tr th:only-of-type {\n",
       "        vertical-align: middle;\n",
       "    }\n",
       "\n",
       "    .dataframe tbody tr th {\n",
       "        vertical-align: top;\n",
       "    }\n",
       "\n",
       "    .dataframe thead th {\n",
       "        text-align: right;\n",
       "    }\n",
       "</style>\n",
       "<table border=\"1\" class=\"dataframe\">\n",
       "  <thead>\n",
       "    <tr style=\"text-align: right;\">\n",
       "      <th></th>\n",
       "      <th>user_id</th>\n",
       "      <th>beer_id</th>\n",
       "      <th>review_score</th>\n",
       "      <th>review_time</th>\n",
       "      <th>appearance</th>\n",
       "      <th>aroma</th>\n",
       "      <th>palate</th>\n",
       "      <th>taste</th>\n",
       "      <th>overall</th>\n",
       "      <th>profile_name</th>\n",
       "      <th>beer_name</th>\n",
       "      <th>brewer_id</th>\n",
       "      <th>abv</th>\n",
       "      <th>style</th>\n",
       "      <th>image_url</th>\n",
       "    </tr>\n",
       "  </thead>\n",
       "  <tbody>\n",
       "    <tr>\n",
       "      <th>0</th>\n",
       "      <td>4</td>\n",
       "      <td>37</td>\n",
       "      <td>1.9</td>\n",
       "      <td>2021-07-08 03:31:02.923000+00:00</td>\n",
       "      <td>3.0</td>\n",
       "      <td>3.0</td>\n",
       "      <td>2.0</td>\n",
       "      <td>3.0</td>\n",
       "      <td>8.0</td>\n",
       "      <td>ZayZay</td>\n",
       "      <td>Heineken</td>\n",
       "      <td>9</td>\n",
       "      <td>5.0</td>\n",
       "      <td>Pale Lager - International / Premium</td>\n",
       "      <td>https://res.cloudinary.com/ratebeer/image/uplo...</td>\n",
       "    </tr>\n",
       "    <tr>\n",
       "      <th>1</th>\n",
       "      <td>4</td>\n",
       "      <td>709</td>\n",
       "      <td>1.6</td>\n",
       "      <td>2021-01-11 01:47:51.440000+00:00</td>\n",
       "      <td>2.0</td>\n",
       "      <td>3.0</td>\n",
       "      <td>1.0</td>\n",
       "      <td>3.0</td>\n",
       "      <td>7.0</td>\n",
       "      <td>ZayZay</td>\n",
       "      <td>Carlsberg Pilsner</td>\n",
       "      <td>43</td>\n",
       "      <td>4.6</td>\n",
       "      <td>Pilsener / Pils / Pilsner</td>\n",
       "      <td>https://res.cloudinary.com/ratebeer/image/uplo...</td>\n",
       "    </tr>\n",
       "    <tr>\n",
       "      <th>2</th>\n",
       "      <td>4</td>\n",
       "      <td>473</td>\n",
       "      <td>1.7</td>\n",
       "      <td>2022-05-27 03:50:49.850000+00:00</td>\n",
       "      <td>3.0</td>\n",
       "      <td>3.0</td>\n",
       "      <td>2.0</td>\n",
       "      <td>3.0</td>\n",
       "      <td>6.0</td>\n",
       "      <td>ZayZay</td>\n",
       "      <td>Budweiser</td>\n",
       "      <td>84</td>\n",
       "      <td>5.0</td>\n",
       "      <td>Pale Lager - American</td>\n",
       "      <td>https://res.cloudinary.com/ratebeer/image/uplo...</td>\n",
       "    </tr>\n",
       "    <tr>\n",
       "      <th>3</th>\n",
       "      <td>4</td>\n",
       "      <td>742</td>\n",
       "      <td>1.7</td>\n",
       "      <td>2020-10-24 21:25:51.827000+00:00</td>\n",
       "      <td>2.0</td>\n",
       "      <td>3.0</td>\n",
       "      <td>2.0</td>\n",
       "      <td>3.0</td>\n",
       "      <td>7.0</td>\n",
       "      <td>ZayZay</td>\n",
       "      <td>Corona Extra</td>\n",
       "      <td>119</td>\n",
       "      <td>4.5</td>\n",
       "      <td>Pale Lager - American</td>\n",
       "      <td>https://res.cloudinary.com/ratebeer/image/uplo...</td>\n",
       "    </tr>\n",
       "    <tr>\n",
       "      <th>4</th>\n",
       "      <td>6</td>\n",
       "      <td>1478</td>\n",
       "      <td>2.0</td>\n",
       "      <td>2010-12-29 10:07:17.433000+00:00</td>\n",
       "      <td>1.0</td>\n",
       "      <td>4.0</td>\n",
       "      <td>2.0</td>\n",
       "      <td>5.0</td>\n",
       "      <td>8.0</td>\n",
       "      <td>PapaSkeetSkeet</td>\n",
       "      <td>Stella Artois</td>\n",
       "      <td>260</td>\n",
       "      <td>5.2</td>\n",
       "      <td>Pale Lager - International / Premium</td>\n",
       "      <td>https://res.cloudinary.com/ratebeer/image/uplo...</td>\n",
       "    </tr>\n",
       "  </tbody>\n",
       "</table>\n",
       "</div>"
      ],
      "text/plain": [
       "   user_id  beer_id  review_score                       review_time  \\\n",
       "0        4       37           1.9  2021-07-08 03:31:02.923000+00:00   \n",
       "1        4      709           1.6  2021-01-11 01:47:51.440000+00:00   \n",
       "2        4      473           1.7  2022-05-27 03:50:49.850000+00:00   \n",
       "3        4      742           1.7  2020-10-24 21:25:51.827000+00:00   \n",
       "4        6     1478           2.0  2010-12-29 10:07:17.433000+00:00   \n",
       "\n",
       "   appearance  aroma  palate  taste  overall    profile_name  \\\n",
       "0         3.0    3.0     2.0    3.0      8.0          ZayZay   \n",
       "1         2.0    3.0     1.0    3.0      7.0          ZayZay   \n",
       "2         3.0    3.0     2.0    3.0      6.0          ZayZay   \n",
       "3         2.0    3.0     2.0    3.0      7.0          ZayZay   \n",
       "4         1.0    4.0     2.0    5.0      8.0  PapaSkeetSkeet   \n",
       "\n",
       "           beer_name  brewer_id  abv                                 style  \\\n",
       "0           Heineken          9  5.0  Pale Lager - International / Premium   \n",
       "1  Carlsberg Pilsner         43  4.6             Pilsener / Pils / Pilsner   \n",
       "2          Budweiser         84  5.0                 Pale Lager - American   \n",
       "3       Corona Extra        119  4.5                 Pale Lager - American   \n",
       "4      Stella Artois        260  5.2  Pale Lager - International / Premium   \n",
       "\n",
       "                                           image_url  \n",
       "0  https://res.cloudinary.com/ratebeer/image/uplo...  \n",
       "1  https://res.cloudinary.com/ratebeer/image/uplo...  \n",
       "2  https://res.cloudinary.com/ratebeer/image/uplo...  \n",
       "3  https://res.cloudinary.com/ratebeer/image/uplo...  \n",
       "4  https://res.cloudinary.com/ratebeer/image/uplo...  "
      ]
     },
     "execution_count": 36,
     "metadata": {},
     "output_type": "execute_result"
    }
   ],
   "source": [
    "test_ans.head()"
   ]
  },
  {
   "cell_type": "markdown",
   "id": "97fdf792-4e70-463c-b0e8-f8228dfa03b0",
   "metadata": {},
   "source": [
    "### labelEncoding"
   ]
  },
  {
   "cell_type": "code",
   "execution_count": 37,
   "id": "d854e559-80df-43be-9c1f-1986bb87d91b",
   "metadata": {},
   "outputs": [],
   "source": [
    "user_test_le = LabelEncoder()\n",
    "\n",
    "test_input['user_id_idx'] = user_test_le.fit_transform(test_input['profile_name'].values)\n",
    "test_input['item_id_idx'] = item_le.transform(test_input['beer_id'].values)\n",
    "\n",
    "test_ans['user_id_idx'] = user_test_le.transform(test_ans['profile_name'].values)\n",
    "test_ans['item_id_idx'] = item_le.transform(test_ans['beer_id'].values)\n"
   ]
  },
  {
   "cell_type": "code",
   "execution_count": 38,
   "id": "683d8721-ff7e-42a9-98fc-973d6922a29a",
   "metadata": {},
   "outputs": [],
   "source": [
    "class TestBeerDataset(Dataset):\n",
    "    def __init__(self, input_df, ans_df):\n",
    "        self.input_df = input_df\n",
    "        self.ans_df = ans_df\n",
    "\n",
    "        self.num_items = self.ans_df.item_id_idx.max() + 1\n",
    "        self.num_users = self.ans_df.user_id_idx.nunique()\n",
    "        \n",
    "        # input matrix\n",
    "        self.users = torch.tensor(self.input_df['user_id_idx'].values)\n",
    "        self.items = torch.tensor(self.input_df['item_id_idx'].values)\n",
    "        self.ratings = torch.tensor(self.input_df['review_score'].values)\n",
    "        \n",
    "        self.inter_mat_input = self.make_inter_mat()\n",
    "        \n",
    "        # ans matrix\n",
    "        self.users = torch.tensor(self.ans_df['user_id_idx'].values)\n",
    "        self.items = torch.tensor(self.ans_df['item_id_idx'].values)\n",
    "        self.ratings = torch.tensor(self.ans_df['review_score'].values)\n",
    "        \n",
    "        self.inter_mat_ans = self.make_inter_mat()\n",
    "    \n",
    "    def make_inter_mat(self):\n",
    "        inter_mat = np.zeros((self.num_users, self.num_items))\n",
    "        for user, item, rating in zip(self.users, self.items, self.ratings):\n",
    "            inter_mat[user][item] = rating\n",
    "\n",
    "        return inter_mat\n",
    "\n",
    "    def __len__(self):\n",
    "        # return len(self.users)\n",
    "        return len(self.inter_mat_input)\n",
    "\n",
    "    def __getitem__(self, index):\n",
    "        # inter_mat = torch.tensor(self.inter_mat[self.users[index]]).float()\n",
    "        inter_mat_input = torch.tensor(self.inter_mat_input[index]).float()\n",
    "        inter_mat_ans = torch.tensor(self.inter_mat_ans[index]).float()\n",
    "\n",
    "        return index, inter_mat_input, inter_mat_ans"
   ]
  },
  {
   "cell_type": "markdown",
   "id": "07170d85-4d36-4e3b-9d62-0bf2bdeac6ef",
   "metadata": {},
   "source": [
    "### 평가지표 함수"
   ]
  },
  {
   "cell_type": "code",
   "execution_count": 217,
   "id": "0ebe94ba-f586-4bb0-a26e-91e7fe13327a",
   "metadata": {},
   "outputs": [],
   "source": [
    "def ndcg_k(actual, predicted, topk):\n",
    "    res = 0\n",
    "    for user_id in range(len(actual)):\n",
    "        k = min(topk, len(actual[user_id]))\n",
    "        idcg = idcg_k(k)\n",
    "        dcg_k = sum(\n",
    "            [\n",
    "                int(predicted[user_id][j] in set(actual[user_id])) / math.log(j + 2, 2)\n",
    "                for j in range(topk)\n",
    "            ]\n",
    "        )\n",
    "        res += dcg_k / idcg\n",
    "    return res / float(len(actual))\n",
    "\n",
    "# Calculates the ideal discounted cumulative gain at k\n",
    "def idcg_k(k):\n",
    "    res = sum([1.0 / math.log(i + 2, 2) for i in range(k)])\n",
    "    if not res:\n",
    "        return 1.0\n",
    "    else:\n",
    "        return res\n",
    "\n",
    "def recall_at_k(actual, predicted, topk):\n",
    "    sum_recall = 0.0\n",
    "    num_users = len(predicted)\n",
    "    true_users = 0\n",
    "    for i in range(num_users):\n",
    "        act_set = set(actual[i])\n",
    "        pred_set = set(predicted[i][:topk])\n",
    "        if len(act_set) != 0:\n",
    "            sum_recall += len(act_set & pred_set) / float(len(act_set))\n",
    "            true_users += 1\n",
    "    return sum_recall / true_users"
   ]
  },
  {
   "cell_type": "code",
   "execution_count": 39,
   "id": "a9f7183f-cb9c-4b61-a041-3904542d0b04",
   "metadata": {},
   "outputs": [],
   "source": [
    "def inference(model, test_iter, criterion, device):\n",
    "    \n",
    "    # np.random.seed(42)\n",
    "    \n",
    "    with torch.no_grad():\n",
    "        model.eval()\n",
    "        loss_sum = 0\n",
    "        loss_cal_count = 0\n",
    "        \n",
    "        for _, inter_mat_input, inter_mat_ans in test_iter:\n",
    "            inter_mat_input = inter_mat_input.to(device)\n",
    "            inter_mat_ans = inter_mat_ans.to(device)\n",
    "            \n",
    "#             # matrix 값 중 0보다 큰 값만 추출\n",
    "#             y_for_compute = inter_mat.squeeze().cpu().numpy()\n",
    "#             index = np.where(y_for_compute > 0)[0]\n",
    "            \n",
    "#             # 0보다 큰 값 중 n_val개를 masking\n",
    "#             n_val = min(int(len(index) * 0.1), 3)\n",
    "#             valid_ind = np.random.choice(index, n_val, replace = False)\n",
    "#             y_for_compute[valid_ind] = 0\n",
    "            \n",
    "#             # n_val개 masking 된 input 생성\n",
    "#             masked_input = torch.tensor(y_for_compute).to(device).unsqueeze(0)\n",
    "            \n",
    "#             # 정답지는 input에서 masking 되지 않은 위치를 masking  \n",
    "#             if len(index):\n",
    "#                 # print(len(index))\n",
    "#                 # print(valid_ind)\n",
    "#                 # print(index)\n",
    "#                 mat_masked_idx = np.array([i for i in index if i not in valid_ind]) \n",
    "#                 # print(mat_masked_idx)\n",
    "#                 inter_mat = inter_mat.squeeze().cpu().numpy()\n",
    "#                 inter_mat[mat_masked_idx] = 0\n",
    "#                 inter_mat = torch.tensor(inter_mat).to(device).unsqueeze(0)\n",
    "            \n",
    "            # mask된 input으로 prediction 후 기존 정답 활용 loss값 계산\n",
    "            preds = model(inter_mat_input)\n",
    "            loss = criterion(preds, inter_mat_ans)\n",
    "            \n",
    "            if not np.isnan(loss.cpu().numpy()):\n",
    "                loss_cal_count += 1\n",
    "                loss_sum += loss.item()\n",
    "            \n",
    "        loss_avg = loss_sum / loss_cal_count\n",
    "        print(f'test mse = {loss_avg}')\n",
    "        print(f'test rmse = {loss_avg ** (1/2)}')\n",
    "    return loss_avg"
   ]
  },
  {
   "cell_type": "code",
   "execution_count": 74,
   "id": "b824c518-3699-46d0-b141-298428939d38",
   "metadata": {},
   "outputs": [],
   "source": [
    "# def inference(model, test_iter, test_matrix, device, topk = 4):\n",
    "#     pred_list = None\n",
    "#     answer_list = None\n",
    "#     with torch.no_grad():\n",
    "#         model.eval()\n",
    "\n",
    "#         for i, (user_ids, inter_mat) in enumerate(test_iter):\n",
    "#             inter_mat = inter_mat.to(device)\n",
    "            \n",
    "#             rating_pred = model(inter_mat)\n",
    "            \n",
    "#             rating_pred = rating_pred.cpu().data.numpy().copy()\n",
    "            \n",
    "#             batch_user_index = user_ids.cpu().numpy()\n",
    "#             answers = test_matrix.argsort(axis = 1)[batch_user_index, -topk:][:, ::-1]\n",
    "#             # rating_pred[test_matrix[batch_user_index] > 0] = 0\n",
    "            \n",
    "#             ind = np.argpartition(rating_pred, -topk)[:, -topk:]\n",
    "            \n",
    "#             arr_ind = rating_pred[np.arange(len(rating_pred))[:, None], ind]\n",
    "\n",
    "#             arr_ind_argsort = np.argsort(arr_ind)[np.arange(len(rating_pred)), ::-1]\n",
    "\n",
    "#             batch_pred_list = ind[\n",
    "#                 np.arange(len(rating_pred))[:, None], arr_ind_argsort\n",
    "#             ]\n",
    "\n",
    "#             if i == 0:\n",
    "#                 pred_list = batch_pred_list\n",
    "#                 answer_list = answers\n",
    "#             else:\n",
    "#                 pred_list = np.append(pred_list, batch_pred_list, axis=0)\n",
    "#                 answer_list = np.append(\n",
    "#                         answer_list, answers, axis=0\n",
    "#                 )\n",
    "            \n",
    "#         recall = recall_at_k(answer_list, pred_list, topk)\n",
    "#         ndcg = ndcg_k(answer_list, pred_list, topk)\n",
    "        \n",
    "#         print(f'recall@{topk} = {recall}, ndcg@{topk} = {ndcg}')\n",
    "#     return pred_list, answer_list"
   ]
  },
  {
   "cell_type": "code",
   "execution_count": 40,
   "id": "95a484f1-91ef-497b-87f8-eeac00dac966",
   "metadata": {},
   "outputs": [],
   "source": [
    "device = torch.device('cuda:0' if torch.cuda.is_available() else 'cpu')\n",
    "\n",
    "num_epochs = 50\n",
    "lr = 0.001\n",
    "batch_size = 1\n",
    "\n",
    "num_items = data.item_id_idx.nunique()\n",
    "num_hidden = 500"
   ]
  },
  {
   "cell_type": "code",
   "execution_count": 41,
   "id": "5590df15-498d-453e-b8a0-2a1d321ad8ba",
   "metadata": {},
   "outputs": [],
   "source": [
    "test_dataset = TestBeerDataset(input_df = test_input, ans_df = test_ans)\n",
    "\n",
    "test_dataloader = DataLoader(dataset=test_dataset, batch_size=batch_size, shuffle=False)\n",
    "\n",
    "# test_matrix = test_dataset.inter_mat\n",
    "loss = AutoRec_loss_fn(nn.MSELoss().to(device)).to(device)"
   ]
  },
  {
   "cell_type": "markdown",
   "id": "927a0c6e-626f-499f-9c35-a44f8be81c9e",
   "metadata": {},
   "source": [
    "### inference 수행"
   ]
  },
  {
   "cell_type": "code",
   "execution_count": 42,
   "id": "f079b6e7-fccb-494a-ac5d-bcecab8fcda7",
   "metadata": {},
   "outputs": [
    {
     "name": "stdout",
     "output_type": "stream",
     "text": [
      "test mse = 10.71252084742843\n",
      "test rmse = 3.272998754571781\n"
     ]
    }
   ],
   "source": [
    "# pred_list, answer_list = inference(model, test_dataloader, test_matrix, device, topk=4)\n",
    "# model, test_iter, criterion, device\n",
    "mse = inference(model, test_dataloader, loss, device)"
   ]
  },
  {
   "cell_type": "markdown",
   "id": "4eaa3539-071c-4769-82ff-05d5f4c8ddd3",
   "metadata": {},
   "source": [
    "### 웹사이트 inference"
   ]
  },
  {
   "cell_type": "code",
   "execution_count": 43,
   "id": "d75b8c96-621c-419a-8ae1-9a85fd2153de",
   "metadata": {},
   "outputs": [],
   "source": [
    "kor_beer_list = np.array([ 8666,  75661, 614833, 169964,    251,  10726,   5588,   5571,\n",
    "                        703,   6668,   7656,   2228, 135361,    473,  36249,    709,\n",
    "                        12775, 143730,    742,   4007,  72025,  58275, 221535, 291276,\n",
    "                        2469,   2468, 553454,   1088,    721,  30913,    814,  75071,\n",
    "                        715,   1267,     55,  17334,     37, 493355,  64253,  34662,\n",
    "                        136165, 500620,  13833, 506847,  73158,    399,   5159,   3101,\n",
    "                        315443, 552713, 911382, 906973,    268, 550283, 271470,    390,\n",
    "                        71469,  35424,   4701,   2514,   2516, 288954,    405, 303473,\n",
    "                        136785,    647, 632627,   3029,    717, 553245, 580686, 252000,\n",
    "                        21936, 667837,   2811,    729,  71458, 634182,  86387,   1478,\n",
    "                        146878, 146725, 149060,  15747, 718172,   3126, 480225, 268685,\n",
    "                        730, 211962,  64518, 621308,   7580, 452525,   1417,   1486,\n",
    "                        221])\n",
    "\n",
    "kor_ratebeer = ratebeer[ratebeer['beer_id'].isin(kor_beer_list)]"
   ]
  },
  {
   "cell_type": "code",
   "execution_count": 44,
   "id": "c50ba7ca-75d0-4d9e-9291-e08f0a4ed638",
   "metadata": {},
   "outputs": [
    {
     "data": {
      "text/plain": [
       "count    89498.000000\n",
       "mean         2.760370\n",
       "std          0.944286\n",
       "min          0.500000\n",
       "25%          2.100000\n",
       "50%          2.900000\n",
       "75%          3.500000\n",
       "max          5.000000\n",
       "Name: review_score, dtype: float64"
      ]
     },
     "execution_count": 44,
     "metadata": {},
     "output_type": "execute_result"
    }
   ],
   "source": [
    "kor_ratebeer['review_score'].describe()"
   ]
  },
  {
   "cell_type": "code",
   "execution_count": 45,
   "id": "bdfc9655-e605-4a8c-a1c0-8dfdb424fa16",
   "metadata": {},
   "outputs": [],
   "source": [
    "kor_beer_idx = data[data['item'].isin(kor_beer_list)]['item_id_idx'].unique()"
   ]
  },
  {
   "cell_type": "code",
   "execution_count": 67,
   "id": "69d3bed9-a5ac-4bb8-8651-02ab4c5b2f17",
   "metadata": {},
   "outputs": [
    {
     "name": "stdout",
     "output_type": "stream",
     "text": [
      "[77 71 29 57]\n",
      "[3.7636619 3.0147536 2.554645  2.5545545]\n"
     ]
    }
   ],
   "source": [
    "# 웹사이트 input\n",
    "# x_test = torch.tensor([1.9, 0. , 0. , 1.5, 2.2, 2.1, 3.5, 1.9, 1.4, 3.4, 2.8, 0. , 0. ,\n",
    "#        3.3, 0. , 3.6, 1.7, 1.6, 3.5, 3.8, 2.8, 2.2, 0. , 2.9, 3. , 3. ,\n",
    "#        3.4, 3.3, 0. , 0. , 2. , 2.4, 0. , 1.8, 0. , 2.3, 0. , 0. , 0. ,\n",
    "#        0. , 0. , 0. , 0. , 0. , 0. , 0. , 3.2, 0. , 0. , 0. , 0. , 3. ,\n",
    "#        3.1, 0. , 1.9, 3.7, 2. , 0. , 3.8, 0. , 0. , 0. , 0. , 0. , 0. ,\n",
    "#        0. , 0. , 0. , 0. , 0. , 3. , 1.8, 0. , 0. , 0. , 0. , 0. , 0. ,\n",
    "#        0. , 0. , 0. ]).to(device)\n",
    "\n",
    "num_item = data['item'].nunique()\n",
    "\n",
    "# 한국 맥주 평가\n",
    "rating_list = [5.0, 2.76, 0.5] # 좋아요, 몰라요, 싫어요\n",
    "kor_beer_idx = data[data['item'].isin(kor_beer_list)]['item_id_idx'].unique()\n",
    "show_list = np.random.choice(kor_beer_idx, 29, replace=False) # 임의로 29개 추출\n",
    "not_show_list = set(kor_beer_idx) - set(show_list)\n",
    "x_test = torch.zeros(num_item).to(device) # 0으로 초기화\n",
    "\n",
    "for beer in show_list:\n",
    "    x_test[beer] = random.choice(rating_list) # 29개에 대해서 임의로 평가\n",
    "    \n",
    "# for beer in not_show_list:\n",
    "#     x_test[beer] = rating_list[1] # 나머지는 몰라요로 배정\n",
    "    \n",
    "# show_df = data[data['item_id_idx'].isin(show_list)]\n",
    "\n",
    "# 나머지 맥주 중 일부 평가\n",
    "not_kor_rating_list = [5.0, 3.37, 0.5]\n",
    "not_kor_idx = np.delete(np.arange(num_item), kor_beer_idx)\n",
    "not_kor_choice = np.random.randint(int(len(not_kor_idx) * 0.3))\n",
    "not_kor_list = np.random.choice(not_kor_idx, not_kor_choice , replace=False) \n",
    "\n",
    "for beer in not_kor_list:\n",
    "    x_test[beer] = random.choice(not_kor_rating_list)\n",
    "\n",
    "# for i in not_show_list:\n",
    "#     style = data[data['item_id_idx'] == i]['label'].unique()[0]\n",
    "#     rating = show_df[show_df['label'] == style]['rating'].mean()\n",
    "    \n",
    "#     if np.isnan(rating):\n",
    "#         rating = rating_list[1] # style로 점수를 채울 수 없는 경우 몰라요로 채운다\n",
    "#     x_test[i] = rating\n",
    "#     # print(rating)\n",
    "\n",
    "# 추천 맥주 개수\n",
    "topk = 4\n",
    "\n",
    "# 모델 에측 맥주 평점\n",
    "rating_pred = model(x_test)\n",
    "\n",
    "rating_pred = rating_pred.cpu().data.numpy().copy()\n",
    "# print(rating_pred)\n",
    "\n",
    "rating_pred = rating_pred[kor_beer_idx]\n",
    "x_test = x_test[kor_beer_idx]\n",
    "# batch_user_index = user_ids.cpu().numpy()\n",
    "\n",
    "\n",
    "answers = x_test.cpu().numpy().argsort()[-topk:][::-1]\n",
    "# print(answers)\n",
    "\n",
    "# user가 리뷰를 남긴 맥주 추천하고 싶지 않을 때 사용\n",
    "\n",
    "# if novelty:\n",
    "# 좋아요, 싫어요로 직접 평가한 맥주는 다시 추천하지 않도록 설정\n",
    "rating_pred[x_test.cpu().numpy() == rating_list[0]] = 0\n",
    "rating_pred[x_test.cpu().numpy() == rating_list[2]] = 0\n",
    "# print(rating_pred)\n",
    "\n",
    "# topk 맥주 index\n",
    "ind = np.argpartition(rating_pred, -topk)[-topk:]\n",
    "# print(ind)\n",
    "\n",
    "# topk 맥주 index별 평점\n",
    "arr_ind = rating_pred[ind]\n",
    "# print(arr_ind)\n",
    "\n",
    "# 평점 기준으로 내림차순으로 정렬\n",
    "arr_ind_argsort = np.argsort(arr_ind)[::-1]\n",
    "# print(arr_ind_argsort)\n",
    "\n",
    "# rating 내림차순 모델 예측 topk 맥주 index \n",
    "topk_pred_list = ind[arr_ind_argsort]\n",
    "print(topk_pred_list)\n",
    "\n",
    "# rating 내림차순 모델 예측 맥주 평점 중 topk개\n",
    "topk_rating_list = rating_pred[topk_pred_list] #rating_pred[np.arange(len(rating_pred))[:, None], ind]\n",
    "print(topk_rating_list)"
   ]
  },
  {
   "cell_type": "code",
   "execution_count": 48,
   "id": "3bc6f34e-9951-4feb-8035-722319024bc9",
   "metadata": {},
   "outputs": [
    {
     "data": {
      "text/plain": [
       "array([36,  2, 72, 73])"
      ]
     },
     "execution_count": 48,
     "metadata": {},
     "output_type": "execute_result"
    }
   ],
   "source": [
    "# 모델 예측 선호 맥주 top4\n",
    "topk_pred_list"
   ]
  },
  {
   "cell_type": "code",
   "execution_count": 49,
   "id": "11f57e89-f6fd-4a3d-a989-4b2b229768e3",
   "metadata": {},
   "outputs": [
    {
     "data": {
      "text/plain": [
       "array([ 5, 77,  7, 24])"
      ]
     },
     "execution_count": 49,
     "metadata": {},
     "output_type": "execute_result"
    }
   ],
   "source": [
    "# 유저 실제 선호 맥주 top4\n",
    "answers"
   ]
  },
  {
   "cell_type": "code",
   "execution_count": 50,
   "id": "b30f5bdb-4698-47b6-8246-bba8660ac7fc",
   "metadata": {},
   "outputs": [
    {
     "data": {
      "text/plain": [
       "array([3.0398955, 2.9227989, 2.8305037, 2.7788756], dtype=float32)"
      ]
     },
     "execution_count": 50,
     "metadata": {},
     "output_type": "execute_result"
    }
   ],
   "source": [
    "rating_pred[topk_pred_list]"
   ]
  },
  {
   "cell_type": "code",
   "execution_count": 51,
   "id": "ff0240f1-a8af-4232-9094-422768412b90",
   "metadata": {},
   "outputs": [
    {
     "name": "stdout",
     "output_type": "stream",
     "text": [
      "good\n",
      "[0.0, 0.0, 0.0, 0.0, 0.0, 0.0, 0.0]\n",
      "\n",
      "unknown\n",
      "[2.9227989, 2.8305037, 2.7788756, 2.7147346, 2.6055615, 2.5489516, 2.3054063, 2.1003706, 1.9412622, 1.7740058, 1.7529994, 1.4333315, 1.3288282, 1.2462828]\n",
      "\n",
      "bad\n",
      "[0.0, 0.0, 0.0, 0.0, 0.0, 0.0, 0.0, 0.0]\n",
      "\n"
     ]
    }
   ],
   "source": [
    "label_list = ['good', 'unknown', 'bad']\n",
    "\n",
    "for i, rating in enumerate(rating_list):\n",
    "    print(label_list[i])\n",
    "    print(list(sorted([rating_pred[i] for i in np.where(x_test.cpu().numpy() == rating)[0]], reverse=True)))\n",
    "    print()"
   ]
  },
  {
   "cell_type": "code",
   "execution_count": 52,
   "id": "e557d852-5b65-4b47-be97-e3184535d82b",
   "metadata": {},
   "outputs": [
    {
     "data": {
      "image/png": "[encoded data removed]",
      "text/plain": [
       "<Figure size 720x360 with 1 Axes>"
      ]
     },
     "metadata": {
      "needs_background": "light"
     },
     "output_type": "display_data"
    }
   ],
   "source": [
    "label_list = ['good', 'unknown', 'bad']\n",
    "\n",
    "fig, ax = plt.subplots(1, 1, figsize=(10, 5))\n",
    "\n",
    "for i, rating in enumerate(rating_list):\n",
    "    \n",
    "    ax = sns.kdeplot(sorted([rating_pred[i] for i in np.where(x_test.cpu().numpy() == rating)[0]], reverse=True), label = label_list[i], fill = True)\n",
    "\n",
    "plt.legend()\n",
    "plt.show()"
   ]
  },
  {
   "cell_type": "code",
   "execution_count": 53,
   "id": "bcbf81ba-6bde-4716-bd16-706bd7c7633c",
   "metadata": {},
   "outputs": [
    {
     "data": {
      "text/plain": [
       "<AxesSubplot:ylabel='Count'>"
      ]
     },
     "execution_count": 53,
     "metadata": {},
     "output_type": "execute_result"
    },
    {
     "data": {
      "image/png": "[encoded data removed]",
      "text/plain": [
       "<Figure size 432x288 with 1 Axes>"
      ]
     },
     "metadata": {
      "needs_background": "light"
     },
     "output_type": "display_data"
    }
   ],
   "source": [
    "sns.histplot(x_test.cpu().numpy(), bins = 10)"
   ]
  },
  {
   "cell_type": "code",
   "execution_count": 54,
   "id": "c65b32b9-bebf-42ac-9fec-e992862357db",
   "metadata": {},
   "outputs": [
    {
     "data": {
      "text/plain": [
       "<AxesSubplot:ylabel='Count'>"
      ]
     },
     "execution_count": 54,
     "metadata": {},
     "output_type": "execute_result"
    },
    {
     "data": {
      "image/png": "[encoded data removed]",
      "text/plain": [
       "<Figure size 432x288 with 1 Axes>"
      ]
     },
     "metadata": {
      "needs_background": "light"
     },
     "output_type": "display_data"
    }
   ],
   "source": [
    "sns.histplot(rating_pred)"
   ]
  },
  {
   "cell_type": "code",
   "execution_count": 55,
   "id": "b6f3abd2-16da-4e7d-8d4c-d55bca913da1",
   "metadata": {},
   "outputs": [
    {
     "data": {
      "text/plain": [
       "array([ 1.9412622 ,  1.2497739 ,  2.9227989 ,  2.7147346 ,  0.        ,\n",
       "        0.        ,  0.8776129 ,  0.        ,  0.03921056,  1.2874862 ,\n",
       "        1.0293188 ,  0.27263722,  0.5489854 ,  0.8581615 , -0.57191944,\n",
       "        2.3054063 , -0.07447043,  0.4655293 ,  0.        ,  1.6647602 ,\n",
       "        1.1787766 ,  0.        ,  0.17413333,  1.2462828 ,  0.        ,\n",
       "        0.67583466,  0.10709962,  0.5543622 ,  0.4457549 ,  0.        ,\n",
       "        1.5969176 ,  0.6027727 ,  0.3984475 , -0.13832504,  0.44914764,\n",
       "        0.44094363,  3.0398955 ,  0.18583575,  0.29570404,  0.2800481 ,\n",
       "        0.        ,  0.28286466,  0.23659657,  0.94545025,  0.41702974,\n",
       "        2.5489516 ,  2.2324717 ,  1.2650468 ,  1.2121959 , -0.09930912,\n",
       "        1.2759106 ,  0.32567853,  2.6055615 ,  0.8196899 ,  1.5395788 ,\n",
       "        1.7740058 ,  0.6194796 ,  0.        ,  0.        ,  1.4120693 ,\n",
       "        0.89250815,  1.4065809 ,  2.3865144 ,  0.        , -0.50080794,\n",
       "        1.3288282 ,  0.51201123,  1.6383919 ,  0.        ,  1.2926027 ,\n",
       "        2.1003706 ,  0.        ,  2.8305037 ,  2.7788756 ,  0.2718923 ,\n",
       "        1.1002866 ,  1.7529994 ,  0.        ,  0.        ,  1.9177642 ,\n",
       "       -0.02747407,  1.7174882 ,  1.4333315 ], dtype=float32)"
      ]
     },
     "execution_count": 55,
     "metadata": {},
     "output_type": "execute_result"
    }
   ],
   "source": [
    "# 모델 예측 rating 점수\n",
    "rating_pred"
   ]
  },
  {
   "cell_type": "code",
   "execution_count": 56,
   "id": "c1f9edd6-a542-4479-9be5-6348791a9ef1",
   "metadata": {},
   "outputs": [
    {
     "data": {
      "text/plain": [
       "tensor([2.7600, 0.0000, 2.7600, 2.7600, 0.5000, 5.0000, 0.0000, 5.0000, 0.0000,\n",
       "        0.0000, 0.0000, 0.0000, 0.0000, 0.0000, 0.0000, 2.7600, 0.0000, 0.0000,\n",
       "        0.5000, 0.0000, 0.0000, 0.5000, 0.0000, 2.7600, 5.0000, 0.0000, 0.0000,\n",
       "        0.0000, 0.0000, 0.5000, 0.0000, 0.0000, 0.0000, 0.0000, 0.0000, 0.0000,\n",
       "        0.0000, 0.0000, 0.0000, 0.0000, 0.5000, 0.0000, 0.0000, 0.0000, 0.0000,\n",
       "        2.7600, 0.0000, 0.0000, 0.0000, 0.0000, 0.0000, 0.0000, 2.7600, 0.0000,\n",
       "        0.0000, 2.7600, 0.0000, 5.0000, 5.0000, 0.0000, 0.0000, 0.0000, 0.0000,\n",
       "        0.5000, 0.0000, 2.7600, 0.0000, 0.0000, 0.5000, 0.0000, 2.7600, 5.0000,\n",
       "        2.7600, 2.7600, 0.0000, 0.0000, 2.7600, 5.0000, 0.5000, 0.0000, 0.0000,\n",
       "        0.0000, 2.7600], device='cuda:0')"
      ]
     },
     "execution_count": 56,
     "metadata": {},
     "output_type": "execute_result"
    }
   ],
   "source": [
    "x_test"
   ]
  },
  {
   "cell_type": "code",
   "execution_count": 57,
   "id": "ad5e0207-b8de-469b-8326-d857ca34f03d",
   "metadata": {},
   "outputs": [
    {
     "data": {
      "text/plain": [
       "array([  23,   37,  132,  148,  159,  201,  205,  210,  258,  364,  405,\n",
       "        410,  414,  415,  417,  419,  420,  432,  450,  553,  673, 6651,\n",
       "        692,  695, 9329, 4851,  866,  981,  982, 1001, 1003, 4887, 1078,\n",
       "       1128, 1144, 1147, 4925, 1339, 9039, 1503, 1612, 1697, 1705, 9073,\n",
       "       6653, 9319, 6687, 9323, 1945, 2170, 6741, 2186,  612, 6814, 9334,\n",
       "       6836, 2835, 9335, 6283, 9330, 9320, 9235, 3546, 9238, 3722, 9254,\n",
       "       4665, 9326, 7342, 9328, 4051, 9322, 9321, 9332, 6012, 9327, 9324,\n",
       "       9331, 9325, 9333, 6277, 3338, 2422])"
      ]
     },
     "execution_count": 57,
     "metadata": {},
     "output_type": "execute_result"
    }
   ],
   "source": [
    "kor_beer_idx"
   ]
  },
  {
   "cell_type": "code",
   "execution_count": 58,
   "id": "023d5a6a-a58b-4e8a-b944-f7f607f7c4cb",
   "metadata": {},
   "outputs": [
    {
     "data": {
      "text/plain": [
       "array(['https://res.cloudinary.com/ratebeer/image/upload/w_400,c_limit,d_Default_Beer_qqrv7k.png,f_auto/beer_221',\n",
       "       'https://res.cloudinary.com/ratebeer/image/upload/w_400,c_limit,d_Default_Beer_qqrv7k.png,f_auto/beer_36249',\n",
       "       'https://res.cloudinary.com/ratebeer/image/upload/w_400,c_limit,d_Default_Beer_qqrv7k.png,f_auto/beer_221535',\n",
       "       'https://res.cloudinary.com/ratebeer/image/upload/w_400,c_limit,d_Default_Beer_qqrv7k.png,f_auto/beer_614833'],\n",
       "      dtype=object)"
      ]
     },
     "execution_count": 58,
     "metadata": {},
     "output_type": "execute_result"
    }
   ],
   "source": [
    "# image url\n",
    "data[data['item_id_idx'].isin(kor_beer_idx[topk_pred_list])]['image_url'].unique()"
   ]
  },
  {
   "cell_type": "code",
   "execution_count": 59,
   "id": "468b0d25-c614-467e-ab62-63a9b586169e",
   "metadata": {},
   "outputs": [
    {
     "data": {
      "text/plain": [
       "array([   221,  36249, 221535, 614833])"
      ]
     },
     "execution_count": 59,
     "metadata": {},
     "output_type": "execute_result"
    }
   ],
   "source": [
    "# 맥주 이름\n",
    "data[data['item_id_idx'].isin(kor_beer_idx[topk_pred_list])]['item'].unique()"
   ]
  },
  {
   "cell_type": "markdown",
   "id": "2696b346-a8d0-43eb-b0c2-270dad50c4d4",
   "metadata": {},
   "source": [
    "### 평가지표 점수"
   ]
  },
  {
   "cell_type": "code",
   "execution_count": 141,
   "id": "4e81f064-cf8e-4188-bcd0-905ef1d81419",
   "metadata": {},
   "outputs": [],
   "source": [
    "def ndcg_k_inf(actual, predicted, topk):\n",
    "    res = 0\n",
    "    k = min(topk, len(actual))\n",
    "    idcg = idcg_k(k)\n",
    "    dcg_k = sum(\n",
    "        [\n",
    "            int(predicted[j] in set(actual)) / math.log(j + 2, 2)\n",
    "            for j in range(topk)\n",
    "        ]\n",
    "    )\n",
    "    res += dcg_k / idcg\n",
    "    return res / float(len(actual))\n",
    "\n",
    "# Calculates the ideal discounted cumulative gain at k\n",
    "def idcg_k(k):\n",
    "    res = sum([1.0 / math.log(i + 2, 2) for i in range(k)])\n",
    "    if not res:\n",
    "        return 1.0\n",
    "    else:\n",
    "        return res\n",
    "\n",
    "def recall_at_k_inf(actual, predicted, topk):\n",
    "    act_set = set(actual)\n",
    "    pred_set = set(predicted[:topk])\n",
    "    if len(act_set) != 0:\n",
    "        sum_recall = len(act_set & pred_set) / float(len(act_set))\n",
    "        \n",
    "    return sum_recall"
   ]
  },
  {
   "cell_type": "code",
   "execution_count": 142,
   "id": "6ceded6d-5fd8-4038-844c-918bdf15c77f",
   "metadata": {},
   "outputs": [
    {
     "data": {
      "text/plain": [
       "0.0"
      ]
     },
     "execution_count": 142,
     "metadata": {},
     "output_type": "execute_result"
    }
   ],
   "source": [
    "recall_at_k_inf(answers, topk_pred_list, 4)"
   ]
  },
  {
   "cell_type": "code",
   "execution_count": 143,
   "id": "f9b9cb9a-5b0f-4477-9a7e-8a8caa35a1c0",
   "metadata": {},
   "outputs": [
    {
     "data": {
      "text/plain": [
       "0.0"
      ]
     },
     "execution_count": 143,
     "metadata": {},
     "output_type": "execute_result"
    }
   ],
   "source": [
    "ndcg_k_inf(answers, topk_pred_list, 4)"
   ]
  },
  {
   "cell_type": "code",
   "execution_count": 144,
   "id": "6d8a63f7-b824-4a2b-95fc-d0eee870e298",
   "metadata": {},
   "outputs": [
    {
     "data": {
      "text/html": [
       "<div>\n",
       "<style scoped>\n",
       "    .dataframe tbody tr th:only-of-type {\n",
       "        vertical-align: middle;\n",
       "    }\n",
       "\n",
       "    .dataframe tbody tr th {\n",
       "        vertical-align: top;\n",
       "    }\n",
       "\n",
       "    .dataframe thead th {\n",
       "        text-align: right;\n",
       "    }\n",
       "</style>\n",
       "<table border=\"1\" class=\"dataframe\">\n",
       "  <thead>\n",
       "    <tr style=\"text-align: right;\">\n",
       "      <th></th>\n",
       "      <th>item</th>\n",
       "      <th>user</th>\n",
       "      <th>rating</th>\n",
       "      <th>imageUrl</th>\n",
       "      <th>user/reviewcount</th>\n",
       "      <th>user_id_idx</th>\n",
       "      <th>item_id_idx</th>\n",
       "    </tr>\n",
       "  </thead>\n",
       "  <tbody>\n",
       "    <tr>\n",
       "      <th>0</th>\n",
       "      <td>75661</td>\n",
       "      <td>Grzesiek79</td>\n",
       "      <td>1.3</td>\n",
       "      <td>https://res.cloudinary.com/ratebeer/image/uplo...</td>\n",
       "      <td>55</td>\n",
       "      <td>3051</td>\n",
       "      <td>56</td>\n",
       "    </tr>\n",
       "    <tr>\n",
       "      <th>1</th>\n",
       "      <td>75661</td>\n",
       "      <td>GriZZZly</td>\n",
       "      <td>2.7</td>\n",
       "      <td>https://res.cloudinary.com/ratebeer/image/uplo...</td>\n",
       "      <td>13</td>\n",
       "      <td>3028</td>\n",
       "      <td>56</td>\n",
       "    </tr>\n",
       "    <tr>\n",
       "      <th>2</th>\n",
       "      <td>75661</td>\n",
       "      <td>bdleedahl</td>\n",
       "      <td>3.3</td>\n",
       "      <td>https://res.cloudinary.com/ratebeer/image/uplo...</td>\n",
       "      <td>31</td>\n",
       "      <td>8450</td>\n",
       "      <td>56</td>\n",
       "    </tr>\n",
       "    <tr>\n",
       "      <th>3</th>\n",
       "      <td>75661</td>\n",
       "      <td>DoctorHU</td>\n",
       "      <td>2.6</td>\n",
       "      <td>https://res.cloudinary.com/ratebeer/image/uplo...</td>\n",
       "      <td>48</td>\n",
       "      <td>2153</td>\n",
       "      <td>56</td>\n",
       "    </tr>\n",
       "    <tr>\n",
       "      <th>4</th>\n",
       "      <td>75661</td>\n",
       "      <td>McTapps</td>\n",
       "      <td>2.5</td>\n",
       "      <td>https://res.cloudinary.com/ratebeer/image/uplo...</td>\n",
       "      <td>49</td>\n",
       "      <td>4783</td>\n",
       "      <td>56</td>\n",
       "    </tr>\n",
       "    <tr>\n",
       "      <th>...</th>\n",
       "      <td>...</td>\n",
       "      <td>...</td>\n",
       "      <td>...</td>\n",
       "      <td>...</td>\n",
       "      <td>...</td>\n",
       "      <td>...</td>\n",
       "      <td>...</td>\n",
       "    </tr>\n",
       "    <tr>\n",
       "      <th>93615</th>\n",
       "      <td>703</td>\n",
       "      <td>Bov</td>\n",
       "      <td>3.0</td>\n",
       "      <td>https://res.cloudinary.com/ratebeer/image/uplo...</td>\n",
       "      <td>46</td>\n",
       "      <td>1215</td>\n",
       "      <td>10</td>\n",
       "    </tr>\n",
       "    <tr>\n",
       "      <th>93616</th>\n",
       "      <td>703</td>\n",
       "      <td>sallyclub99</td>\n",
       "      <td>4.2</td>\n",
       "      <td>https://res.cloudinary.com/ratebeer/image/uplo...</td>\n",
       "      <td>7</td>\n",
       "      <td>15196</td>\n",
       "      <td>10</td>\n",
       "    </tr>\n",
       "    <tr>\n",
       "      <th>93617</th>\n",
       "      <td>703</td>\n",
       "      <td>kublai3</td>\n",
       "      <td>2.7</td>\n",
       "      <td>https://res.cloudinary.com/ratebeer/image/uplo...</td>\n",
       "      <td>6</td>\n",
       "      <td>12689</td>\n",
       "      <td>10</td>\n",
       "    </tr>\n",
       "    <tr>\n",
       "      <th>93618</th>\n",
       "      <td>703</td>\n",
       "      <td>Aubrey</td>\n",
       "      <td>3.3</td>\n",
       "      <td>https://res.cloudinary.com/ratebeer/image/uplo...</td>\n",
       "      <td>23</td>\n",
       "      <td>520</td>\n",
       "      <td>10</td>\n",
       "    </tr>\n",
       "    <tr>\n",
       "      <th>93619</th>\n",
       "      <td>703</td>\n",
       "      <td>roland</td>\n",
       "      <td>3.3</td>\n",
       "      <td>https://res.cloudinary.com/ratebeer/image/uplo...</td>\n",
       "      <td>5</td>\n",
       "      <td>15050</td>\n",
       "      <td>10</td>\n",
       "    </tr>\n",
       "  </tbody>\n",
       "</table>\n",
       "<p>93620 rows × 7 columns</p>\n",
       "</div>"
      ],
      "text/plain": [
       "        item         user  rating  \\\n",
       "0      75661   Grzesiek79     1.3   \n",
       "1      75661     GriZZZly     2.7   \n",
       "2      75661    bdleedahl     3.3   \n",
       "3      75661     DoctorHU     2.6   \n",
       "4      75661      McTapps     2.5   \n",
       "...      ...          ...     ...   \n",
       "93615    703          Bov     3.0   \n",
       "93616    703  sallyclub99     4.2   \n",
       "93617    703      kublai3     2.7   \n",
       "93618    703       Aubrey     3.3   \n",
       "93619    703       roland     3.3   \n",
       "\n",
       "                                                imageUrl  user/reviewcount  \\\n",
       "0      https://res.cloudinary.com/ratebeer/image/uplo...                55   \n",
       "1      https://res.cloudinary.com/ratebeer/image/uplo...                13   \n",
       "2      https://res.cloudinary.com/ratebeer/image/uplo...                31   \n",
       "3      https://res.cloudinary.com/ratebeer/image/uplo...                48   \n",
       "4      https://res.cloudinary.com/ratebeer/image/uplo...                49   \n",
       "...                                                  ...               ...   \n",
       "93615  https://res.cloudinary.com/ratebeer/image/uplo...                46   \n",
       "93616  https://res.cloudinary.com/ratebeer/image/uplo...                 7   \n",
       "93617  https://res.cloudinary.com/ratebeer/image/uplo...                 6   \n",
       "93618  https://res.cloudinary.com/ratebeer/image/uplo...                23   \n",
       "93619  https://res.cloudinary.com/ratebeer/image/uplo...                 5   \n",
       "\n",
       "       user_id_idx  item_id_idx  \n",
       "0             3051           56  \n",
       "1             3028           56  \n",
       "2             8450           56  \n",
       "3             2153           56  \n",
       "4             4783           56  \n",
       "...            ...          ...  \n",
       "93615         1215           10  \n",
       "93616        15196           10  \n",
       "93617        12689           10  \n",
       "93618          520           10  \n",
       "93619        15050           10  \n",
       "\n",
       "[93620 rows x 7 columns]"
      ]
     },
     "execution_count": 144,
     "metadata": {},
     "output_type": "execute_result"
    }
   ],
   "source": [
    "data"
   ]
  },
  {
   "cell_type": "code",
   "execution_count": 40,
   "id": "454bb394-0e01-4e4e-803e-818850a8f3f1",
   "metadata": {},
   "outputs": [],
   "source": [
    "data.to_csv('../data/ratebeer_label_encoding.csv', index = False)"
   ]
  },
  {
   "cell_type": "markdown",
   "id": "28cb9117-0a85-4f3f-9c05-97d01377f756",
   "metadata": {},
   "source": [
    "### 리뷰 수 별 loss값 비교"
   ]
  },
  {
   "cell_type": "code",
   "execution_count": null,
   "id": "96cd28b0-b225-4029-a3f0-5f3908c90fb6",
   "metadata": {},
   "outputs": [],
   "source": [
    "train Loss: 0.1429, test Loss: 0.3887, test rmse = 0.9741268377904415\n",
    "train Loss: 0.1597, test Loss: 0.3982, test rmse = 0.9178506077363462\n",
    "train Loss: 0.1498, test Loss: 0.3815, test rmse = 0.9185960203148705\n",
    "train Loss: 0.1526, test Loss: 0.3700, test rmse = 0.8679648307799166\n",
    "train Loss: 0.1647, test Loss: 0.3780, test rmse = 0.78464359338185\n",
    "train Loss: 0.1535, test Loss: 0.3589, test rmse = 0.8115433694417444\n",
    "train Loss: 0.1555, test Loss: 0.3459, test rmse = 0.8043579343771801"
   ]
  },
  {
   "cell_type": "code",
   "execution_count": 222,
   "id": "16aa1555-d69e-45a4-adf5-cf6a5f3cf107",
   "metadata": {},
   "outputs": [],
   "source": [
    "train_loss_list = [0.1429, 0.1597, 0.1498, 0.1526, 0.1647, 0.1535, 0.1555]\n",
    "valid_loss_list = [0.3887, 0.3982, 0.3815, 0.3700, 0.3780, 0.3589, 0.3459]\n",
    "test_loss_list = [0.9741, 0.9179, 0.9186, 0.8680, 0.7846, 0.8115, 0.8044]\n",
    "review_n = [i for i in range(4, 11)]"
   ]
  },
  {
   "cell_type": "code",
   "execution_count": 224,
   "id": "a8b27c6a-f94b-4fe6-9ebd-4bcb9de9145c",
   "metadata": {},
   "outputs": [],
   "source": [
    "train_loss_list = [i ** (1/2) for i in train_loss_list]\n",
    "valid_loss_list = [i ** (1/2) for i in valid_loss_list]"
   ]
  },
  {
   "cell_type": "code",
   "execution_count": 228,
   "id": "e4c53aaf-ef6f-4744-813d-1d68f239ddb6",
   "metadata": {},
   "outputs": [
    {
     "data": {
      "text/plain": [
       "[0.378021163428716,\n",
       " 0.3996248240537617,\n",
       " 0.38704004960727256,\n",
       " 0.3906404996924922,\n",
       " 0.4058324777540605,\n",
       " 0.39179076048319467,\n",
       " 0.39433488306260706]"
      ]
     },
     "execution_count": 228,
     "metadata": {},
     "output_type": "execute_result"
    }
   ],
   "source": [
    "train_loss_list"
   ]
  },
  {
   "cell_type": "code",
   "execution_count": 227,
   "id": "1739b0c3-5323-4e9c-b70c-07b8084b49aa",
   "metadata": {},
   "outputs": [
    {
     "data": {
      "text/plain": [
       "[0.6234580980306536,\n",
       " 0.63103090257134,\n",
       " 0.6176568626672904,\n",
       " 0.6082762530298219,\n",
       " 0.6148170459575759,\n",
       " 0.5990826320300063,\n",
       " 0.5881326381013045]"
      ]
     },
     "execution_count": 227,
     "metadata": {},
     "output_type": "execute_result"
    }
   ],
   "source": [
    "valid_loss_list"
   ]
  },
  {
   "cell_type": "code",
   "execution_count": 226,
   "id": "beaf9be8-6e56-4941-adda-b2ad13044f5e",
   "metadata": {},
   "outputs": [
    {
     "data": {
      "image/png": "[encoded data removed]",
      "text/plain": [
       "<Figure size 720x360 with 1 Axes>"
      ]
     },
     "metadata": {
      "needs_background": "light"
     },
     "output_type": "display_data"
    }
   ],
   "source": [
    "plt.figure(figsize=(10,5))\n",
    "plt.plot(train_loss_list,label=\"train_rmse\")\n",
    "plt.plot(valid_loss_list,label=\"val_rmse\")\n",
    "plt.plot(test_loss_list,label=\"test_rmse\")\n",
    "plt.xlabel(\"epoch\")\n",
    "plt.ylabel(\"rmse\")\n",
    "plt.legend()\n",
    "plt.show()"
   ]
  },
  {
   "cell_type": "code",
   "execution_count": null,
   "id": "83f1f813-2c8d-485e-a582-ec983813cd7f",
   "metadata": {},
   "outputs": [],
   "source": []
  }
 ],
 "metadata": {
  "kernelspec": {
   "display_name": "beer",
   "language": "python",
   "name": "beer"
  },
  "language_info": {
   "codemirror_mode": {
    "name": "ipython",
    "version": 3
   },
   "file_extension": ".py",
   "mimetype": "text/x-python",
   "name": "python",
   "nbconvert_exporter": "python",
   "pygments_lexer": "ipython3",
   "version": "3.8.13"
  }
 },
 "nbformat": 4,
 "nbformat_minor": 5
}
