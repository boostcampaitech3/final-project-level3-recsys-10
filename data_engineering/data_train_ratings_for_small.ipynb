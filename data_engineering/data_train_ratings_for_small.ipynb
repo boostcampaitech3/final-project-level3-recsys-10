{
 "cells": [
  {
   "cell_type": "code",
   "execution_count": 18,
   "metadata": {},
   "outputs": [],
   "source": [
    "import os\n",
    "import pandas as pd\n",
    "import numpy as np"
   ]
  },
  {
   "cell_type": "markdown",
   "metadata": {},
   "source": [
    "### 원본 학습 데이터 불러오기"
   ]
  },
  {
   "cell_type": "code",
   "execution_count": 32,
   "metadata": {},
   "outputs": [],
   "source": [
    "data_dir = \"../data\"\n",
    "preprocessed_output_dir = \"../data/train-small\" # where to be saved\n",
    "standard = \"../data/standard\" # where to be loaded"
   ]
  },
  {
   "cell_type": "code",
   "execution_count": 33,
   "metadata": {},
   "outputs": [],
   "source": [
    "data_df = pd.read_csv(os.path.join(standard, \"train_ratebeer_without_text.csv\"))"
   ]
  },
  {
   "cell_type": "code",
   "execution_count": 34,
   "metadata": {},
   "outputs": [],
   "source": [
    "target_beer_df = pd.read_csv(\"/opt/ml/workspace/final-project-level3-recsys-10/data/db_files/db_target_beer.csv\")\n",
    "target_beer_list = target_beer_df[\"beer_id\"].astype(int).tolist()"
   ]
  },
  {
   "cell_type": "code",
   "execution_count": 35,
   "metadata": {},
   "outputs": [
    {
     "data": {
      "text/plain": [
       "user_id\n",
       "604      5999\n",
       "568      5832\n",
       "603      5517\n",
       "562      5159\n",
       "595      5121\n",
       "         ... \n",
       "18617       1\n",
       "42218       1\n",
       "42217       1\n",
       "42216       1\n",
       "60585       1\n",
       "Length: 54528, dtype: int64"
      ]
     },
     "execution_count": 35,
     "metadata": {},
     "output_type": "execute_result"
    }
   ],
   "source": [
    "data_df.value_counts(\"user_id\")"
   ]
  },
  {
   "cell_type": "code",
   "execution_count": 36,
   "metadata": {},
   "outputs": [
    {
     "data": {
      "text/html": [
       "<div>\n",
       "<style scoped>\n",
       "    .dataframe tbody tr th:only-of-type {\n",
       "        vertical-align: middle;\n",
       "    }\n",
       "\n",
       "    .dataframe tbody tr th {\n",
       "        vertical-align: top;\n",
       "    }\n",
       "\n",
       "    .dataframe thead th {\n",
       "        text-align: right;\n",
       "    }\n",
       "</style>\n",
       "<table border=\"1\" class=\"dataframe\">\n",
       "  <thead>\n",
       "    <tr style=\"text-align: right;\">\n",
       "      <th></th>\n",
       "      <th>review_score</th>\n",
       "      <th>review_time</th>\n",
       "      <th>appearance</th>\n",
       "      <th>aroma</th>\n",
       "      <th>palate</th>\n",
       "      <th>taste</th>\n",
       "      <th>overall</th>\n",
       "      <th>profile_name</th>\n",
       "      <th>beer_name</th>\n",
       "      <th>beer_id</th>\n",
       "      <th>brewer_id</th>\n",
       "      <th>abv</th>\n",
       "      <th>style</th>\n",
       "      <th>image_url</th>\n",
       "      <th>user_id</th>\n",
       "    </tr>\n",
       "  </thead>\n",
       "  <tbody>\n",
       "    <tr>\n",
       "      <th>89385</th>\n",
       "      <td>2.8</td>\n",
       "      <td>2001-09-12T09:13:12.000Z</td>\n",
       "      <td>4.0</td>\n",
       "      <td>7.0</td>\n",
       "      <td>3.0</td>\n",
       "      <td>7.0</td>\n",
       "      <td>7.0</td>\n",
       "      <td>jbrus</td>\n",
       "      <td>Ambar Especial</td>\n",
       "      <td>8666</td>\n",
       "      <td>1474</td>\n",
       "      <td>5.2</td>\n",
       "      <td>Pale Lager - International / Premium</td>\n",
       "      <td>https://res.cloudinary.com/ratebeer/image/uplo...</td>\n",
       "      <td>2009</td>\n",
       "    </tr>\n",
       "    <tr>\n",
       "      <th>89386</th>\n",
       "      <td>1.6</td>\n",
       "      <td>2001-08-11T14:31:27.000Z</td>\n",
       "      <td>3.0</td>\n",
       "      <td>2.0</td>\n",
       "      <td>2.0</td>\n",
       "      <td>3.0</td>\n",
       "      <td>6.0</td>\n",
       "      <td>Bov</td>\n",
       "      <td>Ambar Especial</td>\n",
       "      <td>8666</td>\n",
       "      <td>1474</td>\n",
       "      <td>5.2</td>\n",
       "      <td>Pale Lager - International / Premium</td>\n",
       "      <td>https://res.cloudinary.com/ratebeer/image/uplo...</td>\n",
       "      <td>1771</td>\n",
       "    </tr>\n",
       "  </tbody>\n",
       "</table>\n",
       "</div>"
      ],
      "text/plain": [
       "       review_score               review_time  appearance  aroma  palate  \\\n",
       "89385           2.8  2001-09-12T09:13:12.000Z         4.0    7.0     3.0   \n",
       "89386           1.6  2001-08-11T14:31:27.000Z         3.0    2.0     2.0   \n",
       "\n",
       "       taste  overall profile_name       beer_name  beer_id  brewer_id  abv  \\\n",
       "89385    7.0      7.0        jbrus  Ambar Especial     8666       1474  5.2   \n",
       "89386    3.0      6.0          Bov  Ambar Especial     8666       1474  5.2   \n",
       "\n",
       "                                      style  \\\n",
       "89385  Pale Lager - International / Premium   \n",
       "89386  Pale Lager - International / Premium   \n",
       "\n",
       "                                               image_url  user_id  \n",
       "89385  https://res.cloudinary.com/ratebeer/image/uplo...     2009  \n",
       "89386  https://res.cloudinary.com/ratebeer/image/uplo...     1771  "
      ]
     },
     "execution_count": 36,
     "metadata": {},
     "output_type": "execute_result"
    }
   ],
   "source": [
    "data_df = data_df[data_df.beer_id.isin(target_beer_list)]\n",
    "data_df.index = range(len(data_df))\n",
    "data_df.tail(2)"
   ]
  },
  {
   "cell_type": "markdown",
   "metadata": {},
   "source": [
    "### 2. 리뷰 개수가 1개인 유저 제거\n",
    "- 리뷰 수가 1개인 유저는 모델이 학습하기에 적합하지 않은 데이터이기 때문에, 제외"
   ]
  },
  {
   "cell_type": "code",
   "execution_count": 37,
   "metadata": {},
   "outputs": [],
   "source": [
    "tobe_deleted_users = (data_df.user_id.value_counts() <= 3).where(lambda x: x==True).dropna().index.tolist()"
   ]
  },
  {
   "cell_type": "code",
   "execution_count": 38,
   "metadata": {},
   "outputs": [
    {
     "name": "stdout",
     "output_type": "stream",
     "text": [
      "74493\n"
     ]
    }
   ],
   "source": [
    "tobe_deleted_users\n",
    "train_df = data_df[~data_df[\"user_id\"].isin(tobe_deleted_users)]\n",
    "train_df.index = range(len(train_df))\n",
    "train_df.head(1)\n",
    "print(len(train_df))"
   ]
  },
  {
   "cell_type": "code",
   "execution_count": 39,
   "metadata": {},
   "outputs": [
    {
     "name": "stderr",
     "output_type": "stream",
     "text": [
      "<ipython-input-39-ac2becad0610>:2: FutureWarning: Indexing with multiple keys (implicitly converted to a tuple of keys) will be deprecated, use a list instead.\n",
      "  style_df = train_df.groupby(\"beer_id\")[\"beer_id\", \"style\"].head(1)\n"
     ]
    },
    {
     "data": {
      "text/html": [
       "<div>\n",
       "<style scoped>\n",
       "    .dataframe tbody tr th:only-of-type {\n",
       "        vertical-align: middle;\n",
       "    }\n",
       "\n",
       "    .dataframe tbody tr th {\n",
       "        vertical-align: top;\n",
       "    }\n",
       "\n",
       "    .dataframe thead th {\n",
       "        text-align: right;\n",
       "    }\n",
       "</style>\n",
       "<table border=\"1\" class=\"dataframe\">\n",
       "  <thead>\n",
       "    <tr style=\"text-align: right;\">\n",
       "      <th></th>\n",
       "      <th>beer_id</th>\n",
       "      <th>style</th>\n",
       "    </tr>\n",
       "  </thead>\n",
       "  <tbody>\n",
       "    <tr>\n",
       "      <th>0</th>\n",
       "      <td>37</td>\n",
       "      <td>Pale Lager - International / Premium</td>\n",
       "    </tr>\n",
       "    <tr>\n",
       "      <th>1</th>\n",
       "      <td>55</td>\n",
       "      <td>Stout</td>\n",
       "    </tr>\n",
       "    <tr>\n",
       "      <th>2</th>\n",
       "      <td>221</td>\n",
       "      <td>Pale Lager - International / Premium</td>\n",
       "    </tr>\n",
       "    <tr>\n",
       "      <th>3</th>\n",
       "      <td>251</td>\n",
       "      <td>Pale Lager - International / Premium</td>\n",
       "    </tr>\n",
       "    <tr>\n",
       "      <th>4</th>\n",
       "      <td>268</td>\n",
       "      <td>Pale Lager - International / Premium</td>\n",
       "    </tr>\n",
       "  </tbody>\n",
       "</table>\n",
       "</div>"
      ],
      "text/plain": [
       "   beer_id                                 style\n",
       "0       37  Pale Lager - International / Premium\n",
       "1       55                                 Stout\n",
       "2      221  Pale Lager - International / Premium\n",
       "3      251  Pale Lager - International / Premium\n",
       "4      268  Pale Lager - International / Premium"
      ]
     },
     "execution_count": 39,
     "metadata": {},
     "output_type": "execute_result"
    }
   ],
   "source": [
    "# attribute extraction\n",
    "style_df = train_df.groupby(\"beer_id\")[\"beer_id\", \"style\"].head(1)\n",
    "style_df.index = range(len(style_df))\n",
    "style_df.head(5)"
   ]
  },
  {
   "cell_type": "code",
   "execution_count": 41,
   "metadata": {},
   "outputs": [],
   "source": [
    "array, index = pd.factorize(style_df[\"style\"])\n",
    "style_df[\"style\"] = array\n",
    "style_df.groupby(\"beer_id\")[\"style\"].apply(list).to_json(os.path.join(preprocessed_output_dir, \"rb_item2attributes.json\"))"
   ]
  },
  {
   "cell_type": "markdown",
   "metadata": {},
   "source": [
    "### 데이터 전처리\n",
    "- 모델 학습에 필요한 데이터를 제외"
   ]
  },
  {
   "cell_type": "code",
   "execution_count": 42,
   "metadata": {},
   "outputs": [
    {
     "data": {
      "text/plain": [
       "user      0\n",
       "item      0\n",
       "rating    0\n",
       "time      0\n",
       "dtype: int64"
      ]
     },
     "execution_count": 42,
     "metadata": {},
     "output_type": "execute_result"
    }
   ],
   "source": [
    "training_data = train_df[[\"user_id\", \"beer_id\", \"review_score\", \"review_time\"]]\n",
    "training_data.columns = [\"user\", \"item\", \"rating\", \"time\"]\n",
    "training_data = training_data.sort_values([\"user\", \"time\"])\n",
    "training_data.index = range(len(training_data))\n",
    "training_data.isna().sum()"
   ]
  },
  {
   "cell_type": "code",
   "execution_count": 43,
   "metadata": {},
   "outputs": [],
   "source": [
    "training_data.to_csv(os.path.join(preprocessed_output_dir, \"train_ratings.csv\"), index=False)"
   ]
  }
 ],
 "metadata": {
  "interpreter": {
   "hash": "1f987112d13c3a5109fc24d7b4f4d6f95510a722443984c5c3a93525168aad10"
  },
  "kernelspec": {
   "display_name": "Python 3.8.5 ('.final': venv)",
   "language": "python",
   "name": "python3"
  },
  "language_info": {
   "codemirror_mode": {
    "name": "ipython",
    "version": 3
   },
   "file_extension": ".py",
   "mimetype": "text/x-python",
   "name": "python",
   "nbconvert_exporter": "python",
   "pygments_lexer": "ipython3",
   "version": "3.8.5"
  },
  "orig_nbformat": 4
 },
 "nbformat": 4,
 "nbformat_minor": 2
}
