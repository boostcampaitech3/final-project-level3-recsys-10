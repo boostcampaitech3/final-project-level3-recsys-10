{
 "cells": [
  {
   "cell_type": "code",
   "execution_count": 1,
   "metadata": {},
   "outputs": [],
   "source": [
    "import os\n",
    "import pandas as pd\n",
    "import numpy as np\n",
    "\n",
    "np.random.seed(seed=42)"
   ]
  },
  {
   "cell_type": "markdown",
   "metadata": {},
   "source": [
    "### 데이터 전처리"
   ]
  },
  {
   "cell_type": "code",
   "execution_count": 2,
   "metadata": {},
   "outputs": [],
   "source": [
    "data_dir = \"../data\"\n",
    "preprocessed_output_dir = \"../data/implicit/train\"\n",
    "df_ratebeer = pd.read_csv(os.path.join(data_dir,\"preprocessed_ratebeer.tsv\"), sep = \"\\t\")\n",
    "del df_ratebeer[\"Unnamed: 0\"]"
   ]
  },
  {
   "cell_type": "code",
   "execution_count": 3,
   "metadata": {},
   "outputs": [
    {
     "name": "stdout",
     "output_type": "stream",
     "text": [
      "total_med : 3.5\n"
     ]
    }
   ],
   "source": [
    "total_med = df_ratebeer[\"review_score\"].describe()[\"50%\"]\n",
    "print(\"total_med :\", round(total_med,3))"
   ]
  },
  {
   "cell_type": "code",
   "execution_count": 6,
   "metadata": {},
   "outputs": [],
   "source": [
    "df_rating = df_ratebeer[[\"user_id\", \"beer_id\", \"review_score\", \"review_time\"]].copy()"
   ]
  },
  {
   "cell_type": "code",
   "execution_count": 34,
   "metadata": {},
   "outputs": [
    {
     "data": {
      "text/plain": [
       "4.0"
      ]
     },
     "execution_count": 34,
     "metadata": {},
     "output_type": "execute_result"
    }
   ],
   "source": [
    "df_rating[df_rating[\"user_id\"] == 5540][\"review_score\"].median()"
   ]
  },
  {
   "cell_type": "code",
   "execution_count": 38,
   "metadata": {},
   "outputs": [
    {
     "data": {
      "text/plain": [
       "<matplotlib.lines.Line2D at 0x7fee0756ca30>"
      ]
     },
     "execution_count": 38,
     "metadata": {},
     "output_type": "execute_result"
    },
    {
     "data": {
      "image/png": "[encoded data removed]",
      "text/plain": [
       "<Figure size 432x288 with 1 Axes>"
      ]
     },
     "metadata": {
      "needs_background": "light"
     },
     "output_type": "display_data"
    }
   ],
   "source": [
    "import matplotlib\n",
    "import matplotlib.pyplot as plt\n",
    "\n",
    "df_rating[df_rating[\"user_id\"] == 5540][\"review_score\"].hist(bins=10, color=\"#FA5721\")\n",
    "med = df_rating[df_rating[\"user_id\"] == 5540][\"review_score\"].median()\n",
    "plt.grid(False)\n",
    "plt.axhline()\n",
    "plt.axvline(x=med, color=\"black\")\n"
   ]
  },
  {
   "cell_type": "code",
   "execution_count": 53,
   "metadata": {},
   "outputs": [
    {
     "data": {
      "text/plain": [
       "<matplotlib.lines.Line2D at 0x7fee06ed2550>"
      ]
     },
     "execution_count": 53,
     "metadata": {},
     "output_type": "execute_result"
    },
    {
     "data": {
      "image/png": "[encoded data removed]",
      "text/plain": [
       "<Figure size 432x288 with 1 Axes>"
      ]
     },
     "metadata": {
      "needs_background": "light"
     },
     "output_type": "display_data"
    }
   ],
   "source": [
    "df_rating[df_rating[\"user_id\"] == 11855][\"review_score\"].hist(bins=10, color=\"#FA5721\")\n",
    "med = df_rating[df_rating[\"user_id\"] == 11855][\"review_score\"].median()\n",
    "plt.grid(False)\n",
    "plt.text(x= med+0.1, y=2 , s=\"median\")\n",
    "plt.axvline(x=med, color=\"black\")"
   ]
  },
  {
   "cell_type": "code",
   "execution_count": 69,
   "metadata": {},
   "outputs": [
    {
     "data": {
      "text/plain": [
       "Text(4.1, 2, 'median')"
      ]
     },
     "execution_count": 69,
     "metadata": {},
     "output_type": "execute_result"
    },
    {
     "data": {
      "image/png": "[encoded data removed]",
      "text/plain": [
       "<Figure size 432x288 with 1 Axes>"
      ]
     },
     "metadata": {
      "needs_background": "light"
     },
     "output_type": "display_data"
    }
   ],
   "source": [
    "df_rating[df_rating[\"user_id\"] == 5540][\"review_score\"].hist(bins=10, color=\"#FA5721\")\n",
    "med = df_rating[df_rating[\"user_id\"] == 5540][\"review_score\"].median()\n",
    "plt.grid(False)\n",
    "plt.axhline()\n",
    "plt.axvline(x=med, color=\"black\")\n",
    "plt.text(x= med+0.1, y=2 , s=\"median\")"
   ]
  },
  {
   "cell_type": "code",
   "execution_count": 71,
   "metadata": {},
   "outputs": [
    {
     "name": "stdout",
     "output_type": "stream",
     "text": [
      "31 22\n"
     ]
    }
   ],
   "source": [
    "med = df_rating[df_rating[\"user_id\"] == 5540][\"review_score\"].median()\n",
    "pos = sum(df_rating[df_rating[\"user_id\"] == 5540][\"review_score\"] >= med)\n",
    "neg = sum(df_rating[df_rating[\"user_id\"] == 5540][\"review_score\"] < med)\n",
    "print(pos, neg)"
   ]
  },
  {
   "cell_type": "code",
   "execution_count": 72,
   "metadata": {},
   "outputs": [
    {
     "data": {
      "text/plain": [
       "<BarContainer object of 2 artists>"
      ]
     },
     "execution_count": 72,
     "metadata": {},
     "output_type": "execute_result"
    },
    {
     "data": {
      "image/png": "[encoded data removed]",
      "text/plain": [
       "<Figure size 432x288 with 1 Axes>"
      ]
     },
     "metadata": {
      "needs_background": "light"
     },
     "output_type": "display_data"
    }
   ],
   "source": [
    "plt.bar(x = [\"Prefer\", \"others\"], height=[31, 22],width=0.3, color = [\"#FA5721\", \"grey\"])"
   ]
  },
  {
   "cell_type": "code",
   "execution_count": 51,
   "metadata": {},
   "outputs": [
    {
     "data": {
      "image/png": "[encoded data removed]",
      "text/plain": [
       "<Figure size 432x288 with 1 Axes>"
      ]
     },
     "metadata": {
      "needs_background": "light"
     },
     "output_type": "display_data"
    }
   ],
   "source": [
    "df_rating.review_score.hist(bins=25, color=\"#FA5721\")\n",
    "plt.yticks\n",
    "plt.grid(False)"
   ]
  },
  {
   "cell_type": "code",
   "execution_count": 13,
   "metadata": {},
   "outputs": [
    {
     "data": {
      "text/plain": [
       "user_id\n",
       "13607    53\n",
       "504      53\n",
       "25821    53\n",
       "11855    53\n",
       "7771     53\n",
       "         ..\n",
       "7485     53\n",
       "5728     53\n",
       "11279    53\n",
       "17657    53\n",
       "5540     53\n",
       "Length: 66, dtype: int64"
      ]
     },
     "execution_count": 13,
     "metadata": {},
     "output_type": "execute_result"
    }
   ],
   "source": [
    "df_rating.value_counts(\"user_id\")[df_rating.value_counts(\"user_id\")==53]"
   ]
  },
  {
   "cell_type": "code",
   "execution_count": 5,
   "metadata": {},
   "outputs": [
    {
     "data": {
      "text/html": [
       "<div>\n",
       "<style scoped>\n",
       "    .dataframe tbody tr th:only-of-type {\n",
       "        vertical-align: middle;\n",
       "    }\n",
       "\n",
       "    .dataframe tbody tr th {\n",
       "        vertical-align: top;\n",
       "    }\n",
       "\n",
       "    .dataframe thead th {\n",
       "        text-align: right;\n",
       "    }\n",
       "</style>\n",
       "<table border=\"1\" class=\"dataframe\">\n",
       "  <thead>\n",
       "    <tr style=\"text-align: right;\">\n",
       "      <th></th>\n",
       "      <th>user_id</th>\n",
       "      <th>beer_id</th>\n",
       "      <th>review_score</th>\n",
       "      <th>review_time</th>\n",
       "    </tr>\n",
       "  </thead>\n",
       "  <tbody>\n",
       "    <tr>\n",
       "      <th>3190759</th>\n",
       "      <td>56904</td>\n",
       "      <td>7344</td>\n",
       "      <td>2.6</td>\n",
       "      <td>2012-07-07 23:15:19.813000+00:00</td>\n",
       "    </tr>\n",
       "    <tr>\n",
       "      <th>3190760</th>\n",
       "      <td>56904</td>\n",
       "      <td>115220</td>\n",
       "      <td>2.7</td>\n",
       "      <td>2012-07-09 20:14:10.970000+00:00</td>\n",
       "    </tr>\n",
       "  </tbody>\n",
       "</table>\n",
       "</div>"
      ],
      "text/plain": [
       "         user_id  beer_id  review_score                       review_time\n",
       "3190759    56904     7344           2.6  2012-07-07 23:15:19.813000+00:00\n",
       "3190760    56904   115220           2.7  2012-07-09 20:14:10.970000+00:00"
      ]
     },
     "execution_count": 5,
     "metadata": {},
     "output_type": "execute_result"
    }
   ],
   "source": [
    "# 리뷰 개수 3개 이하인 유저 삭제\n",
    "target_user = (df_rating.value_counts(\"user_id\") <= 3).where(lambda x: x == True).dropna().index.tolist()\n",
    "df_rating = df_rating[~df_rating[\"user_id\"].isin(target_user)].sort_values([\"user_id\", \"review_time\"])\n",
    "df_rating.index = range(len(df_rating))\n",
    "df_rating.tail(2)"
   ]
  },
  {
   "cell_type": "code",
   "execution_count": 78,
   "metadata": {},
   "outputs": [],
   "source": [
    "df_rating[\"prefrence\"] = df_rating.groupby(\"user_id\")[\"review_score\"].transform(lambda x: x >= np.median(x))"
   ]
  },
  {
   "cell_type": "code",
   "execution_count": 79,
   "metadata": {},
   "outputs": [
    {
     "data": {
      "text/html": [
       "<div>\n",
       "<style scoped>\n",
       "    .dataframe tbody tr th:only-of-type {\n",
       "        vertical-align: middle;\n",
       "    }\n",
       "\n",
       "    .dataframe tbody tr th {\n",
       "        vertical-align: top;\n",
       "    }\n",
       "\n",
       "    .dataframe thead th {\n",
       "        text-align: right;\n",
       "    }\n",
       "</style>\n",
       "<table border=\"1\" class=\"dataframe\">\n",
       "  <thead>\n",
       "    <tr style=\"text-align: right;\">\n",
       "      <th></th>\n",
       "      <th>user</th>\n",
       "      <th>item</th>\n",
       "      <th>time</th>\n",
       "    </tr>\n",
       "  </thead>\n",
       "  <tbody>\n",
       "    <tr>\n",
       "      <th>0</th>\n",
       "      <td>0</td>\n",
       "      <td>94349</td>\n",
       "      <td>2012-04-21 12:52:53.937000+00:00</td>\n",
       "    </tr>\n",
       "    <tr>\n",
       "      <th>1</th>\n",
       "      <td>0</td>\n",
       "      <td>113934</td>\n",
       "      <td>2012-04-23 11:10:32.493000+00:00</td>\n",
       "    </tr>\n",
       "    <tr>\n",
       "      <th>2</th>\n",
       "      <td>0</td>\n",
       "      <td>116128</td>\n",
       "      <td>2012-04-26 14:04:58.673000+00:00</td>\n",
       "    </tr>\n",
       "    <tr>\n",
       "      <th>3</th>\n",
       "      <td>0</td>\n",
       "      <td>13324</td>\n",
       "      <td>2012-04-28 12:36:33.710000+00:00</td>\n",
       "    </tr>\n",
       "    <tr>\n",
       "      <th>4</th>\n",
       "      <td>0</td>\n",
       "      <td>59023</td>\n",
       "      <td>2012-04-30 14:50:31.823000+00:00</td>\n",
       "    </tr>\n",
       "    <tr>\n",
       "      <th>...</th>\n",
       "      <td>...</td>\n",
       "      <td>...</td>\n",
       "      <td>...</td>\n",
       "    </tr>\n",
       "    <tr>\n",
       "      <th>1724176</th>\n",
       "      <td>55119</td>\n",
       "      <td>137463</td>\n",
       "      <td>2012-10-02 07:09:40.127000+00:00</td>\n",
       "    </tr>\n",
       "    <tr>\n",
       "      <th>1724177</th>\n",
       "      <td>55119</td>\n",
       "      <td>11206</td>\n",
       "      <td>2012-10-22 06:47:25.057000+00:00</td>\n",
       "    </tr>\n",
       "    <tr>\n",
       "      <th>1724178</th>\n",
       "      <td>56904</td>\n",
       "      <td>50036</td>\n",
       "      <td>2012-07-06 09:30:52.073000+00:00</td>\n",
       "    </tr>\n",
       "    <tr>\n",
       "      <th>1724179</th>\n",
       "      <td>56904</td>\n",
       "      <td>35164</td>\n",
       "      <td>2012-07-07 21:58:27.007000+00:00</td>\n",
       "    </tr>\n",
       "    <tr>\n",
       "      <th>1724180</th>\n",
       "      <td>56904</td>\n",
       "      <td>87229</td>\n",
       "      <td>2012-07-07 22:34:52.133000+00:00</td>\n",
       "    </tr>\n",
       "  </tbody>\n",
       "</table>\n",
       "<p>1724181 rows × 3 columns</p>\n",
       "</div>"
      ],
      "text/plain": [
       "          user    item                              time\n",
       "0            0   94349  2012-04-21 12:52:53.937000+00:00\n",
       "1            0  113934  2012-04-23 11:10:32.493000+00:00\n",
       "2            0  116128  2012-04-26 14:04:58.673000+00:00\n",
       "3            0   13324  2012-04-28 12:36:33.710000+00:00\n",
       "4            0   59023  2012-04-30 14:50:31.823000+00:00\n",
       "...        ...     ...                               ...\n",
       "1724176  55119  137463  2012-10-02 07:09:40.127000+00:00\n",
       "1724177  55119   11206  2012-10-22 06:47:25.057000+00:00\n",
       "1724178  56904   50036  2012-07-06 09:30:52.073000+00:00\n",
       "1724179  56904   35164  2012-07-07 21:58:27.007000+00:00\n",
       "1724180  56904   87229  2012-07-07 22:34:52.133000+00:00\n",
       "\n",
       "[1724181 rows x 3 columns]"
      ]
     },
     "execution_count": 79,
     "metadata": {},
     "output_type": "execute_result"
    }
   ],
   "source": [
    "df_train_ratings = df_rating.query(\"prefrence==True\")[[\"user_id\", \"beer_id\", \"review_time\"]]\n",
    "df_train_ratings.columns = [\"user\", \"item\", \"time\"]\n",
    "df_train_ratings.index = range(len(df_train_ratings))\n",
    "df_train_ratings"
   ]
  },
  {
   "cell_type": "code",
   "execution_count": 92,
   "metadata": {},
   "outputs": [],
   "source": [
    "# to timestamp\n",
    "import time\n",
    "import datetime\n",
    "\n",
    "df_train_ratings[\"time\"] = df_train_ratings[\"time\"].apply(lambda x: x.replace(\"T\", \" \"))\n",
    "df_train_ratings[\"time\"] = df_train_ratings[\"time\"].apply(lambda x: time.mktime(datetime.datetime.strptime(x[:18], \"%Y-%m-%d %H:%M:%S\").timetuple()))"
   ]
  },
  {
   "cell_type": "code",
   "execution_count": 93,
   "metadata": {},
   "outputs": [
    {
     "name": "stdout",
     "output_type": "stream",
     "text": [
      "n item: 9,274\n",
      "n user: 23,848\n",
      "n data: 1,724,181\n",
      "sparsity: 99.220414%\n"
     ]
    }
   ],
   "source": [
    "n_item = df_train_ratings.item.nunique()\n",
    "n_user = df_train_ratings.user.nunique()\n",
    "n_data = len(df_train_ratings)\n",
    "\n",
    "print(f\"n item: {n_item:,}\")\n",
    "print(f\"n user: {n_user:,}\")\n",
    "print(f\"n data: {n_data:,}\")\n",
    "print(f\"sparsity: {1-n_data/n_item/n_user:%}\")"
   ]
  },
  {
   "cell_type": "code",
   "execution_count": 94,
   "metadata": {},
   "outputs": [],
   "source": [
    "# target beer list\n",
    "df_target_beer = pd.read_csv(\"/opt/ml/workspace/final-project-level3-recsys-10/data/db_files/db_target_beer.csv\")\n",
    "target_beer_set = set(df_target_beer[\"beer_id\"])"
   ]
  },
  {
   "cell_type": "code",
   "execution_count": 95,
   "metadata": {},
   "outputs": [
    {
     "name": "stdout",
     "output_type": "stream",
     "text": [
      "n_target_beers : 73\n"
     ]
    }
   ],
   "source": [
    "n_target_beers = len(set(df_train_ratings.item).intersection(target_beer_set))\n",
    "print(\"n_target_beers :\", n_target_beers)"
   ]
  },
  {
   "cell_type": "code",
   "execution_count": 96,
   "metadata": {},
   "outputs": [],
   "source": [
    "# train_test_split\n",
    "np.random.seed(42)\n",
    "\n",
    "ratio = 0.08\n",
    "n_test_user = int(ratio*n_user)\n",
    "\n",
    "test_user = np.random.choice(df_train_ratings[\"user\"].unique(), size=n_test_user, replace=False)"
   ]
  },
  {
   "cell_type": "code",
   "execution_count": 98,
   "metadata": {},
   "outputs": [],
   "source": [
    "df_test = df_train_ratings[df_train_ratings[\"user\"].isin(test_user)]\n",
    "df_train = df_train_ratings[~df_train_ratings[\"user\"].isin(test_user)]"
   ]
  },
  {
   "cell_type": "code",
   "execution_count": 103,
   "metadata": {},
   "outputs": [
    {
     "name": "stdout",
     "output_type": "stream",
     "text": [
      "{10976, 12261, 10726, 37863, 146725, 124391, 49802, 18606, 24818, 102643, 6168, 115546, 10877, 83231}\n"
     ]
    }
   ],
   "source": [
    "import tqdm\n",
    "np.random.seed(42)\n",
    "ratio = 0.1\n",
    "n_test_user = int(ratio*n_user)\n",
    "\n",
    "# for i in tqdm.tqdm(range(10000)):\n",
    "test_user = np.random.choice(df_train_ratings[\"user\"].unique(), size=n_test_user, replace=False)\n",
    "df_test = df_train_ratings[df_train_ratings[\"user\"].isin(test_user)]\n",
    "df_train = df_train_ratings[~df_train_ratings[\"user\"].isin(test_user)]\n",
    "go_to_train_item = set(df_test.item.unique()) - set(df_train.item.unique())\n",
    "print(go_to_train_item)\n"
   ]
  },
  {
   "cell_type": "code",
   "execution_count": 110,
   "metadata": {},
   "outputs": [],
   "source": [
    "go_to_train_user = df_test[df_test[\"item\"].isin(go_to_train_item)][\"user\"].tolist()\n",
    "df_train = pd.concat([df_train, df_test[df_test[\"user\"].isin(go_to_train_user)]], axis=0)\n",
    "df_test = df_test[~df_test[\"user\"].isin(go_to_train_user)]\n",
    "\n",
    "df_train.index = range(len(df_train))\n",
    "df_test.index = range(len(df_test))"
   ]
  },
  {
   "cell_type": "code",
   "execution_count": 111,
   "metadata": {},
   "outputs": [
    {
     "name": "stdout",
     "output_type": "stream",
     "text": [
      "8347\n",
      "9274\n",
      "0\n"
     ]
    }
   ],
   "source": [
    "print(df_test.item.nunique())\n",
    "print(df_train.item.nunique())\n",
    "\n",
    "print(len(set(df_test.item.unique()) - set(df_train.item.unique())))"
   ]
  },
  {
   "cell_type": "code",
   "execution_count": 112,
   "metadata": {},
   "outputs": [],
   "source": [
    "df_train.to_csv(\"train_ratings.csv\", index = False)\n",
    "df_test.to_csv(\"test_file.csv\", index = False)"
   ]
  }
 ],
 "metadata": {
  "interpreter": {
   "hash": "1f987112d13c3a5109fc24d7b4f4d6f95510a722443984c5c3a93525168aad10"
  },
  "kernelspec": {
   "display_name": "Python 3.8.5 ('.final': venv)",
   "language": "python",
   "name": "python3"
  },
  "language_info": {
   "codemirror_mode": {
    "name": "ipython",
    "version": 3
   },
   "file_extension": ".py",
   "mimetype": "text/x-python",
   "name": "python",
   "nbconvert_exporter": "python",
   "pygments_lexer": "ipython3",
   "version": "3.8.5"
  },
  "orig_nbformat": 4
 },
 "nbformat": 4,
 "nbformat_minor": 2
}
