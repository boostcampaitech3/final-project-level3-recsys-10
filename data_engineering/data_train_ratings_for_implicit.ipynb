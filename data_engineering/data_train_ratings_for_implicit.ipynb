{
 "cells": [
  {
   "cell_type": "code",
   "execution_count": 1,
   "metadata": {},
   "outputs": [],
   "source": [
    "import os\n",
    "import pandas as pd\n",
    "import numpy as np"
   ]
  },
  {
   "cell_type": "markdown",
   "metadata": {},
   "source": [
    "### 원본 학습 데이터 불러오기"
   ]
  },
  {
   "cell_type": "code",
   "execution_count": 2,
   "metadata": {},
   "outputs": [],
   "source": [
    "data_dir = \"../data\"\n",
    "preprocessed_output_dir = \"../data/train\" # where to be saved\n",
    "standard = \"../data/standard\" # where to be loaded"
   ]
  },
  {
   "cell_type": "code",
   "execution_count": 5,
   "metadata": {},
   "outputs": [],
   "source": [
    "data_df = pd.read_csv(os.path.join(standard, \"train_ratebeer_without_text.csv\"))"
   ]
  },
  {
   "cell_type": "markdown",
   "metadata": {},
   "source": [
    "### 2. 리뷰 개수가 1개인 유저 제거\n",
    "- 리뷰 수가 1개인 유저는 모델이 학습하기에 적합하지 않은 데이터이기 때문에, 제외"
   ]
  },
  {
   "cell_type": "code",
   "execution_count": 6,
   "metadata": {},
   "outputs": [],
   "source": [
    "tobe_deleted_users = (data_df.user_id.value_counts() == 1).where(lambda x: x==True).dropna().index.tolist()"
   ]
  },
  {
   "cell_type": "code",
   "execution_count": 7,
   "metadata": {},
   "outputs": [
    {
     "name": "stdout",
     "output_type": "stream",
     "text": [
      "2906971\n"
     ]
    }
   ],
   "source": [
    "tobe_deleted_users\n",
    "train_df = data_df[~data_df[\"user_id\"].isin(tobe_deleted_users)]\n",
    "train_df.index = range(len(train_df))\n",
    "train_df.head(1)\n",
    "print(len(train_df))"
   ]
  },
  {
   "cell_type": "code",
   "execution_count": 8,
   "metadata": {},
   "outputs": [
    {
     "name": "stderr",
     "output_type": "stream",
     "text": [
      "<ipython-input-8-ac2becad0610>:2: FutureWarning: Indexing with multiple keys (implicitly converted to a tuple of keys) will be deprecated, use a list instead.\n",
      "  style_df = train_df.groupby(\"beer_id\")[\"beer_id\", \"style\"].head(1)\n"
     ]
    },
    {
     "data": {
      "text/html": [
       "<div>\n",
       "<style scoped>\n",
       "    .dataframe tbody tr th:only-of-type {\n",
       "        vertical-align: middle;\n",
       "    }\n",
       "\n",
       "    .dataframe tbody tr th {\n",
       "        vertical-align: top;\n",
       "    }\n",
       "\n",
       "    .dataframe thead th {\n",
       "        text-align: right;\n",
       "    }\n",
       "</style>\n",
       "<table border=\"1\" class=\"dataframe\">\n",
       "  <thead>\n",
       "    <tr style=\"text-align: right;\">\n",
       "      <th></th>\n",
       "      <th>beer_id</th>\n",
       "      <th>style</th>\n",
       "    </tr>\n",
       "  </thead>\n",
       "  <tbody>\n",
       "    <tr>\n",
       "      <th>0</th>\n",
       "      <td>131594</td>\n",
       "      <td>Saison / Farmhouse / Grisette</td>\n",
       "    </tr>\n",
       "    <tr>\n",
       "      <th>1</th>\n",
       "      <td>121536</td>\n",
       "      <td>Specialty Grain - Other</td>\n",
       "    </tr>\n",
       "    <tr>\n",
       "      <th>2</th>\n",
       "      <td>12617</td>\n",
       "      <td>Pale Lager - American</td>\n",
       "    </tr>\n",
       "    <tr>\n",
       "      <th>3</th>\n",
       "      <td>14940</td>\n",
       "      <td>IPA - English</td>\n",
       "    </tr>\n",
       "    <tr>\n",
       "      <th>4</th>\n",
       "      <td>25933</td>\n",
       "      <td>Blonde Ale / Golden Ale</td>\n",
       "    </tr>\n",
       "  </tbody>\n",
       "</table>\n",
       "</div>"
      ],
      "text/plain": [
       "   beer_id                          style\n",
       "0   131594  Saison / Farmhouse / Grisette\n",
       "1   121536        Specialty Grain - Other\n",
       "2    12617          Pale Lager - American\n",
       "3    14940                  IPA - English\n",
       "4    25933        Blonde Ale / Golden Ale"
      ]
     },
     "execution_count": 8,
     "metadata": {},
     "output_type": "execute_result"
    }
   ],
   "source": [
    "# attribute extraction\n",
    "style_df = train_df.groupby(\"beer_id\")[\"beer_id\", \"style\"].head(1)\n",
    "style_df.index = range(len(style_df))\n",
    "style_df.head(5)"
   ]
  },
  {
   "cell_type": "code",
   "execution_count": 9,
   "metadata": {},
   "outputs": [],
   "source": [
    "array, index = pd.factorize(style_df[\"style\"])\n",
    "style_df[\"style\"] = array\n",
    "style_df.groupby(\"beer_id\")[\"style\"].apply(list).to_json(os.path.join(preprocessed_output_dir, \"rb_item2attributes.json\"))"
   ]
  },
  {
   "cell_type": "markdown",
   "metadata": {},
   "source": [
    "### 데이터 전처리\n",
    "- 모델 학습에 필요한 데이터를 제외"
   ]
  },
  {
   "cell_type": "code",
   "execution_count": 10,
   "metadata": {},
   "outputs": [
    {
     "data": {
      "text/plain": [
       "user      0\n",
       "item      0\n",
       "rating    0\n",
       "time      0\n",
       "dtype: int64"
      ]
     },
     "execution_count": 10,
     "metadata": {},
     "output_type": "execute_result"
    }
   ],
   "source": [
    "training_data = train_df[[\"user_id\", \"beer_id\", \"review_score\", \"review_time\"]]\n",
    "training_data.columns = [\"user\", \"item\", \"rating\", \"time\"]\n",
    "training_data = training_data.sort_values([\"user\", \"time\"])\n",
    "training_data.index = range(len(training_data))\n",
    "training_data.isna().sum()"
   ]
  },
  {
   "cell_type": "code",
   "execution_count": 11,
   "metadata": {},
   "outputs": [],
   "source": [
    "training_data.to_csv(os.path.join(preprocessed_output_dir, \"train_ratings.csv\"), index=False)"
   ]
  }
 ],
 "metadata": {
  "interpreter": {
   "hash": "1f987112d13c3a5109fc24d7b4f4d6f95510a722443984c5c3a93525168aad10"
  },
  "kernelspec": {
   "display_name": "Python 3.8.5 ('.final': venv)",
   "language": "python",
   "name": "python3"
  },
  "language_info": {
   "codemirror_mode": {
    "name": "ipython",
    "version": 3
   },
   "file_extension": ".py",
   "mimetype": "text/x-python",
   "name": "python",
   "nbconvert_exporter": "python",
   "pygments_lexer": "ipython3",
   "version": "3.8.5"
  },
  "orig_nbformat": 4
 },
 "nbformat": 4,
 "nbformat_minor": 2
}
